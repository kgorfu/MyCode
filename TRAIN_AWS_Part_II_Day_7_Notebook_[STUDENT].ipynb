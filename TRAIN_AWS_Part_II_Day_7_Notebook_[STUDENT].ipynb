{
  "nbformat": 4,
  "nbformat_minor": 0,
  "metadata": {
    "colab": {
      "provenance": [],
      "toc_visible": true,
      "include_colab_link": true
    },
    "kernelspec": {
      "name": "python3",
      "display_name": "Python 3"
    },
    "language_info": {
      "name": "python"
    },
    "gpuClass": "standard"
  },
  "cells": [
    {
      "cell_type": "markdown",
      "metadata": {
        "id": "view-in-github",
        "colab_type": "text"
      },
      "source": [
        "<a href=\"https://colab.research.google.com/github/kgorfu/MyCode/blob/master/TRAIN_AWS_Part_II_Day_7_Notebook_%5BSTUDENT%5D.ipynb\" target=\"_parent\"><img src=\"https://colab.research.google.com/assets/colab-badge.svg\" alt=\"Open In Colab\"/></a>"
      ]
    },
    {
      "cell_type": "markdown",
      "source": [
        "# **Lab 7: Introduction to Natural Language Processing (NLP)**\n",
        "---\n",
        "\n",
        "### **Description**\n",
        "In today's lab, we will see how to use neural networks for one of the most popular NLP tasks: **text classification**. This will involve applying what you already know about neural nets and new NLP concepts of tokenization and vectorization.\n",
        "\n",
        "For this project, we will be working with the `fetch_20newsgroups` dataset, which is a collection of approximately 20,000 newsgroup documents, partitioned (nearly) evenly across 20 different newsgroups. Each newsgroup covers a different topic, such as sports, politics, religion, and technology. The documents within each newsgroup were posted by various authors, and cover a wide range of subtopics related to the main theme of the newsgroup.\n",
        "\n",
        "The goal of this project is to build a machine learning model that can accurately classify newsgroup documents based on their content.\n",
        "\n",
        "<br>\n",
        "\n",
        "### **Lab Structure**\n",
        "**Part 1**: [Tokenization and Vectorization](#p1)\n",
        "\n",
        "**Part 2**: [News Group Classification with a Neural Network](#p2)\n",
        ">\n",
        ">**Part 2.1**: [Tokenizing and Vectorizing the News Groups Dataset](#p2.1)\n",
        ">\n",
        ">**Part 2.2**: [Training and Testing a Neural Network](#p2.2)\n",
        "\n",
        "**Part 3**: [News Group Classification with a CNN](#p3)\n",
        "\n",
        "\n",
        "\n",
        "<br>\n",
        "\n",
        "### **Goals**\n",
        "By the end of this lab, you will:\n",
        "* Understand the concept of tokenization in NLP.\n",
        "* Compare a fully connected network to a CNN for text classification.\n",
        "\n",
        "<br>\n",
        "\n",
        "### **Cheat Sheets**\n",
        "[Natural Language Processing I](https://docs.google.com/document/d/1MamYMxe8zlWoiDc0tX2RzUKQULCPVUh-2QtdzRRvzcs/edit?usp=sharing)\n",
        "\n",
        "<br>\n",
        "\n",
        "**Before starting, run the code below to import all necessary functions and libraries.**\n"
      ],
      "metadata": {
        "id": "mbZXQ3rA3NwL"
      }
    },
    {
      "cell_type": "code",
      "source": [
        "from sklearn.datasets import fetch_20newsgroups\n",
        "from sklearn.feature_extraction.text import CountVectorizer\n",
        "from sklearn.model_selection import train_test_split\n",
        "import numpy as np\n",
        "import torch\n",
        "import torch.nn as nn\n",
        "from torch.utils.data import Dataset, DataLoader\n",
        "from fastai.text.all import *\n",
        "\n",
        "import warnings\n",
        "warnings.filterwarnings('ignore')"
      ],
      "metadata": {
        "id": "YAvvLhRIoqYp"
      },
      "execution_count": 6,
      "outputs": []
    },
    {
      "cell_type": "markdown",
      "source": [
        "<a name=\"p1\"></a>\n",
        "\n",
        "---\n",
        "## **Part 1: Tokenization and Vectorization**\n",
        "---\n",
        "\n",
        "**Run the cell below to load a simple corpus for us to work with.**"
      ],
      "metadata": {
        "id": "_X9DchFl6uZg"
      }
    },
    {
      "cell_type": "code",
      "source": [
        "# Define a collection of text documents\n",
        "corpus = [\n",
        "    \"This is the first document.\",\n",
        "    \"This is the second document.\",\n",
        "    \"And this is the third document.\",\n",
        "    \"Is this the first document?\",\n",
        "]"
      ],
      "metadata": {
        "id": "jxb7Iynu6q2a"
      },
      "execution_count": 7,
      "outputs": []
    },
    {
      "cell_type": "markdown",
      "source": [
        "#### **Problem #1.1: Create a CountVectorizer object**\n",
        "\n"
      ],
      "metadata": {
        "id": "ZZPhj3RW68Kq"
      }
    },
    {
      "cell_type": "markdown",
      "source": [],
      "metadata": {
        "id": "or7uOX_BTG9d"
      }
    },
    {
      "cell_type": "code",
      "source": [
        "vectorizer = CountVectorizer()"
      ],
      "metadata": {
        "id": "xtKR2kbk8zpw"
      },
      "execution_count": 8,
      "outputs": []
    },
    {
      "cell_type": "markdown",
      "source": [
        "#### **Problem #1.2: Fit the vectorizer to the corpus**\n",
        "\n"
      ],
      "metadata": {
        "id": "Yt03nQ5Z7D2u"
      }
    },
    {
      "cell_type": "code",
      "source": [
        "vectorizer.fit(corpus)"
      ],
      "metadata": {
        "id": "ISVa9A52832F",
        "outputId": "a4056a1e-45e2-4b84-a9cd-1a3163c4af0f",
        "colab": {
          "base_uri": "https://localhost:8080/",
          "height": 80
        }
      },
      "execution_count": 9,
      "outputs": [
        {
          "output_type": "execute_result",
          "data": {
            "text/plain": [
              "CountVectorizer()"
            ],
            "text/html": [
              "<style>#sk-container-id-1 {\n",
              "  /* Definition of color scheme common for light and dark mode */\n",
              "  --sklearn-color-text: black;\n",
              "  --sklearn-color-line: gray;\n",
              "  /* Definition of color scheme for unfitted estimators */\n",
              "  --sklearn-color-unfitted-level-0: #fff5e6;\n",
              "  --sklearn-color-unfitted-level-1: #f6e4d2;\n",
              "  --sklearn-color-unfitted-level-2: #ffe0b3;\n",
              "  --sklearn-color-unfitted-level-3: chocolate;\n",
              "  /* Definition of color scheme for fitted estimators */\n",
              "  --sklearn-color-fitted-level-0: #f0f8ff;\n",
              "  --sklearn-color-fitted-level-1: #d4ebff;\n",
              "  --sklearn-color-fitted-level-2: #b3dbfd;\n",
              "  --sklearn-color-fitted-level-3: cornflowerblue;\n",
              "\n",
              "  /* Specific color for light theme */\n",
              "  --sklearn-color-text-on-default-background: var(--sg-text-color, var(--theme-code-foreground, var(--jp-content-font-color1, black)));\n",
              "  --sklearn-color-background: var(--sg-background-color, var(--theme-background, var(--jp-layout-color0, white)));\n",
              "  --sklearn-color-border-box: var(--sg-text-color, var(--theme-code-foreground, var(--jp-content-font-color1, black)));\n",
              "  --sklearn-color-icon: #696969;\n",
              "\n",
              "  @media (prefers-color-scheme: dark) {\n",
              "    /* Redefinition of color scheme for dark theme */\n",
              "    --sklearn-color-text-on-default-background: var(--sg-text-color, var(--theme-code-foreground, var(--jp-content-font-color1, white)));\n",
              "    --sklearn-color-background: var(--sg-background-color, var(--theme-background, var(--jp-layout-color0, #111)));\n",
              "    --sklearn-color-border-box: var(--sg-text-color, var(--theme-code-foreground, var(--jp-content-font-color1, white)));\n",
              "    --sklearn-color-icon: #878787;\n",
              "  }\n",
              "}\n",
              "\n",
              "#sk-container-id-1 {\n",
              "  color: var(--sklearn-color-text);\n",
              "}\n",
              "\n",
              "#sk-container-id-1 pre {\n",
              "  padding: 0;\n",
              "}\n",
              "\n",
              "#sk-container-id-1 input.sk-hidden--visually {\n",
              "  border: 0;\n",
              "  clip: rect(1px 1px 1px 1px);\n",
              "  clip: rect(1px, 1px, 1px, 1px);\n",
              "  height: 1px;\n",
              "  margin: -1px;\n",
              "  overflow: hidden;\n",
              "  padding: 0;\n",
              "  position: absolute;\n",
              "  width: 1px;\n",
              "}\n",
              "\n",
              "#sk-container-id-1 div.sk-dashed-wrapped {\n",
              "  border: 1px dashed var(--sklearn-color-line);\n",
              "  margin: 0 0.4em 0.5em 0.4em;\n",
              "  box-sizing: border-box;\n",
              "  padding-bottom: 0.4em;\n",
              "  background-color: var(--sklearn-color-background);\n",
              "}\n",
              "\n",
              "#sk-container-id-1 div.sk-container {\n",
              "  /* jupyter's `normalize.less` sets `[hidden] { display: none; }`\n",
              "     but bootstrap.min.css set `[hidden] { display: none !important; }`\n",
              "     so we also need the `!important` here to be able to override the\n",
              "     default hidden behavior on the sphinx rendered scikit-learn.org.\n",
              "     See: https://github.com/scikit-learn/scikit-learn/issues/21755 */\n",
              "  display: inline-block !important;\n",
              "  position: relative;\n",
              "}\n",
              "\n",
              "#sk-container-id-1 div.sk-text-repr-fallback {\n",
              "  display: none;\n",
              "}\n",
              "\n",
              "div.sk-parallel-item,\n",
              "div.sk-serial,\n",
              "div.sk-item {\n",
              "  /* draw centered vertical line to link estimators */\n",
              "  background-image: linear-gradient(var(--sklearn-color-text-on-default-background), var(--sklearn-color-text-on-default-background));\n",
              "  background-size: 2px 100%;\n",
              "  background-repeat: no-repeat;\n",
              "  background-position: center center;\n",
              "}\n",
              "\n",
              "/* Parallel-specific style estimator block */\n",
              "\n",
              "#sk-container-id-1 div.sk-parallel-item::after {\n",
              "  content: \"\";\n",
              "  width: 100%;\n",
              "  border-bottom: 2px solid var(--sklearn-color-text-on-default-background);\n",
              "  flex-grow: 1;\n",
              "}\n",
              "\n",
              "#sk-container-id-1 div.sk-parallel {\n",
              "  display: flex;\n",
              "  align-items: stretch;\n",
              "  justify-content: center;\n",
              "  background-color: var(--sklearn-color-background);\n",
              "  position: relative;\n",
              "}\n",
              "\n",
              "#sk-container-id-1 div.sk-parallel-item {\n",
              "  display: flex;\n",
              "  flex-direction: column;\n",
              "}\n",
              "\n",
              "#sk-container-id-1 div.sk-parallel-item:first-child::after {\n",
              "  align-self: flex-end;\n",
              "  width: 50%;\n",
              "}\n",
              "\n",
              "#sk-container-id-1 div.sk-parallel-item:last-child::after {\n",
              "  align-self: flex-start;\n",
              "  width: 50%;\n",
              "}\n",
              "\n",
              "#sk-container-id-1 div.sk-parallel-item:only-child::after {\n",
              "  width: 0;\n",
              "}\n",
              "\n",
              "/* Serial-specific style estimator block */\n",
              "\n",
              "#sk-container-id-1 div.sk-serial {\n",
              "  display: flex;\n",
              "  flex-direction: column;\n",
              "  align-items: center;\n",
              "  background-color: var(--sklearn-color-background);\n",
              "  padding-right: 1em;\n",
              "  padding-left: 1em;\n",
              "}\n",
              "\n",
              "\n",
              "/* Toggleable style: style used for estimator/Pipeline/ColumnTransformer box that is\n",
              "clickable and can be expanded/collapsed.\n",
              "- Pipeline and ColumnTransformer use this feature and define the default style\n",
              "- Estimators will overwrite some part of the style using the `sk-estimator` class\n",
              "*/\n",
              "\n",
              "/* Pipeline and ColumnTransformer style (default) */\n",
              "\n",
              "#sk-container-id-1 div.sk-toggleable {\n",
              "  /* Default theme specific background. It is overwritten whether we have a\n",
              "  specific estimator or a Pipeline/ColumnTransformer */\n",
              "  background-color: var(--sklearn-color-background);\n",
              "}\n",
              "\n",
              "/* Toggleable label */\n",
              "#sk-container-id-1 label.sk-toggleable__label {\n",
              "  cursor: pointer;\n",
              "  display: block;\n",
              "  width: 100%;\n",
              "  margin-bottom: 0;\n",
              "  padding: 0.5em;\n",
              "  box-sizing: border-box;\n",
              "  text-align: center;\n",
              "}\n",
              "\n",
              "#sk-container-id-1 label.sk-toggleable__label-arrow:before {\n",
              "  /* Arrow on the left of the label */\n",
              "  content: \"▸\";\n",
              "  float: left;\n",
              "  margin-right: 0.25em;\n",
              "  color: var(--sklearn-color-icon);\n",
              "}\n",
              "\n",
              "#sk-container-id-1 label.sk-toggleable__label-arrow:hover:before {\n",
              "  color: var(--sklearn-color-text);\n",
              "}\n",
              "\n",
              "/* Toggleable content - dropdown */\n",
              "\n",
              "#sk-container-id-1 div.sk-toggleable__content {\n",
              "  max-height: 0;\n",
              "  max-width: 0;\n",
              "  overflow: hidden;\n",
              "  text-align: left;\n",
              "  /* unfitted */\n",
              "  background-color: var(--sklearn-color-unfitted-level-0);\n",
              "}\n",
              "\n",
              "#sk-container-id-1 div.sk-toggleable__content.fitted {\n",
              "  /* fitted */\n",
              "  background-color: var(--sklearn-color-fitted-level-0);\n",
              "}\n",
              "\n",
              "#sk-container-id-1 div.sk-toggleable__content pre {\n",
              "  margin: 0.2em;\n",
              "  border-radius: 0.25em;\n",
              "  color: var(--sklearn-color-text);\n",
              "  /* unfitted */\n",
              "  background-color: var(--sklearn-color-unfitted-level-0);\n",
              "}\n",
              "\n",
              "#sk-container-id-1 div.sk-toggleable__content.fitted pre {\n",
              "  /* unfitted */\n",
              "  background-color: var(--sklearn-color-fitted-level-0);\n",
              "}\n",
              "\n",
              "#sk-container-id-1 input.sk-toggleable__control:checked~div.sk-toggleable__content {\n",
              "  /* Expand drop-down */\n",
              "  max-height: 200px;\n",
              "  max-width: 100%;\n",
              "  overflow: auto;\n",
              "}\n",
              "\n",
              "#sk-container-id-1 input.sk-toggleable__control:checked~label.sk-toggleable__label-arrow:before {\n",
              "  content: \"▾\";\n",
              "}\n",
              "\n",
              "/* Pipeline/ColumnTransformer-specific style */\n",
              "\n",
              "#sk-container-id-1 div.sk-label input.sk-toggleable__control:checked~label.sk-toggleable__label {\n",
              "  color: var(--sklearn-color-text);\n",
              "  background-color: var(--sklearn-color-unfitted-level-2);\n",
              "}\n",
              "\n",
              "#sk-container-id-1 div.sk-label.fitted input.sk-toggleable__control:checked~label.sk-toggleable__label {\n",
              "  background-color: var(--sklearn-color-fitted-level-2);\n",
              "}\n",
              "\n",
              "/* Estimator-specific style */\n",
              "\n",
              "/* Colorize estimator box */\n",
              "#sk-container-id-1 div.sk-estimator input.sk-toggleable__control:checked~label.sk-toggleable__label {\n",
              "  /* unfitted */\n",
              "  background-color: var(--sklearn-color-unfitted-level-2);\n",
              "}\n",
              "\n",
              "#sk-container-id-1 div.sk-estimator.fitted input.sk-toggleable__control:checked~label.sk-toggleable__label {\n",
              "  /* fitted */\n",
              "  background-color: var(--sklearn-color-fitted-level-2);\n",
              "}\n",
              "\n",
              "#sk-container-id-1 div.sk-label label.sk-toggleable__label,\n",
              "#sk-container-id-1 div.sk-label label {\n",
              "  /* The background is the default theme color */\n",
              "  color: var(--sklearn-color-text-on-default-background);\n",
              "}\n",
              "\n",
              "/* On hover, darken the color of the background */\n",
              "#sk-container-id-1 div.sk-label:hover label.sk-toggleable__label {\n",
              "  color: var(--sklearn-color-text);\n",
              "  background-color: var(--sklearn-color-unfitted-level-2);\n",
              "}\n",
              "\n",
              "/* Label box, darken color on hover, fitted */\n",
              "#sk-container-id-1 div.sk-label.fitted:hover label.sk-toggleable__label.fitted {\n",
              "  color: var(--sklearn-color-text);\n",
              "  background-color: var(--sklearn-color-fitted-level-2);\n",
              "}\n",
              "\n",
              "/* Estimator label */\n",
              "\n",
              "#sk-container-id-1 div.sk-label label {\n",
              "  font-family: monospace;\n",
              "  font-weight: bold;\n",
              "  display: inline-block;\n",
              "  line-height: 1.2em;\n",
              "}\n",
              "\n",
              "#sk-container-id-1 div.sk-label-container {\n",
              "  text-align: center;\n",
              "}\n",
              "\n",
              "/* Estimator-specific */\n",
              "#sk-container-id-1 div.sk-estimator {\n",
              "  font-family: monospace;\n",
              "  border: 1px dotted var(--sklearn-color-border-box);\n",
              "  border-radius: 0.25em;\n",
              "  box-sizing: border-box;\n",
              "  margin-bottom: 0.5em;\n",
              "  /* unfitted */\n",
              "  background-color: var(--sklearn-color-unfitted-level-0);\n",
              "}\n",
              "\n",
              "#sk-container-id-1 div.sk-estimator.fitted {\n",
              "  /* fitted */\n",
              "  background-color: var(--sklearn-color-fitted-level-0);\n",
              "}\n",
              "\n",
              "/* on hover */\n",
              "#sk-container-id-1 div.sk-estimator:hover {\n",
              "  /* unfitted */\n",
              "  background-color: var(--sklearn-color-unfitted-level-2);\n",
              "}\n",
              "\n",
              "#sk-container-id-1 div.sk-estimator.fitted:hover {\n",
              "  /* fitted */\n",
              "  background-color: var(--sklearn-color-fitted-level-2);\n",
              "}\n",
              "\n",
              "/* Specification for estimator info (e.g. \"i\" and \"?\") */\n",
              "\n",
              "/* Common style for \"i\" and \"?\" */\n",
              "\n",
              ".sk-estimator-doc-link,\n",
              "a:link.sk-estimator-doc-link,\n",
              "a:visited.sk-estimator-doc-link {\n",
              "  float: right;\n",
              "  font-size: smaller;\n",
              "  line-height: 1em;\n",
              "  font-family: monospace;\n",
              "  background-color: var(--sklearn-color-background);\n",
              "  border-radius: 1em;\n",
              "  height: 1em;\n",
              "  width: 1em;\n",
              "  text-decoration: none !important;\n",
              "  margin-left: 1ex;\n",
              "  /* unfitted */\n",
              "  border: var(--sklearn-color-unfitted-level-1) 1pt solid;\n",
              "  color: var(--sklearn-color-unfitted-level-1);\n",
              "}\n",
              "\n",
              ".sk-estimator-doc-link.fitted,\n",
              "a:link.sk-estimator-doc-link.fitted,\n",
              "a:visited.sk-estimator-doc-link.fitted {\n",
              "  /* fitted */\n",
              "  border: var(--sklearn-color-fitted-level-1) 1pt solid;\n",
              "  color: var(--sklearn-color-fitted-level-1);\n",
              "}\n",
              "\n",
              "/* On hover */\n",
              "div.sk-estimator:hover .sk-estimator-doc-link:hover,\n",
              ".sk-estimator-doc-link:hover,\n",
              "div.sk-label-container:hover .sk-estimator-doc-link:hover,\n",
              ".sk-estimator-doc-link:hover {\n",
              "  /* unfitted */\n",
              "  background-color: var(--sklearn-color-unfitted-level-3);\n",
              "  color: var(--sklearn-color-background);\n",
              "  text-decoration: none;\n",
              "}\n",
              "\n",
              "div.sk-estimator.fitted:hover .sk-estimator-doc-link.fitted:hover,\n",
              ".sk-estimator-doc-link.fitted:hover,\n",
              "div.sk-label-container:hover .sk-estimator-doc-link.fitted:hover,\n",
              ".sk-estimator-doc-link.fitted:hover {\n",
              "  /* fitted */\n",
              "  background-color: var(--sklearn-color-fitted-level-3);\n",
              "  color: var(--sklearn-color-background);\n",
              "  text-decoration: none;\n",
              "}\n",
              "\n",
              "/* Span, style for the box shown on hovering the info icon */\n",
              ".sk-estimator-doc-link span {\n",
              "  display: none;\n",
              "  z-index: 9999;\n",
              "  position: relative;\n",
              "  font-weight: normal;\n",
              "  right: .2ex;\n",
              "  padding: .5ex;\n",
              "  margin: .5ex;\n",
              "  width: min-content;\n",
              "  min-width: 20ex;\n",
              "  max-width: 50ex;\n",
              "  color: var(--sklearn-color-text);\n",
              "  box-shadow: 2pt 2pt 4pt #999;\n",
              "  /* unfitted */\n",
              "  background: var(--sklearn-color-unfitted-level-0);\n",
              "  border: .5pt solid var(--sklearn-color-unfitted-level-3);\n",
              "}\n",
              "\n",
              ".sk-estimator-doc-link.fitted span {\n",
              "  /* fitted */\n",
              "  background: var(--sklearn-color-fitted-level-0);\n",
              "  border: var(--sklearn-color-fitted-level-3);\n",
              "}\n",
              "\n",
              ".sk-estimator-doc-link:hover span {\n",
              "  display: block;\n",
              "}\n",
              "\n",
              "/* \"?\"-specific style due to the `<a>` HTML tag */\n",
              "\n",
              "#sk-container-id-1 a.estimator_doc_link {\n",
              "  float: right;\n",
              "  font-size: 1rem;\n",
              "  line-height: 1em;\n",
              "  font-family: monospace;\n",
              "  background-color: var(--sklearn-color-background);\n",
              "  border-radius: 1rem;\n",
              "  height: 1rem;\n",
              "  width: 1rem;\n",
              "  text-decoration: none;\n",
              "  /* unfitted */\n",
              "  color: var(--sklearn-color-unfitted-level-1);\n",
              "  border: var(--sklearn-color-unfitted-level-1) 1pt solid;\n",
              "}\n",
              "\n",
              "#sk-container-id-1 a.estimator_doc_link.fitted {\n",
              "  /* fitted */\n",
              "  border: var(--sklearn-color-fitted-level-1) 1pt solid;\n",
              "  color: var(--sklearn-color-fitted-level-1);\n",
              "}\n",
              "\n",
              "/* On hover */\n",
              "#sk-container-id-1 a.estimator_doc_link:hover {\n",
              "  /* unfitted */\n",
              "  background-color: var(--sklearn-color-unfitted-level-3);\n",
              "  color: var(--sklearn-color-background);\n",
              "  text-decoration: none;\n",
              "}\n",
              "\n",
              "#sk-container-id-1 a.estimator_doc_link.fitted:hover {\n",
              "  /* fitted */\n",
              "  background-color: var(--sklearn-color-fitted-level-3);\n",
              "}\n",
              "</style><div id=\"sk-container-id-1\" class=\"sk-top-container\"><div class=\"sk-text-repr-fallback\"><pre>CountVectorizer()</pre><b>In a Jupyter environment, please rerun this cell to show the HTML representation or trust the notebook. <br />On GitHub, the HTML representation is unable to render, please try loading this page with nbviewer.org.</b></div><div class=\"sk-container\" hidden><div class=\"sk-item\"><div class=\"sk-estimator fitted sk-toggleable\"><input class=\"sk-toggleable__control sk-hidden--visually\" id=\"sk-estimator-id-1\" type=\"checkbox\" checked><label for=\"sk-estimator-id-1\" class=\"sk-toggleable__label fitted sk-toggleable__label-arrow fitted\">&nbsp;&nbsp;CountVectorizer<a class=\"sk-estimator-doc-link fitted\" rel=\"noreferrer\" target=\"_blank\" href=\"https://scikit-learn.org/1.5/modules/generated/sklearn.feature_extraction.text.CountVectorizer.html\">?<span>Documentation for CountVectorizer</span></a><span class=\"sk-estimator-doc-link fitted\">i<span>Fitted</span></span></label><div class=\"sk-toggleable__content fitted\"><pre>CountVectorizer()</pre></div> </div></div></div></div>"
            ]
          },
          "metadata": {},
          "execution_count": 9
        }
      ]
    },
    {
      "cell_type": "markdown",
      "source": [
        "#### **Problem #1.3: Transform the corpus into a matrix of token counts**\n",
        "\n"
      ],
      "metadata": {
        "id": "PSVTgBD67QFQ"
      }
    },
    {
      "cell_type": "code",
      "source": [
        "# Transform the corpus into a matrix of token counts\n",
        "# WRITE YOUR CODE HERE\n",
        "X = vectorizer.transform(corpus)\n",
        "\n",
        "# Print the resulting matrix\n",
        "print(X.toarray())"
      ],
      "metadata": {
        "id": "mxfzW9c484nz",
        "outputId": "f1df04ab-5ade-4e4c-dff6-ebf7f278cdda",
        "colab": {
          "base_uri": "https://localhost:8080/"
        }
      },
      "execution_count": 10,
      "outputs": [
        {
          "output_type": "stream",
          "name": "stdout",
          "text": [
            "[[0 1 1 1 0 1 0 1]\n",
            " [0 1 0 1 1 1 0 1]\n",
            " [1 1 0 1 0 1 1 1]\n",
            " [0 1 1 1 0 1 0 1]]\n"
          ]
        }
      ]
    },
    {
      "cell_type": "markdown",
      "source": [
        "#### **Problem #1.4: Print the tokens**\n",
        "\n",
        "Use `get_feature_names_out()` to print the tokens.\n"
      ],
      "metadata": {
        "id": "K7jj8YPZ7hFR"
      }
    },
    {
      "cell_type": "code",
      "source": [
        "print(vectorizer.get_feature_names_out())"
      ],
      "metadata": {
        "id": "11eK9s-y86TR",
        "outputId": "7b67adc9-1f21-4e23-88a9-4de68ec8e599",
        "colab": {
          "base_uri": "https://localhost:8080/"
        }
      },
      "execution_count": 11,
      "outputs": [
        {
          "output_type": "stream",
          "name": "stdout",
          "text": [
            "['and' 'document' 'first' 'is' 'second' 'the' 'third' 'this']\n"
          ]
        }
      ]
    },
    {
      "cell_type": "markdown",
      "source": [
        "Compare the tokens, the matrix, and the corpus. Do you see how each sentence is represented in the matrix?"
      ],
      "metadata": {
        "id": "4d_cmQjP7xKT"
      }
    },
    {
      "cell_type": "markdown",
      "source": [
        "<a name=\"p2\"></a>\n",
        "\n",
        "---\n",
        "## **Part 2: News Group Classification with a Neural Network**\n",
        "---\n",
        "\n",
        "\n",
        "The 20 Newsgroups dataset is a collection of approximately 20,000 newsgroup documents, partitioned (nearly) evenly across 20 different newsgroups. Our task is to classify the articles to the correct newsgroup.\n",
        "\n",
        "<br>\n",
        "\n",
        "**Run the cell below to load the dataset.**"
      ],
      "metadata": {
        "id": "kV7du9rJBYuz"
      }
    },
    {
      "cell_type": "code",
      "source": [
        "# Load the dataset\n",
        "newsgroups_data = fetch_20newsgroups(\n",
        "    subset='train',\n",
        "    remove=('headers', 'footers', 'quotes')\n",
        ")\n",
        "\n",
        "texts = newsgroups_data.data\n",
        "labels = newsgroups_data.target\n",
        "\n",
        "# Split the dataset into training and validation sets\n",
        "texts_train, texts_val, labels_train, labels_val = train_test_split(\n",
        "    texts,\n",
        "    labels,\n",
        "    test_size=0.2,\n",
        "    random_state=42\n",
        ")"
      ],
      "metadata": {
        "id": "foasGD-f9a_R"
      },
      "execution_count": 12,
      "outputs": []
    },
    {
      "cell_type": "markdown",
      "source": [
        "<a name=\"p2.1\"></a>\n",
        "\n",
        "---\n",
        "### **Part 2.1: Tokenizing and Vectorizing the News Groups Dataset**\n",
        "---"
      ],
      "metadata": {
        "id": "ZqaEmJy38VkC"
      }
    },
    {
      "cell_type": "markdown",
      "source": [
        "#### **Problem #2.1.1: Create the CountVectorizer object**\n",
        "\n",
        "Initialize the vectorizer with the following parameters:\n",
        "* `stop_words='english'`\n",
        "* `max_features=4000`"
      ],
      "metadata": {
        "id": "imQT4CJS9nxb"
      }
    },
    {
      "cell_type": "code",
      "source": [
        "vectorizer = CountVectorizer(stop_words='english', max_features=4000)"
      ],
      "metadata": {
        "id": "WzdtPvyx-ew7"
      },
      "execution_count": 13,
      "outputs": []
    },
    {
      "cell_type": "markdown",
      "source": [
        "#### **Problem #2.1.2: Fit and transform the training data.**\n",
        "\n"
      ],
      "metadata": {
        "id": "G2xgieYx-BIy"
      }
    },
    {
      "cell_type": "code",
      "source": [
        "X_train_bow = vectorizer.fit_transform(texts_train)"
      ],
      "metadata": {
        "id": "-AAplhm8-fQa"
      },
      "execution_count": 15,
      "outputs": []
    },
    {
      "cell_type": "markdown",
      "source": [
        "#### **Problem #2.1.3: Transform the validation data.**"
      ],
      "metadata": {
        "id": "zuJwVtiL-G0y"
      }
    },
    {
      "cell_type": "code",
      "source": [
        "X_valid_bow = vectorizer.transform(texts_val)"
      ],
      "metadata": {
        "id": "kmk0hhfd-dbz"
      },
      "execution_count": 16,
      "outputs": []
    },
    {
      "cell_type": "markdown",
      "source": [
        "###### **Run the code below to print out the shapes of each BoW matrix and a sample of the vocabulary.**"
      ],
      "metadata": {
        "id": "KPeFKyUx_RX4"
      }
    },
    {
      "cell_type": "code",
      "source": [
        "# Show the shape of the BoW matrices\n",
        "print(\"Shape of the training BoW matrix:\", X_train_bow.shape)\n",
        "print(\"Shape of the validation BoW matrix:\", X_valid_bow.shape)\n",
        "\n",
        "print(L(vectorizer.get_feature_names_out()[2000:2100]))"
      ],
      "metadata": {
        "id": "xLcL6cn5JU0t",
        "outputId": "7e3d4c4a-f158-4232-bd93-506c66fa5b23",
        "colab": {
          "base_uri": "https://localhost:8080/"
        }
      },
      "execution_count": 17,
      "outputs": [
        {
          "output_type": "stream",
          "name": "stdout",
          "text": [
            "Shape of the training BoW matrix: (9051, 4000)\n",
            "Shape of the validation BoW matrix: (2263, 4000)\n",
            "[array(['ken', 'kent', 'kept', 'kevin', 'key', 'keyboard', 'keys', 'kg',\n",
            "       'kh', 'khf', 'ki', 'kids', 'kill', 'killed', 'killing', 'kind',\n",
            "       'kinds', 'king', 'kingdom', 'kings', 'kit', 'kjz', 'kk', 'km',\n",
            "       'kn', 'knew', 'knife', 'know', 'knowing', 'knowledge', 'known',\n",
            "       'knows', 'koresh', 'kt', 'kurds', 'la', 'lab', 'labor',\n",
            "       'laboratory', 'lack', 'land', 'lane', 'language', 'large',\n",
            "       'largely', 'larger', 'larry', 'larson', 'laser', 'late', 'later',\n",
            "       'latest', 'launch', 'launched', 'launches', 'law', 'laws',\n",
            "       'lawyer', 'lay', 'lc', 'lcs', 'le', 'lead', 'leader', 'leaders',\n",
            "       'leadership', 'leading', 'leads', 'leafs', 'league', 'learn',\n",
            "       'learned', 'learning', 'leave', 'leaves', 'leaving', 'lebanese',\n",
            "       'lebanon', 'led', 'lee', 'left', 'legal', 'legally', 'legislation',\n",
            "       'legitimate', 'lemieux', 'length', 'let', 'lets', 'letter',\n",
            "       'letters', 'letting', 'level', 'levels', 'lewis', 'lg', 'lhz',\n",
            "       'liar', 'lib', 'liberal'], dtype=object)]\n"
          ]
        }
      ]
    },
    {
      "cell_type": "markdown",
      "source": [
        "#### **Problem #2.1.4: Choose a random document and print out its BoW representation.**\n",
        "\n",
        "Then use `get_feature_names_out()` to determine what some of the words are."
      ],
      "metadata": {
        "id": "_iLEJ5_vAUzH"
      }
    },
    {
      "cell_type": "code",
      "source": [
        "random_doc_idx = 300 # You can choose any index\n",
        "print(\"BoW representation of a random document:\\n\", X_train_bow[random_doc_idx])"
      ],
      "metadata": {
        "id": "XOm2QWcxAtEg",
        "outputId": "e2aaf5e8-e194-444c-b683-84958d8fd7aa",
        "colab": {
          "base_uri": "https://localhost:8080/"
        }
      },
      "execution_count": 23,
      "outputs": [
        {
          "output_type": "stream",
          "name": "stdout",
          "text": [
            "BoW representation of a random document:\n",
            "   (0, 697)\t1\n",
            "  (0, 725)\t1\n",
            "  (0, 3873)\t1\n",
            "  (0, 2830)\t1\n",
            "  (0, 586)\t1\n",
            "  (0, 2634)\t1\n",
            "  (0, 1259)\t1\n",
            "  (0, 1346)\t1\n",
            "  (0, 2126)\t1\n",
            "  (0, 1977)\t1\n",
            "  (0, 2725)\t1\n",
            "  (0, 2532)\t1\n",
            "  (0, 3399)\t1\n",
            "  (0, 1659)\t2\n",
            "  (0, 3219)\t1\n",
            "  (0, 2161)\t1\n",
            "  (0, 2750)\t1\n",
            "  (0, 1310)\t1\n",
            "  (0, 1856)\t1\n",
            "  (0, 491)\t1\n",
            "  (0, 1106)\t1\n",
            "  (0, 3209)\t1\n",
            "  (0, 2605)\t1\n",
            "  (0, 2722)\t1\n",
            "  (0, 1651)\t1\n",
            "  (0, 2535)\t1\n",
            "  (0, 1123)\t1\n",
            "  (0, 3926)\t1\n",
            "  (0, 1056)\t1\n",
            "  (0, 3955)\t1\n",
            "  (0, 1609)\t2\n",
            "  (0, 2374)\t1\n"
          ]
        }
      ]
    },
    {
      "cell_type": "code",
      "source": [
        "# Use get_feature_names_out() to explore your results\n",
        "print('the word at 3210 is', get_feature_names_out[3210])"
      ],
      "metadata": {
        "id": "eVuwXMMLAtgH",
        "outputId": "d2486b0e-1ac6-456b-f243-f5cdf977699f",
        "colab": {
          "base_uri": "https://localhost:8080/",
          "height": 165
        }
      },
      "execution_count": 33,
      "outputs": [
        {
          "output_type": "error",
          "ename": "NameError",
          "evalue": "name 'get_feature_names_out' is not defined",
          "traceback": [
            "\u001b[0;31m---------------------------------------------------------------------------\u001b[0m",
            "\u001b[0;31mNameError\u001b[0m                                 Traceback (most recent call last)",
            "\u001b[0;32m<ipython-input-33-a0b861d3ff18>\u001b[0m in \u001b[0;36m<cell line: 2>\u001b[0;34m()\u001b[0m\n\u001b[1;32m      1\u001b[0m \u001b[0;31m# Use get_feature_names_out() to explore your results\u001b[0m\u001b[0;34m\u001b[0m\u001b[0;34m\u001b[0m\u001b[0m\n\u001b[0;32m----> 2\u001b[0;31m \u001b[0mprint\u001b[0m\u001b[0;34m(\u001b[0m\u001b[0;34m'the word at 3210'\u001b[0m\u001b[0;34m,\u001b[0m \u001b[0mget_feature_names_out\u001b[0m\u001b[0;34m[\u001b[0m\u001b[0;36m3210\u001b[0m\u001b[0;34m]\u001b[0m\u001b[0;34m)\u001b[0m\u001b[0;34m\u001b[0m\u001b[0;34m\u001b[0m\u001b[0m\n\u001b[0m",
            "\u001b[0;31mNameError\u001b[0m: name 'get_feature_names_out' is not defined"
          ]
        }
      ]
    },
    {
      "cell_type": "markdown",
      "source": [
        "<a name=\"p2.2\"></a>\n",
        "\n",
        "---\n",
        "### **Part 2.2: Training and Testing a Neural Network**\n",
        "---\n",
        "\n",
        "At this point, we have imported, split, and vectorized the data. Now we need to prepare it for a PyTorch model and proceed as we would for *any* classification task with a PyTorch model."
      ],
      "metadata": {
        "id": "XGMs3RKZI8Of"
      }
    },
    {
      "cell_type": "markdown",
      "source": [
        "#### **Step #1**\n",
        "\n",
        "**This code has been provided for you. Run the cell below.**"
      ],
      "metadata": {
        "id": "eN8Z-C_3K0ZG"
      }
    },
    {
      "cell_type": "code",
      "source": [
        "# Convert to PyTorch tensors\n",
        "X_train = torch.tensor(X_train_bow.todense()).float()\n",
        "X_valid = torch.tensor(X_valid_bow.todense()).float()\n",
        "\n",
        "# Extract labels\n",
        "y_train = torch.tensor(labels_train)\n",
        "y_valid = torch.tensor(labels_val)\n",
        "\n",
        "# Create DataLoaders\n",
        "train_dataset = list(zip(X_train, y_train))\n",
        "valid_dataset = list(zip(X_valid, y_valid))\n",
        "\n",
        "train_dl = DataLoader(train_dataset, batch_size=64, shuffle=True)\n",
        "val_dl = DataLoader(valid_dataset, batch_size=64)\n",
        "dls = DataLoaders(train_dl,val_dl)"
      ],
      "metadata": {
        "id": "liLaJe3dLPN9"
      },
      "execution_count": 20,
      "outputs": []
    },
    {
      "cell_type": "markdown",
      "source": [
        "#### **Step #2**\n",
        "\n",
        "For a fully connected network, the dimension of the input layer will be the number of tokens. Complete the code below."
      ],
      "metadata": {
        "id": "hc5z8AhGCKHt"
      }
    },
    {
      "cell_type": "code",
      "source": [
        "input_dims =len(vectorizer.get_feature_names_out())\n",
        "print(input_dims)"
      ],
      "metadata": {
        "id": "A4H2ukzNCj41",
        "outputId": "1b4c65da-5df2-4cbd-a4d0-6be47083aaf5",
        "colab": {
          "base_uri": "https://localhost:8080/"
        }
      },
      "execution_count": 27,
      "outputs": [
        {
          "output_type": "stream",
          "name": "stdout",
          "text": [
            "4000\n"
          ]
        }
      ]
    },
    {
      "cell_type": "markdown",
      "source": [
        "#### **Steps #3-6**\n",
        "\n",
        "Define a fully connected network of your own design. Ensure you have the correct number of inputs and outputs."
      ],
      "metadata": {
        "id": "ZbhgBwEPCm8P"
      }
    },
    {
      "cell_type": "code",
      "source": [
        "model = nn.Sequential(\n",
        "    nn.Linear(input_dims, 512),\n",
        "    nn.ReLU(),\n",
        "    nn.Linear(512, 20),\n",
        ")"
      ],
      "metadata": {
        "id": "qrIklOq1CmS0"
      },
      "execution_count": 28,
      "outputs": []
    },
    {
      "cell_type": "markdown",
      "source": [
        "#### **Step #7**\n",
        "\n",
        "Create a Learner object and fit the model. Since this is a multiclass classification problem, you will use `nn.CrossEntropyLoss()`"
      ],
      "metadata": {
        "id": "fuGPjq1bLSNA"
      }
    },
    {
      "cell_type": "code",
      "source": [
        "# Create a Learner and train the model\n",
        "learn = Learner(\n",
        "    dls,\n",
        "    model,\n",
        "    loss_func=nn.CrossEntropyLoss(),\n",
        "    metrics=accuracy)\n",
        "learn.fit(10, lr=0.001)\n"
      ],
      "metadata": {
        "id": "rjiBv6JzLk4C",
        "outputId": "60b4ca75-7c21-42a1-d9b5-a7312edb367b",
        "colab": {
          "base_uri": "https://localhost:8080/",
          "height": 363
        }
      },
      "execution_count": 29,
      "outputs": [
        {
          "output_type": "display_data",
          "data": {
            "text/plain": [
              "<IPython.core.display.HTML object>"
            ],
            "text/html": [
              "\n",
              "<style>\n",
              "    /* Turns off some styling */\n",
              "    progress {\n",
              "        /* gets rid of default border in Firefox and Opera. */\n",
              "        border: none;\n",
              "        /* Needs to be in here for Safari polyfill so background images work as expected. */\n",
              "        background-size: auto;\n",
              "    }\n",
              "    progress:not([value]), progress:not([value])::-webkit-progress-bar {\n",
              "        background: repeating-linear-gradient(45deg, #7e7e7e, #7e7e7e 10px, #5c5c5c 10px, #5c5c5c 20px);\n",
              "    }\n",
              "    .progress-bar-interrupted, .progress-bar-interrupted::-webkit-progress-bar {\n",
              "        background: #F44336;\n",
              "    }\n",
              "</style>\n"
            ]
          },
          "metadata": {}
        },
        {
          "output_type": "display_data",
          "data": {
            "text/plain": [
              "<IPython.core.display.HTML object>"
            ],
            "text/html": [
              "<table border=\"1\" class=\"dataframe\">\n",
              "  <thead>\n",
              "    <tr style=\"text-align: left;\">\n",
              "      <th>epoch</th>\n",
              "      <th>train_loss</th>\n",
              "      <th>valid_loss</th>\n",
              "      <th>accuracy</th>\n",
              "      <th>time</th>\n",
              "    </tr>\n",
              "  </thead>\n",
              "  <tbody>\n",
              "    <tr>\n",
              "      <td>0</td>\n",
              "      <td>1.620604</td>\n",
              "      <td>1.321217</td>\n",
              "      <td>0.679629</td>\n",
              "      <td>00:09</td>\n",
              "    </tr>\n",
              "    <tr>\n",
              "      <td>1</td>\n",
              "      <td>0.901524</td>\n",
              "      <td>1.151873</td>\n",
              "      <td>0.699072</td>\n",
              "      <td>00:06</td>\n",
              "    </tr>\n",
              "    <tr>\n",
              "      <td>2</td>\n",
              "      <td>0.578206</td>\n",
              "      <td>1.183419</td>\n",
              "      <td>0.694653</td>\n",
              "      <td>00:05</td>\n",
              "    </tr>\n",
              "    <tr>\n",
              "      <td>3</td>\n",
              "      <td>0.390619</td>\n",
              "      <td>1.343979</td>\n",
              "      <td>0.687583</td>\n",
              "      <td>00:06</td>\n",
              "    </tr>\n",
              "    <tr>\n",
              "      <td>4</td>\n",
              "      <td>0.278382</td>\n",
              "      <td>1.396779</td>\n",
              "      <td>0.673884</td>\n",
              "      <td>00:05</td>\n",
              "    </tr>\n",
              "    <tr>\n",
              "      <td>5</td>\n",
              "      <td>0.207014</td>\n",
              "      <td>1.523791</td>\n",
              "      <td>0.674326</td>\n",
              "      <td>00:06</td>\n",
              "    </tr>\n",
              "    <tr>\n",
              "      <td>6</td>\n",
              "      <td>0.185593</td>\n",
              "      <td>1.903332</td>\n",
              "      <td>0.663721</td>\n",
              "      <td>00:05</td>\n",
              "    </tr>\n",
              "    <tr>\n",
              "      <td>7</td>\n",
              "      <td>0.151727</td>\n",
              "      <td>1.880422</td>\n",
              "      <td>0.659302</td>\n",
              "      <td>00:06</td>\n",
              "    </tr>\n",
              "    <tr>\n",
              "      <td>8</td>\n",
              "      <td>0.134177</td>\n",
              "      <td>1.989117</td>\n",
              "      <td>0.667256</td>\n",
              "      <td>00:06</td>\n",
              "    </tr>\n",
              "    <tr>\n",
              "      <td>9</td>\n",
              "      <td>0.166118</td>\n",
              "      <td>2.200562</td>\n",
              "      <td>0.660186</td>\n",
              "      <td>00:07</td>\n",
              "    </tr>\n",
              "  </tbody>\n",
              "</table>"
            ]
          },
          "metadata": {}
        }
      ]
    },
    {
      "cell_type": "markdown",
      "source": [
        "#### **Step #8**\n",
        "\n",
        "Now, evaluate the model for both the training and validation sets.\n"
      ],
      "metadata": {
        "id": "JSOOynZqL0xo"
      }
    },
    {
      "cell_type": "code",
      "source": [
        "# Evaluate the training set\n",
        "train_loss, train_accuracy = learn.validate(dl=train_dl)\n",
        "print(f\"Training accuracy: {train_accuracy}\")\n",
        "\n",
        "# Evaluate the test set\n",
        "valid_loss, validate_accuracy = learn.validate(dl=val_dl)\n",
        "print(f\"Validation accuracy: {validate_accuracy}\")"
      ],
      "metadata": {
        "id": "HqPSJlsSL7_E",
        "outputId": "0d5dd9fc-83d8-4939-e976-5a14e7b1f8a3",
        "colab": {
          "base_uri": "https://localhost:8080/",
          "height": 53
        }
      },
      "execution_count": 30,
      "outputs": [
        {
          "output_type": "display_data",
          "data": {
            "text/plain": [
              "<IPython.core.display.HTML object>"
            ],
            "text/html": [
              "\n",
              "<style>\n",
              "    /* Turns off some styling */\n",
              "    progress {\n",
              "        /* gets rid of default border in Firefox and Opera. */\n",
              "        border: none;\n",
              "        /* Needs to be in here for Safari polyfill so background images work as expected. */\n",
              "        background-size: auto;\n",
              "    }\n",
              "    progress:not([value]), progress:not([value])::-webkit-progress-bar {\n",
              "        background: repeating-linear-gradient(45deg, #7e7e7e, #7e7e7e 10px, #5c5c5c 10px, #5c5c5c 20px);\n",
              "    }\n",
              "    .progress-bar-interrupted, .progress-bar-interrupted::-webkit-progress-bar {\n",
              "        background: #F44336;\n",
              "    }\n",
              "</style>\n"
            ]
          },
          "metadata": {}
        },
        {
          "output_type": "display_data",
          "data": {
            "text/plain": [
              "<IPython.core.display.HTML object>"
            ],
            "text/html": []
          },
          "metadata": {}
        },
        {
          "output_type": "stream",
          "name": "stdout",
          "text": [
            "Training accuracy: 0.9688432216644287\n"
          ]
        },
        {
          "output_type": "display_data",
          "data": {
            "text/plain": [
              "<IPython.core.display.HTML object>"
            ],
            "text/html": [
              "\n",
              "<style>\n",
              "    /* Turns off some styling */\n",
              "    progress {\n",
              "        /* gets rid of default border in Firefox and Opera. */\n",
              "        border: none;\n",
              "        /* Needs to be in here for Safari polyfill so background images work as expected. */\n",
              "        background-size: auto;\n",
              "    }\n",
              "    progress:not([value]), progress:not([value])::-webkit-progress-bar {\n",
              "        background: repeating-linear-gradient(45deg, #7e7e7e, #7e7e7e 10px, #5c5c5c 10px, #5c5c5c 20px);\n",
              "    }\n",
              "    .progress-bar-interrupted, .progress-bar-interrupted::-webkit-progress-bar {\n",
              "        background: #F44336;\n",
              "    }\n",
              "</style>\n"
            ]
          },
          "metadata": {}
        },
        {
          "output_type": "display_data",
          "data": {
            "text/plain": [
              "<IPython.core.display.HTML object>"
            ],
            "text/html": []
          },
          "metadata": {}
        },
        {
          "output_type": "stream",
          "name": "stdout",
          "text": [
            "Validation accuracy: 0.6601855754852295\n"
          ]
        }
      ]
    },
    {
      "cell_type": "markdown",
      "source": [
        "#### **How did your model perform?**"
      ],
      "metadata": {
        "id": "zkn0RBS0DHPo"
      }
    },
    {
      "cell_type": "markdown",
      "source": [
        "<a name=\"p3\"></a>\n",
        "\n",
        "---\n",
        "## **Part 3: News Group Classification with a CNN**\n",
        "---\n",
        "\n"
      ],
      "metadata": {
        "id": "r4_U4kWylKLw"
      }
    },
    {
      "cell_type": "markdown",
      "source": [
        "#### **Step #1**\n",
        "\n",
        "**The code for importing the data is provided for you. Run the cell below.**"
      ],
      "metadata": {
        "id": "BQ6jclf5Po-o"
      }
    },
    {
      "cell_type": "code",
      "source": [
        "# Convert to PyTorch tensors\n",
        "X_train = torch.tensor(X_train_bow.todense()).float().unsqueeze(1)\n",
        "X_valid = torch.tensor(X_valid_bow.todense()).float().unsqueeze(1)\n",
        "\n",
        "# Extract labels\n",
        "y_train = torch.tensor(labels_train)\n",
        "y_valid = torch.tensor(labels_val)\n",
        "\n",
        "# Create DataLoaders\n",
        "train_dataset = list(zip(X_train, y_train))\n",
        "valid_dataset = list(zip(X_valid, y_valid))\n",
        "\n",
        "train_dl = DataLoader(train_dataset, batch_size=64, shuffle=True)\n",
        "val_dl = DataLoader(valid_dataset, batch_size=64)\n",
        "dls = DataLoaders(train_dl,val_dl)\n",
        "\n",
        "input_dims = len(vectorizer.get_feature_names_out())"
      ],
      "metadata": {
        "id": "LY31FfYdP3xa"
      },
      "execution_count": 34,
      "outputs": []
    },
    {
      "cell_type": "markdown",
      "source": [
        "#### **Steps #3-6**\n",
        "\n",
        "Let's start by building a new CNN model. Remember, the syntax for CNNs for NLP is a little different than for images. We will be using the 1D versions of the convolution and max pooling layers. Examples:\n",
        "* `nn.Conv1d(64, 128, kernel_size=5, padding=2)`\n",
        "* `nn.MaxPool1d(2)`\n",
        "\n",
        "Define a CNN with the following layers:\n",
        "\n",
        "Block 1:\n",
        "* A convolutional layer with the appropriate input dimension and 16 outputs, kernel size of 3, `padding=1`, and ReLU activation.\n",
        "* A max pooling layer with a pool size of 2\n",
        "\n",
        "Block 2\n",
        "* A convolutional layer with 32 outputs, kernel size of 3, `padding=1`, and ReLU activation.\n",
        "* A max pooling layer with a pool size of 2\n",
        "\n",
        "Finally, add:\n",
        "* A linear layer with 8 outputs and ReLU activation\n",
        "* The output layer"
      ],
      "metadata": {
        "id": "1AAVJHkuE3nM"
      }
    },
    {
      "cell_type": "code",
      "source": [
        "cnn_model = nn.Sequential(\n",
        "    #block1\n",
        "    nn.Conv1d(1, 16, kernel_size=3, padding=1),\n",
        "    nn.ReLU(),\n",
        "    nn.MaxPool1d(2),\n",
        "    #block2\n",
        "    nn.Conv1d(16, 32, kernel_size=3, padding=1),\n",
        "    nn.ReLU(),\n",
        "    nn.MaxPool1d(2),\n",
        "    nn.Flatten(),\n",
        "\n",
        "    nn.Linear(32*(input_dims//4), 8),\n",
        "    nn.ReLU(),\n",
        "    nn.Linear(8, 20)\n",
        "\n",
        ")"
      ],
      "metadata": {
        "id": "YVE6HlQ4E3nc"
      },
      "execution_count": 44,
      "outputs": []
    },
    {
      "cell_type": "markdown",
      "source": [
        "#### **Step #7**\n",
        "\n",
        "Create a Learner object and fit the model. Since this is a multiclass classification problem, you will use `nn.CrossEntropyLoss()`"
      ],
      "metadata": {
        "id": "M__-6lOuE3nc"
      }
    },
    {
      "cell_type": "code",
      "source": [
        "# Create a Learner and train the model\n",
        "cnn_learn = Learner(\n",
        "    dls,\n",
        "    cnn_model,\n",
        "    loss_func=nn.CrossEntropyLoss(),\n",
        "    metrics=accuracy\n",
        ")\n",
        "cnn_learn.fit(10, lr=0.001)\n"
      ],
      "metadata": {
        "id": "OaB29Xv2E3nd",
        "outputId": "207105fd-82c9-48e0-bbe0-a0f71b97cb40",
        "colab": {
          "base_uri": "https://localhost:8080/",
          "height": 363
        }
      },
      "execution_count": 45,
      "outputs": [
        {
          "output_type": "display_data",
          "data": {
            "text/plain": [
              "<IPython.core.display.HTML object>"
            ],
            "text/html": [
              "\n",
              "<style>\n",
              "    /* Turns off some styling */\n",
              "    progress {\n",
              "        /* gets rid of default border in Firefox and Opera. */\n",
              "        border: none;\n",
              "        /* Needs to be in here for Safari polyfill so background images work as expected. */\n",
              "        background-size: auto;\n",
              "    }\n",
              "    progress:not([value]), progress:not([value])::-webkit-progress-bar {\n",
              "        background: repeating-linear-gradient(45deg, #7e7e7e, #7e7e7e 10px, #5c5c5c 10px, #5c5c5c 20px);\n",
              "    }\n",
              "    .progress-bar-interrupted, .progress-bar-interrupted::-webkit-progress-bar {\n",
              "        background: #F44336;\n",
              "    }\n",
              "</style>\n"
            ]
          },
          "metadata": {}
        },
        {
          "output_type": "display_data",
          "data": {
            "text/plain": [
              "<IPython.core.display.HTML object>"
            ],
            "text/html": [
              "<table border=\"1\" class=\"dataframe\">\n",
              "  <thead>\n",
              "    <tr style=\"text-align: left;\">\n",
              "      <th>epoch</th>\n",
              "      <th>train_loss</th>\n",
              "      <th>valid_loss</th>\n",
              "      <th>accuracy</th>\n",
              "      <th>time</th>\n",
              "    </tr>\n",
              "  </thead>\n",
              "  <tbody>\n",
              "    <tr>\n",
              "      <td>0</td>\n",
              "      <td>3.002589</td>\n",
              "      <td>3.003030</td>\n",
              "      <td>0.046399</td>\n",
              "      <td>00:30</td>\n",
              "    </tr>\n",
              "    <tr>\n",
              "      <td>1</td>\n",
              "      <td>2.994807</td>\n",
              "      <td>2.998099</td>\n",
              "      <td>0.046399</td>\n",
              "      <td>00:31</td>\n",
              "    </tr>\n",
              "    <tr>\n",
              "      <td>2</td>\n",
              "      <td>2.993766</td>\n",
              "      <td>2.994963</td>\n",
              "      <td>0.046399</td>\n",
              "      <td>00:29</td>\n",
              "    </tr>\n",
              "    <tr>\n",
              "      <td>3</td>\n",
              "      <td>2.988198</td>\n",
              "      <td>2.993077</td>\n",
              "      <td>0.046399</td>\n",
              "      <td>00:31</td>\n",
              "    </tr>\n",
              "    <tr>\n",
              "      <td>4</td>\n",
              "      <td>2.988503</td>\n",
              "      <td>2.991838</td>\n",
              "      <td>0.046399</td>\n",
              "      <td>00:30</td>\n",
              "    </tr>\n",
              "    <tr>\n",
              "      <td>5</td>\n",
              "      <td>2.986699</td>\n",
              "      <td>2.991208</td>\n",
              "      <td>0.046399</td>\n",
              "      <td>00:31</td>\n",
              "    </tr>\n",
              "    <tr>\n",
              "      <td>6</td>\n",
              "      <td>2.986310</td>\n",
              "      <td>2.990765</td>\n",
              "      <td>0.046399</td>\n",
              "      <td>00:30</td>\n",
              "    </tr>\n",
              "    <tr>\n",
              "      <td>7</td>\n",
              "      <td>2.985328</td>\n",
              "      <td>2.991063</td>\n",
              "      <td>0.046399</td>\n",
              "      <td>00:32</td>\n",
              "    </tr>\n",
              "    <tr>\n",
              "      <td>8</td>\n",
              "      <td>2.985939</td>\n",
              "      <td>2.990275</td>\n",
              "      <td>0.046399</td>\n",
              "      <td>00:30</td>\n",
              "    </tr>\n",
              "    <tr>\n",
              "      <td>9</td>\n",
              "      <td>2.967543</td>\n",
              "      <td>2.751356</td>\n",
              "      <td>0.147592</td>\n",
              "      <td>00:31</td>\n",
              "    </tr>\n",
              "  </tbody>\n",
              "</table>"
            ]
          },
          "metadata": {}
        }
      ]
    },
    {
      "cell_type": "markdown",
      "source": [
        "#### **Step #8**\n",
        "\n",
        "Now, evaluate the model for both the training and validation sets.\n"
      ],
      "metadata": {
        "id": "r5KifHJwE3ne"
      }
    },
    {
      "cell_type": "code",
      "source": [
        "# Evaluate the training set\n",
        "\n",
        "\n",
        "# Evaluate the test set\n"
      ],
      "metadata": {
        "id": "k_8YoV92E3ne"
      },
      "execution_count": null,
      "outputs": []
    },
    {
      "cell_type": "markdown",
      "source": [
        "**Oh no!** It looks like the CNN didn't do much better! It turns out that tokenization and vectorization is not enough to prepare text data for deep learning. There's an additional processing step we can take that will set our models up for success: **embedding.** We will see how embedding improves model performance in the next lab."
      ],
      "metadata": {
        "id": "S6ddmcs4xIKQ"
      }
    },
    {
      "cell_type": "markdown",
      "source": [
        "# End of notebook\n",
        "---\n",
        "© 2024 The Coding School, All rights reserved"
      ],
      "metadata": {
        "id": "7dzC09dLlEhm"
      }
    }
  ]
}