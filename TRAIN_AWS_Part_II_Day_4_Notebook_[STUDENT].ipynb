{
  "nbformat": 4,
  "nbformat_minor": 0,
  "metadata": {
    "colab": {
      "provenance": [],
      "gpuType": "T4",
      "include_colab_link": true
    },
    "kernelspec": {
      "name": "python3",
      "display_name": "Python 3"
    },
    "language_info": {
      "name": "python"
    },
    "accelerator": "GPU"
  },
  "cells": [
    {
      "cell_type": "markdown",
      "metadata": {
        "id": "view-in-github",
        "colab_type": "text"
      },
      "source": [
        "<a href=\"https://colab.research.google.com/github/kgorfu/MyCode/blob/master/TRAIN_AWS_Part_II_Day_4_Notebook_%5BSTUDENT%5D.ipynb\" target=\"_parent\"><img src=\"https://colab.research.google.com/assets/colab-badge.svg\" alt=\"Open In Colab\"/></a>"
      ]
    },
    {
      "cell_type": "markdown",
      "source": [
        "# **Lab 4: Training and Improving Deep Learning Models**\n",
        "---\n",
        "\n",
        "### **Description**\n",
        "In today's lab you'll learn how to train a neural network and you'll experiment with different parameters for fine-tuning deep learning models.\n",
        "\n",
        "<br>\n",
        "\n",
        "Hyperparameters are the parameters that define the architecture and learning process of a neural network, such as the number of layers, the number of neurons in each layer, the activation function used, and the learning rate used by the optimization algorithm. By experimenting with different hyperparameters, we can optimize the performance of the neural network and achieve better results. This will cover key topics such as training neural networks and hyperparameter tuning.\n",
        "\n",
        "<br>\n",
        "\n",
        "### **Lab Structure**\n",
        "**Part 1**: [Review](#p1)\n",
        "\n",
        "**Part 2**: [The MNIST Dataset](#p2)\n",
        "\n",
        "**Part 3**: [Independent Practice with MNIST](#p3)\n",
        "\n",
        "**Part 4**: [[OPTIONAL] Hyperparameter Tuning](#p4)\n",
        "\n",
        "**Part 5**: [[ADDITIONAL PRACTICE] Hyperparameter Tuning](#p5)\n",
        "\n",
        "\n",
        "\n",
        "\n",
        "<br>\n",
        "\n",
        "### **Learning Objectives**\n",
        "By the end of this lab, you will:\n",
        "* Train and evaluate a Neural Network for image classification.\n",
        "* Learn to do hyperparameter tuning of learning rate, activation functions, and model architecture (layers and neurons).\n",
        "\n",
        "<br>\n",
        "\n",
        "\n",
        "### **Cheat Sheets**:\n",
        "* [Deep Learning with pytorch](https://docs.google.com/document/d/1Wm01maZUrSuwdOhuI05uZBtqt5nL5shOGnJ7kTHWl_I/edit)\n",
        "\n",
        "<br>\n",
        "\n",
        "**Before starting, run the code below to import all necessary functions and libraries.**"
      ],
      "metadata": {
        "id": "mzyUrRqcU0fd"
      }
    },
    {
      "cell_type": "code",
      "source": [
        "def is_colab():\n",
        "    try:\n",
        "        import google.colab\n",
        "        return True\n",
        "    except ImportError:\n",
        "        return False\n",
        "\n",
        "# Only necessary for Google Colab\n",
        "if is_colab():\n",
        "    !pip install torch torchvision\n",
        "    !pip install torchview\n",
        "    !pip install graphviz\n",
        "    !pip install fastai\n",
        "    !pip install scikit-learn matplotlib\n",
        "\n",
        "import matplotlib.pyplot as plt\n",
        "import numpy as np\n",
        "\n",
        "from sklearn.model_selection import train_test_split\n",
        "from sklearn.datasets import load_breast_cancer\n",
        "\n",
        "import torch\n",
        "import torch.nn as nn\n",
        "import torchvision.transforms as transforms\n",
        "from torchvision.datasets import MNIST\n",
        "\n",
        "from fastai.vision.all import *\n",
        "from fastai.tabular.all import *\n",
        "\n",
        "from torchview import draw_graph\n",
        "\n",
        "from sklearn.metrics import confusion_matrix, ConfusionMatrixDisplay"
      ],
      "metadata": {
        "id": "tRNgYwf5Dobg",
        "collapsed": true,
        "colab": {
          "base_uri": "https://localhost:8080/"
        },
        "outputId": "4b3dd398-d5c4-4a23-d67c-ff011385f928"
      },
      "execution_count": 9,
      "outputs": [
        {
          "output_type": "stream",
          "name": "stdout",
          "text": [
            "Requirement already satisfied: torch in /usr/local/lib/python3.10/dist-packages (2.4.1+cu121)\n",
            "Requirement already satisfied: torchvision in /usr/local/lib/python3.10/dist-packages (0.19.1+cu121)\n",
            "Requirement already satisfied: filelock in /usr/local/lib/python3.10/dist-packages (from torch) (3.16.1)\n",
            "Requirement already satisfied: typing-extensions>=4.8.0 in /usr/local/lib/python3.10/dist-packages (from torch) (4.12.2)\n",
            "Requirement already satisfied: sympy in /usr/local/lib/python3.10/dist-packages (from torch) (1.13.3)\n",
            "Requirement already satisfied: networkx in /usr/local/lib/python3.10/dist-packages (from torch) (3.4)\n",
            "Requirement already satisfied: jinja2 in /usr/local/lib/python3.10/dist-packages (from torch) (3.1.4)\n",
            "Requirement already satisfied: fsspec in /usr/local/lib/python3.10/dist-packages (from torch) (2024.6.1)\n",
            "Requirement already satisfied: numpy in /usr/local/lib/python3.10/dist-packages (from torchvision) (1.26.4)\n",
            "Requirement already satisfied: pillow!=8.3.*,>=5.3.0 in /usr/local/lib/python3.10/dist-packages (from torchvision) (10.4.0)\n",
            "Requirement already satisfied: MarkupSafe>=2.0 in /usr/local/lib/python3.10/dist-packages (from jinja2->torch) (3.0.1)\n",
            "Requirement already satisfied: mpmath<1.4,>=1.1.0 in /usr/local/lib/python3.10/dist-packages (from sympy->torch) (1.3.0)\n",
            "Collecting torchview\n",
            "  Downloading torchview-0.2.6-py3-none-any.whl.metadata (12 kB)\n",
            "Downloading torchview-0.2.6-py3-none-any.whl (25 kB)\n",
            "Installing collected packages: torchview\n",
            "Successfully installed torchview-0.2.6\n",
            "Requirement already satisfied: graphviz in /usr/local/lib/python3.10/dist-packages (0.20.3)\n",
            "Requirement already satisfied: fastai in /usr/local/lib/python3.10/dist-packages (2.7.17)\n",
            "Requirement already satisfied: pip in /usr/local/lib/python3.10/dist-packages (from fastai) (24.1.2)\n",
            "Requirement already satisfied: packaging in /usr/local/lib/python3.10/dist-packages (from fastai) (24.1)\n",
            "Requirement already satisfied: fastdownload<2,>=0.0.5 in /usr/local/lib/python3.10/dist-packages (from fastai) (0.0.7)\n",
            "Requirement already satisfied: fastcore<1.8,>=1.5.29 in /usr/local/lib/python3.10/dist-packages (from fastai) (1.7.13)\n",
            "Requirement already satisfied: torchvision>=0.11 in /usr/local/lib/python3.10/dist-packages (from fastai) (0.19.1+cu121)\n",
            "Requirement already satisfied: matplotlib in /usr/local/lib/python3.10/dist-packages (from fastai) (3.7.1)\n",
            "Requirement already satisfied: pandas in /usr/local/lib/python3.10/dist-packages (from fastai) (2.2.2)\n",
            "Requirement already satisfied: requests in /usr/local/lib/python3.10/dist-packages (from fastai) (2.32.3)\n",
            "Requirement already satisfied: pyyaml in /usr/local/lib/python3.10/dist-packages (from fastai) (6.0.2)\n",
            "Requirement already satisfied: fastprogress>=0.2.4 in /usr/local/lib/python3.10/dist-packages (from fastai) (1.0.3)\n",
            "Requirement already satisfied: pillow>=9.0.0 in /usr/local/lib/python3.10/dist-packages (from fastai) (10.4.0)\n",
            "Requirement already satisfied: scikit-learn in /usr/local/lib/python3.10/dist-packages (from fastai) (1.5.2)\n",
            "Requirement already satisfied: scipy in /usr/local/lib/python3.10/dist-packages (from fastai) (1.13.1)\n",
            "Requirement already satisfied: spacy<4 in /usr/local/lib/python3.10/dist-packages (from fastai) (3.7.5)\n",
            "Requirement already satisfied: torch<2.5,>=1.10 in /usr/local/lib/python3.10/dist-packages (from fastai) (2.4.1+cu121)\n",
            "Requirement already satisfied: spacy-legacy<3.1.0,>=3.0.11 in /usr/local/lib/python3.10/dist-packages (from spacy<4->fastai) (3.0.12)\n",
            "Requirement already satisfied: spacy-loggers<2.0.0,>=1.0.0 in /usr/local/lib/python3.10/dist-packages (from spacy<4->fastai) (1.0.5)\n",
            "Requirement already satisfied: murmurhash<1.1.0,>=0.28.0 in /usr/local/lib/python3.10/dist-packages (from spacy<4->fastai) (1.0.10)\n",
            "Requirement already satisfied: cymem<2.1.0,>=2.0.2 in /usr/local/lib/python3.10/dist-packages (from spacy<4->fastai) (2.0.8)\n",
            "Requirement already satisfied: preshed<3.1.0,>=3.0.2 in /usr/local/lib/python3.10/dist-packages (from spacy<4->fastai) (3.0.9)\n",
            "Requirement already satisfied: thinc<8.3.0,>=8.2.2 in /usr/local/lib/python3.10/dist-packages (from spacy<4->fastai) (8.2.5)\n",
            "Requirement already satisfied: wasabi<1.2.0,>=0.9.1 in /usr/local/lib/python3.10/dist-packages (from spacy<4->fastai) (1.1.3)\n",
            "Requirement already satisfied: srsly<3.0.0,>=2.4.3 in /usr/local/lib/python3.10/dist-packages (from spacy<4->fastai) (2.4.8)\n",
            "Requirement already satisfied: catalogue<2.1.0,>=2.0.6 in /usr/local/lib/python3.10/dist-packages (from spacy<4->fastai) (2.0.10)\n",
            "Requirement already satisfied: weasel<0.5.0,>=0.1.0 in /usr/local/lib/python3.10/dist-packages (from spacy<4->fastai) (0.4.1)\n",
            "Requirement already satisfied: typer<1.0.0,>=0.3.0 in /usr/local/lib/python3.10/dist-packages (from spacy<4->fastai) (0.12.5)\n",
            "Requirement already satisfied: tqdm<5.0.0,>=4.38.0 in /usr/local/lib/python3.10/dist-packages (from spacy<4->fastai) (4.66.5)\n",
            "Requirement already satisfied: pydantic!=1.8,!=1.8.1,<3.0.0,>=1.7.4 in /usr/local/lib/python3.10/dist-packages (from spacy<4->fastai) (2.9.2)\n",
            "Requirement already satisfied: jinja2 in /usr/local/lib/python3.10/dist-packages (from spacy<4->fastai) (3.1.4)\n",
            "Requirement already satisfied: setuptools in /usr/local/lib/python3.10/dist-packages (from spacy<4->fastai) (71.0.4)\n",
            "Requirement already satisfied: langcodes<4.0.0,>=3.2.0 in /usr/local/lib/python3.10/dist-packages (from spacy<4->fastai) (3.4.1)\n",
            "Requirement already satisfied: numpy>=1.19.0 in /usr/local/lib/python3.10/dist-packages (from spacy<4->fastai) (1.26.4)\n",
            "Requirement already satisfied: charset-normalizer<4,>=2 in /usr/local/lib/python3.10/dist-packages (from requests->fastai) (3.4.0)\n",
            "Requirement already satisfied: idna<4,>=2.5 in /usr/local/lib/python3.10/dist-packages (from requests->fastai) (3.10)\n",
            "Requirement already satisfied: urllib3<3,>=1.21.1 in /usr/local/lib/python3.10/dist-packages (from requests->fastai) (2.2.3)\n",
            "Requirement already satisfied: certifi>=2017.4.17 in /usr/local/lib/python3.10/dist-packages (from requests->fastai) (2024.8.30)\n",
            "Requirement already satisfied: filelock in /usr/local/lib/python3.10/dist-packages (from torch<2.5,>=1.10->fastai) (3.16.1)\n",
            "Requirement already satisfied: typing-extensions>=4.8.0 in /usr/local/lib/python3.10/dist-packages (from torch<2.5,>=1.10->fastai) (4.12.2)\n",
            "Requirement already satisfied: sympy in /usr/local/lib/python3.10/dist-packages (from torch<2.5,>=1.10->fastai) (1.13.3)\n",
            "Requirement already satisfied: networkx in /usr/local/lib/python3.10/dist-packages (from torch<2.5,>=1.10->fastai) (3.4)\n",
            "Requirement already satisfied: fsspec in /usr/local/lib/python3.10/dist-packages (from torch<2.5,>=1.10->fastai) (2024.6.1)\n",
            "Requirement already satisfied: contourpy>=1.0.1 in /usr/local/lib/python3.10/dist-packages (from matplotlib->fastai) (1.3.0)\n",
            "Requirement already satisfied: cycler>=0.10 in /usr/local/lib/python3.10/dist-packages (from matplotlib->fastai) (0.12.1)\n",
            "Requirement already satisfied: fonttools>=4.22.0 in /usr/local/lib/python3.10/dist-packages (from matplotlib->fastai) (4.54.1)\n",
            "Requirement already satisfied: kiwisolver>=1.0.1 in /usr/local/lib/python3.10/dist-packages (from matplotlib->fastai) (1.4.7)\n",
            "Requirement already satisfied: pyparsing>=2.3.1 in /usr/local/lib/python3.10/dist-packages (from matplotlib->fastai) (3.1.4)\n",
            "Requirement already satisfied: python-dateutil>=2.7 in /usr/local/lib/python3.10/dist-packages (from matplotlib->fastai) (2.8.2)\n",
            "Requirement already satisfied: pytz>=2020.1 in /usr/local/lib/python3.10/dist-packages (from pandas->fastai) (2024.2)\n",
            "Requirement already satisfied: tzdata>=2022.7 in /usr/local/lib/python3.10/dist-packages (from pandas->fastai) (2024.2)\n",
            "Requirement already satisfied: joblib>=1.2.0 in /usr/local/lib/python3.10/dist-packages (from scikit-learn->fastai) (1.4.2)\n",
            "Requirement already satisfied: threadpoolctl>=3.1.0 in /usr/local/lib/python3.10/dist-packages (from scikit-learn->fastai) (3.5.0)\n",
            "Requirement already satisfied: language-data>=1.2 in /usr/local/lib/python3.10/dist-packages (from langcodes<4.0.0,>=3.2.0->spacy<4->fastai) (1.2.0)\n",
            "Requirement already satisfied: annotated-types>=0.6.0 in /usr/local/lib/python3.10/dist-packages (from pydantic!=1.8,!=1.8.1,<3.0.0,>=1.7.4->spacy<4->fastai) (0.7.0)\n",
            "Requirement already satisfied: pydantic-core==2.23.4 in /usr/local/lib/python3.10/dist-packages (from pydantic!=1.8,!=1.8.1,<3.0.0,>=1.7.4->spacy<4->fastai) (2.23.4)\n",
            "Requirement already satisfied: six>=1.5 in /usr/local/lib/python3.10/dist-packages (from python-dateutil>=2.7->matplotlib->fastai) (1.16.0)\n",
            "Requirement already satisfied: blis<0.8.0,>=0.7.8 in /usr/local/lib/python3.10/dist-packages (from thinc<8.3.0,>=8.2.2->spacy<4->fastai) (0.7.11)\n",
            "Requirement already satisfied: confection<1.0.0,>=0.0.1 in /usr/local/lib/python3.10/dist-packages (from thinc<8.3.0,>=8.2.2->spacy<4->fastai) (0.1.5)\n",
            "Requirement already satisfied: click>=8.0.0 in /usr/local/lib/python3.10/dist-packages (from typer<1.0.0,>=0.3.0->spacy<4->fastai) (8.1.7)\n",
            "Requirement already satisfied: shellingham>=1.3.0 in /usr/local/lib/python3.10/dist-packages (from typer<1.0.0,>=0.3.0->spacy<4->fastai) (1.5.4)\n",
            "Requirement already satisfied: rich>=10.11.0 in /usr/local/lib/python3.10/dist-packages (from typer<1.0.0,>=0.3.0->spacy<4->fastai) (13.9.2)\n",
            "Requirement already satisfied: cloudpathlib<1.0.0,>=0.7.0 in /usr/local/lib/python3.10/dist-packages (from weasel<0.5.0,>=0.1.0->spacy<4->fastai) (0.19.0)\n",
            "Requirement already satisfied: smart-open<8.0.0,>=5.2.1 in /usr/local/lib/python3.10/dist-packages (from weasel<0.5.0,>=0.1.0->spacy<4->fastai) (7.0.5)\n",
            "Requirement already satisfied: MarkupSafe>=2.0 in /usr/local/lib/python3.10/dist-packages (from jinja2->spacy<4->fastai) (3.0.1)\n",
            "Requirement already satisfied: mpmath<1.4,>=1.1.0 in /usr/local/lib/python3.10/dist-packages (from sympy->torch<2.5,>=1.10->fastai) (1.3.0)\n",
            "Requirement already satisfied: marisa-trie>=0.7.7 in /usr/local/lib/python3.10/dist-packages (from language-data>=1.2->langcodes<4.0.0,>=3.2.0->spacy<4->fastai) (1.2.0)\n",
            "Requirement already satisfied: markdown-it-py>=2.2.0 in /usr/local/lib/python3.10/dist-packages (from rich>=10.11.0->typer<1.0.0,>=0.3.0->spacy<4->fastai) (3.0.0)\n",
            "Requirement already satisfied: pygments<3.0.0,>=2.13.0 in /usr/local/lib/python3.10/dist-packages (from rich>=10.11.0->typer<1.0.0,>=0.3.0->spacy<4->fastai) (2.18.0)\n",
            "Requirement already satisfied: wrapt in /usr/local/lib/python3.10/dist-packages (from smart-open<8.0.0,>=5.2.1->weasel<0.5.0,>=0.1.0->spacy<4->fastai) (1.16.0)\n",
            "Requirement already satisfied: mdurl~=0.1 in /usr/local/lib/python3.10/dist-packages (from markdown-it-py>=2.2.0->rich>=10.11.0->typer<1.0.0,>=0.3.0->spacy<4->fastai) (0.1.2)\n",
            "Requirement already satisfied: scikit-learn in /usr/local/lib/python3.10/dist-packages (1.5.2)\n",
            "Requirement already satisfied: matplotlib in /usr/local/lib/python3.10/dist-packages (3.7.1)\n",
            "Requirement already satisfied: numpy>=1.19.5 in /usr/local/lib/python3.10/dist-packages (from scikit-learn) (1.26.4)\n",
            "Requirement already satisfied: scipy>=1.6.0 in /usr/local/lib/python3.10/dist-packages (from scikit-learn) (1.13.1)\n",
            "Requirement already satisfied: joblib>=1.2.0 in /usr/local/lib/python3.10/dist-packages (from scikit-learn) (1.4.2)\n",
            "Requirement already satisfied: threadpoolctl>=3.1.0 in /usr/local/lib/python3.10/dist-packages (from scikit-learn) (3.5.0)\n",
            "Requirement already satisfied: contourpy>=1.0.1 in /usr/local/lib/python3.10/dist-packages (from matplotlib) (1.3.0)\n",
            "Requirement already satisfied: cycler>=0.10 in /usr/local/lib/python3.10/dist-packages (from matplotlib) (0.12.1)\n",
            "Requirement already satisfied: fonttools>=4.22.0 in /usr/local/lib/python3.10/dist-packages (from matplotlib) (4.54.1)\n",
            "Requirement already satisfied: kiwisolver>=1.0.1 in /usr/local/lib/python3.10/dist-packages (from matplotlib) (1.4.7)\n",
            "Requirement already satisfied: packaging>=20.0 in /usr/local/lib/python3.10/dist-packages (from matplotlib) (24.1)\n",
            "Requirement already satisfied: pillow>=6.2.0 in /usr/local/lib/python3.10/dist-packages (from matplotlib) (10.4.0)\n",
            "Requirement already satisfied: pyparsing>=2.3.1 in /usr/local/lib/python3.10/dist-packages (from matplotlib) (3.1.4)\n",
            "Requirement already satisfied: python-dateutil>=2.7 in /usr/local/lib/python3.10/dist-packages (from matplotlib) (2.8.2)\n",
            "Requirement already satisfied: six>=1.5 in /usr/local/lib/python3.10/dist-packages (from python-dateutil>=2.7->matplotlib) (1.16.0)\n"
          ]
        }
      ]
    },
    {
      "cell_type": "markdown",
      "source": [
        "<a name=\"p1\"></a>\n",
        "\n",
        "---\n",
        "## **Part 1: Review**\n",
        "---"
      ],
      "metadata": {
        "id": "KElX31obQLfZ"
      }
    },
    {
      "cell_type": "markdown",
      "metadata": {
        "id": "r02HhDt5CgUy"
      },
      "source": [
        "#### **Problem #1.1**\n",
        "\n",
        "Create and visualize a new model with three hidden layers.\n",
        "\n",
        "* The input layer should have `10` neurons\n",
        "\n",
        "* The first hidden layer should have `6` neurons with no activation.\n",
        "\n",
        "* The second hidden layer should have `4` neurons with ReLU activation function.\n",
        "\n",
        "* The third hidden layer should have `12` neurons with ReLU activation.\n",
        "\n",
        "* The output layer should have `4` neurons."
      ]
    },
    {
      "cell_type": "code",
      "execution_count": 10,
      "metadata": {
        "id": "SeIB6lb2CgUy",
        "colab": {
          "base_uri": "https://localhost:8080/",
          "height": 789
        },
        "outputId": "c6b2c5dc-7a89-4318-a900-7bc990a9abdc"
      },
      "outputs": [
        {
          "output_type": "execute_result",
          "data": {
            "image/svg+xml": "<?xml version=\"1.0\" encoding=\"UTF-8\" standalone=\"no\"?>\n<!DOCTYPE svg PUBLIC \"-//W3C//DTD SVG 1.1//EN\"\n \"http://www.w3.org/Graphics/SVG/1.1/DTD/svg11.dtd\">\n<!-- Generated by graphviz version 2.43.0 (0)\n -->\n<!-- Title: model Pages: 1 -->\n<svg width=\"167pt\" height=\"576pt\"\n viewBox=\"0.00 0.00 167.00 576.00\" xmlns=\"http://www.w3.org/2000/svg\" xmlns:xlink=\"http://www.w3.org/1999/xlink\">\n<g id=\"graph0\" class=\"graph\" transform=\"scale(1 1) rotate(0) translate(4 572)\">\n<title>model</title>\n<polygon fill=\"white\" stroke=\"transparent\" points=\"-4,4 -4,-572 163,-572 163,4 -4,4\"/>\n<!-- 0 -->\n<g id=\"node1\" class=\"node\">\n<title>0</title>\n<polygon fill=\"lightyellow\" stroke=\"transparent\" points=\"141.5,-568 17.5,-568 17.5,-536 141.5,-536 141.5,-568\"/>\n<polygon fill=\"none\" stroke=\"black\" points=\"17.5,-536 17.5,-568 100.5,-568 100.5,-536 17.5,-536\"/>\n<text text-anchor=\"start\" x=\"22.5\" y=\"-555\" font-family=\"Linux libertine\" font-size=\"10.00\">input&#45;tensor</text>\n<text text-anchor=\"start\" x=\"37.5\" y=\"-544\" font-family=\"Linux libertine\" font-size=\"10.00\">depth:0</text>\n<polygon fill=\"none\" stroke=\"black\" points=\"100.5,-536 100.5,-568 141.5,-568 141.5,-536 100.5,-536\"/>\n<text text-anchor=\"start\" x=\"105.5\" y=\"-549.5\" font-family=\"Linux libertine\" font-size=\"10.00\">(10,)</text>\n</g>\n<!-- 1 -->\n<g id=\"node2\" class=\"node\">\n<title>1</title>\n<polygon fill=\"#c1ffc1\" stroke=\"transparent\" points=\"159,-500 0,-500 0,-458 159,-458 159,-500\"/>\n<polygon fill=\"none\" stroke=\"black\" points=\"0.5,-458 0.5,-500 53.5,-500 53.5,-458 0.5,-458\"/>\n<text text-anchor=\"start\" x=\"8.5\" y=\"-482\" font-family=\"Linux libertine\" font-size=\"10.00\">Linear</text>\n<text text-anchor=\"start\" x=\"5.5\" y=\"-471\" font-family=\"Linux libertine\" font-size=\"10.00\">depth:1</text>\n<polygon fill=\"none\" stroke=\"black\" points=\"53.5,-479 53.5,-500 112.5,-500 112.5,-479 53.5,-479\"/>\n<text text-anchor=\"start\" x=\"64.5\" y=\"-487\" font-family=\"Linux libertine\" font-size=\"10.00\">input:</text>\n<polygon fill=\"none\" stroke=\"black\" points=\"112.5,-479 112.5,-500 159.5,-500 159.5,-479 112.5,-479\"/>\n<text text-anchor=\"start\" x=\"117.5\" y=\"-487\" font-family=\"Linux libertine\" font-size=\"10.00\">(10,) </text>\n<polygon fill=\"none\" stroke=\"black\" points=\"53.5,-458 53.5,-479 112.5,-479 112.5,-458 53.5,-458\"/>\n<text text-anchor=\"start\" x=\"58.5\" y=\"-466\" font-family=\"Linux libertine\" font-size=\"10.00\">output: </text>\n<polygon fill=\"none\" stroke=\"black\" points=\"112.5,-458 112.5,-479 159.5,-479 159.5,-458 112.5,-458\"/>\n<text text-anchor=\"start\" x=\"120.5\" y=\"-466\" font-family=\"Linux libertine\" font-size=\"10.00\">(6,) </text>\n</g>\n<!-- 0&#45;&gt;1 -->\n<g id=\"edge1\" class=\"edge\">\n<title>0&#45;&gt;1</title>\n<path fill=\"none\" stroke=\"black\" d=\"M79.5,-535.94C79.5,-528.45 79.5,-519.12 79.5,-510.24\"/>\n<polygon fill=\"black\" stroke=\"black\" points=\"83,-510.16 79.5,-500.16 76,-510.16 83,-510.16\"/>\n</g>\n<!-- 2 -->\n<g id=\"node3\" class=\"node\">\n<title>2</title>\n<polygon fill=\"#c1ffc1\" stroke=\"transparent\" points=\"156,-422 3,-422 3,-380 156,-380 156,-422\"/>\n<polygon fill=\"none\" stroke=\"black\" points=\"3.5,-380 3.5,-422 56.5,-422 56.5,-380 3.5,-380\"/>\n<text text-anchor=\"start\" x=\"11.5\" y=\"-404\" font-family=\"Linux libertine\" font-size=\"10.00\">Linear</text>\n<text text-anchor=\"start\" x=\"8.5\" y=\"-393\" font-family=\"Linux libertine\" font-size=\"10.00\">depth:1</text>\n<polygon fill=\"none\" stroke=\"black\" points=\"56.5,-401 56.5,-422 115.5,-422 115.5,-401 56.5,-401\"/>\n<text text-anchor=\"start\" x=\"67.5\" y=\"-409\" font-family=\"Linux libertine\" font-size=\"10.00\">input:</text>\n<polygon fill=\"none\" stroke=\"black\" points=\"115.5,-401 115.5,-422 156.5,-422 156.5,-401 115.5,-401\"/>\n<text text-anchor=\"start\" x=\"120.5\" y=\"-409\" font-family=\"Linux libertine\" font-size=\"10.00\">(6,) </text>\n<polygon fill=\"none\" stroke=\"black\" points=\"56.5,-380 56.5,-401 115.5,-401 115.5,-380 56.5,-380\"/>\n<text text-anchor=\"start\" x=\"61.5\" y=\"-388\" font-family=\"Linux libertine\" font-size=\"10.00\">output: </text>\n<polygon fill=\"none\" stroke=\"black\" points=\"115.5,-380 115.5,-401 156.5,-401 156.5,-380 115.5,-380\"/>\n<text text-anchor=\"start\" x=\"120.5\" y=\"-388\" font-family=\"Linux libertine\" font-size=\"10.00\">(4,) </text>\n</g>\n<!-- 1&#45;&gt;2 -->\n<g id=\"edge2\" class=\"edge\">\n<title>1&#45;&gt;2</title>\n<path fill=\"none\" stroke=\"black\" d=\"M79.5,-457.63C79.5,-449.82 79.5,-440.73 79.5,-432.18\"/>\n<polygon fill=\"black\" stroke=\"black\" points=\"83,-432.16 79.5,-422.16 76,-432.16 83,-432.16\"/>\n</g>\n<!-- 3 -->\n<g id=\"node4\" class=\"node\">\n<title>3</title>\n<polygon fill=\"#c1ffc1\" stroke=\"transparent\" points=\"156,-344 3,-344 3,-302 156,-302 156,-344\"/>\n<polygon fill=\"none\" stroke=\"black\" points=\"3.5,-302 3.5,-344 56.5,-344 56.5,-302 3.5,-302\"/>\n<text text-anchor=\"start\" x=\"17.5\" y=\"-326\" font-family=\"Linux libertine\" font-size=\"10.00\">ReLU</text>\n<text text-anchor=\"start\" x=\"8.5\" y=\"-315\" font-family=\"Linux libertine\" font-size=\"10.00\">depth:1</text>\n<polygon fill=\"none\" stroke=\"black\" points=\"56.5,-323 56.5,-344 115.5,-344 115.5,-323 56.5,-323\"/>\n<text text-anchor=\"start\" x=\"67.5\" y=\"-331\" font-family=\"Linux libertine\" font-size=\"10.00\">input:</text>\n<polygon fill=\"none\" stroke=\"black\" points=\"115.5,-323 115.5,-344 156.5,-344 156.5,-323 115.5,-323\"/>\n<text text-anchor=\"start\" x=\"120.5\" y=\"-331\" font-family=\"Linux libertine\" font-size=\"10.00\">(4,) </text>\n<polygon fill=\"none\" stroke=\"black\" points=\"56.5,-302 56.5,-323 115.5,-323 115.5,-302 56.5,-302\"/>\n<text text-anchor=\"start\" x=\"61.5\" y=\"-310\" font-family=\"Linux libertine\" font-size=\"10.00\">output: </text>\n<polygon fill=\"none\" stroke=\"black\" points=\"115.5,-302 115.5,-323 156.5,-323 156.5,-302 115.5,-302\"/>\n<text text-anchor=\"start\" x=\"120.5\" y=\"-310\" font-family=\"Linux libertine\" font-size=\"10.00\">(4,) </text>\n</g>\n<!-- 2&#45;&gt;3 -->\n<g id=\"edge3\" class=\"edge\">\n<title>2&#45;&gt;3</title>\n<path fill=\"none\" stroke=\"black\" d=\"M79.5,-379.63C79.5,-371.82 79.5,-362.73 79.5,-354.18\"/>\n<polygon fill=\"black\" stroke=\"black\" points=\"83,-354.16 79.5,-344.16 76,-354.16 83,-354.16\"/>\n</g>\n<!-- 4 -->\n<g id=\"node5\" class=\"node\">\n<title>4</title>\n<polygon fill=\"#c1ffc1\" stroke=\"transparent\" points=\"159,-266 0,-266 0,-224 159,-224 159,-266\"/>\n<polygon fill=\"none\" stroke=\"black\" points=\"0.5,-224 0.5,-266 53.5,-266 53.5,-224 0.5,-224\"/>\n<text text-anchor=\"start\" x=\"8.5\" y=\"-248\" font-family=\"Linux libertine\" font-size=\"10.00\">Linear</text>\n<text text-anchor=\"start\" x=\"5.5\" y=\"-237\" font-family=\"Linux libertine\" font-size=\"10.00\">depth:1</text>\n<polygon fill=\"none\" stroke=\"black\" points=\"53.5,-245 53.5,-266 112.5,-266 112.5,-245 53.5,-245\"/>\n<text text-anchor=\"start\" x=\"64.5\" y=\"-253\" font-family=\"Linux libertine\" font-size=\"10.00\">input:</text>\n<polygon fill=\"none\" stroke=\"black\" points=\"112.5,-245 112.5,-266 159.5,-266 159.5,-245 112.5,-245\"/>\n<text text-anchor=\"start\" x=\"120.5\" y=\"-253\" font-family=\"Linux libertine\" font-size=\"10.00\">(4,) </text>\n<polygon fill=\"none\" stroke=\"black\" points=\"53.5,-224 53.5,-245 112.5,-245 112.5,-224 53.5,-224\"/>\n<text text-anchor=\"start\" x=\"58.5\" y=\"-232\" font-family=\"Linux libertine\" font-size=\"10.00\">output: </text>\n<polygon fill=\"none\" stroke=\"black\" points=\"112.5,-224 112.5,-245 159.5,-245 159.5,-224 112.5,-224\"/>\n<text text-anchor=\"start\" x=\"117.5\" y=\"-232\" font-family=\"Linux libertine\" font-size=\"10.00\">(12,) </text>\n</g>\n<!-- 3&#45;&gt;4 -->\n<g id=\"edge4\" class=\"edge\">\n<title>3&#45;&gt;4</title>\n<path fill=\"none\" stroke=\"black\" d=\"M79.5,-301.63C79.5,-293.82 79.5,-284.73 79.5,-276.18\"/>\n<polygon fill=\"black\" stroke=\"black\" points=\"83,-276.16 79.5,-266.16 76,-276.16 83,-276.16\"/>\n</g>\n<!-- 5 -->\n<g id=\"node6\" class=\"node\">\n<title>5</title>\n<polygon fill=\"#c1ffc1\" stroke=\"transparent\" points=\"159,-188 0,-188 0,-146 159,-146 159,-188\"/>\n<polygon fill=\"none\" stroke=\"black\" points=\"0.5,-146 0.5,-188 53.5,-188 53.5,-146 0.5,-146\"/>\n<text text-anchor=\"start\" x=\"14.5\" y=\"-170\" font-family=\"Linux libertine\" font-size=\"10.00\">ReLU</text>\n<text text-anchor=\"start\" x=\"5.5\" y=\"-159\" font-family=\"Linux libertine\" font-size=\"10.00\">depth:1</text>\n<polygon fill=\"none\" stroke=\"black\" points=\"53.5,-167 53.5,-188 112.5,-188 112.5,-167 53.5,-167\"/>\n<text text-anchor=\"start\" x=\"64.5\" y=\"-175\" font-family=\"Linux libertine\" font-size=\"10.00\">input:</text>\n<polygon fill=\"none\" stroke=\"black\" points=\"112.5,-167 112.5,-188 159.5,-188 159.5,-167 112.5,-167\"/>\n<text text-anchor=\"start\" x=\"117.5\" y=\"-175\" font-family=\"Linux libertine\" font-size=\"10.00\">(12,) </text>\n<polygon fill=\"none\" stroke=\"black\" points=\"53.5,-146 53.5,-167 112.5,-167 112.5,-146 53.5,-146\"/>\n<text text-anchor=\"start\" x=\"58.5\" y=\"-154\" font-family=\"Linux libertine\" font-size=\"10.00\">output: </text>\n<polygon fill=\"none\" stroke=\"black\" points=\"112.5,-146 112.5,-167 159.5,-167 159.5,-146 112.5,-146\"/>\n<text text-anchor=\"start\" x=\"117.5\" y=\"-154\" font-family=\"Linux libertine\" font-size=\"10.00\">(12,) </text>\n</g>\n<!-- 4&#45;&gt;5 -->\n<g id=\"edge5\" class=\"edge\">\n<title>4&#45;&gt;5</title>\n<path fill=\"none\" stroke=\"black\" d=\"M79.5,-223.63C79.5,-215.82 79.5,-206.73 79.5,-198.18\"/>\n<polygon fill=\"black\" stroke=\"black\" points=\"83,-198.16 79.5,-188.16 76,-198.16 83,-198.16\"/>\n</g>\n<!-- 6 -->\n<g id=\"node7\" class=\"node\">\n<title>6</title>\n<polygon fill=\"#c1ffc1\" stroke=\"transparent\" points=\"159,-110 0,-110 0,-68 159,-68 159,-110\"/>\n<polygon fill=\"none\" stroke=\"black\" points=\"0.5,-68 0.5,-110 53.5,-110 53.5,-68 0.5,-68\"/>\n<text text-anchor=\"start\" x=\"8.5\" y=\"-92\" font-family=\"Linux libertine\" font-size=\"10.00\">Linear</text>\n<text text-anchor=\"start\" x=\"5.5\" y=\"-81\" font-family=\"Linux libertine\" font-size=\"10.00\">depth:1</text>\n<polygon fill=\"none\" stroke=\"black\" points=\"53.5,-89 53.5,-110 112.5,-110 112.5,-89 53.5,-89\"/>\n<text text-anchor=\"start\" x=\"64.5\" y=\"-97\" font-family=\"Linux libertine\" font-size=\"10.00\">input:</text>\n<polygon fill=\"none\" stroke=\"black\" points=\"112.5,-89 112.5,-110 159.5,-110 159.5,-89 112.5,-89\"/>\n<text text-anchor=\"start\" x=\"117.5\" y=\"-97\" font-family=\"Linux libertine\" font-size=\"10.00\">(12,) </text>\n<polygon fill=\"none\" stroke=\"black\" points=\"53.5,-68 53.5,-89 112.5,-89 112.5,-68 53.5,-68\"/>\n<text text-anchor=\"start\" x=\"58.5\" y=\"-76\" font-family=\"Linux libertine\" font-size=\"10.00\">output: </text>\n<polygon fill=\"none\" stroke=\"black\" points=\"112.5,-68 112.5,-89 159.5,-89 159.5,-68 112.5,-68\"/>\n<text text-anchor=\"start\" x=\"120.5\" y=\"-76\" font-family=\"Linux libertine\" font-size=\"10.00\">(4,) </text>\n</g>\n<!-- 5&#45;&gt;6 -->\n<g id=\"edge6\" class=\"edge\">\n<title>5&#45;&gt;6</title>\n<path fill=\"none\" stroke=\"black\" d=\"M79.5,-145.63C79.5,-137.82 79.5,-128.73 79.5,-120.18\"/>\n<polygon fill=\"black\" stroke=\"black\" points=\"83,-120.16 79.5,-110.16 76,-120.16 83,-120.16\"/>\n</g>\n<!-- 7 -->\n<g id=\"node8\" class=\"node\">\n<title>7</title>\n<polygon fill=\"lightyellow\" stroke=\"transparent\" points=\"141.5,-32 17.5,-32 17.5,0 141.5,0 141.5,-32\"/>\n<polygon fill=\"none\" stroke=\"black\" points=\"17.5,0 17.5,-32 106.5,-32 106.5,0 17.5,0\"/>\n<text text-anchor=\"start\" x=\"22.5\" y=\"-19\" font-family=\"Linux libertine\" font-size=\"10.00\">output&#45;tensor</text>\n<text text-anchor=\"start\" x=\"40.5\" y=\"-8\" font-family=\"Linux libertine\" font-size=\"10.00\">depth:0</text>\n<polygon fill=\"none\" stroke=\"black\" points=\"106.5,0 106.5,-32 141.5,-32 141.5,0 106.5,0\"/>\n<text text-anchor=\"start\" x=\"111.5\" y=\"-13.5\" font-family=\"Linux libertine\" font-size=\"10.00\">(4,)</text>\n</g>\n<!-- 6&#45;&gt;7 -->\n<g id=\"edge7\" class=\"edge\">\n<title>6&#45;&gt;7</title>\n<path fill=\"none\" stroke=\"black\" d=\"M79.5,-67.84C79.5,-59.89 79.5,-50.66 79.5,-42.26\"/>\n<polygon fill=\"black\" stroke=\"black\" points=\"83,-42.24 79.5,-32.24 76,-42.24 83,-42.24\"/>\n</g>\n</g>\n</svg>\n",
            "text/plain": [
              "<graphviz.graphs.Digraph at 0x7971af52d840>"
            ]
          },
          "metadata": {},
          "execution_count": 10
        }
      ],
      "source": [
        "model = nn.Sequential(\n",
        "    nn.Linear(10,6),\n",
        "    nn.Linear(6,4),\n",
        "    nn.ReLU(),\n",
        "    nn.Linear(4,12),\n",
        "    nn.ReLU(),\n",
        "    nn.Linear(12,4),\n",
        ")\n",
        "model_graph = draw_graph(model, input_size=(10,))\n",
        "model_graph.visual_graph"
      ]
    },
    {
      "cell_type": "markdown",
      "metadata": {
        "id": "qvr43yG7QfNN"
      },
      "source": [
        "#### **Problem #1.2**\n",
        "\n",
        "Create and visualize a new model with three hidden layers.\n",
        "\n",
        "* The input layer should have `8` neurons\n",
        "\n",
        "* The first hidden layer should have `5` neurons with Sigmoid activation.\n",
        "\n",
        "* The second hidden layer should have `8` neurons with ReLU activation function.\n",
        "\n",
        "* The third hidden layer should have `7` neurons with no activation.\n",
        "\n",
        "* The output layer should have `2` neurons."
      ]
    },
    {
      "cell_type": "code",
      "execution_count": 11,
      "metadata": {
        "id": "GyzJsUDgQfNc",
        "colab": {
          "base_uri": "https://localhost:8080/",
          "height": 893
        },
        "outputId": "874a347f-e975-4604-841c-cf52502673bc"
      },
      "outputs": [
        {
          "output_type": "execute_result",
          "data": {
            "image/svg+xml": "<?xml version=\"1.0\" encoding=\"UTF-8\" standalone=\"no\"?>\n<!DOCTYPE svg PUBLIC \"-//W3C//DTD SVG 1.1//EN\"\n \"http://www.w3.org/Graphics/SVG/1.1/DTD/svg11.dtd\">\n<!-- Generated by graphviz version 2.43.0 (0)\n -->\n<!-- Title: model Pages: 1 -->\n<svg width=\"167pt\" height=\"654pt\"\n viewBox=\"0.00 0.00 167.00 654.00\" xmlns=\"http://www.w3.org/2000/svg\" xmlns:xlink=\"http://www.w3.org/1999/xlink\">\n<g id=\"graph0\" class=\"graph\" transform=\"scale(1 1) rotate(0) translate(4 650)\">\n<title>model</title>\n<polygon fill=\"white\" stroke=\"transparent\" points=\"-4,4 -4,-650 163,-650 163,4 -4,4\"/>\n<!-- 0 -->\n<g id=\"node1\" class=\"node\">\n<title>0</title>\n<polygon fill=\"lightyellow\" stroke=\"transparent\" points=\"138.5,-646 20.5,-646 20.5,-614 138.5,-614 138.5,-646\"/>\n<polygon fill=\"none\" stroke=\"black\" points=\"20.5,-614 20.5,-646 103.5,-646 103.5,-614 20.5,-614\"/>\n<text text-anchor=\"start\" x=\"25.5\" y=\"-633\" font-family=\"Linux libertine\" font-size=\"10.00\">input&#45;tensor</text>\n<text text-anchor=\"start\" x=\"40.5\" y=\"-622\" font-family=\"Linux libertine\" font-size=\"10.00\">depth:0</text>\n<polygon fill=\"none\" stroke=\"black\" points=\"103.5,-614 103.5,-646 138.5,-646 138.5,-614 103.5,-614\"/>\n<text text-anchor=\"start\" x=\"108.5\" y=\"-627.5\" font-family=\"Linux libertine\" font-size=\"10.00\">(8,)</text>\n</g>\n<!-- 1 -->\n<g id=\"node2\" class=\"node\">\n<title>1</title>\n<polygon fill=\"#c1ffc1\" stroke=\"transparent\" points=\"156,-578 3,-578 3,-536 156,-536 156,-578\"/>\n<polygon fill=\"none\" stroke=\"black\" points=\"3.5,-536 3.5,-578 56.5,-578 56.5,-536 3.5,-536\"/>\n<text text-anchor=\"start\" x=\"11.5\" y=\"-560\" font-family=\"Linux libertine\" font-size=\"10.00\">Linear</text>\n<text text-anchor=\"start\" x=\"8.5\" y=\"-549\" font-family=\"Linux libertine\" font-size=\"10.00\">depth:1</text>\n<polygon fill=\"none\" stroke=\"black\" points=\"56.5,-557 56.5,-578 115.5,-578 115.5,-557 56.5,-557\"/>\n<text text-anchor=\"start\" x=\"67.5\" y=\"-565\" font-family=\"Linux libertine\" font-size=\"10.00\">input:</text>\n<polygon fill=\"none\" stroke=\"black\" points=\"115.5,-557 115.5,-578 156.5,-578 156.5,-557 115.5,-557\"/>\n<text text-anchor=\"start\" x=\"120.5\" y=\"-565\" font-family=\"Linux libertine\" font-size=\"10.00\">(8,) </text>\n<polygon fill=\"none\" stroke=\"black\" points=\"56.5,-536 56.5,-557 115.5,-557 115.5,-536 56.5,-536\"/>\n<text text-anchor=\"start\" x=\"61.5\" y=\"-544\" font-family=\"Linux libertine\" font-size=\"10.00\">output: </text>\n<polygon fill=\"none\" stroke=\"black\" points=\"115.5,-536 115.5,-557 156.5,-557 156.5,-536 115.5,-536\"/>\n<text text-anchor=\"start\" x=\"120.5\" y=\"-544\" font-family=\"Linux libertine\" font-size=\"10.00\">(5,) </text>\n</g>\n<!-- 0&#45;&gt;1 -->\n<g id=\"edge1\" class=\"edge\">\n<title>0&#45;&gt;1</title>\n<path fill=\"none\" stroke=\"black\" d=\"M79.5,-613.94C79.5,-606.45 79.5,-597.12 79.5,-588.24\"/>\n<polygon fill=\"black\" stroke=\"black\" points=\"83,-588.16 79.5,-578.16 76,-588.16 83,-588.16\"/>\n</g>\n<!-- 2 -->\n<g id=\"node3\" class=\"node\">\n<title>2</title>\n<polygon fill=\"#c1ffc1\" stroke=\"transparent\" points=\"156,-500 3,-500 3,-458 156,-458 156,-500\"/>\n<polygon fill=\"none\" stroke=\"black\" points=\"3.5,-458 3.5,-500 56.5,-500 56.5,-458 3.5,-458\"/>\n<text text-anchor=\"start\" x=\"8.5\" y=\"-482\" font-family=\"Linux libertine\" font-size=\"10.00\">Sigmoid</text>\n<text text-anchor=\"start\" x=\"8.5\" y=\"-471\" font-family=\"Linux libertine\" font-size=\"10.00\">depth:1</text>\n<polygon fill=\"none\" stroke=\"black\" points=\"56.5,-479 56.5,-500 115.5,-500 115.5,-479 56.5,-479\"/>\n<text text-anchor=\"start\" x=\"67.5\" y=\"-487\" font-family=\"Linux libertine\" font-size=\"10.00\">input:</text>\n<polygon fill=\"none\" stroke=\"black\" points=\"115.5,-479 115.5,-500 156.5,-500 156.5,-479 115.5,-479\"/>\n<text text-anchor=\"start\" x=\"120.5\" y=\"-487\" font-family=\"Linux libertine\" font-size=\"10.00\">(5,) </text>\n<polygon fill=\"none\" stroke=\"black\" points=\"56.5,-458 56.5,-479 115.5,-479 115.5,-458 56.5,-458\"/>\n<text text-anchor=\"start\" x=\"61.5\" y=\"-466\" font-family=\"Linux libertine\" font-size=\"10.00\">output: </text>\n<polygon fill=\"none\" stroke=\"black\" points=\"115.5,-458 115.5,-479 156.5,-479 156.5,-458 115.5,-458\"/>\n<text text-anchor=\"start\" x=\"120.5\" y=\"-466\" font-family=\"Linux libertine\" font-size=\"10.00\">(5,) </text>\n</g>\n<!-- 1&#45;&gt;2 -->\n<g id=\"edge2\" class=\"edge\">\n<title>1&#45;&gt;2</title>\n<path fill=\"none\" stroke=\"black\" d=\"M79.5,-535.63C79.5,-527.82 79.5,-518.73 79.5,-510.18\"/>\n<polygon fill=\"black\" stroke=\"black\" points=\"83,-510.16 79.5,-500.16 76,-510.16 83,-510.16\"/>\n</g>\n<!-- 3 -->\n<g id=\"node4\" class=\"node\">\n<title>3</title>\n<polygon fill=\"#c1ffc1\" stroke=\"transparent\" points=\"156,-422 3,-422 3,-380 156,-380 156,-422\"/>\n<polygon fill=\"none\" stroke=\"black\" points=\"3.5,-380 3.5,-422 56.5,-422 56.5,-380 3.5,-380\"/>\n<text text-anchor=\"start\" x=\"11.5\" y=\"-404\" font-family=\"Linux libertine\" font-size=\"10.00\">Linear</text>\n<text text-anchor=\"start\" x=\"8.5\" y=\"-393\" font-family=\"Linux libertine\" font-size=\"10.00\">depth:1</text>\n<polygon fill=\"none\" stroke=\"black\" points=\"56.5,-401 56.5,-422 115.5,-422 115.5,-401 56.5,-401\"/>\n<text text-anchor=\"start\" x=\"67.5\" y=\"-409\" font-family=\"Linux libertine\" font-size=\"10.00\">input:</text>\n<polygon fill=\"none\" stroke=\"black\" points=\"115.5,-401 115.5,-422 156.5,-422 156.5,-401 115.5,-401\"/>\n<text text-anchor=\"start\" x=\"120.5\" y=\"-409\" font-family=\"Linux libertine\" font-size=\"10.00\">(5,) </text>\n<polygon fill=\"none\" stroke=\"black\" points=\"56.5,-380 56.5,-401 115.5,-401 115.5,-380 56.5,-380\"/>\n<text text-anchor=\"start\" x=\"61.5\" y=\"-388\" font-family=\"Linux libertine\" font-size=\"10.00\">output: </text>\n<polygon fill=\"none\" stroke=\"black\" points=\"115.5,-380 115.5,-401 156.5,-401 156.5,-380 115.5,-380\"/>\n<text text-anchor=\"start\" x=\"120.5\" y=\"-388\" font-family=\"Linux libertine\" font-size=\"10.00\">(8,) </text>\n</g>\n<!-- 2&#45;&gt;3 -->\n<g id=\"edge3\" class=\"edge\">\n<title>2&#45;&gt;3</title>\n<path fill=\"none\" stroke=\"black\" d=\"M79.5,-457.63C79.5,-449.82 79.5,-440.73 79.5,-432.18\"/>\n<polygon fill=\"black\" stroke=\"black\" points=\"83,-432.16 79.5,-422.16 76,-432.16 83,-432.16\"/>\n</g>\n<!-- 4 -->\n<g id=\"node5\" class=\"node\">\n<title>4</title>\n<polygon fill=\"#c1ffc1\" stroke=\"transparent\" points=\"156,-344 3,-344 3,-302 156,-302 156,-344\"/>\n<polygon fill=\"none\" stroke=\"black\" points=\"3.5,-302 3.5,-344 56.5,-344 56.5,-302 3.5,-302\"/>\n<text text-anchor=\"start\" x=\"17.5\" y=\"-326\" font-family=\"Linux libertine\" font-size=\"10.00\">ReLU</text>\n<text text-anchor=\"start\" x=\"8.5\" y=\"-315\" font-family=\"Linux libertine\" font-size=\"10.00\">depth:1</text>\n<polygon fill=\"none\" stroke=\"black\" points=\"56.5,-323 56.5,-344 115.5,-344 115.5,-323 56.5,-323\"/>\n<text text-anchor=\"start\" x=\"67.5\" y=\"-331\" font-family=\"Linux libertine\" font-size=\"10.00\">input:</text>\n<polygon fill=\"none\" stroke=\"black\" points=\"115.5,-323 115.5,-344 156.5,-344 156.5,-323 115.5,-323\"/>\n<text text-anchor=\"start\" x=\"120.5\" y=\"-331\" font-family=\"Linux libertine\" font-size=\"10.00\">(8,) </text>\n<polygon fill=\"none\" stroke=\"black\" points=\"56.5,-302 56.5,-323 115.5,-323 115.5,-302 56.5,-302\"/>\n<text text-anchor=\"start\" x=\"61.5\" y=\"-310\" font-family=\"Linux libertine\" font-size=\"10.00\">output: </text>\n<polygon fill=\"none\" stroke=\"black\" points=\"115.5,-302 115.5,-323 156.5,-323 156.5,-302 115.5,-302\"/>\n<text text-anchor=\"start\" x=\"120.5\" y=\"-310\" font-family=\"Linux libertine\" font-size=\"10.00\">(8,) </text>\n</g>\n<!-- 3&#45;&gt;4 -->\n<g id=\"edge4\" class=\"edge\">\n<title>3&#45;&gt;4</title>\n<path fill=\"none\" stroke=\"black\" d=\"M79.5,-379.63C79.5,-371.82 79.5,-362.73 79.5,-354.18\"/>\n<polygon fill=\"black\" stroke=\"black\" points=\"83,-354.16 79.5,-344.16 76,-354.16 83,-354.16\"/>\n</g>\n<!-- 5 -->\n<g id=\"node6\" class=\"node\">\n<title>5</title>\n<polygon fill=\"#c1ffc1\" stroke=\"transparent\" points=\"156,-266 3,-266 3,-224 156,-224 156,-266\"/>\n<polygon fill=\"none\" stroke=\"black\" points=\"3.5,-224 3.5,-266 56.5,-266 56.5,-224 3.5,-224\"/>\n<text text-anchor=\"start\" x=\"11.5\" y=\"-248\" font-family=\"Linux libertine\" font-size=\"10.00\">Linear</text>\n<text text-anchor=\"start\" x=\"8.5\" y=\"-237\" font-family=\"Linux libertine\" font-size=\"10.00\">depth:1</text>\n<polygon fill=\"none\" stroke=\"black\" points=\"56.5,-245 56.5,-266 115.5,-266 115.5,-245 56.5,-245\"/>\n<text text-anchor=\"start\" x=\"67.5\" y=\"-253\" font-family=\"Linux libertine\" font-size=\"10.00\">input:</text>\n<polygon fill=\"none\" stroke=\"black\" points=\"115.5,-245 115.5,-266 156.5,-266 156.5,-245 115.5,-245\"/>\n<text text-anchor=\"start\" x=\"120.5\" y=\"-253\" font-family=\"Linux libertine\" font-size=\"10.00\">(8,) </text>\n<polygon fill=\"none\" stroke=\"black\" points=\"56.5,-224 56.5,-245 115.5,-245 115.5,-224 56.5,-224\"/>\n<text text-anchor=\"start\" x=\"61.5\" y=\"-232\" font-family=\"Linux libertine\" font-size=\"10.00\">output: </text>\n<polygon fill=\"none\" stroke=\"black\" points=\"115.5,-224 115.5,-245 156.5,-245 156.5,-224 115.5,-224\"/>\n<text text-anchor=\"start\" x=\"120.5\" y=\"-232\" font-family=\"Linux libertine\" font-size=\"10.00\">(7,) </text>\n</g>\n<!-- 4&#45;&gt;5 -->\n<g id=\"edge5\" class=\"edge\">\n<title>4&#45;&gt;5</title>\n<path fill=\"none\" stroke=\"black\" d=\"M79.5,-301.63C79.5,-293.82 79.5,-284.73 79.5,-276.18\"/>\n<polygon fill=\"black\" stroke=\"black\" points=\"83,-276.16 79.5,-266.16 76,-276.16 83,-276.16\"/>\n</g>\n<!-- 6 -->\n<g id=\"node7\" class=\"node\">\n<title>6</title>\n<polygon fill=\"#c1ffc1\" stroke=\"transparent\" points=\"159,-188 0,-188 0,-146 159,-146 159,-188\"/>\n<polygon fill=\"none\" stroke=\"black\" points=\"0.5,-146 0.5,-188 59.5,-188 59.5,-146 0.5,-146\"/>\n<text text-anchor=\"start\" x=\"5.5\" y=\"-170\" font-family=\"Linux libertine\" font-size=\"10.00\">Identity</text>\n<text text-anchor=\"start\" x=\"8.5\" y=\"-159\" font-family=\"Linux libertine\" font-size=\"10.00\">depth:1</text>\n<polygon fill=\"none\" stroke=\"black\" points=\"59.5,-167 59.5,-188 118.5,-188 118.5,-167 59.5,-167\"/>\n<text text-anchor=\"start\" x=\"70.5\" y=\"-175\" font-family=\"Linux libertine\" font-size=\"10.00\">input:</text>\n<polygon fill=\"none\" stroke=\"black\" points=\"118.5,-167 118.5,-188 159.5,-188 159.5,-167 118.5,-167\"/>\n<text text-anchor=\"start\" x=\"123.5\" y=\"-175\" font-family=\"Linux libertine\" font-size=\"10.00\">(7,) </text>\n<polygon fill=\"none\" stroke=\"black\" points=\"59.5,-146 59.5,-167 118.5,-167 118.5,-146 59.5,-146\"/>\n<text text-anchor=\"start\" x=\"64.5\" y=\"-154\" font-family=\"Linux libertine\" font-size=\"10.00\">output: </text>\n<polygon fill=\"none\" stroke=\"black\" points=\"118.5,-146 118.5,-167 159.5,-167 159.5,-146 118.5,-146\"/>\n<text text-anchor=\"start\" x=\"123.5\" y=\"-154\" font-family=\"Linux libertine\" font-size=\"10.00\">(7,) </text>\n</g>\n<!-- 5&#45;&gt;6 -->\n<g id=\"edge6\" class=\"edge\">\n<title>5&#45;&gt;6</title>\n<path fill=\"none\" stroke=\"black\" d=\"M79.5,-223.63C79.5,-215.82 79.5,-206.73 79.5,-198.18\"/>\n<polygon fill=\"black\" stroke=\"black\" points=\"83,-198.16 79.5,-188.16 76,-198.16 83,-198.16\"/>\n</g>\n<!-- 7 -->\n<g id=\"node8\" class=\"node\">\n<title>7</title>\n<polygon fill=\"#c1ffc1\" stroke=\"transparent\" points=\"156,-110 3,-110 3,-68 156,-68 156,-110\"/>\n<polygon fill=\"none\" stroke=\"black\" points=\"3.5,-68 3.5,-110 56.5,-110 56.5,-68 3.5,-68\"/>\n<text text-anchor=\"start\" x=\"11.5\" y=\"-92\" font-family=\"Linux libertine\" font-size=\"10.00\">Linear</text>\n<text text-anchor=\"start\" x=\"8.5\" y=\"-81\" font-family=\"Linux libertine\" font-size=\"10.00\">depth:1</text>\n<polygon fill=\"none\" stroke=\"black\" points=\"56.5,-89 56.5,-110 115.5,-110 115.5,-89 56.5,-89\"/>\n<text text-anchor=\"start\" x=\"67.5\" y=\"-97\" font-family=\"Linux libertine\" font-size=\"10.00\">input:</text>\n<polygon fill=\"none\" stroke=\"black\" points=\"115.5,-89 115.5,-110 156.5,-110 156.5,-89 115.5,-89\"/>\n<text text-anchor=\"start\" x=\"120.5\" y=\"-97\" font-family=\"Linux libertine\" font-size=\"10.00\">(7,) </text>\n<polygon fill=\"none\" stroke=\"black\" points=\"56.5,-68 56.5,-89 115.5,-89 115.5,-68 56.5,-68\"/>\n<text text-anchor=\"start\" x=\"61.5\" y=\"-76\" font-family=\"Linux libertine\" font-size=\"10.00\">output: </text>\n<polygon fill=\"none\" stroke=\"black\" points=\"115.5,-68 115.5,-89 156.5,-89 156.5,-68 115.5,-68\"/>\n<text text-anchor=\"start\" x=\"120.5\" y=\"-76\" font-family=\"Linux libertine\" font-size=\"10.00\">(2,) </text>\n</g>\n<!-- 6&#45;&gt;7 -->\n<g id=\"edge7\" class=\"edge\">\n<title>6&#45;&gt;7</title>\n<path fill=\"none\" stroke=\"black\" d=\"M79.5,-145.63C79.5,-137.82 79.5,-128.73 79.5,-120.18\"/>\n<polygon fill=\"black\" stroke=\"black\" points=\"83,-120.16 79.5,-110.16 76,-120.16 83,-120.16\"/>\n</g>\n<!-- 8 -->\n<g id=\"node9\" class=\"node\">\n<title>8</title>\n<polygon fill=\"lightyellow\" stroke=\"transparent\" points=\"141.5,-32 17.5,-32 17.5,0 141.5,0 141.5,-32\"/>\n<polygon fill=\"none\" stroke=\"black\" points=\"17.5,0 17.5,-32 106.5,-32 106.5,0 17.5,0\"/>\n<text text-anchor=\"start\" x=\"22.5\" y=\"-19\" font-family=\"Linux libertine\" font-size=\"10.00\">output&#45;tensor</text>\n<text text-anchor=\"start\" x=\"40.5\" y=\"-8\" font-family=\"Linux libertine\" font-size=\"10.00\">depth:0</text>\n<polygon fill=\"none\" stroke=\"black\" points=\"106.5,0 106.5,-32 141.5,-32 141.5,0 106.5,0\"/>\n<text text-anchor=\"start\" x=\"111.5\" y=\"-13.5\" font-family=\"Linux libertine\" font-size=\"10.00\">(2,)</text>\n</g>\n<!-- 7&#45;&gt;8 -->\n<g id=\"edge8\" class=\"edge\">\n<title>7&#45;&gt;8</title>\n<path fill=\"none\" stroke=\"black\" d=\"M79.5,-67.84C79.5,-59.89 79.5,-50.66 79.5,-42.26\"/>\n<polygon fill=\"black\" stroke=\"black\" points=\"83,-42.24 79.5,-32.24 76,-42.24 83,-42.24\"/>\n</g>\n</g>\n</svg>\n",
            "text/plain": [
              "<graphviz.graphs.Digraph at 0x7971ac086260>"
            ]
          },
          "metadata": {},
          "execution_count": 11
        }
      ],
      "source": [
        "model = nn.Sequential(\n",
        "    nn.Linear(8,5),\n",
        "    nn.Sigmoid(),\n",
        "    nn.Linear(5,8),\n",
        "    nn.ReLU(),\n",
        "    nn.Linear(8,7),\n",
        "    nn.Identity(),\n",
        "    nn.Linear(7,2),\n",
        ")\n",
        "model_graph = draw_graph(model, input_size=(8,))\n",
        "model_graph.visual_graph"
      ]
    },
    {
      "cell_type": "markdown",
      "source": [
        "---\n",
        "\n",
        "<center>\n",
        "\n",
        "#### **Wait for Your Instructor to Continue**\n",
        "\n",
        "---"
      ],
      "metadata": {
        "id": "XCjfwEA1QvnG"
      }
    },
    {
      "cell_type": "markdown",
      "source": [
        "<a name=\"p2\"></a>\n",
        "\n",
        "---\n",
        "## **Part 2: The MNIST Dataset**\n",
        "---\n",
        "In this first part, we'll build a deep neural network using the 8 steps you've seen so far on the MNIST datasets.\n",
        "*In this practice together, we will create a neural net that can classify the handwritten digits from this data set.*\n",
        "![handwwritten.png](data:image/png;base64,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)\n",
        "\n",
        "\n",
        "\n"
      ],
      "metadata": {
        "id": "T9jqrSNHVk-r"
      }
    },
    {
      "cell_type": "markdown",
      "source": [
        "#### **Step #1: Import and and split the data into training/testing**\n",
        "\n",
        "\n",
        "**This is completed for you. Just run the code below!**"
      ],
      "metadata": {
        "id": "7yxZpzlyV4QQ"
      }
    },
    {
      "cell_type": "code",
      "source": [
        "# Define the transformations\n",
        "transform = transforms.Compose([\n",
        "    transforms.Resize((28, 28)),\n",
        "    transforms.ToTensor(),\n",
        "    transforms.Normalize((0.1307,), (0.3081,))\n",
        "])\n",
        "\n",
        "# Load the MNIST dataset\n",
        "train_dataset = MNIST(root='./data',\n",
        "                      train=True,\n",
        "                      download=True,\n",
        "                      transform=transform)\n",
        "valid_dataset = MNIST(root='./data',\n",
        "                      train=False,\n",
        "                      download=True,\n",
        "                      transform=transform)\n",
        "\n",
        "# Create the DataLoaders object\n",
        "train_dl = DataLoader(train_dataset, batch_size=64, shuffle=True)\n",
        "valid_dl = DataLoader(valid_dataset, batch_size=64, shuffle=True)\n",
        "dls = DataLoaders(train_dl, valid_dl)\n",
        "\n",
        "# Set the number of images per row and column in the grid\n",
        "n_row = 4\n",
        "n_col = 4\n",
        "\n",
        "# Get a batch of training data\n",
        "images, labels = next(iter(train_dl))\n",
        "\n",
        "# Create a grid of images and labels\n",
        "fig, axs = plt.subplots(n_row, n_col, figsize=(9, 9))\n",
        "for i in range(n_row):\n",
        "    for j in range(n_col):\n",
        "        ax = axs[i, j]\n",
        "        img_idx = i * n_col + j\n",
        "        img = images[img_idx].reshape(28, 28).numpy()  # Reshape the image to 28x28\n",
        "        label = labels[img_idx].item()\n",
        "        ax.imshow(img, cmap='gray')\n",
        "        ax.set_title(f\"Label: {label}\")\n",
        "        ax.axis('off')\n",
        "\n",
        "plt.tight_layout()\n",
        "plt.show()"
      ],
      "metadata": {
        "id": "P_bOS1mHVm-s",
        "colab": {
          "base_uri": "https://localhost:8080/",
          "height": 1000
        },
        "outputId": "3e7c132a-65dd-455b-9256-a51565404ffb"
      },
      "execution_count": 12,
      "outputs": [
        {
          "output_type": "stream",
          "name": "stdout",
          "text": [
            "Downloading http://yann.lecun.com/exdb/mnist/train-images-idx3-ubyte.gz\n",
            "Failed to download (trying next):\n",
            "<urlopen error [SSL: CERTIFICATE_VERIFY_FAILED] certificate verify failed: certificate has expired (_ssl.c:1007)>\n",
            "\n",
            "Downloading https://ossci-datasets.s3.amazonaws.com/mnist/train-images-idx3-ubyte.gz\n",
            "Downloading https://ossci-datasets.s3.amazonaws.com/mnist/train-images-idx3-ubyte.gz to ./data/MNIST/raw/train-images-idx3-ubyte.gz\n"
          ]
        },
        {
          "output_type": "stream",
          "name": "stderr",
          "text": [
            "100%|██████████| 9912422/9912422 [00:00<00:00, 53859990.06it/s]\n"
          ]
        },
        {
          "output_type": "stream",
          "name": "stdout",
          "text": [
            "Extracting ./data/MNIST/raw/train-images-idx3-ubyte.gz to ./data/MNIST/raw\n",
            "\n",
            "Downloading http://yann.lecun.com/exdb/mnist/train-labels-idx1-ubyte.gz\n",
            "Failed to download (trying next):\n",
            "<urlopen error [SSL: CERTIFICATE_VERIFY_FAILED] certificate verify failed: certificate has expired (_ssl.c:1007)>\n",
            "\n",
            "Downloading https://ossci-datasets.s3.amazonaws.com/mnist/train-labels-idx1-ubyte.gz\n",
            "Downloading https://ossci-datasets.s3.amazonaws.com/mnist/train-labels-idx1-ubyte.gz to ./data/MNIST/raw/train-labels-idx1-ubyte.gz\n"
          ]
        },
        {
          "output_type": "stream",
          "name": "stderr",
          "text": [
            "100%|██████████| 28881/28881 [00:00<00:00, 1853900.21it/s]\n"
          ]
        },
        {
          "output_type": "stream",
          "name": "stdout",
          "text": [
            "Extracting ./data/MNIST/raw/train-labels-idx1-ubyte.gz to ./data/MNIST/raw\n",
            "\n",
            "Downloading http://yann.lecun.com/exdb/mnist/t10k-images-idx3-ubyte.gz\n",
            "Failed to download (trying next):\n",
            "<urlopen error [SSL: CERTIFICATE_VERIFY_FAILED] certificate verify failed: certificate has expired (_ssl.c:1007)>\n",
            "\n",
            "Downloading https://ossci-datasets.s3.amazonaws.com/mnist/t10k-images-idx3-ubyte.gz\n",
            "Downloading https://ossci-datasets.s3.amazonaws.com/mnist/t10k-images-idx3-ubyte.gz to ./data/MNIST/raw/t10k-images-idx3-ubyte.gz\n"
          ]
        },
        {
          "output_type": "stream",
          "name": "stderr",
          "text": [
            "100%|██████████| 1648877/1648877 [00:00<00:00, 14693560.09it/s]\n"
          ]
        },
        {
          "output_type": "stream",
          "name": "stdout",
          "text": [
            "Extracting ./data/MNIST/raw/t10k-images-idx3-ubyte.gz to ./data/MNIST/raw\n",
            "\n",
            "Downloading http://yann.lecun.com/exdb/mnist/t10k-labels-idx1-ubyte.gz\n",
            "Failed to download (trying next):\n",
            "<urlopen error [SSL: CERTIFICATE_VERIFY_FAILED] certificate verify failed: certificate has expired (_ssl.c:1007)>\n",
            "\n",
            "Downloading https://ossci-datasets.s3.amazonaws.com/mnist/t10k-labels-idx1-ubyte.gz\n",
            "Downloading https://ossci-datasets.s3.amazonaws.com/mnist/t10k-labels-idx1-ubyte.gz to ./data/MNIST/raw/t10k-labels-idx1-ubyte.gz\n"
          ]
        },
        {
          "output_type": "stream",
          "name": "stderr",
          "text": [
            "100%|██████████| 4542/4542 [00:00<00:00, 10031874.02it/s]"
          ]
        },
        {
          "output_type": "stream",
          "name": "stdout",
          "text": [
            "Extracting ./data/MNIST/raw/t10k-labels-idx1-ubyte.gz to ./data/MNIST/raw\n",
            "\n"
          ]
        },
        {
          "output_type": "stream",
          "name": "stderr",
          "text": [
            "\n"
          ]
        },
        {
          "output_type": "display_data",
          "data": {
            "text/plain": [
              "<Figure size 900x900 with 16 Axes>"
            ],
            "image/png": "[encoded data removed]"
          },
          "metadata": {}
        }
      ]
    },
    {
      "cell_type": "markdown",
      "source": [
        "#### **Step #2: Determine the dimension of the data**\n",
        "\n",
        "In this step, you need to determine if the data needs to be flattened. **Determine the dimension of the data with by inspecting one of the `images`.**\n",
        "\n",
        "Based on the output that you see, for more than two dimensions the data need to be flattened during step #3 (i.e. if your output is `torch.Size([1, 8])` it doesn't need to be flattened, however, if it's `torch.Size([1, 8, 10])` it would need to be flattened)."
      ],
      "metadata": {
        "id": "N9PCCGMhWDGI"
      }
    },
    {
      "cell_type": "code",
      "source": [
        "images[0].shape"
      ],
      "metadata": {
        "id": "Zn2IuijUWH5H",
        "colab": {
          "base_uri": "https://localhost:8080/"
        },
        "outputId": "c6ebf3c2-df61-47d9-cbe9-b4e221c1bfc4"
      },
      "execution_count": 13,
      "outputs": [
        {
          "output_type": "execute_result",
          "data": {
            "text/plain": [
              "torch.Size([1, 28, 28])"
            ]
          },
          "metadata": {},
          "execution_count": 13
        }
      ]
    },
    {
      "cell_type": "markdown",
      "source": [
        "#### **Step #3-6: Building the model**\n",
        "\n",
        "\n",
        "Remember to include the `nn.Flatten()` layer at the beginning. After the input layer, you will add a hidden layer with 128 neurons, then another hidden layer with 64 neurons, followed by an output layer with 10 neurons (for the 10 digits). Both hidden layers will have ReLU activation."
      ],
      "metadata": {
        "id": "Gm54RjNhWXrR"
      }
    },
    {
      "cell_type": "code",
      "source": [
        "# Define the neural network architecture\n",
        "model = nn.Sequential(\n",
        "    nn.Flatten(),\n",
        "    nn.Linear(28*28,128),\n",
        "    nn.ReLU(),\n",
        "    nn.Linear(128,64),\n",
        "    nn.ReLU(),\n",
        "    nn.Linear(64,10)\n",
        ")\n",
        "model_graph = draw_graph(model, input_size= (1, 28,28))\n",
        "model_graph.visual_graph"
      ],
      "metadata": {
        "id": "8WX_aGLaX-JY",
        "colab": {
          "base_uri": "https://localhost:8080/",
          "height": 789
        },
        "outputId": "3a8d7ed9-8ded-452e-c58a-6f3aabda7577"
      },
      "execution_count": 14,
      "outputs": [
        {
          "output_type": "execute_result",
          "data": {
            "image/svg+xml": "<?xml version=\"1.0\" encoding=\"UTF-8\" standalone=\"no\"?>\n<!DOCTYPE svg PUBLIC \"-//W3C//DTD SVG 1.1//EN\"\n \"http://www.w3.org/Graphics/SVG/1.1/DTD/svg11.dtd\">\n<!-- Generated by graphviz version 2.43.0 (0)\n -->\n<!-- Title: model Pages: 1 -->\n<svg width=\"203pt\" height=\"576pt\"\n viewBox=\"0.00 0.00 203.00 576.00\" xmlns=\"http://www.w3.org/2000/svg\" xmlns:xlink=\"http://www.w3.org/1999/xlink\">\n<g id=\"graph0\" class=\"graph\" transform=\"scale(1 1) rotate(0) translate(4 572)\">\n<title>model</title>\n<polygon fill=\"white\" stroke=\"transparent\" points=\"-4,4 -4,-572 199,-572 199,4 -4,4\"/>\n<!-- 0 -->\n<g id=\"node1\" class=\"node\">\n<title>0</title>\n<polygon fill=\"lightyellow\" stroke=\"transparent\" points=\"177.5,-568 17.5,-568 17.5,-536 177.5,-536 177.5,-568\"/>\n<polygon fill=\"none\" stroke=\"black\" points=\"17.5,-536 17.5,-568 100.5,-568 100.5,-536 17.5,-536\"/>\n<text text-anchor=\"start\" x=\"22.5\" y=\"-555\" font-family=\"Linux libertine\" font-size=\"10.00\">input&#45;tensor</text>\n<text text-anchor=\"start\" x=\"37.5\" y=\"-544\" font-family=\"Linux libertine\" font-size=\"10.00\">depth:0</text>\n<polygon fill=\"none\" stroke=\"black\" points=\"100.5,-536 100.5,-568 177.5,-568 177.5,-536 100.5,-536\"/>\n<text text-anchor=\"start\" x=\"105.5\" y=\"-549.5\" font-family=\"Linux libertine\" font-size=\"10.00\">(1, 28, 28)</text>\n</g>\n<!-- 1 -->\n<g id=\"node2\" class=\"node\">\n<title>1</title>\n<polygon fill=\"#c1ffc1\" stroke=\"transparent\" points=\"195,-500 0,-500 0,-458 195,-458 195,-500\"/>\n<polygon fill=\"none\" stroke=\"black\" points=\"0.5,-458 0.5,-500 53.5,-500 53.5,-458 0.5,-458\"/>\n<text text-anchor=\"start\" x=\"5.5\" y=\"-482\" font-family=\"Linux libertine\" font-size=\"10.00\">Flatten</text>\n<text text-anchor=\"start\" x=\"5.5\" y=\"-471\" font-family=\"Linux libertine\" font-size=\"10.00\">depth:1</text>\n<polygon fill=\"none\" stroke=\"black\" points=\"53.5,-479 53.5,-500 112.5,-500 112.5,-479 53.5,-479\"/>\n<text text-anchor=\"start\" x=\"64.5\" y=\"-487\" font-family=\"Linux libertine\" font-size=\"10.00\">input:</text>\n<polygon fill=\"none\" stroke=\"black\" points=\"112.5,-479 112.5,-500 195.5,-500 195.5,-479 112.5,-479\"/>\n<text text-anchor=\"start\" x=\"117.5\" y=\"-487\" font-family=\"Linux libertine\" font-size=\"10.00\">(1, 28, 28) </text>\n<polygon fill=\"none\" stroke=\"black\" points=\"53.5,-458 53.5,-479 112.5,-479 112.5,-458 53.5,-458\"/>\n<text text-anchor=\"start\" x=\"58.5\" y=\"-466\" font-family=\"Linux libertine\" font-size=\"10.00\">output: </text>\n<polygon fill=\"none\" stroke=\"black\" points=\"112.5,-458 112.5,-479 195.5,-479 195.5,-458 112.5,-458\"/>\n<text text-anchor=\"start\" x=\"126.5\" y=\"-466\" font-family=\"Linux libertine\" font-size=\"10.00\">(1, 784) </text>\n</g>\n<!-- 0&#45;&gt;1 -->\n<g id=\"edge1\" class=\"edge\">\n<title>0&#45;&gt;1</title>\n<path fill=\"none\" stroke=\"black\" d=\"M97.5,-535.94C97.5,-528.45 97.5,-519.12 97.5,-510.24\"/>\n<polygon fill=\"black\" stroke=\"black\" points=\"101,-510.16 97.5,-500.16 94,-510.16 101,-510.16\"/>\n</g>\n<!-- 2 -->\n<g id=\"node3\" class=\"node\">\n<title>2</title>\n<polygon fill=\"#c1ffc1\" stroke=\"transparent\" points=\"186,-422 9,-422 9,-380 186,-380 186,-422\"/>\n<polygon fill=\"none\" stroke=\"black\" points=\"9.5,-380 9.5,-422 62.5,-422 62.5,-380 9.5,-380\"/>\n<text text-anchor=\"start\" x=\"17.5\" y=\"-404\" font-family=\"Linux libertine\" font-size=\"10.00\">Linear</text>\n<text text-anchor=\"start\" x=\"14.5\" y=\"-393\" font-family=\"Linux libertine\" font-size=\"10.00\">depth:1</text>\n<polygon fill=\"none\" stroke=\"black\" points=\"62.5,-401 62.5,-422 121.5,-422 121.5,-401 62.5,-401\"/>\n<text text-anchor=\"start\" x=\"73.5\" y=\"-409\" font-family=\"Linux libertine\" font-size=\"10.00\">input:</text>\n<polygon fill=\"none\" stroke=\"black\" points=\"121.5,-401 121.5,-422 186.5,-422 186.5,-401 121.5,-401\"/>\n<text text-anchor=\"start\" x=\"126.5\" y=\"-409\" font-family=\"Linux libertine\" font-size=\"10.00\">(1, 784) </text>\n<polygon fill=\"none\" stroke=\"black\" points=\"62.5,-380 62.5,-401 121.5,-401 121.5,-380 62.5,-380\"/>\n<text text-anchor=\"start\" x=\"67.5\" y=\"-388\" font-family=\"Linux libertine\" font-size=\"10.00\">output: </text>\n<polygon fill=\"none\" stroke=\"black\" points=\"121.5,-380 121.5,-401 186.5,-401 186.5,-380 121.5,-380\"/>\n<text text-anchor=\"start\" x=\"126.5\" y=\"-388\" font-family=\"Linux libertine\" font-size=\"10.00\">(1, 128) </text>\n</g>\n<!-- 1&#45;&gt;2 -->\n<g id=\"edge2\" class=\"edge\">\n<title>1&#45;&gt;2</title>\n<path fill=\"none\" stroke=\"black\" d=\"M97.5,-457.63C97.5,-449.82 97.5,-440.73 97.5,-432.18\"/>\n<polygon fill=\"black\" stroke=\"black\" points=\"101,-432.16 97.5,-422.16 94,-432.16 101,-432.16\"/>\n</g>\n<!-- 3 -->\n<g id=\"node4\" class=\"node\">\n<title>3</title>\n<polygon fill=\"#c1ffc1\" stroke=\"transparent\" points=\"186,-344 9,-344 9,-302 186,-302 186,-344\"/>\n<polygon fill=\"none\" stroke=\"black\" points=\"9.5,-302 9.5,-344 62.5,-344 62.5,-302 9.5,-302\"/>\n<text text-anchor=\"start\" x=\"23.5\" y=\"-326\" font-family=\"Linux libertine\" font-size=\"10.00\">ReLU</text>\n<text text-anchor=\"start\" x=\"14.5\" y=\"-315\" font-family=\"Linux libertine\" font-size=\"10.00\">depth:1</text>\n<polygon fill=\"none\" stroke=\"black\" points=\"62.5,-323 62.5,-344 121.5,-344 121.5,-323 62.5,-323\"/>\n<text text-anchor=\"start\" x=\"73.5\" y=\"-331\" font-family=\"Linux libertine\" font-size=\"10.00\">input:</text>\n<polygon fill=\"none\" stroke=\"black\" points=\"121.5,-323 121.5,-344 186.5,-344 186.5,-323 121.5,-323\"/>\n<text text-anchor=\"start\" x=\"126.5\" y=\"-331\" font-family=\"Linux libertine\" font-size=\"10.00\">(1, 128) </text>\n<polygon fill=\"none\" stroke=\"black\" points=\"62.5,-302 62.5,-323 121.5,-323 121.5,-302 62.5,-302\"/>\n<text text-anchor=\"start\" x=\"67.5\" y=\"-310\" font-family=\"Linux libertine\" font-size=\"10.00\">output: </text>\n<polygon fill=\"none\" stroke=\"black\" points=\"121.5,-302 121.5,-323 186.5,-323 186.5,-302 121.5,-302\"/>\n<text text-anchor=\"start\" x=\"126.5\" y=\"-310\" font-family=\"Linux libertine\" font-size=\"10.00\">(1, 128) </text>\n</g>\n<!-- 2&#45;&gt;3 -->\n<g id=\"edge3\" class=\"edge\">\n<title>2&#45;&gt;3</title>\n<path fill=\"none\" stroke=\"black\" d=\"M97.5,-379.63C97.5,-371.82 97.5,-362.73 97.5,-354.18\"/>\n<polygon fill=\"black\" stroke=\"black\" points=\"101,-354.16 97.5,-344.16 94,-354.16 101,-354.16\"/>\n</g>\n<!-- 4 -->\n<g id=\"node5\" class=\"node\">\n<title>4</title>\n<polygon fill=\"#c1ffc1\" stroke=\"transparent\" points=\"186,-266 9,-266 9,-224 186,-224 186,-266\"/>\n<polygon fill=\"none\" stroke=\"black\" points=\"9.5,-224 9.5,-266 62.5,-266 62.5,-224 9.5,-224\"/>\n<text text-anchor=\"start\" x=\"17.5\" y=\"-248\" font-family=\"Linux libertine\" font-size=\"10.00\">Linear</text>\n<text text-anchor=\"start\" x=\"14.5\" y=\"-237\" font-family=\"Linux libertine\" font-size=\"10.00\">depth:1</text>\n<polygon fill=\"none\" stroke=\"black\" points=\"62.5,-245 62.5,-266 121.5,-266 121.5,-245 62.5,-245\"/>\n<text text-anchor=\"start\" x=\"73.5\" y=\"-253\" font-family=\"Linux libertine\" font-size=\"10.00\">input:</text>\n<polygon fill=\"none\" stroke=\"black\" points=\"121.5,-245 121.5,-266 186.5,-266 186.5,-245 121.5,-245\"/>\n<text text-anchor=\"start\" x=\"126.5\" y=\"-253\" font-family=\"Linux libertine\" font-size=\"10.00\">(1, 128) </text>\n<polygon fill=\"none\" stroke=\"black\" points=\"62.5,-224 62.5,-245 121.5,-245 121.5,-224 62.5,-224\"/>\n<text text-anchor=\"start\" x=\"67.5\" y=\"-232\" font-family=\"Linux libertine\" font-size=\"10.00\">output: </text>\n<polygon fill=\"none\" stroke=\"black\" points=\"121.5,-224 121.5,-245 186.5,-245 186.5,-224 121.5,-224\"/>\n<text text-anchor=\"start\" x=\"129.5\" y=\"-232\" font-family=\"Linux libertine\" font-size=\"10.00\">(1, 64) </text>\n</g>\n<!-- 3&#45;&gt;4 -->\n<g id=\"edge4\" class=\"edge\">\n<title>3&#45;&gt;4</title>\n<path fill=\"none\" stroke=\"black\" d=\"M97.5,-301.63C97.5,-293.82 97.5,-284.73 97.5,-276.18\"/>\n<polygon fill=\"black\" stroke=\"black\" points=\"101,-276.16 97.5,-266.16 94,-276.16 101,-276.16\"/>\n</g>\n<!-- 5 -->\n<g id=\"node6\" class=\"node\">\n<title>5</title>\n<polygon fill=\"#c1ffc1\" stroke=\"transparent\" points=\"183,-188 12,-188 12,-146 183,-146 183,-188\"/>\n<polygon fill=\"none\" stroke=\"black\" points=\"12.5,-146 12.5,-188 65.5,-188 65.5,-146 12.5,-146\"/>\n<text text-anchor=\"start\" x=\"26.5\" y=\"-170\" font-family=\"Linux libertine\" font-size=\"10.00\">ReLU</text>\n<text text-anchor=\"start\" x=\"17.5\" y=\"-159\" font-family=\"Linux libertine\" font-size=\"10.00\">depth:1</text>\n<polygon fill=\"none\" stroke=\"black\" points=\"65.5,-167 65.5,-188 124.5,-188 124.5,-167 65.5,-167\"/>\n<text text-anchor=\"start\" x=\"76.5\" y=\"-175\" font-family=\"Linux libertine\" font-size=\"10.00\">input:</text>\n<polygon fill=\"none\" stroke=\"black\" points=\"124.5,-167 124.5,-188 183.5,-188 183.5,-167 124.5,-167\"/>\n<text text-anchor=\"start\" x=\"129.5\" y=\"-175\" font-family=\"Linux libertine\" font-size=\"10.00\">(1, 64) </text>\n<polygon fill=\"none\" stroke=\"black\" points=\"65.5,-146 65.5,-167 124.5,-167 124.5,-146 65.5,-146\"/>\n<text text-anchor=\"start\" x=\"70.5\" y=\"-154\" font-family=\"Linux libertine\" font-size=\"10.00\">output: </text>\n<polygon fill=\"none\" stroke=\"black\" points=\"124.5,-146 124.5,-167 183.5,-167 183.5,-146 124.5,-146\"/>\n<text text-anchor=\"start\" x=\"129.5\" y=\"-154\" font-family=\"Linux libertine\" font-size=\"10.00\">(1, 64) </text>\n</g>\n<!-- 4&#45;&gt;5 -->\n<g id=\"edge5\" class=\"edge\">\n<title>4&#45;&gt;5</title>\n<path fill=\"none\" stroke=\"black\" d=\"M97.5,-223.63C97.5,-215.82 97.5,-206.73 97.5,-198.18\"/>\n<polygon fill=\"black\" stroke=\"black\" points=\"101,-198.16 97.5,-188.16 94,-198.16 101,-198.16\"/>\n</g>\n<!-- 6 -->\n<g id=\"node7\" class=\"node\">\n<title>6</title>\n<polygon fill=\"#c1ffc1\" stroke=\"transparent\" points=\"183,-110 12,-110 12,-68 183,-68 183,-110\"/>\n<polygon fill=\"none\" stroke=\"black\" points=\"12.5,-68 12.5,-110 65.5,-110 65.5,-68 12.5,-68\"/>\n<text text-anchor=\"start\" x=\"20.5\" y=\"-92\" font-family=\"Linux libertine\" font-size=\"10.00\">Linear</text>\n<text text-anchor=\"start\" x=\"17.5\" y=\"-81\" font-family=\"Linux libertine\" font-size=\"10.00\">depth:1</text>\n<polygon fill=\"none\" stroke=\"black\" points=\"65.5,-89 65.5,-110 124.5,-110 124.5,-89 65.5,-89\"/>\n<text text-anchor=\"start\" x=\"76.5\" y=\"-97\" font-family=\"Linux libertine\" font-size=\"10.00\">input:</text>\n<polygon fill=\"none\" stroke=\"black\" points=\"124.5,-89 124.5,-110 183.5,-110 183.5,-89 124.5,-89\"/>\n<text text-anchor=\"start\" x=\"129.5\" y=\"-97\" font-family=\"Linux libertine\" font-size=\"10.00\">(1, 64) </text>\n<polygon fill=\"none\" stroke=\"black\" points=\"65.5,-68 65.5,-89 124.5,-89 124.5,-68 65.5,-68\"/>\n<text text-anchor=\"start\" x=\"70.5\" y=\"-76\" font-family=\"Linux libertine\" font-size=\"10.00\">output: </text>\n<polygon fill=\"none\" stroke=\"black\" points=\"124.5,-68 124.5,-89 183.5,-89 183.5,-68 124.5,-68\"/>\n<text text-anchor=\"start\" x=\"129.5\" y=\"-76\" font-family=\"Linux libertine\" font-size=\"10.00\">(1, 10) </text>\n</g>\n<!-- 5&#45;&gt;6 -->\n<g id=\"edge6\" class=\"edge\">\n<title>5&#45;&gt;6</title>\n<path fill=\"none\" stroke=\"black\" d=\"M97.5,-145.63C97.5,-137.82 97.5,-128.73 97.5,-120.18\"/>\n<polygon fill=\"black\" stroke=\"black\" points=\"101,-120.16 97.5,-110.16 94,-120.16 101,-120.16\"/>\n</g>\n<!-- 7 -->\n<g id=\"node8\" class=\"node\">\n<title>7</title>\n<polygon fill=\"lightyellow\" stroke=\"transparent\" points=\"168.5,-32 26.5,-32 26.5,0 168.5,0 168.5,-32\"/>\n<polygon fill=\"none\" stroke=\"black\" points=\"26.5,0 26.5,-32 115.5,-32 115.5,0 26.5,0\"/>\n<text text-anchor=\"start\" x=\"31.5\" y=\"-19\" font-family=\"Linux libertine\" font-size=\"10.00\">output&#45;tensor</text>\n<text text-anchor=\"start\" x=\"49.5\" y=\"-8\" font-family=\"Linux libertine\" font-size=\"10.00\">depth:0</text>\n<polygon fill=\"none\" stroke=\"black\" points=\"115.5,0 115.5,-32 168.5,-32 168.5,0 115.5,0\"/>\n<text text-anchor=\"start\" x=\"120.5\" y=\"-13.5\" font-family=\"Linux libertine\" font-size=\"10.00\">(1, 10)</text>\n</g>\n<!-- 6&#45;&gt;7 -->\n<g id=\"edge7\" class=\"edge\">\n<title>6&#45;&gt;7</title>\n<path fill=\"none\" stroke=\"black\" d=\"M97.5,-67.84C97.5,-59.89 97.5,-50.66 97.5,-42.26\"/>\n<polygon fill=\"black\" stroke=\"black\" points=\"101,-42.24 97.5,-32.24 94,-42.24 101,-42.24\"/>\n</g>\n</g>\n</svg>\n",
            "text/plain": [
              "<graphviz.graphs.Digraph at 0x797187f018a0>"
            ]
          },
          "metadata": {},
          "execution_count": 14
        }
      ]
    },
    {
      "cell_type": "markdown",
      "source": [
        "---\n",
        "\n",
        "<center>\n",
        "\n",
        "#### **Wait for Your Instructor to Continue**\n",
        "\n",
        "---"
      ],
      "metadata": {
        "id": "9SoPayLT14Zg"
      }
    },
    {
      "cell_type": "markdown",
      "source": [
        "#### **Step #7: Fit the model**\n",
        "\n",
        "Use the following parameters:\n",
        "\n",
        "* `nn.CrossEntropyLoss()` loss function\n",
        "* accuracy metric\n",
        "* 10 epochs\n",
        "* 0.001 learning rate\n",
        "\n",
        "*Most of the code is given to you.*"
      ],
      "metadata": {
        "id": "5amqSJDgYIFU"
      }
    },
    {
      "cell_type": "code",
      "source": [
        "# Define the loss function\n",
        "loss_func = nn.CrossEntropyLoss() # WRITE YOUR CODE HERE\n",
        "\n",
        "# Create the Learner object\n",
        "learn = Learner(dls, model, loss_func=loss_func, metrics= accuracy)# WRITE YOUR CODE HERE)\n",
        "\n",
        "# Train the model\n",
        "learn.fit(10, lr = 0.001) # WRITE YOUR CODE HERE\n",
        "\n",
        "# Plot the training and validation losses\n",
        "learn.recorder.plot_loss()"
      ],
      "metadata": {
        "id": "r5xUcvXUYbom",
        "colab": {
          "base_uri": "https://localhost:8080/",
          "height": 836
        },
        "outputId": "3967d50a-ae77-4ce2-8829-73769a90502d"
      },
      "execution_count": 16,
      "outputs": [
        {
          "output_type": "display_data",
          "data": {
            "text/plain": [
              "<IPython.core.display.HTML object>"
            ],
            "text/html": [
              "\n",
              "<style>\n",
              "    /* Turns off some styling */\n",
              "    progress {\n",
              "        /* gets rid of default border in Firefox and Opera. */\n",
              "        border: none;\n",
              "        /* Needs to be in here for Safari polyfill so background images work as expected. */\n",
              "        background-size: auto;\n",
              "    }\n",
              "    progress:not([value]), progress:not([value])::-webkit-progress-bar {\n",
              "        background: repeating-linear-gradient(45deg, #7e7e7e, #7e7e7e 10px, #5c5c5c 10px, #5c5c5c 20px);\n",
              "    }\n",
              "    .progress-bar-interrupted, .progress-bar-interrupted::-webkit-progress-bar {\n",
              "        background: #F44336;\n",
              "    }\n",
              "</style>\n"
            ]
          },
          "metadata": {}
        },
        {
          "output_type": "display_data",
          "data": {
            "text/plain": [
              "<IPython.core.display.HTML object>"
            ],
            "text/html": [
              "<table border=\"1\" class=\"dataframe\">\n",
              "  <thead>\n",
              "    <tr style=\"text-align: left;\">\n",
              "      <th>epoch</th>\n",
              "      <th>train_loss</th>\n",
              "      <th>valid_loss</th>\n",
              "      <th>accuracy</th>\n",
              "      <th>time</th>\n",
              "    </tr>\n",
              "  </thead>\n",
              "  <tbody>\n",
              "    <tr>\n",
              "      <td>0</td>\n",
              "      <td>0.069854</td>\n",
              "      <td>0.084962</td>\n",
              "      <td>0.973100</td>\n",
              "      <td>00:25</td>\n",
              "    </tr>\n",
              "    <tr>\n",
              "      <td>1</td>\n",
              "      <td>0.057592</td>\n",
              "      <td>0.075219</td>\n",
              "      <td>0.975200</td>\n",
              "      <td>00:23</td>\n",
              "    </tr>\n",
              "    <tr>\n",
              "      <td>2</td>\n",
              "      <td>0.042665</td>\n",
              "      <td>0.077300</td>\n",
              "      <td>0.977700</td>\n",
              "      <td>00:28</td>\n",
              "    </tr>\n",
              "    <tr>\n",
              "      <td>3</td>\n",
              "      <td>0.040745</td>\n",
              "      <td>0.079518</td>\n",
              "      <td>0.976000</td>\n",
              "      <td>00:23</td>\n",
              "    </tr>\n",
              "    <tr>\n",
              "      <td>4</td>\n",
              "      <td>0.038319</td>\n",
              "      <td>0.095147</td>\n",
              "      <td>0.973700</td>\n",
              "      <td>00:23</td>\n",
              "    </tr>\n",
              "    <tr>\n",
              "      <td>5</td>\n",
              "      <td>0.033843</td>\n",
              "      <td>0.082685</td>\n",
              "      <td>0.976900</td>\n",
              "      <td>00:22</td>\n",
              "    </tr>\n",
              "    <tr>\n",
              "      <td>6</td>\n",
              "      <td>0.021771</td>\n",
              "      <td>0.084396</td>\n",
              "      <td>0.976600</td>\n",
              "      <td>00:24</td>\n",
              "    </tr>\n",
              "    <tr>\n",
              "      <td>7</td>\n",
              "      <td>0.023017</td>\n",
              "      <td>0.088290</td>\n",
              "      <td>0.979400</td>\n",
              "      <td>00:23</td>\n",
              "    </tr>\n",
              "    <tr>\n",
              "      <td>8</td>\n",
              "      <td>0.025170</td>\n",
              "      <td>0.097756</td>\n",
              "      <td>0.976200</td>\n",
              "      <td>00:23</td>\n",
              "    </tr>\n",
              "    <tr>\n",
              "      <td>9</td>\n",
              "      <td>0.016597</td>\n",
              "      <td>0.095402</td>\n",
              "      <td>0.979900</td>\n",
              "      <td>00:24</td>\n",
              "    </tr>\n",
              "  </tbody>\n",
              "</table>"
            ]
          },
          "metadata": {}
        },
        {
          "output_type": "execute_result",
          "data": {
            "text/plain": [
              "<Axes: title={'center': 'learning curve'}, xlabel='steps', ylabel='loss'>"
            ]
          },
          "metadata": {},
          "execution_count": 16
        },
        {
          "output_type": "display_data",
          "data": {
            "text/plain": [
              "<Figure size 640x480 with 1 Axes>"
            ],
            "image/png": "[encoded data removed]"
          },
          "metadata": {}
        }
      ]
    },
    {
      "cell_type": "markdown",
      "source": [
        "#### **Step #8: Evaluate the model**\n",
        "---\n",
        "\n",
        "We can use the `learn.validate` to get the accuracy for the training and validation datasets.\n",
        "\n",
        "**Complete the code below to print the accuracy for the training and validation datasets.**"
      ],
      "metadata": {
        "id": "qrLpLzXCIWIf"
      }
    },
    {
      "cell_type": "code",
      "source": [
        "# Calculate training accuracy\n",
        "train_loss, train_accuracy = learn.validate(dl=train_dl)\n",
        "\n",
        "#train_loss, train_accuracy = learn.validate(dl=train_dl) #FILL IN CODE HERE)\n",
        "print(f\"Training accuracy: {train_accuracy:.6f}\")\n",
        "\n",
        "# Calculate validation accuracy\n",
        "valid_loss, valid_accuracy = learn.validate(dl=valid_dl) #FILL IN CODE HERE)\n",
        "print(f\"Validation accuracy: {valid_accuracy:.6f}\")"
      ],
      "metadata": {
        "id": "YL8VnO4VXOfk",
        "colab": {
          "base_uri": "https://localhost:8080/",
          "height": 53
        },
        "outputId": "b8478c44-2b02-4992-e857-7660145a7183"
      },
      "execution_count": 17,
      "outputs": [
        {
          "output_type": "display_data",
          "data": {
            "text/plain": [
              "<IPython.core.display.HTML object>"
            ],
            "text/html": [
              "\n",
              "<style>\n",
              "    /* Turns off some styling */\n",
              "    progress {\n",
              "        /* gets rid of default border in Firefox and Opera. */\n",
              "        border: none;\n",
              "        /* Needs to be in here for Safari polyfill so background images work as expected. */\n",
              "        background-size: auto;\n",
              "    }\n",
              "    progress:not([value]), progress:not([value])::-webkit-progress-bar {\n",
              "        background: repeating-linear-gradient(45deg, #7e7e7e, #7e7e7e 10px, #5c5c5c 10px, #5c5c5c 20px);\n",
              "    }\n",
              "    .progress-bar-interrupted, .progress-bar-interrupted::-webkit-progress-bar {\n",
              "        background: #F44336;\n",
              "    }\n",
              "</style>\n"
            ]
          },
          "metadata": {}
        },
        {
          "output_type": "display_data",
          "data": {
            "text/plain": [
              "<IPython.core.display.HTML object>"
            ],
            "text/html": []
          },
          "metadata": {}
        },
        {
          "output_type": "stream",
          "name": "stdout",
          "text": [
            "Training accuracy: 0.995850\n"
          ]
        },
        {
          "output_type": "display_data",
          "data": {
            "text/plain": [
              "<IPython.core.display.HTML object>"
            ],
            "text/html": [
              "\n",
              "<style>\n",
              "    /* Turns off some styling */\n",
              "    progress {\n",
              "        /* gets rid of default border in Firefox and Opera. */\n",
              "        border: none;\n",
              "        /* Needs to be in here for Safari polyfill so background images work as expected. */\n",
              "        background-size: auto;\n",
              "    }\n",
              "    progress:not([value]), progress:not([value])::-webkit-progress-bar {\n",
              "        background: repeating-linear-gradient(45deg, #7e7e7e, #7e7e7e 10px, #5c5c5c 10px, #5c5c5c 20px);\n",
              "    }\n",
              "    .progress-bar-interrupted, .progress-bar-interrupted::-webkit-progress-bar {\n",
              "        background: #F44336;\n",
              "    }\n",
              "</style>\n"
            ]
          },
          "metadata": {}
        },
        {
          "output_type": "display_data",
          "data": {
            "text/plain": [
              "<IPython.core.display.HTML object>"
            ],
            "text/html": []
          },
          "metadata": {}
        },
        {
          "output_type": "stream",
          "name": "stdout",
          "text": [
            "Validation accuracy: 0.979900\n"
          ]
        }
      ]
    },
    {
      "cell_type": "markdown",
      "source": [
        "###### *Aside:* This way of printing in Python may be new to you. Here's a quick tutorial.\n",
        "\n",
        " `train_accuracy` is a variable containing the training accuracy value (a float). The expression inside the curly braces `{train_accuracy:.4f}` formats the value of train_accuracy as a floating-point number with 4 decimal places.\n",
        "\n",
        "Here's a breakdown of the formatting:\n",
        "\n",
        "* `train_accuracy` - The variable containing the float value.\n",
        "* `:` - This is used to introduce the format specification.\n",
        "* `.4f` - This is the format specification, where:\n",
        "> * `.` - Indicates that the number should be formatted as a floating-point number.\n",
        "> * `4` - The number of digits after the decimal point.\n",
        "> * `f` - A specifier that denotes the type (float).\n",
        "\n",
        "\n",
        "Here's a simple example to demonstrate the concept:\n",
        "\n",
        "\n",
        "\n",
        " ```\n",
        "a = 3.1415926535\n",
        "b = 1.6180339887\n",
        "print(f\"The value of a is approximately {a:.2f}\")\n",
        "print(f\"The value of b is approximately {b:.3f}\")\n",
        "```\n",
        "\n",
        "Output:\n",
        "\n",
        " ```\n",
        "The value of a is approximately 3.14\n",
        "The value of b is approximately 1.618\n",
        "```\n"
      ],
      "metadata": {
        "id": "-d8y7K2y1U5b"
      }
    },
    {
      "cell_type": "markdown",
      "source": [
        "##### Next, we'll plot the confusion matrix.\n",
        "\n",
        "**This code is provided for you. Run the cell below.**"
      ],
      "metadata": {
        "id": "RkrPCLceDvV5"
      }
    },
    {
      "cell_type": "code",
      "source": [
        "# Get predictions and true labels\n",
        "preds, targs = learn.get_preds()\n",
        "\n",
        "# Convert predictions to class labels\n",
        "pred_labels = torch.argmax(preds, dim=1)\n",
        "\n",
        "# Calculate the confusion matrix\n",
        "cm = confusion_matrix(targs, pred_labels)\n",
        "\n",
        "# Visualize the confusion matrix\n",
        "disp = ConfusionMatrixDisplay(confusion_matrix=cm, display_labels=range(10))\n",
        "fig, ax = plt.subplots(figsize=(10, 10))\n",
        "disp.plot(ax=ax, cmap=plt.cm.Blues, xticks_rotation='vertical')\n",
        "plt.show()"
      ],
      "metadata": {
        "id": "tZ-vIJmlDxqb",
        "colab": {
          "base_uri": "https://localhost:8080/",
          "height": 815
        },
        "outputId": "74ded645-1d74-4291-dd8e-90cd71ffd832"
      },
      "execution_count": 24,
      "outputs": [
        {
          "output_type": "display_data",
          "data": {
            "text/plain": [
              "<IPython.core.display.HTML object>"
            ],
            "text/html": [
              "\n",
              "<style>\n",
              "    /* Turns off some styling */\n",
              "    progress {\n",
              "        /* gets rid of default border in Firefox and Opera. */\n",
              "        border: none;\n",
              "        /* Needs to be in here for Safari polyfill so background images work as expected. */\n",
              "        background-size: auto;\n",
              "    }\n",
              "    progress:not([value]), progress:not([value])::-webkit-progress-bar {\n",
              "        background: repeating-linear-gradient(45deg, #7e7e7e, #7e7e7e 10px, #5c5c5c 10px, #5c5c5c 20px);\n",
              "    }\n",
              "    .progress-bar-interrupted, .progress-bar-interrupted::-webkit-progress-bar {\n",
              "        background: #F44336;\n",
              "    }\n",
              "</style>\n"
            ]
          },
          "metadata": {}
        },
        {
          "output_type": "display_data",
          "data": {
            "text/plain": [
              "<IPython.core.display.HTML object>"
            ],
            "text/html": []
          },
          "metadata": {}
        },
        {
          "output_type": "display_data",
          "data": {
            "text/plain": [
              "<Figure size 1000x1000 with 2 Axes>"
            ],
            "image/png": "[encoded data removed]"
          },
          "metadata": {}
        }
      ]
    },
    {
      "cell_type": "markdown",
      "source": [
        "#### **Step #9: Visualize the model's predictions**\n",
        "---\n",
        "\n",
        "Now, run the code below to make predictions with the model and output its predictions for digits in the test set."
      ],
      "metadata": {
        "id": "IYE9K_eiY700"
      }
    },
    {
      "cell_type": "code",
      "source": [
        "# Set the number of images per row and column in the grid\n",
        "n_row = 4\n",
        "n_col = 4\n",
        "\n",
        "# Get a batch of validation data\n",
        "images, labels = next(iter(valid_dl))\n",
        "\n",
        "# Get model predictions\n",
        "with torch.no_grad():\n",
        "    outputs = model(images)\n",
        "    preds = torch.max(outputs, 1)\n",
        "\n",
        "# Create a grid of images, true labels, and predicted labels\n",
        "fig, axs = plt.subplots(n_row, n_col, figsize=(9, 9))\n",
        "for i in range(n_row):\n",
        "    for j in range(n_col):\n",
        "        ax = axs[i, j]\n",
        "        img_idx = i * n_col + j\n",
        "        img = images[img_idx].reshape(28, 28).numpy()  # Reshape the image to 28x28\n",
        "        true_label = labels[img_idx].item()\n",
        "        pred_label = preds[img_idx].item()\n",
        "        ax.imshow(img, cmap='gray')\n",
        "        ax.set_title(f\"True: {true_label}, Pred: {pred_label}\")\n",
        "        ax.axis('off')\n",
        "\n",
        "plt.tight_layout()\n",
        "plt.show()\n"
      ],
      "metadata": {
        "id": "KQk1yNCSXPFX",
        "colab": {
          "base_uri": "https://localhost:8080/",
          "height": 371
        },
        "outputId": "54ad13a6-cc0c-403a-b95a-e752cbfe5d46"
      },
      "execution_count": 30,
      "outputs": [
        {
          "output_type": "error",
          "ename": "RuntimeError",
          "evalue": "Expected all tensors to be on the same device, but found at least two devices, cuda:0 and cpu! (when checking argument for argument mat1 in method wrapper_CUDA_addmm)",
          "traceback": [
            "\u001b[0;31m---------------------------------------------------------------------------\u001b[0m",
            "\u001b[0;31mRuntimeError\u001b[0m                              Traceback (most recent call last)",
            "\u001b[0;32m<ipython-input-30-76b006f1b941>\u001b[0m in \u001b[0;36m<cell line: 9>\u001b[0;34m()\u001b[0m\n\u001b[1;32m      8\u001b[0m \u001b[0;31m# Get model predictions\u001b[0m\u001b[0;34m\u001b[0m\u001b[0;34m\u001b[0m\u001b[0m\n\u001b[1;32m      9\u001b[0m \u001b[0;32mwith\u001b[0m \u001b[0mtorch\u001b[0m\u001b[0;34m.\u001b[0m\u001b[0mno_grad\u001b[0m\u001b[0;34m(\u001b[0m\u001b[0;34m)\u001b[0m\u001b[0;34m:\u001b[0m\u001b[0;34m\u001b[0m\u001b[0;34m\u001b[0m\u001b[0m\n\u001b[0;32m---> 10\u001b[0;31m     \u001b[0moutputs\u001b[0m \u001b[0;34m=\u001b[0m \u001b[0mmodel\u001b[0m\u001b[0;34m(\u001b[0m\u001b[0mimages\u001b[0m\u001b[0;34m)\u001b[0m\u001b[0;34m\u001b[0m\u001b[0;34m\u001b[0m\u001b[0m\n\u001b[0m\u001b[1;32m     11\u001b[0m     \u001b[0mpreds\u001b[0m \u001b[0;34m=\u001b[0m \u001b[0mtorch\u001b[0m\u001b[0;34m.\u001b[0m\u001b[0mmax\u001b[0m\u001b[0;34m(\u001b[0m\u001b[0moutputs\u001b[0m\u001b[0;34m,\u001b[0m \u001b[0;36m1\u001b[0m\u001b[0;34m)\u001b[0m\u001b[0;34m\u001b[0m\u001b[0;34m\u001b[0m\u001b[0m\n\u001b[1;32m     12\u001b[0m \u001b[0;34m\u001b[0m\u001b[0m\n",
            "\u001b[0;32m/usr/local/lib/python3.10/dist-packages/torch/nn/modules/module.py\u001b[0m in \u001b[0;36m_wrapped_call_impl\u001b[0;34m(self, *args, **kwargs)\u001b[0m\n\u001b[1;32m   1551\u001b[0m             \u001b[0;32mreturn\u001b[0m \u001b[0mself\u001b[0m\u001b[0;34m.\u001b[0m\u001b[0m_compiled_call_impl\u001b[0m\u001b[0;34m(\u001b[0m\u001b[0;34m*\u001b[0m\u001b[0margs\u001b[0m\u001b[0;34m,\u001b[0m \u001b[0;34m**\u001b[0m\u001b[0mkwargs\u001b[0m\u001b[0;34m)\u001b[0m  \u001b[0;31m# type: ignore[misc]\u001b[0m\u001b[0;34m\u001b[0m\u001b[0;34m\u001b[0m\u001b[0m\n\u001b[1;32m   1552\u001b[0m         \u001b[0;32melse\u001b[0m\u001b[0;34m:\u001b[0m\u001b[0;34m\u001b[0m\u001b[0;34m\u001b[0m\u001b[0m\n\u001b[0;32m-> 1553\u001b[0;31m             \u001b[0;32mreturn\u001b[0m \u001b[0mself\u001b[0m\u001b[0;34m.\u001b[0m\u001b[0m_call_impl\u001b[0m\u001b[0;34m(\u001b[0m\u001b[0;34m*\u001b[0m\u001b[0margs\u001b[0m\u001b[0;34m,\u001b[0m \u001b[0;34m**\u001b[0m\u001b[0mkwargs\u001b[0m\u001b[0;34m)\u001b[0m\u001b[0;34m\u001b[0m\u001b[0;34m\u001b[0m\u001b[0m\n\u001b[0m\u001b[1;32m   1554\u001b[0m \u001b[0;34m\u001b[0m\u001b[0m\n\u001b[1;32m   1555\u001b[0m     \u001b[0;32mdef\u001b[0m \u001b[0m_call_impl\u001b[0m\u001b[0;34m(\u001b[0m\u001b[0mself\u001b[0m\u001b[0;34m,\u001b[0m \u001b[0;34m*\u001b[0m\u001b[0margs\u001b[0m\u001b[0;34m,\u001b[0m \u001b[0;34m**\u001b[0m\u001b[0mkwargs\u001b[0m\u001b[0;34m)\u001b[0m\u001b[0;34m:\u001b[0m\u001b[0;34m\u001b[0m\u001b[0;34m\u001b[0m\u001b[0m\n",
            "\u001b[0;32m/usr/local/lib/python3.10/dist-packages/torch/nn/modules/module.py\u001b[0m in \u001b[0;36m_call_impl\u001b[0;34m(self, *args, **kwargs)\u001b[0m\n\u001b[1;32m   1560\u001b[0m                 \u001b[0;32mor\u001b[0m \u001b[0m_global_backward_pre_hooks\u001b[0m \u001b[0;32mor\u001b[0m \u001b[0m_global_backward_hooks\u001b[0m\u001b[0;34m\u001b[0m\u001b[0;34m\u001b[0m\u001b[0m\n\u001b[1;32m   1561\u001b[0m                 or _global_forward_hooks or _global_forward_pre_hooks):\n\u001b[0;32m-> 1562\u001b[0;31m             \u001b[0;32mreturn\u001b[0m \u001b[0mforward_call\u001b[0m\u001b[0;34m(\u001b[0m\u001b[0;34m*\u001b[0m\u001b[0margs\u001b[0m\u001b[0;34m,\u001b[0m \u001b[0;34m**\u001b[0m\u001b[0mkwargs\u001b[0m\u001b[0;34m)\u001b[0m\u001b[0;34m\u001b[0m\u001b[0;34m\u001b[0m\u001b[0m\n\u001b[0m\u001b[1;32m   1563\u001b[0m \u001b[0;34m\u001b[0m\u001b[0m\n\u001b[1;32m   1564\u001b[0m         \u001b[0;32mtry\u001b[0m\u001b[0;34m:\u001b[0m\u001b[0;34m\u001b[0m\u001b[0;34m\u001b[0m\u001b[0m\n",
            "\u001b[0;32m/usr/local/lib/python3.10/dist-packages/torch/nn/modules/container.py\u001b[0m in \u001b[0;36mforward\u001b[0;34m(self, input)\u001b[0m\n\u001b[1;32m    217\u001b[0m     \u001b[0;32mdef\u001b[0m \u001b[0mforward\u001b[0m\u001b[0;34m(\u001b[0m\u001b[0mself\u001b[0m\u001b[0;34m,\u001b[0m \u001b[0minput\u001b[0m\u001b[0;34m)\u001b[0m\u001b[0;34m:\u001b[0m\u001b[0;34m\u001b[0m\u001b[0;34m\u001b[0m\u001b[0m\n\u001b[1;32m    218\u001b[0m         \u001b[0;32mfor\u001b[0m \u001b[0mmodule\u001b[0m \u001b[0;32min\u001b[0m \u001b[0mself\u001b[0m\u001b[0;34m:\u001b[0m\u001b[0;34m\u001b[0m\u001b[0;34m\u001b[0m\u001b[0m\n\u001b[0;32m--> 219\u001b[0;31m             \u001b[0minput\u001b[0m \u001b[0;34m=\u001b[0m \u001b[0mmodule\u001b[0m\u001b[0;34m(\u001b[0m\u001b[0minput\u001b[0m\u001b[0;34m)\u001b[0m\u001b[0;34m\u001b[0m\u001b[0;34m\u001b[0m\u001b[0m\n\u001b[0m\u001b[1;32m    220\u001b[0m         \u001b[0;32mreturn\u001b[0m \u001b[0minput\u001b[0m\u001b[0;34m\u001b[0m\u001b[0;34m\u001b[0m\u001b[0m\n\u001b[1;32m    221\u001b[0m \u001b[0;34m\u001b[0m\u001b[0m\n",
            "\u001b[0;32m/usr/local/lib/python3.10/dist-packages/torch/nn/modules/module.py\u001b[0m in \u001b[0;36m_wrapped_call_impl\u001b[0;34m(self, *args, **kwargs)\u001b[0m\n\u001b[1;32m   1551\u001b[0m             \u001b[0;32mreturn\u001b[0m \u001b[0mself\u001b[0m\u001b[0;34m.\u001b[0m\u001b[0m_compiled_call_impl\u001b[0m\u001b[0;34m(\u001b[0m\u001b[0;34m*\u001b[0m\u001b[0margs\u001b[0m\u001b[0;34m,\u001b[0m \u001b[0;34m**\u001b[0m\u001b[0mkwargs\u001b[0m\u001b[0;34m)\u001b[0m  \u001b[0;31m# type: ignore[misc]\u001b[0m\u001b[0;34m\u001b[0m\u001b[0;34m\u001b[0m\u001b[0m\n\u001b[1;32m   1552\u001b[0m         \u001b[0;32melse\u001b[0m\u001b[0;34m:\u001b[0m\u001b[0;34m\u001b[0m\u001b[0;34m\u001b[0m\u001b[0m\n\u001b[0;32m-> 1553\u001b[0;31m             \u001b[0;32mreturn\u001b[0m \u001b[0mself\u001b[0m\u001b[0;34m.\u001b[0m\u001b[0m_call_impl\u001b[0m\u001b[0;34m(\u001b[0m\u001b[0;34m*\u001b[0m\u001b[0margs\u001b[0m\u001b[0;34m,\u001b[0m \u001b[0;34m**\u001b[0m\u001b[0mkwargs\u001b[0m\u001b[0;34m)\u001b[0m\u001b[0;34m\u001b[0m\u001b[0;34m\u001b[0m\u001b[0m\n\u001b[0m\u001b[1;32m   1554\u001b[0m \u001b[0;34m\u001b[0m\u001b[0m\n\u001b[1;32m   1555\u001b[0m     \u001b[0;32mdef\u001b[0m \u001b[0m_call_impl\u001b[0m\u001b[0;34m(\u001b[0m\u001b[0mself\u001b[0m\u001b[0;34m,\u001b[0m \u001b[0;34m*\u001b[0m\u001b[0margs\u001b[0m\u001b[0;34m,\u001b[0m \u001b[0;34m**\u001b[0m\u001b[0mkwargs\u001b[0m\u001b[0;34m)\u001b[0m\u001b[0;34m:\u001b[0m\u001b[0;34m\u001b[0m\u001b[0;34m\u001b[0m\u001b[0m\n",
            "\u001b[0;32m/usr/local/lib/python3.10/dist-packages/torch/nn/modules/module.py\u001b[0m in \u001b[0;36m_call_impl\u001b[0;34m(self, *args, **kwargs)\u001b[0m\n\u001b[1;32m   1560\u001b[0m                 \u001b[0;32mor\u001b[0m \u001b[0m_global_backward_pre_hooks\u001b[0m \u001b[0;32mor\u001b[0m \u001b[0m_global_backward_hooks\u001b[0m\u001b[0;34m\u001b[0m\u001b[0;34m\u001b[0m\u001b[0m\n\u001b[1;32m   1561\u001b[0m                 or _global_forward_hooks or _global_forward_pre_hooks):\n\u001b[0;32m-> 1562\u001b[0;31m             \u001b[0;32mreturn\u001b[0m \u001b[0mforward_call\u001b[0m\u001b[0;34m(\u001b[0m\u001b[0;34m*\u001b[0m\u001b[0margs\u001b[0m\u001b[0;34m,\u001b[0m \u001b[0;34m**\u001b[0m\u001b[0mkwargs\u001b[0m\u001b[0;34m)\u001b[0m\u001b[0;34m\u001b[0m\u001b[0;34m\u001b[0m\u001b[0m\n\u001b[0m\u001b[1;32m   1563\u001b[0m \u001b[0;34m\u001b[0m\u001b[0m\n\u001b[1;32m   1564\u001b[0m         \u001b[0;32mtry\u001b[0m\u001b[0;34m:\u001b[0m\u001b[0;34m\u001b[0m\u001b[0;34m\u001b[0m\u001b[0m\n",
            "\u001b[0;32m/usr/local/lib/python3.10/dist-packages/torch/nn/modules/linear.py\u001b[0m in \u001b[0;36mforward\u001b[0;34m(self, input)\u001b[0m\n\u001b[1;32m    115\u001b[0m \u001b[0;34m\u001b[0m\u001b[0m\n\u001b[1;32m    116\u001b[0m     \u001b[0;32mdef\u001b[0m \u001b[0mforward\u001b[0m\u001b[0;34m(\u001b[0m\u001b[0mself\u001b[0m\u001b[0;34m,\u001b[0m \u001b[0minput\u001b[0m\u001b[0;34m:\u001b[0m \u001b[0mTensor\u001b[0m\u001b[0;34m)\u001b[0m \u001b[0;34m->\u001b[0m \u001b[0mTensor\u001b[0m\u001b[0;34m:\u001b[0m\u001b[0;34m\u001b[0m\u001b[0;34m\u001b[0m\u001b[0m\n\u001b[0;32m--> 117\u001b[0;31m         \u001b[0;32mreturn\u001b[0m \u001b[0mF\u001b[0m\u001b[0;34m.\u001b[0m\u001b[0mlinear\u001b[0m\u001b[0;34m(\u001b[0m\u001b[0minput\u001b[0m\u001b[0;34m,\u001b[0m \u001b[0mself\u001b[0m\u001b[0;34m.\u001b[0m\u001b[0mweight\u001b[0m\u001b[0;34m,\u001b[0m \u001b[0mself\u001b[0m\u001b[0;34m.\u001b[0m\u001b[0mbias\u001b[0m\u001b[0;34m)\u001b[0m\u001b[0;34m\u001b[0m\u001b[0;34m\u001b[0m\u001b[0m\n\u001b[0m\u001b[1;32m    118\u001b[0m \u001b[0;34m\u001b[0m\u001b[0m\n\u001b[1;32m    119\u001b[0m     \u001b[0;32mdef\u001b[0m \u001b[0mextra_repr\u001b[0m\u001b[0;34m(\u001b[0m\u001b[0mself\u001b[0m\u001b[0;34m)\u001b[0m \u001b[0;34m->\u001b[0m \u001b[0mstr\u001b[0m\u001b[0;34m:\u001b[0m\u001b[0;34m\u001b[0m\u001b[0;34m\u001b[0m\u001b[0m\n",
            "\u001b[0;31mRuntimeError\u001b[0m: Expected all tensors to be on the same device, but found at least two devices, cuda:0 and cpu! (when checking argument for argument mat1 in method wrapper_CUDA_addmm)"
          ]
        }
      ]
    },
    {
      "cell_type": "markdown",
      "source": [
        "---\n",
        "\n",
        "<center>\n",
        "\n",
        "#### **Wait for Your Instructor to Continue**\n",
        "\n",
        "---"
      ],
      "metadata": {
        "id": "eBMmgrauY_x6"
      }
    },
    {
      "cell_type": "markdown",
      "source": [
        "<a name=\"p3\"></a>\n",
        "\n",
        "---\n",
        "## **Part 3: Independent Practice with MNIST**\n",
        "---\n",
        "In this part, we'll build another deep neural network using the 8 steps you've seen so far on the same MNIST dataset.\n"
      ],
      "metadata": {
        "id": "JJ-n_GCHTILK"
      }
    },
    {
      "cell_type": "markdown",
      "source": [
        "#### **Step #1: Import and and split the data into training/testing**\n",
        "\n",
        "\n",
        "**This step was completed in Part 2**"
      ],
      "metadata": {
        "id": "PKNBE69cSgr7"
      }
    },
    {
      "cell_type": "markdown",
      "source": [
        "#### **Step #2: Determine the dimension of the data**\n",
        "\n",
        "**This step was completed in Part 2**"
      ],
      "metadata": {
        "id": "Lf5X5K5uSgr8"
      }
    },
    {
      "cell_type": "code",
      "source": [
        "images[0].shape"
      ],
      "metadata": {
        "id": "sYjgtcNDSgr8"
      },
      "execution_count": null,
      "outputs": []
    },
    {
      "cell_type": "markdown",
      "source": [
        "#### **Step #3-6: Building the model**\n",
        "\n",
        "\n",
        "Remember to include the `nn.Flatten()` layer at the beginning. After the input layer, you will add a hidden layer with 256 neurons, then another hidden layer with 128 neurons, followed by an output layer with 10 neurons (for the 10 digits). The first hidden layer will have Sigmoid activation, and the second hidden layer will have Tanh activation."
      ],
      "metadata": {
        "id": "r7VR0VsNSgr9"
      }
    },
    {
      "cell_type": "code",
      "source": [
        "# Define the neural network architecture\n",
        "model = nn.Sequential(\n",
        "    # ADD YOUR LAYERS HERE\n",
        "    nn.Flatten(),\n",
        "    nn.Linear(28*28,256),\n",
        "    nn.Sigmoid(),\n",
        "    nn.Linear(256,128),\n",
        "    nn.Tanh(),\n",
        "    nn.Linear(128,10)\n",
        ")"
      ],
      "metadata": {
        "id": "yI2tzW8pSgr9"
      },
      "execution_count": null,
      "outputs": []
    },
    {
      "cell_type": "markdown",
      "source": [
        "#### **Step #7: Fit the model**\n",
        "\n",
        "Use the following parameters:\n",
        "\n",
        "* `nn.CrossEntropyLoss()` loss function\n",
        "* accuracy metric\n",
        "* 5 epochs\n",
        "* 0.01 learning rate\n",
        "\n",
        "*Most of the code is given to you.*"
      ],
      "metadata": {
        "id": "JTt-JdA9Sgr9"
      }
    },
    {
      "cell_type": "code",
      "source": [
        "# Define the loss function\n",
        "loss_func = nn.CrossEntropyLoss() # WRITE YOUR CODE HERE\n",
        "\n",
        "# Create the Learner object\n",
        "learn = Learner(dls, model, loss_func=loss_func, metrics= accuracy) # WRITE YOUR CODE HERE)\n",
        "\n",
        "# Train the model\n",
        "learn.fit(5, lr=0.01) # WRITE YOUR CODE HERE)\n",
        "\n",
        "# Plot the training and validation losses\n",
        "learn.recorder.plot_loss()"
      ],
      "metadata": {
        "id": "Ca5CI4PpSgr9"
      },
      "execution_count": null,
      "outputs": []
    },
    {
      "cell_type": "markdown",
      "source": [
        "#### **Step #8: Evaluate the model**\n",
        "\n",
        "\n",
        "We can use the `learn.validate` to get the accuracy for the training and validation datasets.\n",
        "\n",
        "**Complete the code below to print the accuracy for the training and validation datasets.**"
      ],
      "metadata": {
        "id": "QzAlKWFfSgr9"
      }
    },
    {
      "cell_type": "code",
      "source": [
        "# Calculate training accuracy\n",
        "train_loss, train_accuracy = learn.validate(dl=#FILL IN CODE HERE)\n",
        "print(f\"Training accuracy: {train_accuracy:.4f}\")\n",
        "\n",
        "# Calculate validation accuracy\n",
        "valid_loss, valid_accuracy = learn.validate(dl=#FILL IN CODE HERE)\n",
        "print(f\"Validation accuracy: {valid_accuracy:.4f}\")"
      ],
      "metadata": {
        "id": "J_KdMauRSgr9"
      },
      "execution_count": null,
      "outputs": []
    },
    {
      "cell_type": "markdown",
      "source": [
        "###### Next, we'll plot the confusion matrix.\n",
        "\n",
        "**This code is provided for you. Run the cell below.**"
      ],
      "metadata": {
        "id": "UXca1LSgSgr-"
      }
    },
    {
      "cell_type": "code",
      "source": [
        "# Get predictions and true labels\n",
        "preds, targs = learn.get_preds()\n",
        "\n",
        "# Convert predictions to class labels\n",
        "pred_labels = torch.argmax(preds, dim=1)\n",
        "\n",
        "# Calculate the confusion matrix\n",
        "cm = confusion_matrix(targs, pred_labels)\n",
        "\n",
        "# Visualize the confusion matrix\n",
        "disp = ConfusionMatrixDisplay(confusion_matrix=cm, display_labels=range(10))\n",
        "fig, ax = plt.subplots(figsize=(10, 10))\n",
        "disp.plot(ax=ax, cmap=plt.cm.Blues, xticks_rotation='vertical')\n",
        "plt.show()"
      ],
      "metadata": {
        "id": "4BhASmSkSgr-"
      },
      "execution_count": null,
      "outputs": []
    },
    {
      "cell_type": "markdown",
      "source": [
        "#### **Step #9: Visualize the model's predictions**\n",
        "\n",
        "\n",
        "Now, run the code below to make predictions with the model and output its predictions for digits in the test set."
      ],
      "metadata": {
        "id": "o_dDnuEOSgr-"
      }
    },
    {
      "cell_type": "code",
      "source": [
        "# Set the number of images per row and column in the grid\n",
        "n_row = 4\n",
        "n_col = 4\n",
        "\n",
        "# Get a batch of validation data\n",
        "images, labels = next(iter(valid_dl))\n",
        "\n",
        "# Get model predictions\n",
        "with torch.no_grad():\n",
        "    outputs = model(images)\n",
        "_, preds = torch.max(outputs, 1)\n",
        "\n",
        "# Create a grid of images, true labels, and predicted labels\n",
        "fig, axs = plt.subplots(n_row, n_col, figsize=(9, 9))\n",
        "for i in range(n_row):\n",
        "    for j in range(n_col):\n",
        "        ax = axs[i, j]\n",
        "        img_idx = i * n_col + j\n",
        "        img = images[img_idx].reshape(28, 28).numpy()  # Reshape the image to 28x28\n",
        "        true_label = labels[img_idx].item()\n",
        "        pred_label = preds[img_idx].item()\n",
        "        ax.imshow(img, cmap='gray')\n",
        "        ax.set_title(f\"True: {true_label}, Pred: {pred_label}\")\n",
        "        ax.axis('off')\n",
        "\n",
        "plt.tight_layout()\n",
        "plt.show()\n"
      ],
      "metadata": {
        "id": "A9iGPBaGSgr-"
      },
      "execution_count": null,
      "outputs": []
    },
    {
      "cell_type": "markdown",
      "source": [
        "---\n",
        "\n",
        "<center>\n",
        "\n",
        "#### **Wait for Your Instructor to Continue**\n",
        "\n",
        "---"
      ],
      "metadata": {
        "id": "ZBt6ls8KSgr-"
      }
    },
    {
      "cell_type": "markdown",
      "source": [
        "<a name=\"p4\"></a>\n",
        "\n",
        "---\n",
        "## **[OPTIONAL] Part 4: Hyperparameter Tuning**\n",
        "---"
      ],
      "metadata": {
        "id": "9YNYx1klZE3f"
      }
    },
    {
      "cell_type": "markdown",
      "source": [
        "#### **Problem #4.1: Change Learning Rate**\n",
        "\n",
        "\n",
        "Change the learning rate to a few different values and record the accuracy. What do you notice?"
      ],
      "metadata": {
        "id": "Bxjk5O0BUxMy"
      }
    },
    {
      "cell_type": "code",
      "source": [
        "# Define the neural network architecture\n",
        "model = nn.Sequential(\n",
        "    nn.Flatten(),\n",
        "    nn.Linear(28 * 28, 128),\n",
        "    nn.ReLU(),\n",
        "    nn.Linear(128, 64),\n",
        "    nn.ReLU(),\n",
        "    nn.Linear(64, 10)\n",
        ")\n",
        "\n",
        "# Define the loss function\n",
        "loss_func = nn.CrossEntropyLoss()\n",
        "\n",
        "# Create the Learner object\n",
        "learn = Learner(dls, model, loss_func=loss_func, metrics=accuracy)\n",
        "\n",
        "# Train the model\n",
        "learn.fit(10, lr=# FILL IN CODE HERE)\n",
        "\n",
        "# Calculate training accuracy\n",
        "train_loss, train_accuracy = learn.validate(dl=train_dl)\n",
        "print(f\"Training accuracy: {train_accuracy:.4f}\")\n",
        "\n",
        "# Calculate validation accuracy\n",
        "valid_loss, valid_accuracy = learn.validate(dl=valid_dl)\n",
        "print(f\"Validation accuracy: {valid_accuracy:.4f}\")"
      ],
      "metadata": {
        "id": "Gbk-NdrSUxMy"
      },
      "execution_count": null,
      "outputs": []
    },
    {
      "cell_type": "markdown",
      "source": [
        "#### **Problem #4.2: Change Activation Functions**\n",
        "\n",
        "\n",
        "Change the activation functions in the neural network. You can use the following:\n",
        "\n",
        "* `nn.Tanh()`\n",
        "* `nn.Sigmoid()`\n",
        "* `nn.Identity()`\n",
        "\n",
        "What do you notice? How does the accuracy change?\n"
      ],
      "metadata": {
        "id": "PmZ2gdUZUxMz"
      }
    },
    {
      "cell_type": "code",
      "source": [
        "# Define the neural network architecture\n",
        "model = nn.Sequential(\n",
        "    nn.Flatten(),\n",
        "    nn.Linear(28 * 28, 128),\n",
        "    # CHANGE ACTIVATION HERE\n",
        "    nn.Linear(128, 64),\n",
        "    # CHANGE ACTIVATION HERE\n",
        "    nn.Linear(64, 10)\n",
        ")\n",
        "\n",
        "# Define the loss function\n",
        "loss_func = nn.CrossEntropyLoss()\n",
        "\n",
        "# Create the Learner object\n",
        "learn = Learner(dls, model, loss_func=loss_func, metrics=accuracy)\n",
        "\n",
        "# Train the model\n",
        "learn.fit(10, lr=0.001)\n",
        "\n",
        "# Calculate training accuracy\n",
        "train_loss, train_accuracy = learn.validate(dl=train_dl)\n",
        "print(f\"Training accuracy: {train_accuracy:.4f}\")\n",
        "\n",
        "# Calculate validation accuracy\n",
        "valid_loss, valid_accuracy = learn.validate(dl=valid_dl)\n",
        "print(f\"Validation accuracy: {valid_accuracy:.4f}\")"
      ],
      "metadata": {
        "id": "YpZ1GBdNUxMz"
      },
      "execution_count": null,
      "outputs": []
    },
    {
      "cell_type": "markdown",
      "source": [
        "#### **Discuss: Which activation function works best for our model? What is now the accuracy rate using that activation function?**\n"
      ],
      "metadata": {
        "id": "YiZXFK8XUxMz"
      }
    },
    {
      "cell_type": "markdown",
      "source": [
        "\n",
        "#### **Problem #4.3: Change Network Architecture**\n",
        "\n",
        "\n",
        "Another form of hyperparameter tuning is to change the network architecture. Change the number of layers or neurons and record your observations."
      ],
      "metadata": {
        "id": "qp5-KwUTUxMz"
      }
    },
    {
      "cell_type": "code",
      "source": [
        "# Define the neural network architecture\n",
        "model = nn.Sequential(\n",
        "    nn.Flatten(),\n",
        "    nn.Linear(28 * 28, 128),\n",
        "    nn.ReLU(),\n",
        "    nn.Linear(128, 64),\n",
        "    nn.ReLU(),\n",
        "    nn.Linear(64, 10)\n",
        ")\n",
        "\n",
        "# Define the loss function\n",
        "loss_func = nn.CrossEntropyLoss()\n",
        "\n",
        "# Create the Learner object\n",
        "learn = Learner(dls, model, loss_func=loss_func, metrics=accuracy)\n",
        "\n",
        "# Train the model\n",
        "learn.fit(10, lr=0.001)\n",
        "\n",
        "# Calculate training accuracy\n",
        "train_loss, train_accuracy = learn.validate(dl=train_dl)\n",
        "print(f\"Training accuracy: {train_accuracy:.4f}\")\n",
        "\n",
        "# Calculate validation accuracy\n",
        "valid_loss, valid_accuracy = learn.validate(dl=valid_dl)\n",
        "print(f\"Validation accuracy: {valid_accuracy:.4f}\")"
      ],
      "metadata": {
        "id": "yJT_IqPhUxMz"
      },
      "execution_count": null,
      "outputs": []
    },
    {
      "cell_type": "markdown",
      "source": [
        "####**Reflect: What approach will you use to do hyperparameter tuning for your future models? Let us know why in the cell below.**"
      ],
      "metadata": {
        "id": "XuynjXW1UxMz"
      }
    },
    {
      "cell_type": "code",
      "source": [
        "\"\"\"\n",
        "\n",
        "WRITE YOUR ANSWER HERE\n",
        "\n",
        "\"\"\";"
      ],
      "metadata": {
        "id": "7FVuBAHAUxM0"
      },
      "execution_count": null,
      "outputs": []
    },
    {
      "cell_type": "markdown",
      "source": [
        "<a name=\"p5\"></a>\n",
        "\n",
        "---\n",
        "## **Part #5: [ADDITIONAL PRACTICE] Breast Cancer Dataset**\n",
        "---\n",
        "The Breast Cancer Wisconsin (Diagnostic) dataset is a widely used dataset in machine learning for binary classification tasks. It contains features computed from a digitized image of a fine needle aspirate (FNA) of a breast mass. The dataset includes 569 instances, each with 30 numeric, real-valued features. These features describe characteristics of the cell nuclei present in the images, such as texture, radius, perimeter, area, smoothness, compactness, concavity, concave points, symmetry, and fractal dimension.\n",
        "\n",
        "The target variable in this dataset is binary, indicating whether the breast mass is malignant or benign. This dataset is particularly significant in medical diagnostic research and machine learning due to its real-world implications in breast cancer diagnosis. It's an excellent resource for teaching machine learning techniques, especially in the context of binary classification problems.\n",
        "\n",
        "<br>\n",
        "\n",
        "As a reminder, these are the steps for building and training a neural network.\n",
        "\n",
        "1. Import and split the data into a train/test set\n",
        "2. Determine the dimensions of the data\n",
        "3. Initialize the Network Model\n",
        "4. Add an Input layer to the model\n",
        "5. Add the hidden Layers to the model\n",
        "6. Add the output layer\n",
        "7. Fit the model\n",
        "8. Evaluate the model"
      ],
      "metadata": {
        "id": "h5CSLRZP3bWm"
      }
    },
    {
      "cell_type": "markdown",
      "source": [
        "<a name=\"p5.1\"></a>\n",
        "\n",
        "---\n",
        "### **Part 5.1: Loading the Data**\n",
        "---"
      ],
      "metadata": {
        "id": "bKaR132ZRLck"
      }
    },
    {
      "cell_type": "markdown",
      "source": [
        "#### **Problem #5.1.1: Split the data into training and validation datasets.**\n"
      ],
      "metadata": {
        "id": "2FF3JV9f334X"
      }
    },
    {
      "cell_type": "code",
      "source": [
        "data = load_breast_cancer()\n",
        "X = data['data']\n",
        "y = data['target']\n",
        "\n",
        "# Split the data into training and validation sets with a 80/20 split\n",
        "X_train, X_valid, y_train, y_valid = # WRITE YOUR CODE HERE"
      ],
      "metadata": {
        "id": "Bh2RG0MK38jz"
      },
      "execution_count": null,
      "outputs": []
    },
    {
      "cell_type": "markdown",
      "metadata": {
        "id": "kX06cGFqDlI-"
      },
      "source": [
        "#### **Problem #5.1.2: Convert the data to PyTorch tensors.**\n",
        "\n",
        "*Hint*: Remember to unsqueeze `y_train` and `y_valid`.\n",
        "\n"
      ]
    },
    {
      "cell_type": "code",
      "source": [
        "# Convert the numpy arrays to PyTorch tensors with float32 data type\n",
        "X_train = # WRITE YOUR CODE HERE\n",
        "y_train = # WRITE YOUR CODE HERE\n",
        "\n",
        "X_valid = # WRITE YOUR CODE HERE\n",
        "y_valid = # WRITE YOUR CODE HERE"
      ],
      "metadata": {
        "id": "zquwjCR55EaI"
      },
      "execution_count": null,
      "outputs": []
    },
    {
      "cell_type": "markdown",
      "source": [
        "#### **Problem #5.1.3: Define the DataLoaders.**\n",
        "\n",
        "We will provide the code for defining the datasets. Fill in the code below to define each DataLoader and define the DataLoaders object that contains both. Use the following parameters for each DataLoader:\n",
        "\n",
        "* `batch_size=64`\n",
        "* `shuffle=True`"
      ],
      "metadata": {
        "id": "wRkLoO9B5hyT"
      }
    },
    {
      "cell_type": "code",
      "source": [
        "# Create dataset object\n",
        "train_ds = list(zip(X_train, y_train))\n",
        "valid_ds = list(zip(X_valid, y_valid))\n",
        "\n",
        "# Define the DataLoaders\n",
        "train_dl = # WRITE YOUR CODE HERE\n",
        "valid_dl = # WRITE YOUR CODE HERE\n",
        "\n",
        "dls = # WRITE YOUR CODE HERE"
      ],
      "metadata": {
        "id": "yK9jQGWm5sTY"
      },
      "execution_count": null,
      "outputs": []
    },
    {
      "cell_type": "markdown",
      "source": [
        "<a name=\"p5.2\"></a>\n",
        "\n",
        "---\n",
        "###**Part 5.2: Building and Training a Neural Network**\n",
        "---\n",
        "\n",
        "In this part, we will focus on Steps #3 - 6:\n",
        "\n",
        "1. Import and split the data into a train/test set\n",
        "2. Determine the dimensions of the data\n",
        "3. **Initialize the Network Model**\n",
        "4. **Add an Input layer to the model**\n",
        "5. **Add the hidden Layers to the model**\n",
        "6. **Add the output layer**\n",
        "7. Fit the model\n",
        "8. Evaluate the model"
      ],
      "metadata": {
        "id": "ls-3K0ADRY4v"
      }
    },
    {
      "cell_type": "markdown",
      "source": [
        "#### **Steps #3 - 4: Initialize Neural Net and Add Input Layer**\n",
        "\n",
        "Intialize a neural network using `nn.Sequential()` and use `add_module` to add an input layer with input size 30 and output size 12."
      ],
      "metadata": {
        "id": "5pcmcSth6RaZ"
      }
    },
    {
      "cell_type": "code",
      "source": [],
      "metadata": {
        "id": "szPwKsje6Xlr"
      },
      "execution_count": null,
      "outputs": []
    },
    {
      "cell_type": "markdown",
      "source": [
        "#### **Step #5: Add Hidden Layers**\n",
        "\n",
        "Now, add two hidden layers such that:\n",
        "\n",
        "* The first hidden layer should have 12 neurons.\n",
        "* The second hidden layer should have 8 neurons and an output size of 6.\n",
        "* Use ReLU activation functions after each hidden layer."
      ],
      "metadata": {
        "id": "rkwalOuSR6k9"
      }
    },
    {
      "cell_type": "code",
      "source": [],
      "metadata": {
        "id": "L7PEfg3iSIWB"
      },
      "execution_count": null,
      "outputs": []
    },
    {
      "cell_type": "markdown",
      "source": [
        "#### **Step #6: Add Output Layer**\n",
        "\n",
        "\n",
        "Lastly, add an output layer that has 1 output node. This could be used for tasks such as binary classification (0 or 1 output) or regression as we will see. Confirm we've made our model correctly using the `draw_graph` function.\n"
      ],
      "metadata": {
        "id": "GO8LllLTSqUm"
      }
    },
    {
      "cell_type": "code",
      "source": [],
      "metadata": {
        "id": "OCq0AeD3Sq5f"
      },
      "execution_count": null,
      "outputs": []
    },
    {
      "cell_type": "markdown",
      "source": [
        "#### **Step #7: Fit the model**\n",
        "\n",
        "1. Define the loss function. We will use `nn.MSELoss()`.\n",
        "\n",
        "2. Create the `Learner` object. We will use root-mean-squared-error (RMSE) as the metric.\n",
        "\n",
        "3. Fit the model. We will use 10 epochs and a learning rate of `0.001`."
      ],
      "metadata": {
        "id": "Lfl3cBYLT2i6"
      }
    },
    {
      "cell_type": "code",
      "source": [],
      "metadata": {
        "id": "JTbb4qwaT2T3"
      },
      "execution_count": null,
      "outputs": []
    },
    {
      "cell_type": "markdown",
      "metadata": {
        "id": "hYTaAz_lDcN8"
      },
      "source": [
        "#### **Step #8: Evaluate and test the model**\n",
        "\n",
        "After training our models, it's always important to get a sense of how well they've learned. So, let's evaluate and test our model! Specifically, evaluate the model on the test set\n",
        "\n",
        "**Run the code below to perform this step.**\n"
      ]
    },
    {
      "cell_type": "code",
      "source": [
        "# Evaluate the model on the validation set\n",
        "valid_preds, valid_targets = learn.get_preds()\n",
        "rmse_score = rmse(valid_preds, valid_targets)\n",
        "print(\"Validation RMSE:\", rmse_score.item())"
      ],
      "metadata": {
        "id": "sHQuz7Z1UK8A"
      },
      "execution_count": null,
      "outputs": []
    },
    {
      "cell_type": "markdown",
      "metadata": {
        "id": "o0TmnFBqIYaI"
      },
      "source": [
        "<a name=\"p5.3\"></a>\n",
        "\n",
        "---\n",
        "### **Part #5.3: Different Activation Functions**\n",
        "---\n",
        "\n",
        "Now repeat the process above with a neural net of the same shape (number of layers/neurons), but with hidden layer activation function as \"sigmoid\" instead of \"relu\". Part of the challenge here is knowing what to change and what to keep and then fitting it all into the cell below.\n",
        "\n",
        "<br>\n",
        "\n",
        "**NOTE**: This will look like a lot of code, but almost all of it will be identical to what you have done above!"
      ]
    },
    {
      "cell_type": "code",
      "execution_count": null,
      "metadata": {
        "id": "oLymicdRIcH5"
      },
      "outputs": [],
      "source": [
        "# Steps 3 - 6: Building\n",
        "#======================\n",
        "# COMPLETE THE CODE HERE TO BUILD THE NN\n",
        "\n",
        "\n",
        "# Step 7: Fitting\n",
        "#================\n",
        "# COMPLETE THE CODE HERE TO FIT THE NN TO THE TRAINING DATA\n",
        "\n",
        "\n",
        "# Step 8: Evaluating\n",
        "#===================\n",
        "# COMPLETE THE CODE HERE TO EVALUTE AND VISUALIZE THE MODEL"
      ]
    },
    {
      "cell_type": "markdown",
      "source": [
        "<a name=\"p6\"></a>\n",
        "\n",
        "---\n",
        "## **Part 6: [ADDITIONAL PRACTICE] Hyperparameter Tuning**\n",
        "---"
      ],
      "metadata": {
        "id": "k8L7oihtUxMx"
      }
    },
    {
      "cell_type": "markdown",
      "source": [
        "#### **Problem #6.1: Change Learning Rate**\n",
        "\n",
        "\n",
        "Build a neural network with the following architecture:\n",
        "* Input layer with 10 neurons\n",
        "* First hidden layer with 128 neurons, ReLU activation\n",
        "* Second hidden layer with 64 neurons, ReLU activation\n",
        "* Output layer with 10 neurons\n",
        "\n",
        "Change the learning rate to a few different values and record the accuracy. What do you notice?"
      ],
      "metadata": {
        "id": "-sVcOhzVLBBm"
      }
    },
    {
      "cell_type": "code",
      "source": [
        "# Define the neural network architecture\n",
        "model = nn.Sequential(\n",
        "    # COMPLETE THIS CODE\n",
        ")\n",
        "\n",
        "# Define the loss function\n",
        "loss_func = nn.CrossEntropyLoss()\n",
        "\n",
        "# Create the Learner object\n",
        "learn = Learner(dls, model, loss_func=loss_func, metrics=accuracy)\n",
        "\n",
        "# Train the model\n",
        "learn.fit(10, lr=# FILL IN CODE HERE)\n",
        "\n",
        "# Calculate training accuracy\n",
        "train_loss, train_accuracy = learn.validate(dl=train_dl)\n",
        "print(f\"Training accuracy: {train_accuracy:.4f}\")\n",
        "\n",
        "# Calculate validation accuracy\n",
        "valid_loss, valid_accuracy = learn.validate(dl=valid_dl)\n",
        "print(f\"Validation accuracy: {valid_accuracy:.4f}\")"
      ],
      "metadata": {
        "id": "SY4hy2Yxuy9j"
      },
      "execution_count": null,
      "outputs": []
    },
    {
      "cell_type": "markdown",
      "source": [
        "#### **Problem #6.2: Change Activation Functions**\n",
        "\n",
        "Build a neural network with the following architecture:\n",
        "* Input layer with 10 neurons\n",
        "* First hidden layer with 128 neurons\n",
        "* Second hidden layer with 64 neurons\n",
        "* Output layer with 10 neurons\n",
        "\n",
        "Change the activation functions in the neural network. You can use the following:\n",
        "\n",
        "* `nn.Identity()`\n",
        "* `nn.Sigmoid()`\n",
        "\n",
        "What do you notice? How does the accuracy change?\n"
      ],
      "metadata": {
        "id": "HFx7eKsRF1g3"
      }
    },
    {
      "cell_type": "code",
      "source": [
        "# Define the neural network architecture\n",
        "model = nn.Sequential(\n",
        "    # COMPLETE THIS CODE\n",
        ")\n",
        "\n",
        "# Define the loss function\n",
        "loss_func = nn.CrossEntropyLoss()\n",
        "\n",
        "# Create the Learner object\n",
        "learn = Learner(dls, model, loss_func=loss_func, metrics=accuracy)\n",
        "\n",
        "# Train the model\n",
        "learn.fit(10, lr=0.001)\n",
        "\n",
        "# Calculate training accuracy\n",
        "train_loss, train_accuracy = learn.validate(dl=train_dl)\n",
        "print(f\"Training accuracy: {train_accuracy:.4f}\")\n",
        "\n",
        "# Calculate validation accuracy\n",
        "valid_loss, valid_accuracy = learn.validate(dl=valid_dl)\n",
        "print(f\"Validation accuracy: {valid_accuracy:.4f}\")"
      ],
      "metadata": {
        "id": "DpKfkgxFF14X"
      },
      "execution_count": null,
      "outputs": []
    },
    {
      "cell_type": "markdown",
      "source": [
        "#### **Reflect: Which activation function works best for our model? What is now the accuracy rate using that activation function?**\n"
      ],
      "metadata": {
        "id": "I1PriM2fq8lt"
      }
    },
    {
      "cell_type": "markdown",
      "source": [
        "#### **Problem #6.3: Change Network Architecture**\n",
        "\n",
        "\n",
        "Another form of hyperparameter tuning is to change the network architecture. Change the number of layers or neurons and record your observations."
      ],
      "metadata": {
        "id": "khwRVSHaGrug"
      }
    },
    {
      "cell_type": "code",
      "source": [
        "# Define the neural network architecture\n",
        "model = nn.Sequential(\n",
        "    nn.Linear(10, 128),\n",
        "    nn.ReLU(),\n",
        "    nn.Linear(128, 64),\n",
        "    nn.ReLU(),\n",
        "    nn.Linear(64, 10),\n",
        ")\n",
        "\n",
        "# Define the loss function\n",
        "loss_func = nn.CrossEntropyLoss()\n",
        "\n",
        "# Create the Learner object\n",
        "learn = Learner(dls, model, loss_func=loss_func, metrics=accuracy)\n",
        "\n",
        "# Train the model\n",
        "learn.fit(10, lr=0.001)\n",
        "\n",
        "# Calculate training accuracy\n",
        "train_loss, train_accuracy = learn.validate(dl=train_dl)\n",
        "print(f\"Training accuracy: {train_accuracy:.4f}\")\n",
        "\n",
        "# Calculate validation accuracy\n",
        "valid_loss, valid_accuracy = learn.validate(dl=valid_dl)\n",
        "print(f\"Validation accuracy: {valid_accuracy:.4f}\")"
      ],
      "metadata": {
        "id": "7D9u5fVVGrDg"
      },
      "execution_count": null,
      "outputs": []
    },
    {
      "cell_type": "markdown",
      "source": [
        "####**Reflect: What approach will you use to do hyperparameter tuning for your future models? Let us know why in the cell below.**"
      ],
      "metadata": {
        "id": "K24eOJFa_8Fy"
      }
    },
    {
      "cell_type": "code",
      "source": [
        "\"\"\"\n",
        "\n",
        "WRITE YOUR ANSWER HERE\n",
        "\n",
        "\"\"\";"
      ],
      "metadata": {
        "id": "U7GxnWlXAIC2"
      },
      "execution_count": null,
      "outputs": []
    },
    {
      "cell_type": "markdown",
      "source": [
        "# End of Notebook\n",
        "\n",
        "---\n",
        "\n",
        "© 2024 The Coding School, All rights reserved"
      ],
      "metadata": {
        "id": "21uTwbSQMZnJ"
      }
    }
  ]
}