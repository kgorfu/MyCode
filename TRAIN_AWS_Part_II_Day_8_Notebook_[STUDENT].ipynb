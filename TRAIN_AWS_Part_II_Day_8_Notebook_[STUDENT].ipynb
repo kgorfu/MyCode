{
  "nbformat": 4,
  "nbformat_minor": 0,
  "metadata": {
    "colab": {
      "provenance": [],
      "gpuType": "T4",
      "include_colab_link": true
    },
    "kernelspec": {
      "name": "python3",
      "display_name": "Python 3"
    },
    "language_info": {
      "name": "python"
    },
    "accelerator": "GPU"
  },
  "cells": [
    {
      "cell_type": "markdown",
      "metadata": {
        "id": "view-in-github",
        "colab_type": "text"
      },
      "source": [
        "<a href=\"https://colab.research.google.com/github/kgorfu/MyCode/blob/master/TRAIN_AWS_Part_II_Day_8_Notebook_%5BSTUDENT%5D.ipynb\" target=\"_parent\"><img src=\"https://colab.research.google.com/assets/colab-badge.svg\" alt=\"Open In Colab\"/></a>"
      ]
    },
    {
      "cell_type": "markdown",
      "source": [
        "# **Day 8: Embeddings**\n",
        "---\n",
        "\n",
        "### **Description**\n",
        "In today's lab, we have another text classification task, but this time we will be using **embeddings.** For this project, we will be working with a dataset of BBC News articles classified by topic.\n",
        "\n",
        "<br>\n",
        "\n",
        "### **Lab Structure**\n",
        "\n",
        "**Part 1**: [Review](#p1)\n",
        ">\n",
        ">**Part 1.1**: [Tokenization and Vectorization with sklearn](#p1.1)\n",
        ">\n",
        ">**Part 1.2**: [Tokenization and Vectorization with TextDataLoaders](#p1.2)\n",
        "\n",
        "**Part 2**: [Embeddings](#p2)\n",
        "\n",
        "\n",
        "**Part 3**: [News Classification with a Simple Neural Net with Embedding](#p3)\n",
        "\n",
        "**Part 4**: [News Classification with a CNN with Embedding](#p4)\n",
        "\n",
        "**Part 5**: [[ADDITIONAL PRACTICE] Sentiment Analysis with IMDB Movie Review](#p5)\n",
        "\n",
        "<br>\n",
        "\n",
        "### **Goals**\n",
        "By the end of this lab, you will:\n",
        "* Understand how tokenization and vectorization works when using TextDataLoaders\n",
        "* Understand how to apply embedding layers in models.\n",
        "* Compare a fully connected network to a CNN for text classification with embeddings.\n",
        "\n",
        "<br>\n",
        "\n",
        "### **Cheat Sheets**\n",
        "[Natural Language Processing II](https://docs.google.com/document/d/1OoP-sFW6qMk0BzvYMlavgJtiXX9eziTUptlFdzgLfGk/edit)\n",
        "\n",
        "<br>\n",
        "\n",
        "**Before starting, run the code below to import all necessary functions and libraries.**\n"
      ],
      "metadata": {
        "id": "mbZXQ3rA3NwL"
      }
    },
    {
      "cell_type": "code",
      "source": [
        "from sklearn.feature_extraction.text import CountVectorizer\n",
        "from sklearn.model_selection import train_test_split\n",
        "from torch.utils.data import Dataset, DataLoader\n",
        "import warnings\n",
        "warnings.filterwarnings('ignore')\n",
        "import numpy as np\n",
        "import torch\n",
        "import torch.nn as nn\n",
        "import torch.optim as optim\n",
        "import torch.nn.functional as F\n",
        "from fastai.text.all import *\n",
        "\n",
        "device = torch.device(\"cuda\" if torch.cuda.is_available() else \"cpu\") # PyTorch v0.4.0"
      ],
      "metadata": {
        "id": "YAvvLhRIoqYp"
      },
      "execution_count": 1,
      "outputs": []
    },
    {
      "cell_type": "markdown",
      "source": [
        "<a name=\"p1\"></a>\n",
        "\n",
        "---\n",
        "## **Part 1: Review**\n",
        "---\n",
        "\n"
      ],
      "metadata": {
        "id": "BVkHj35fHI8I"
      }
    },
    {
      "cell_type": "markdown",
      "source": [
        "<a name=\"p1.1\"></a>\n",
        "\n",
        "---\n",
        "### **Part 1.1: Tokenization and Vectorization with sklearn**\n",
        "---\n",
        "\n",
        "**Run the cell below to load a simple corpus for us to work with.**"
      ],
      "metadata": {
        "id": "YTqvDkY_HrMF"
      }
    },
    {
      "cell_type": "code",
      "source": [
        "# Define a collection of text documents\n",
        "corpus = [\n",
        "       \"One Cent, Two Cents, Old Cent, New Cent: All About Money (Cat in the Hat's Learning Library\",\n",
        "       \"Inside Your Outside: All About the Human Body (Cat in the Hat's Learning Library)\",\n",
        "       \"Oh, The Things You Can Do That Are Good for You: All About Staying Healthy (Cat in the Hat's Learning Library)\",\n",
        "       \"On Beyond Bugs: All About Insects (Cat in the Hat's Learning Library)\",\n",
        "       \"There's No Place Like Space: All About Our Solar System (Cat in the Hat's Learning Library)\"\n",
        "]"
      ],
      "metadata": {
        "id": "R0mghxBvHI8J"
      },
      "execution_count": 2,
      "outputs": []
    },
    {
      "cell_type": "markdown",
      "source": [
        "#### **Problem #1.1.1: Create a CountVectorizer object**\n",
        "\n"
      ],
      "metadata": {
        "id": "FSG6esqDHI8J"
      }
    },
    {
      "cell_type": "code",
      "source": [
        "vectorizer = CountVectorizer() #FILL IN CODE HERE"
      ],
      "metadata": {
        "id": "FRFEBNhiHI8J"
      },
      "execution_count": 3,
      "outputs": []
    },
    {
      "cell_type": "markdown",
      "source": [
        "#### **Problem #1.1.2: Fit the vectorizer to the corpus**\n",
        "\n"
      ],
      "metadata": {
        "id": "YAT7clzeHI8K"
      }
    },
    {
      "cell_type": "code",
      "source": [
        "vectorizer.fit(corpus)"
      ],
      "metadata": {
        "colab": {
          "base_uri": "https://localhost:8080/",
          "height": 80
        },
        "id": "JpfRM1b6ZBf8",
        "outputId": "50a30710-9269-4f94-84fd-272ce40627fa"
      },
      "execution_count": 4,
      "outputs": [
        {
          "output_type": "execute_result",
          "data": {
            "text/plain": [
              "CountVectorizer()"
            ],
            "text/html": [
              "<style>#sk-container-id-1 {\n",
              "  /* Definition of color scheme common for light and dark mode */\n",
              "  --sklearn-color-text: black;\n",
              "  --sklearn-color-line: gray;\n",
              "  /* Definition of color scheme for unfitted estimators */\n",
              "  --sklearn-color-unfitted-level-0: #fff5e6;\n",
              "  --sklearn-color-unfitted-level-1: #f6e4d2;\n",
              "  --sklearn-color-unfitted-level-2: #ffe0b3;\n",
              "  --sklearn-color-unfitted-level-3: chocolate;\n",
              "  /* Definition of color scheme for fitted estimators */\n",
              "  --sklearn-color-fitted-level-0: #f0f8ff;\n",
              "  --sklearn-color-fitted-level-1: #d4ebff;\n",
              "  --sklearn-color-fitted-level-2: #b3dbfd;\n",
              "  --sklearn-color-fitted-level-3: cornflowerblue;\n",
              "\n",
              "  /* Specific color for light theme */\n",
              "  --sklearn-color-text-on-default-background: var(--sg-text-color, var(--theme-code-foreground, var(--jp-content-font-color1, black)));\n",
              "  --sklearn-color-background: var(--sg-background-color, var(--theme-background, var(--jp-layout-color0, white)));\n",
              "  --sklearn-color-border-box: var(--sg-text-color, var(--theme-code-foreground, var(--jp-content-font-color1, black)));\n",
              "  --sklearn-color-icon: #696969;\n",
              "\n",
              "  @media (prefers-color-scheme: dark) {\n",
              "    /* Redefinition of color scheme for dark theme */\n",
              "    --sklearn-color-text-on-default-background: var(--sg-text-color, var(--theme-code-foreground, var(--jp-content-font-color1, white)));\n",
              "    --sklearn-color-background: var(--sg-background-color, var(--theme-background, var(--jp-layout-color0, #111)));\n",
              "    --sklearn-color-border-box: var(--sg-text-color, var(--theme-code-foreground, var(--jp-content-font-color1, white)));\n",
              "    --sklearn-color-icon: #878787;\n",
              "  }\n",
              "}\n",
              "\n",
              "#sk-container-id-1 {\n",
              "  color: var(--sklearn-color-text);\n",
              "}\n",
              "\n",
              "#sk-container-id-1 pre {\n",
              "  padding: 0;\n",
              "}\n",
              "\n",
              "#sk-container-id-1 input.sk-hidden--visually {\n",
              "  border: 0;\n",
              "  clip: rect(1px 1px 1px 1px);\n",
              "  clip: rect(1px, 1px, 1px, 1px);\n",
              "  height: 1px;\n",
              "  margin: -1px;\n",
              "  overflow: hidden;\n",
              "  padding: 0;\n",
              "  position: absolute;\n",
              "  width: 1px;\n",
              "}\n",
              "\n",
              "#sk-container-id-1 div.sk-dashed-wrapped {\n",
              "  border: 1px dashed var(--sklearn-color-line);\n",
              "  margin: 0 0.4em 0.5em 0.4em;\n",
              "  box-sizing: border-box;\n",
              "  padding-bottom: 0.4em;\n",
              "  background-color: var(--sklearn-color-background);\n",
              "}\n",
              "\n",
              "#sk-container-id-1 div.sk-container {\n",
              "  /* jupyter's `normalize.less` sets `[hidden] { display: none; }`\n",
              "     but bootstrap.min.css set `[hidden] { display: none !important; }`\n",
              "     so we also need the `!important` here to be able to override the\n",
              "     default hidden behavior on the sphinx rendered scikit-learn.org.\n",
              "     See: https://github.com/scikit-learn/scikit-learn/issues/21755 */\n",
              "  display: inline-block !important;\n",
              "  position: relative;\n",
              "}\n",
              "\n",
              "#sk-container-id-1 div.sk-text-repr-fallback {\n",
              "  display: none;\n",
              "}\n",
              "\n",
              "div.sk-parallel-item,\n",
              "div.sk-serial,\n",
              "div.sk-item {\n",
              "  /* draw centered vertical line to link estimators */\n",
              "  background-image: linear-gradient(var(--sklearn-color-text-on-default-background), var(--sklearn-color-text-on-default-background));\n",
              "  background-size: 2px 100%;\n",
              "  background-repeat: no-repeat;\n",
              "  background-position: center center;\n",
              "}\n",
              "\n",
              "/* Parallel-specific style estimator block */\n",
              "\n",
              "#sk-container-id-1 div.sk-parallel-item::after {\n",
              "  content: \"\";\n",
              "  width: 100%;\n",
              "  border-bottom: 2px solid var(--sklearn-color-text-on-default-background);\n",
              "  flex-grow: 1;\n",
              "}\n",
              "\n",
              "#sk-container-id-1 div.sk-parallel {\n",
              "  display: flex;\n",
              "  align-items: stretch;\n",
              "  justify-content: center;\n",
              "  background-color: var(--sklearn-color-background);\n",
              "  position: relative;\n",
              "}\n",
              "\n",
              "#sk-container-id-1 div.sk-parallel-item {\n",
              "  display: flex;\n",
              "  flex-direction: column;\n",
              "}\n",
              "\n",
              "#sk-container-id-1 div.sk-parallel-item:first-child::after {\n",
              "  align-self: flex-end;\n",
              "  width: 50%;\n",
              "}\n",
              "\n",
              "#sk-container-id-1 div.sk-parallel-item:last-child::after {\n",
              "  align-self: flex-start;\n",
              "  width: 50%;\n",
              "}\n",
              "\n",
              "#sk-container-id-1 div.sk-parallel-item:only-child::after {\n",
              "  width: 0;\n",
              "}\n",
              "\n",
              "/* Serial-specific style estimator block */\n",
              "\n",
              "#sk-container-id-1 div.sk-serial {\n",
              "  display: flex;\n",
              "  flex-direction: column;\n",
              "  align-items: center;\n",
              "  background-color: var(--sklearn-color-background);\n",
              "  padding-right: 1em;\n",
              "  padding-left: 1em;\n",
              "}\n",
              "\n",
              "\n",
              "/* Toggleable style: style used for estimator/Pipeline/ColumnTransformer box that is\n",
              "clickable and can be expanded/collapsed.\n",
              "- Pipeline and ColumnTransformer use this feature and define the default style\n",
              "- Estimators will overwrite some part of the style using the `sk-estimator` class\n",
              "*/\n",
              "\n",
              "/* Pipeline and ColumnTransformer style (default) */\n",
              "\n",
              "#sk-container-id-1 div.sk-toggleable {\n",
              "  /* Default theme specific background. It is overwritten whether we have a\n",
              "  specific estimator or a Pipeline/ColumnTransformer */\n",
              "  background-color: var(--sklearn-color-background);\n",
              "}\n",
              "\n",
              "/* Toggleable label */\n",
              "#sk-container-id-1 label.sk-toggleable__label {\n",
              "  cursor: pointer;\n",
              "  display: block;\n",
              "  width: 100%;\n",
              "  margin-bottom: 0;\n",
              "  padding: 0.5em;\n",
              "  box-sizing: border-box;\n",
              "  text-align: center;\n",
              "}\n",
              "\n",
              "#sk-container-id-1 label.sk-toggleable__label-arrow:before {\n",
              "  /* Arrow on the left of the label */\n",
              "  content: \"▸\";\n",
              "  float: left;\n",
              "  margin-right: 0.25em;\n",
              "  color: var(--sklearn-color-icon);\n",
              "}\n",
              "\n",
              "#sk-container-id-1 label.sk-toggleable__label-arrow:hover:before {\n",
              "  color: var(--sklearn-color-text);\n",
              "}\n",
              "\n",
              "/* Toggleable content - dropdown */\n",
              "\n",
              "#sk-container-id-1 div.sk-toggleable__content {\n",
              "  max-height: 0;\n",
              "  max-width: 0;\n",
              "  overflow: hidden;\n",
              "  text-align: left;\n",
              "  /* unfitted */\n",
              "  background-color: var(--sklearn-color-unfitted-level-0);\n",
              "}\n",
              "\n",
              "#sk-container-id-1 div.sk-toggleable__content.fitted {\n",
              "  /* fitted */\n",
              "  background-color: var(--sklearn-color-fitted-level-0);\n",
              "}\n",
              "\n",
              "#sk-container-id-1 div.sk-toggleable__content pre {\n",
              "  margin: 0.2em;\n",
              "  border-radius: 0.25em;\n",
              "  color: var(--sklearn-color-text);\n",
              "  /* unfitted */\n",
              "  background-color: var(--sklearn-color-unfitted-level-0);\n",
              "}\n",
              "\n",
              "#sk-container-id-1 div.sk-toggleable__content.fitted pre {\n",
              "  /* unfitted */\n",
              "  background-color: var(--sklearn-color-fitted-level-0);\n",
              "}\n",
              "\n",
              "#sk-container-id-1 input.sk-toggleable__control:checked~div.sk-toggleable__content {\n",
              "  /* Expand drop-down */\n",
              "  max-height: 200px;\n",
              "  max-width: 100%;\n",
              "  overflow: auto;\n",
              "}\n",
              "\n",
              "#sk-container-id-1 input.sk-toggleable__control:checked~label.sk-toggleable__label-arrow:before {\n",
              "  content: \"▾\";\n",
              "}\n",
              "\n",
              "/* Pipeline/ColumnTransformer-specific style */\n",
              "\n",
              "#sk-container-id-1 div.sk-label input.sk-toggleable__control:checked~label.sk-toggleable__label {\n",
              "  color: var(--sklearn-color-text);\n",
              "  background-color: var(--sklearn-color-unfitted-level-2);\n",
              "}\n",
              "\n",
              "#sk-container-id-1 div.sk-label.fitted input.sk-toggleable__control:checked~label.sk-toggleable__label {\n",
              "  background-color: var(--sklearn-color-fitted-level-2);\n",
              "}\n",
              "\n",
              "/* Estimator-specific style */\n",
              "\n",
              "/* Colorize estimator box */\n",
              "#sk-container-id-1 div.sk-estimator input.sk-toggleable__control:checked~label.sk-toggleable__label {\n",
              "  /* unfitted */\n",
              "  background-color: var(--sklearn-color-unfitted-level-2);\n",
              "}\n",
              "\n",
              "#sk-container-id-1 div.sk-estimator.fitted input.sk-toggleable__control:checked~label.sk-toggleable__label {\n",
              "  /* fitted */\n",
              "  background-color: var(--sklearn-color-fitted-level-2);\n",
              "}\n",
              "\n",
              "#sk-container-id-1 div.sk-label label.sk-toggleable__label,\n",
              "#sk-container-id-1 div.sk-label label {\n",
              "  /* The background is the default theme color */\n",
              "  color: var(--sklearn-color-text-on-default-background);\n",
              "}\n",
              "\n",
              "/* On hover, darken the color of the background */\n",
              "#sk-container-id-1 div.sk-label:hover label.sk-toggleable__label {\n",
              "  color: var(--sklearn-color-text);\n",
              "  background-color: var(--sklearn-color-unfitted-level-2);\n",
              "}\n",
              "\n",
              "/* Label box, darken color on hover, fitted */\n",
              "#sk-container-id-1 div.sk-label.fitted:hover label.sk-toggleable__label.fitted {\n",
              "  color: var(--sklearn-color-text);\n",
              "  background-color: var(--sklearn-color-fitted-level-2);\n",
              "}\n",
              "\n",
              "/* Estimator label */\n",
              "\n",
              "#sk-container-id-1 div.sk-label label {\n",
              "  font-family: monospace;\n",
              "  font-weight: bold;\n",
              "  display: inline-block;\n",
              "  line-height: 1.2em;\n",
              "}\n",
              "\n",
              "#sk-container-id-1 div.sk-label-container {\n",
              "  text-align: center;\n",
              "}\n",
              "\n",
              "/* Estimator-specific */\n",
              "#sk-container-id-1 div.sk-estimator {\n",
              "  font-family: monospace;\n",
              "  border: 1px dotted var(--sklearn-color-border-box);\n",
              "  border-radius: 0.25em;\n",
              "  box-sizing: border-box;\n",
              "  margin-bottom: 0.5em;\n",
              "  /* unfitted */\n",
              "  background-color: var(--sklearn-color-unfitted-level-0);\n",
              "}\n",
              "\n",
              "#sk-container-id-1 div.sk-estimator.fitted {\n",
              "  /* fitted */\n",
              "  background-color: var(--sklearn-color-fitted-level-0);\n",
              "}\n",
              "\n",
              "/* on hover */\n",
              "#sk-container-id-1 div.sk-estimator:hover {\n",
              "  /* unfitted */\n",
              "  background-color: var(--sklearn-color-unfitted-level-2);\n",
              "}\n",
              "\n",
              "#sk-container-id-1 div.sk-estimator.fitted:hover {\n",
              "  /* fitted */\n",
              "  background-color: var(--sklearn-color-fitted-level-2);\n",
              "}\n",
              "\n",
              "/* Specification for estimator info (e.g. \"i\" and \"?\") */\n",
              "\n",
              "/* Common style for \"i\" and \"?\" */\n",
              "\n",
              ".sk-estimator-doc-link,\n",
              "a:link.sk-estimator-doc-link,\n",
              "a:visited.sk-estimator-doc-link {\n",
              "  float: right;\n",
              "  font-size: smaller;\n",
              "  line-height: 1em;\n",
              "  font-family: monospace;\n",
              "  background-color: var(--sklearn-color-background);\n",
              "  border-radius: 1em;\n",
              "  height: 1em;\n",
              "  width: 1em;\n",
              "  text-decoration: none !important;\n",
              "  margin-left: 1ex;\n",
              "  /* unfitted */\n",
              "  border: var(--sklearn-color-unfitted-level-1) 1pt solid;\n",
              "  color: var(--sklearn-color-unfitted-level-1);\n",
              "}\n",
              "\n",
              ".sk-estimator-doc-link.fitted,\n",
              "a:link.sk-estimator-doc-link.fitted,\n",
              "a:visited.sk-estimator-doc-link.fitted {\n",
              "  /* fitted */\n",
              "  border: var(--sklearn-color-fitted-level-1) 1pt solid;\n",
              "  color: var(--sklearn-color-fitted-level-1);\n",
              "}\n",
              "\n",
              "/* On hover */\n",
              "div.sk-estimator:hover .sk-estimator-doc-link:hover,\n",
              ".sk-estimator-doc-link:hover,\n",
              "div.sk-label-container:hover .sk-estimator-doc-link:hover,\n",
              ".sk-estimator-doc-link:hover {\n",
              "  /* unfitted */\n",
              "  background-color: var(--sklearn-color-unfitted-level-3);\n",
              "  color: var(--sklearn-color-background);\n",
              "  text-decoration: none;\n",
              "}\n",
              "\n",
              "div.sk-estimator.fitted:hover .sk-estimator-doc-link.fitted:hover,\n",
              ".sk-estimator-doc-link.fitted:hover,\n",
              "div.sk-label-container:hover .sk-estimator-doc-link.fitted:hover,\n",
              ".sk-estimator-doc-link.fitted:hover {\n",
              "  /* fitted */\n",
              "  background-color: var(--sklearn-color-fitted-level-3);\n",
              "  color: var(--sklearn-color-background);\n",
              "  text-decoration: none;\n",
              "}\n",
              "\n",
              "/* Span, style for the box shown on hovering the info icon */\n",
              ".sk-estimator-doc-link span {\n",
              "  display: none;\n",
              "  z-index: 9999;\n",
              "  position: relative;\n",
              "  font-weight: normal;\n",
              "  right: .2ex;\n",
              "  padding: .5ex;\n",
              "  margin: .5ex;\n",
              "  width: min-content;\n",
              "  min-width: 20ex;\n",
              "  max-width: 50ex;\n",
              "  color: var(--sklearn-color-text);\n",
              "  box-shadow: 2pt 2pt 4pt #999;\n",
              "  /* unfitted */\n",
              "  background: var(--sklearn-color-unfitted-level-0);\n",
              "  border: .5pt solid var(--sklearn-color-unfitted-level-3);\n",
              "}\n",
              "\n",
              ".sk-estimator-doc-link.fitted span {\n",
              "  /* fitted */\n",
              "  background: var(--sklearn-color-fitted-level-0);\n",
              "  border: var(--sklearn-color-fitted-level-3);\n",
              "}\n",
              "\n",
              ".sk-estimator-doc-link:hover span {\n",
              "  display: block;\n",
              "}\n",
              "\n",
              "/* \"?\"-specific style due to the `<a>` HTML tag */\n",
              "\n",
              "#sk-container-id-1 a.estimator_doc_link {\n",
              "  float: right;\n",
              "  font-size: 1rem;\n",
              "  line-height: 1em;\n",
              "  font-family: monospace;\n",
              "  background-color: var(--sklearn-color-background);\n",
              "  border-radius: 1rem;\n",
              "  height: 1rem;\n",
              "  width: 1rem;\n",
              "  text-decoration: none;\n",
              "  /* unfitted */\n",
              "  color: var(--sklearn-color-unfitted-level-1);\n",
              "  border: var(--sklearn-color-unfitted-level-1) 1pt solid;\n",
              "}\n",
              "\n",
              "#sk-container-id-1 a.estimator_doc_link.fitted {\n",
              "  /* fitted */\n",
              "  border: var(--sklearn-color-fitted-level-1) 1pt solid;\n",
              "  color: var(--sklearn-color-fitted-level-1);\n",
              "}\n",
              "\n",
              "/* On hover */\n",
              "#sk-container-id-1 a.estimator_doc_link:hover {\n",
              "  /* unfitted */\n",
              "  background-color: var(--sklearn-color-unfitted-level-3);\n",
              "  color: var(--sklearn-color-background);\n",
              "  text-decoration: none;\n",
              "}\n",
              "\n",
              "#sk-container-id-1 a.estimator_doc_link.fitted:hover {\n",
              "  /* fitted */\n",
              "  background-color: var(--sklearn-color-fitted-level-3);\n",
              "}\n",
              "</style><div id=\"sk-container-id-1\" class=\"sk-top-container\"><div class=\"sk-text-repr-fallback\"><pre>CountVectorizer()</pre><b>In a Jupyter environment, please rerun this cell to show the HTML representation or trust the notebook. <br />On GitHub, the HTML representation is unable to render, please try loading this page with nbviewer.org.</b></div><div class=\"sk-container\" hidden><div class=\"sk-item\"><div class=\"sk-estimator fitted sk-toggleable\"><input class=\"sk-toggleable__control sk-hidden--visually\" id=\"sk-estimator-id-1\" type=\"checkbox\" checked><label for=\"sk-estimator-id-1\" class=\"sk-toggleable__label fitted sk-toggleable__label-arrow fitted\">&nbsp;&nbsp;CountVectorizer<a class=\"sk-estimator-doc-link fitted\" rel=\"noreferrer\" target=\"_blank\" href=\"https://scikit-learn.org/1.5/modules/generated/sklearn.feature_extraction.text.CountVectorizer.html\">?<span>Documentation for CountVectorizer</span></a><span class=\"sk-estimator-doc-link fitted\">i<span>Fitted</span></span></label><div class=\"sk-toggleable__content fitted\"><pre>CountVectorizer()</pre></div> </div></div></div></div>"
            ]
          },
          "metadata": {},
          "execution_count": 4
        }
      ]
    },
    {
      "cell_type": "markdown",
      "source": [
        "#### **Problem #1.1.3: Transform the corpus into a matrix of token counts**\n",
        "\n"
      ],
      "metadata": {
        "id": "Z8arRrHDHI8K"
      }
    },
    {
      "cell_type": "code",
      "source": [
        "# Transform the corpus into a matrix of token counts\n",
        "# WRITE YOUR CODE HERE\n",
        "X = vectorizer.transform(corpus)\n",
        "# Print the resulting matrix\n",
        "print(X.toarray())"
      ],
      "metadata": {
        "id": "sQXkSV0nH-Un",
        "colab": {
          "base_uri": "https://localhost:8080/"
        },
        "outputId": "02ea972d-0553-43eb-b9b5-ae364bcfd6df"
      },
      "execution_count": 5,
      "outputs": [
        {
          "output_type": "stream",
          "name": "stdout",
          "text": [
            "[[1 1 0 0 0 0 0 1 3 1 0 0 0 1 0 0 1 0 0 1 1 0 1 1 0 0 1 0 1 0 0 0 0 0 0 0\n",
            "  0 1 0 0 1 0 0]\n",
            " [1 1 0 0 1 0 0 1 0 0 0 0 0 1 0 1 1 0 1 1 1 0 0 0 0 0 0 0 0 0 1 0 0 0 0 0\n",
            "  0 2 0 0 0 0 1]\n",
            " [1 1 1 0 0 0 1 1 0 0 1 1 1 1 1 0 1 0 0 1 1 0 0 0 0 1 0 0 0 0 0 0 0 0 1 0\n",
            "  1 2 0 1 0 2 0]\n",
            " [1 1 0 1 0 1 0 1 0 0 0 0 0 1 0 0 1 1 0 1 1 0 0 0 0 0 0 1 0 0 0 0 0 0 0 0\n",
            "  0 1 0 0 0 0 0]\n",
            " [1 1 0 0 0 0 0 1 0 0 0 0 0 1 0 0 1 0 0 1 1 1 0 0 1 0 0 0 0 1 0 1 1 1 0 1\n",
            "  0 1 1 0 0 0 0]]\n"
          ]
        }
      ]
    },
    {
      "cell_type": "markdown",
      "source": [
        "#### **Problem #1.1.4: Print the tokens**\n",
        "\n",
        "Use `get_feature_names_out()` to print the tokens.\n"
      ],
      "metadata": {
        "id": "97kwXIW6HI8L"
      }
    },
    {
      "cell_type": "code",
      "source": [
        "print(vectorizer.get_feature_names_out())"
      ],
      "metadata": {
        "id": "fo17iHTTHI8L",
        "colab": {
          "base_uri": "https://localhost:8080/"
        },
        "outputId": "2fc963e2-4d5a-4038-cc5a-fb54862f035d"
      },
      "execution_count": 6,
      "outputs": [
        {
          "output_type": "stream",
          "name": "stdout",
          "text": [
            "['about' 'all' 'are' 'beyond' 'body' 'bugs' 'can' 'cat' 'cent' 'cents'\n",
            " 'do' 'for' 'good' 'hat' 'healthy' 'human' 'in' 'insects' 'inside'\n",
            " 'learning' 'library' 'like' 'money' 'new' 'no' 'oh' 'old' 'on' 'one'\n",
            " 'our' 'outside' 'place' 'solar' 'space' 'staying' 'system' 'that' 'the'\n",
            " 'there' 'things' 'two' 'you' 'your']\n"
          ]
        }
      ]
    },
    {
      "cell_type": "markdown",
      "source": [
        "Compare the tokens, the matrix, and the corpus. Do you see how each sentence is represented in the matrix?"
      ],
      "metadata": {
        "id": "4d_cmQjP7xKT"
      }
    },
    {
      "cell_type": "markdown",
      "source": [
        "<a name=\"p1.2\"></a>\n",
        "\n",
        "---\n",
        "### **Part 1.2: Tokenization and Vectorization with TextDataLoaders**\n",
        "---\n",
        "\n",
        "Last time, we learned how to tokenize and vectorize data using `sklearn`'s `CountVectorizer()`. However, we don't always have to do this step manually. When loading data with fast.ai's `TextDataLoaders`, the DataLoader handles the tokenization and vectorization for us. Let's take a look.\n",
        "\n",
        "**Run the code below to load the BBC News data into a pandas DataFrame.**\n"
      ],
      "metadata": {
        "id": "_X9DchFl6uZg"
      }
    },
    {
      "cell_type": "code",
      "source": [
        "dataset = pd.read_csv('https://docs.google.com/spreadsheets/d/e/2PACX-1vRRiQ1DUkUxk31YpaHA2i9QtwGq_VGXiy86z7l3aT9v5zoB6M7a-2M2qlYckr1C_ZG6StBELlU_hD3S/pub?output=csv')"
      ],
      "metadata": {
        "id": "jxb7Iynu6q2a"
      },
      "execution_count": 7,
      "outputs": []
    },
    {
      "cell_type": "markdown",
      "source": [
        "#### **Problem #1.2.1: Load the data using TextDataLoaders**\n",
        "\n",
        "Use the following parameters:\n",
        "* `dataset`\n",
        "* `text_col='text'`\n",
        "* `label_col='category'`\n",
        "* `valid_pct=0.2`\n",
        "* `bs=64`\n",
        "* `seq_len=100`\n"
      ],
      "metadata": {
        "id": "ZZPhj3RW68Kq"
      }
    },
    {
      "cell_type": "code",
      "source": [
        "dls = TextDataLoaders.from_df(\n",
        "    #FILL IN CODE HERE\n",
        "    dataset,\n",
        "    text_col='text',\n",
        "    label_col='category',\n",
        "    valid_pct=0.2,\n",
        "    bs=64,\n",
        "    seq_len=100\n",
        ")"
      ],
      "metadata": {
        "id": "xtKR2kbk8zpw",
        "colab": {
          "base_uri": "https://localhost:8080/",
          "height": 17
        },
        "outputId": "193057c6-b56e-45b5-86f7-08fd5219ad29"
      },
      "execution_count": 8,
      "outputs": [
        {
          "output_type": "display_data",
          "data": {
            "text/plain": [
              "<IPython.core.display.HTML object>"
            ],
            "text/html": [
              "\n",
              "<style>\n",
              "    /* Turns off some styling */\n",
              "    progress {\n",
              "        /* gets rid of default border in Firefox and Opera. */\n",
              "        border: none;\n",
              "        /* Needs to be in here for Safari polyfill so background images work as expected. */\n",
              "        background-size: auto;\n",
              "    }\n",
              "    progress:not([value]), progress:not([value])::-webkit-progress-bar {\n",
              "        background: repeating-linear-gradient(45deg, #7e7e7e, #7e7e7e 10px, #5c5c5c 10px, #5c5c5c 20px);\n",
              "    }\n",
              "    .progress-bar-interrupted, .progress-bar-interrupted::-webkit-progress-bar {\n",
              "        background: #F44336;\n",
              "    }\n",
              "</style>\n"
            ]
          },
          "metadata": {}
        },
        {
          "output_type": "display_data",
          "data": {
            "text/plain": [
              "<IPython.core.display.HTML object>"
            ],
            "text/html": []
          },
          "metadata": {}
        }
      ]
    },
    {
      "cell_type": "markdown",
      "source": [
        "#### **Problem #1.2.2: Print the vocabulary**\n",
        "\n",
        "\n",
        "The `vocab` attribute of the DataLoaders object contains the vocabulary of the data and of the labels.\n",
        "\n",
        "Use the first element of the `vocab` attribute of the DataLoaders object to print the vocabulary of the data."
      ],
      "metadata": {
        "id": "Yt03nQ5Z7D2u"
      }
    },
    {
      "cell_type": "code",
      "source": [
        " print(dls.vocab[0])\n",
        " print(len(dls.vocab[0]))"
      ],
      "metadata": {
        "id": "ISVa9A52832F",
        "colab": {
          "base_uri": "https://localhost:8080/"
        },
        "outputId": "07292ff7-4692-4082-f472-137aa0033720"
      },
      "execution_count": 9,
      "outputs": [
        {
          "output_type": "stream",
          "name": "stdout",
          "text": [
            "['xxunk', 'xxpad', 'xxbos', 'xxeos', 'xxfld', 'xxrep', 'xxwrep', 'xxup', 'xxmaj', 'mr', 'm', 'people', '3', 'new', '£', '0', 't', 'government', 'year', 'uk', 'film', 'best', 'world', 'music', 'labour', 'game', '1', '2', 'election', 'time', 'blair', 'party', 'mobile', 'market', 'like', 'england', 'games', 'years', 'company', 'tv', 'told', '6', 'sales', 'brown', 'technology', 'home', 'win', 'bbc', 'firm', 'says', 'million', 'economy', 'play', 'tax', '2004', 'number', 'public', 'net', 'british', 'digital', 'won', 'use', 'users', 'players', 'set', 'country', 'think', 'wales', 'minister', 'software', 'phone', 'bank', 'good', 'high', 'economic', '4', 'services', 'growth', 'said', 'group', 'club', 'report', 'european', 'howard', 'system', 'video', 'work', 'firms', 'france', '5', 'law', 'information', 'online', 'court', 'ireland', 'way', 'computer', 'radio', 'service', 'prime', 'united', 'going', 'data', 'china', 'day', 'security', 'o', '9', 'campaign', 'awards', 'second', 'want', 'right', 'money', 'big', 'foreign', 'oil', 'countries', 'internet', 'london', 'offer', 'media', 'cup', 'director', 'plans', 'eu', 'e', 'chief', 'anti', 'added', 'award', 'match', 'news', 'prices', 'final', 'month', 'nations', 'd', 'secretary', 've', 'britain', 'spending', 'office', 'rise', 'bill', 'deal', 'legal', 'lord', 'children', 'need', 'microsoft', 'shares', 'industry', '7', 'based', 'months', 'leader', '10', 'pay', 'house', 'player', 'place', 'star', 'state', 'half', 'figures', 'research', 'tory', 'cost', 'chancellor', 'international', 'budget', 'control', 'old', 'increase', 'local', 'analysts', 'team', 'case', 'police', 'season', 'according', 'president', 'financial', 'quarter', 'expected', 'rights', 'broadband', 'week', 'companies', 'come', 'cut', 'scotland', 'interest', 'role', 'access', 'ms', 'films', 'south', 'try', 'life', 'real', 'europe', 'came', 'free', 'issue', 'trade', 'dollar', 'took', 'rate', 'start', 'left', 'tories', 'support', 'women', 'power', 'line', 'playing', 'sale', 'including', 'meeting', 'different', '50', 'series', 'future', 'personal', 'band', 'phones', 'sold', 'political', 'latest', 'making', 'share', 'far', 'injury', '2005', 'men', 'return', 'despite', 'statement', 'claims', 'lead', 'american', 'record', 'december', 'demand', 'search', 'called', 'jobs', 'released', 'coach', 'mail', '25', 'job', 'network', 'help', 'minutes', 'sunday', '2003', 'tony', 'content', 'consumer', 'japan', 'performance', 'man', 'march', 'change', 'website', 'winning', 'price', 'manager', 'point', 'don', 'low', 'war', 'action', 'costs', 'given', 'open', 'rugby', 'title', 'list', 'india', 'played', 'bid', 'current', 'getting', 'chairman', 'head', 'john', 'actor', 'term', 'away', 'act', 'chance', 'problem', 'november', 'wednesday', 'key', 'great', 'williams', 'chelsea', 'found', 'council', 'face', 'plan', 'available', 'fans', 'victory', '100', 'programme', 'february', 'got', 'problems', 'investment', 'needed', 'allow', 'hard', 'announced', 'working', 'today', 'young', 'apple', 'mps', 'members', 'mark', 'monday', 'david', 'yukos', 'hold', 'tuesday', 'thought', 'possible', '15', 'union', 'policy', '11', 'things', 'saturday', 'clear', '18', 'issues', 'vote', 'friday', 'ago', 'web', 'production', 'warned', 'business', 'level', 'cash', 'thing', 'league', 'coming', 'asked', 'weeks', 'end', 'site', 'global', 'album', 'french', 'huge', 'early', 'rates', 'long', 'centre', 'pc', 'small', 'sony', 'little', 'total', 'find', 'continue', 'success', 'human', 'networks', 'buy', 'trying', 'live', 'form', 'beat', 'career', 'forward', 'running', 'result', 'consumers', 'higher', 'health', 'iraq', 'known', 'reports', 'commission', '2001', 'wanted', 'means', 'committee', 'rules', 'g', 'version', 'aid', 'close', 'city', 'single', 'break', 'let', 'song', 'stock', 'agreed', 'main', 'competition', 'development', 'football', 'reported', 'ministers', 'evidence', 'customers', 'lib', '30', 'went', 'seen', 'michael', 'general', 'know', 'sir', 'christmas', 'comes', '40', 'profits', 'book', 'race', 'taking', 'saw', 'hope', 'wants', 'project', 'past', 'short', 'important', 'previous', 'include', 'york', '17', 'liberal', 'recently', 'difficult', 'trial', 'strong', 'showed', 'goal', 'meet', 'led', 'rose', 'ahead', 'held', 'fourth', 'russian', 'event', 'virus', '20', 'popular', 'taken', 'italy', 'september', 'sport', 'likely', 'gaming', 'points', 'jones', 'prize', 'parties', 'sites', 'failed', 'growing', 'spokesman', 'thursday', 'charles', 'choice', 'champion', 'family', 'calls', 'movie', 'dvd', 'fact', 'annual', 'board', 'october', 'co', 'television', 'shows', 'having', 'tour', 'box', 'release', 'mean', 'stop', 'received', 'age', 'liverpool', 'feel', 'test', 'devices', 'debt', 'paid', 'didn', 'better', 'summer', 'boss', 'times', 'conference', '16', 'fall', 'instead', 'arsenal', 'sure', 'late', '13', 'parliament', 'decision', 'actress', 'large', '12', 'launch', 'claim', 'car', 'education', 'attacks', 'giant', 'fell', 'africa', '2002', 'denied', 'changes', 'order', 'boost', 'involved', 'products', 'lot', 'euros', 'australian', 'singer', 'major', 'pressure', 'weekend', 'national', 'black', 'sent', '24', 'paul', 'round', 'olympic', 'run', 'street', 'launched', '14', 'similar', 'love', 'talks', 'needs', 'school', 'range', 'largest', 'lost', 'later', 'position', 'chart', 'oscar', 'irish', 'results', 'remain', 'special', 'cards', 'accused', 'pre', 'manchester', 'association', 'january', 'stars', 'leading', 'senior', 'saying', 'potential', 'ensure', 'gordon', 'believes', 'look', 'idea', 'germany', 'date', '60', 'bit', 'claimed', 'create', 'stage', 'dr', 'voters', 'festival', 'german', 'appeal', 'started', 'official', 'exchange', 'ball', 'hit', 'stand', 'martin', 'provide', '200', 'grand', 'opening', 'hours', 'night', 'independent', 'russia', 'west', 'conservative', 'immigration', 'survey', 'drive', 'makes', 'simply', 'value', 'bt', 'squad', 'executive', 'seven', 'helped', 'hopes', 'turn', 'scottish', 'rock', 'taxes', 'believe', 'bush', 'able', 'proposals', 'comedy', 'speed', 'bring', 'kennedy', 'ban', 'fight', 'sell', 'force', 'university', 'extra', 'systems', '2006', 'press', 'agency', 'period', 'numbers', 'wrong', 'compared', 'gave', 'fraud', 'average', 'standard', 'attack', 'robinson', 'entertainment', 'included', 'private', 'sector', 'speech', 'areas', 'impact', 'admitted', 'workers', 'forced', 'worked', 'tsunami', 'officials', 'charge', 'groups', 'card', 'target', 'investors', 'fund', 'history', 'commons', 'ukip', 'process', 'named', 'community', 'cuts', 'looking', 'department', 'opportunity', 'staff', 'laws', 'happy', 'generation', 'download', 'original', 'view', 'energy', 'charges', 'outside', 'screen', 'bought', 'v', 'concerns', 'drugs', 'poor', 'markets', '8', 'double', 'course', 'smith', 'tough', 'comments', 'takes', 'australia', 'soon', 'newspaper', 'brought', 'june', 'spent', 'turned', 'decided', 'authorities', 'america', 'moment', 'shot', 'windows', 'spam', 'focus', 'bad', 'step', 'particularly', 'area', 'quality', 'member', 'widely', 'speaking', 'shown', 'euro', 'winner', 'remains', 'created', 'hand', '19', 'battle', 'situation', 'lords', 'kilroy', 'lower', 'majority', 'concerned', 'body', 'google', 'audience', 'analyst', 'experience', '22', 'defence', 'challenge', 'civil', 'roddick', 'air', 'april', 'selling', 'message', 'revealed', 'poll', 'schools', 'davis', 'unit', 'levels', 'non', 'confirmed', 'longer', 'story', 'training', 'easy', 'pcs', 'mobiles', '500', 'offered', 'raise', 'signed', 'websites', 'biggest', 'robert', 'cross', 'lives', 'james', 'andy', 'host', 'states', 'stay', 'insisted', 'finance', 'terms', 'trust', 'credit', 'mike', 'mp', 'technologies', 'increased', 'post', 'worth', 'johnson', 'hollywood', 'messages', 'positive', 'debut', 'looked', 'ways', 'track', 'alan', 'spend', 'reached', 'leave', 'critics', 'debate', 'silk', 'file', 'confidence', 'reach', 'earlier', 'risk', 'build', 'indian', 'north', 'fast', 'ray', 'example', 'device', 'captain', 'champions', 'gadget', 'central', 'details', 'account', 'conservatives', 'deutsche', 'millions', 'gone', 'response', 'row', 'care', 'campbell', 'images', 'previously', 'management', 'designed', 'watch', 'banks', 'social', 'looks', 'spain', 'argued', 'favourite', 'white', 'madrid', 'programs', 'profit', 'opposition', 'deficit', 'files', '27', 'followed', 'attempt', 'crime', 'titles', 'computers', 'threat', 'minute', 'trading', 'suggested', 'met', 'figure', 'ceremony', 'east', 'began', 'allowed', 'currently', 'society', 'english', 'nominated', 'probably', 'agreement', 'rival', 'recent', 'ask', 'b', 'songs', 'mini', 'fear', 'felt', 'scheme', 'rest', 'moved', 'death', 'wireless', 'pop', 'blunkett', 'peer', 'organisation', 'protection', 'keen', 'effort', 'income', 'nearly', 'illegal', 'wide', 'individual', 'de', 'hour', 'matter', 'parents', 'nominations', 'domestic', 'light', 'bankruptcy', 'significant', 'person', 'missed', 'politics', 'artists', 'r', 'believed', 'cases', 'thousands', 'voice', 'pair', 'days', 'rule', 'field', 'gold', 'musical', 'machine', 'gadgets', 'winners', 'dropped', 'operating', 'measures', 'picture', 'building', 'category', 'expect', 'premiership', 'program', 'aviator', 'dems', 'giving', 'exports', 'businesses', 'planning', 'programmes', 'cabinet', 'athens', 'magazine', 'confident', 'peter', 'question', 'send', 'judge', 'ruled', 'zealand', 'kelly', 'accounts', '5bn', '21', 'near', 'definition', 'actually', 'sound', 'talk', 'ability', 'machines', 'wins', 'defeat', 'code', 'i', 'democrats', 'successful', 'j', 'written', 'approach', 'asylum', 'concern', 'affected', 'couple', 'maker', 'newcastle', 'predicted', 'clarke', 's', 'portable', '28', 'asia', 'disaster', 'ready', 'golden', 'doubt', 'channel', 'add', 'fox', 'kept', 'leaders', 'fair', 'especially', 'airline', 'loss', 'japanese', 'richard', 'road', 'offering', 'contract', 'shadow', 'thomas', 'camera', 'elections', 'receive', 'certainly', 'goes', 'continued', 'rising', 'suggests', 'particular', 'chinese', 'park', 'penalty', 'theatre', 'raised', 'ex', 'produced', 'experts', 'capital', 'commercial', 'starting', 'described', 'built', 'planned', 'recovery', 'overall', 'controversial', 'federal', 'shareholders', 'present', 'terror', 'criminal', 'backed', 'changed', 'facing', 'died', 'highest', 'faces', 'july', 'appear', 'rejected', 'takeover', 'offers', '80', 'happen', 'criticised', 'drop', 'speculation', 'students', 'daily', 'sign', 'taylor', 'text', 'drama', 'answer', 'seed', 'ferguson', 'august', 'published', 'guilty', 'stake', 'ruling', 'doesn', 'talking', 'policies', 'hands', 'comment', 'happened', 'nintendo', 'george', 'massive', 'product', 'fuel', 'separate', 'following', 'aimed', 'reason', '800', 'indoor', 'follow', 'mind', 'movies', 'producer', 'billion', 'inflation', 'kind', 'joined', 'effect', 'ground', 'understand', 'works', 'protect', 'red', 'standards', 'kick', 'improve', 'considered', 'operators', 'compete', 'fit', 'seconds', 'pretty', 'save', 'progress', 'announcement', 'buying', 'steve', 'developing', 'heart', 'lack', 'supporters', 'finding', 'king', 'powers', 'spanish', 'andrew', 'woman', 'gamers', 'viewers', 'closed', 'voted', 'adding', 'hoping', 'lose', 'meant', 'child', 'spot', '26', 'hits', 'developed', 'retail', 'study', 'tackle', 'missing', 'warning', 'green', 'questions', 'certain', 'leicester', 'singles', 'academy', 'straw', 'slam', 'asian', 'earnings', 'tried', 'affairs', 'introduced', 'stadium', 'mac', 'matches', '45', 'design', 'welsh', 'tournament', 'ipod', 'championships', 'unlikely', 'corporate', '23', 'quickly', 'decisions', 'true', 'review', 'politicians', 'homes', 'showing', 'copies', 'records', 'draw', 'events', 'gerrard', 'fears', 'friends', 'advantage', 'source', 'ended', 'marketing', 'electronics', 'serve', 'language', '1bn', 'paris', 'appeared', 'greater', 'promised', 'gm', 'avoid', 'sports', 'inquiry', 'traffic', 'unveiled', 'pictures', 'vice', 'includes', 'picked', 'efforts', 'fellow', 'sullivan', 'existing', 'limited', 'decide', 'tim', '35', 'common', 'living', 'families', 'straight', 'feature', 'starring', 'hunting', 'xbox', 'suspended', 'refused', '1997', 'direct', 'reform', 'sort', 'gives', 'interested', 'panel', 'relief', 'baby', 'spyware', 'lions', 'property', 'travel', 'suffered', 'lse', 'poverty', 'pensions', 'secure', 'subject', 'moving', 'losing', 'tie', 'jackson', 'dem', 'benefit', 'investigation', 'unemployment', 'increasingly', 'grow', 'proposed', 'middle', 'super', 'faster', 'edinburgh', 'alongside', 'piracy', 'chip', 'oscars', 'cameras', 'manufacturing', 'output', 'damage', 'increasing', '3bn', 'revenue', 'housing', 'chances', 'operations', 'worldwide', 'gets', 'limit', 'minimum', 'putting', 'consider', 'advice', 'tests', 'jamie', 'carry', 'address', 'writing', 'referee', 'orders', 'reduce', '70', '31', 'technical', 'cardiff', 'capacity', 'deliver', 'waiting', 'owned', 'seek', 'strategy', 'store', 'proved', 'targets', 'producers', 'agree', 'sky', 'read', 'console', 'size', 'falling', 'duty', 'auction', 'continuing', 'van', 'helping', 'justice', 'legislation', 'broken', 'simple', 'harry', 'scored', 'viruses', 'slow', 'insurance', 'airlines', 'issued', 'drug', 'estimated', 'responsible', 'driven', 'finished', 'economist', 'makers', 'environment', 'northern', 'gazprom', 'obviously', 'names', 'glazer', 'uses', 'hewitt', 'tennis', 'dominated', 'hoped', 'beginning', 'clearly', 'visitors', 'bigger', 'goals', 'urged', 'places', 'broadcast', 'born', 'inside', 'striker', 'blogs', 'funds', 'index', 'spokeswoman', 'knew', 'cutting', 'morgan', 'benefits', 'favour', 'sides', 'conditions', 'culture', 'simon', 'twice', 'division', 'critical', 'transport', 'democrat', 'features', 'display', 'responsibility', 'fiat', 'birmingham', 'los', 'holmes', 'athletics', 'activity', 'expectations', 'funding', 'fifth', 'morning', 'turkey', 'isn', 'natural', 'gmt', 'produce', 'model', 'gas', 'electronic', 'crucial', 'championship', 'tell', 'cable', 'mourinho', 'victims', '400', 'faced', 'forecast', 'smaller', 'rivals', 'pace', 'stone', 'models', 'replace', 'vital', 'powerful', 'pension', 'continues', 'lee', 'urban', 'editor', 'pass', 'voting', 'brian', 'mails', 'hip', 'san', 'trouble', 'develop', 'decade', 'deputy', 'presented', 'sense', 'projects', 'studios', 'wage', 'sharing', 'paper', 'station', 'terrorism', 'handed', 'milburn', 'user', 'blog', 'leadership', 'executives', 'accept', 'relationship', 'completely', 'nation', 'claiming', 'difference', '4bn', 'caused', 'korea', 'traditional', 'cinema', 'format', 'style', 'interview', 'handsets', 'talent', 'character', 'fi', 'owen', 'chris', 'lawyer', 'questioned', 'boerse', 'food', 'aware', 'trend', 'telephone', 'paying', 'easier', 'space', 'self', 'argentina', 'connection', 'touch', 'finals', 'assets', 'reuters', 'room', 'worst', 'spread', 'officer', 'fly', 'fighting', 'basis', 'population', 'opportunities', 'linked', 'join', 'organisations', 'olympics', 'heard', 'ibm', 'lets', 'downing', 'prince', 'african', 'filed', 'worldcom', 'wasn', 'revenues', 'plays', 'finally', 'word', 'prevent', 'operation', 'interests', 'improving', 'parliamentary', 'visit', 'cause', 'bringing', 'quit', 'strike', 'stephen', 'strength', '300', 'italian', 'books', 'seeing', 'watchdog', 'committed', 'broke', 'accepted', 'suggest', 'dvds', 'greek', 'score', 'nadal', '6bn', 'telecoms', 'ebbers', 'fully', 'ian', 'treasury', 'monthly', 'immediately', 'managed', 'tries', 'tipped', 'storage', 'angeles', 'hop', 'henry', 'kenteris', 'royal', 'amid', 'jump', 'initially', 'seeking', 'glasgow', 'absolutely', 'impressive', 'push', 'surprise', 'fa', 'failing', 'older', 'miss', 'charity', 'teams', 'wrote', 'crowd', 'developers', 'malicious', 'iaaf', 'multimedia', 'views', 'returned', 'fallen', '90', 'chosen', 'israel', 'scott', 'sees', 'savings', 'alleged', 'creating', 'passed', 'grew', 'studio', 'thinking', 'administration', 'rises', 'links', 'words', 'dead', 'carried', 'skills', 'william', 'basic', 'aim', 'material', 'tech', 'behaviour', 'jason', 'steven', 'image', 'lewis', 'increases', 'improved', 'decline', 'expensive', 'follows', 'transfer', '8bn', 'securities', 'highly', 'remained', 'failure', 'land', 'reforms', 'rosneft', 'pledged', 'gain', 'clubs', 'com', 'supporting', 'directors', 'modern', '1998', 'knows', 'fresh', 'queen', 'opera', 'easily', 'versions', 'evening', 'fantastic', 'watching', 'handheld', 'doping', 'slightly', 'listen', '29', 'currency', 'prepared', 'discuss', 'expects', 'courts', 'imf', 'providing', 'allowing', 'effectively', 'yugansk', 'holding', 'leaving', 'fine', 'contest', 'matt', 'jack', 'charts', 'sending', 'ds', 'goods', 'allegations', '75', 'region', 'recorded', 'unions', 'sydney', 'yahoo', 'opinion', 'boys', 'camp', 'foxx', 'robbie', 'hunt', 'manifesto', 'gb', 'wenger', 'lawsuit', 'cover', 'surprised', 'proposal', 'roger', 'science', 'partner', 'cast', 'retirement', 'competitive', 'supply', 'fees', 'institute', 'drawn', 'wait', 'turning', 'considering', 'maybe', 'cap', 'honour', 'reality', 'ran', 'creative', 'finish', '2bn', 'link', 'runs', 'brand', 'prison', 'closer', 'forecasts', 'arrest', 'achieved', 'jose', 'disappointing', 'remaining', 'treatment', 'yen', 'stronger', 'charged', 'happens', 'setting', 'joint', 'overseas', 'profile', 'mortgage', 'criticism', 'documentary', 'california', 'mid', 'provided', 'connections', 'extremely', 'influence', 'murder', 'respect', 'gara', 'federer', 'scale', 'losses', 'specific', 'struggling', 'eventually', 'communications', 'tool', 'arrested', 'commissioner', 'documents', 'driving', 'type', 'engine', 'celtic', 'fun', 'semi', 'dance', 'hodgson', 'bath', 'suspects', 'graphics', 'consoles', 'mp3', 'hd', 'appearance', 'attention', 'mci', 'entry', 'wouldn', 'sri', 'weak', 'cars', 'jonathan', 'pushed', 'option', 'introduce', 'lawyers', 'backing', 'trip', 'complete', 'write', 'choose', 'reasons', 'assembly', 'century', 'replacement', 'safety', 'kevin', 'brother', 'wing', 'haven', 'playstation', 'female', 'tools', 'athletes', 'artist', 'beating', 'thinks', 'cell', 'speeds', 'thanou', 'henman', 'wi', 'mass', 'parts', 'employment', 'aids', 'worried', 'sixth', 'core', 'opened', 'detailed', 'explained', 'blue', '34', 'statistics', 'bond', 'seats', '1994', 'owners', 'useful', 'interactive', 'directed', 'task', 'waste', 'soul', 'parry', 'famous', 'risks', 'agenda', 'swiss', 'elected', 'attorney', 'hearing', 'aims', 'banking', 'factor', 'winter', 'clean', 'competing', 'deals', 'fed', 'barcelona', 'c', 'performed', 'father', 'murray', 'reading', 'alex', 'rangers', 'art', 'memory', 'collins', 'marathon', 'monitor', 'emerged', 'jail', 'trillion', 'dutch', 'hundreds', 'payments', '32', 'worse', 'controls', 'asking', 'approval', 'begin', 'centres', 'innovation', 'citizens', 'appears', 'intel', '1980s', 'scene', 'regular', 'greatest', 'sets', 'mtv', 'nuclear', 'novel', 'hill', 'downloaded', 'concert', 'medal', 'pick', 'killed', 'encourage', 'stores', 'industrial', 'wall', 'crisis', 'raising', 'aged', 'delivered', 'welcomed', 'larger', 'shared', 'optimistic', 'boeing', 'sec', 'performances', 'cheaper', 'eye', 'effective', 'hear', 'communities', 'hugely', 'alliance', 'republic', 'constitution', 'acting', 'freedom', 'prove', 'remember', 'p', 'banned', 'tom', 'judges', 'classic', 'elvis', 'rap', 'audio', 'woodward', 'driscoll', 'hotel', 'reduced', 'gap', 'attend', 'speak', 'brands', 'settlement', 'usually', 'founder', 'employees', 'physical', 'effects', 'managing', 'package', 'crude', 'injured', 'calling', 'class', 'stability', 'flight', 'younger', 'correspondent', 'definitely', 'directly', 'ideas', 'bell', 'arts', 'adults', 'wife', 'safe', 'vera', 'actors', 'clive', 'radcliffe', 'signs', 'peace', 'associated', 'risen', 'door', 'false', 'intended', 'resources', 'infected', 'military', 'demands', 'journalists', 'advertising', 'plus', 'damages', '250', 'sources', 'fastest', 'water', 'perform', 'variety', 'la', 'veteran', 'reporters', 'campaigning', 'foot', 'wimbledon', 'phil', 'oliver', 'sheffield', 'beaten', 'delighted', 'everton', 'domain', '48', 'manufacturers', 'vodafone', 'pointed', 'creditors', 'willing', 'sentence', 'negotiations', '2007', 'outstanding', 'compensation', 'indonesia', 'wider', 'breaking', 'vehicles', '150', 'expressed', 'deep', 'dismissed', 'direction', 'environmental', 'pro', 'desire', 'controlled', 'enter', 'quick', 'professional', 'actions', 'signing', 'thompson', 'sun', 'vision', 'hopefully', 'frank', 'allows', 'desktop', 'drake', 'l', 'itunes', 'stuff', 'satellite', 'votes', 'screens', 'councils', 'browser', 'acts', 'completed', 'challenges', 'stressed', 'contrast', 'accounting', 'scandal', 'fiscal', 'options', 'owner', 'borrowing', 'wilson', 'attempts', 'st', 'ministry', 'ones', 'producing', 'focused', 'lines', 'expansion', 'recognise', 'sharp', 'distribution', 'heavy', 'blamed', 'determined', 'targeted', 'medical', 'penalties', '36', 'western', 'announce', 'seat', 'defended', 'exactly', 'initiative', 'capable', 'son', 'edwards', 'clash', 'davies', 'britons', 'dublin', 'broadcasting', 'graham', 'officers', 'cent', 'interesting', 'edge', 'corner', 'nominees', 'learn', 'poster', 'henson', 'dallaglio', 'benitez', 'halo', 'psp', 'slowdown', 'label', 'christian', 'thanks', 'earned', 'respond', '1990s', 'cheap', 'lists', 'abroad', 'economists', 'ross', 'promise', 'steel', 'disappointed', 'changing', 'replaced', 'telling', 'page', 'leg', 'exciting', 'session', 'researchers', 'commitment', 'borders', 'contact', 'federation', 'injuries', 'controversy', 'sequel', 'sideways', 'downloads', 'writer', 'angels', 'p2p', 'nice', 'fake', 'arms', 'conte', 'operator', 'solution', 'prosecutors', 'base', 'enjoyed', 'flying', 'lanka', 'muslim', 'factory', 'everybody', '7bn', 'construction', 'agencies', 'ambitions', 'originally', '65', 'movement', 'colleagues', 'stopped', 'ticket', 'individuals', 'rich', 'owns', 'alternative', 'lots', '2008', 'totally', 'obvious', 'trials', 'colour', 'milan', 'shut', 'x', 'backs', 'hospital', 'bafta', 'rapper', 'scorsese', 'learning', 'electoral', 'davenport', 'gdp', 'fixed', 'fee', 'keeping', 'authority', 'estimates', 'popularity', 'advance', 'hiv', 'rumours', 'engines', 'dollars', 'stories', 'loans', 'relatively', 'hardware', 'application', 'recognised', 'stations', 'closely', 'contracts', 'tickets', 'organised', 'multi', 'standing', 'friend', 'unable', 'candidate', 'defend', 'feels', 'employers', 'granted', 'cope', 'suffering', 'organisers', 'donations', 'boy', 'leigh', 'blues', 'phillips', 'bellamy', 'prescott', 'handset', 'nokia', 'lowest', 'possibility', '42', 'merger', 'southern', 'placed', 'brazil', 'foundation', 'apart', 'balance', 'industries', 'reserve', 'pushing', 'assistant', 'pulled', 'partly', 'letter', 'proper', 'agent', 'creation', 'necessary', 'infrastructure', 'danger', 'table', 'attacked', 'pitch', 'required', 'essential', 'enjoy', 'wine', 'conducted', 'canada', 'murphy', 'comeback', 'drinking', 'fan', 'crown', 'musicians', 'celebrity', 'swank', 'jewish', 'westminster', 'southampton', 'moya', 'ruddock', 'flanker', 'weather', 'related', 'quoted', 'recover', 'declared', 'mrs', 'prompted', 'contribution', 'joining', 'split', 'w', 'arm', 'khodorkovsky', 'n', 'block', 'patent', 'violence', 'normal', 'ownership', 'reaching', 'opposed', 'handle', 'helps', 'likes', 'collection', 'houston', 'sensitive', 'autumn', 'attacking', 'papers', 'church', 'dedicated', 'intelligence', 'ethnic', 'copyright', 'linux', 'patents', 'episode', 'eastwood', 'leeds', 'wilkinson', 'scrum', 'computing', 'bittorrent', 'commerce', 'un', 'yes', 'reportedly', '600', 'reducing', 'loan', 'shops', 'kong', 'listed', 'whilst', 'established', 'friendly', 'distance', 'cold', 'streets', 'combined', 'platform', 'earn', 'complex', 'threatened', 'remove', 'express', 'visa', 'automatically', 'male', 'ferdinand', 'blow', 'roles', 'walk', 'outlook', 'finances', 'euronext', 'achieve', 'approved', 'properly', 'vast', 'spring', 'vulnerable', 'materials', '2010', 'equipment', 'mother', 'entire', 'patients', 'status', 'tobacco', 'texas', 'limits', 'badly', 'topped', 'switch', 'recording', 'jeeves', 'gary', 'offence', 'tend', 'guy', 'kicking', 'ea', 'charlie', 'staunton', 'writers', 'forsyth', 'knee', 'referendum', 'cole', 'wasps', 'agassi', 'souness', 'globe', 'u2', 'marsh', 'settle', 'debts', 'initial', 'potentially', 'items', '52', 'practice', 'shareholder', 'forces', 'closing', 'declined', 'ons', 'largely', 'pocket', 'excellent', 'shape', '43', 'ordered', 'hot', 'struck', 'gathered', '53', 'defender', 'highlighted', 'earning', 'moves', 'summit', 'ink', 'bridge', 'duo', 'professor', 'genuine', 'secret', 'thank', 'fire', 'bob', 'achievement', 'promises', 'pleased', 'hi', 'letwin', 'represent', 'channels', 'joss', 'nomination', 'hughes', 'square', 'breakthrough', 'potter', 'couldn', 'testing', 'pupils', 'dicaprio', 'hero', 'legitimate', 'rooney', 'keeper', 'servers', 'invest', 'additional', 'climate', 'retailers', '39', 'minority', 'gained', 'afford', 'apologise', 'bmw', 'hurt', 'purchase', 'suit', 'venture', 'premier', 'illegally', 'cities', 'complaint', 'disney', 'affect', 'provides', 'opens', 'entirely', 'letting', 'praised', 'rural', 'delta', 'tight', 'mistake', 'wish', 'eyes', 'customer', 'pirated', 'hosted', 'identity', 'instance', 'criminals', 'incident', 'laptop', 'regularly', 'sex', 'perfect', 'threats', 'audiences', 'wild', 'pack', 'mainstream', 'honours', 'feeling', 'goldsmith', 'capt', 'spammers', 'ces', 'lifted', 'terrorist', 'awarded', 'returning', 'boosted', 'forum', 'campaigners', 'iran', 'thailand', 'encouraging', 'regional', 'welcome', 'measure', 'seriously', 'solid', 'desperate', 'returns', 'lending', 'aircraft', 'structure', 'headed', 'holds', 'ultimately', 'maintain', 'triple', 'grown', 'wonder', 'passengers', 'extend', 'efficient', 'reputation', 'truth', 'secured', 'usual', 'sweden', 'governments', 'succeed', 'berlin', 'seventh', 'resolution', 'journalist', 'ballot', 'wars', 'piece', 'leads', 'ordinary', 'understanding', 'virtual', 'categories', 'abuse', 'wanting', 'athlete', 'mary', 'broadcasters', 'tested', 'investments', 'strongly', 'scheduled', 'pull', 'elements', 'collapse', 'holiday', 'congress', 'billions', 'universal', 'americans', 'sued', 'matters', 'addition', 'theft', 'sought', 'worry', 'begins', 'stepped', 'newspapers', 'train', 'angry', 'latin', 'drink', 'complaints', 'reflects', 'copy', 'telegraph', 'understood', 'readers', 'ensuring', 'tribute', 'upgrade', 'caught', 'carefully', 'tribunal', 'dean', 'commit', 'gartner', 'constituency', 'candidates', 'robot', 'proud', 'prizes', 'forget', 'posters', 'superb', 'h', 'yards', 'stade', 'uefa', 'safin', 'aside', 'delayed', 'ukraine', 'discussions', 'immediate', 'listing', '85', 'posted', 'cleared', 'plant', '44', 'payment', 'monetary', 'equal', 'reserves', 'arrived', 'buyers', 'membership', 'argument', 'ambition', 'hong', 'gains', 'applications', 'entered', 'foster', 'premium', 'dispute', 'pound', 'hospitals', 'fewer', 'providers', 'damaging', 'lies', 'knowledge', 'argues', 'argue', 'bay', 'tells', 'thrown', 'ultimate', 'pages', 'adds', 'author', 'forms', 'sporting', 'independence', 'silver', 'douglas', 'norwich', 'publish', 'democracy', 'plenty', 'recognition', 'photos', 'anniversary', 'moments', 'genre', 'cd', 'student', 'visual', 'racist', 'ac', 'veritas', '1500', 'laptops', 'export', 'predict', 'bills', 'rupees', 'pleaded', 'appointed', 'boom', 'indicated', 'faith', 'cool', 'shock', 'starts', 'preparing', 'conflict', 'poorest', 'bodies', 'turns', 'economics', 'officially', 'quarters', '38', 'fines', 'receiving', 'selected', 'smart', '120', '64', 'offices', 'falls', 'registered', 'ease', 'nature', 'proving', 'mouse', 'defending', 'era', 'subscribers', 'document', 'aiming', 'wal', 'rapid', 'households', 'involvement', 'protected', 'island', 'dramatic', 'peel', 'rings', 'regime', 'albums', 'miller', 'nick', 'appropriate', 'belief', 'saved', 'tracks', 'junk', 'switzerland', 'gates', 'wonderful', 'ofcom', 'guys', 'bands', 'matthew', 'lock', 'swansea', 'k', 'detainees', 'ulster', 'blacks', 'gloucester', 'ben', '55', 'g8', 'worries', 'gross', 'bids', 'prosecution', 'statements', 'virgin', 'jumped', 'schemes', 'wake', 'suffer', 'removed', 'require', 'slower', '56', 'meetings', 'sophisticated', 'importance', 'disease', 'welfare', '1993', 'happening', 'emergency', '37', 'medium', 'supplies', 'airbus', 'alexander', 'flat', '47', 'generally', 'analysis', 'remote', 'orange', 'detained', 'mixed', 'motion', 'sparked', 'mart', 'entitled', 'served', 'activities', 'kim', 'rush', 'resigned', 'prop', 'dubbed', 'apply', 'heineken', 'usa', 'keys', 'fired', 'confidential', 'franz', 'impossible', 'pensioners', 'victim', 'processing', 'daughter', 'kate', 'moore', 'keane', 'dark', 'edward', 'ballet', 'alicia', 'runners', 'retired', 'downloading', 'favourites', 'select', 'bench', 'subs', 'rusedski', 'paula', 'lewsey', 'gardener', 'relay', '3d', 'processor', 'motorola', 'blu', 'weapons', 'destruction', 'substantial', 'frost', 'discussed', 'spoke', 'convicted', 'begun', 'lisbon', 'ebay', '33', 'operate', 'carlos', 'da', 'represents', 'selection', 'imports', 'jean', 'lift', 'parker', 'corporation', 'shake', 'enable', 'parent', 'vehicle', 'discipline', 'betting', 'outcome', 'performing', 'jim', 'reveal', 'blind', 'steps', 'chicago', 'scrutiny', 'argentine', 'auto', 'kicked', 'atmosphere', 'promote', 'knocked', 'clark', 'funded', 'purpose', 'ken', 'predicts', 'normally', 'relations', 'monitoring', 'register', 'engineering', 'insists', 'treated', 'tackling', 'constitutional', 'dawson', 'trusted', 'f', 'evans', 'convention', 'legend', 'characters', 'las', 'presley', 'breaks', 'realise', 'presenter', 'liam', 'blackburn', 'wright', 'chips', 'doubles', 'twickenham', 'balco', 'midfielder', 'mirza', 'gavin', 'ronaldo', 'barkley', 'tait', 'laser', 'crash', 'worrying', 'hitting', 'brazilian', 'parmalat', 'hidden', 'roberts', 'surrounding', 'investigating', 'jury', 'decades', 'estimate', 'rover', 'subsidies', 'odds', 'yuganskneftegas', 'directive', 'baikal', 'beijing', 'lived', 'economies', 'watched', 'suggesting', 'lg', 'mainly', 'improvement', 'sensible', 'regulator', 'unfair', 'supported', 'promising', 'suddenly', 'branded', 'ratings', 'combination', 'print', 'sister', 'bar', 'km', 'overcome', 'aol', 'circumstances', 'incredible', 'college', 'struggle', 'struggled', 'extended', 'enormous', 'signals', 'multiple', 'represented', 'gun', 'acknowledged', 'stolen', 'judgement', 'theme', 'impressed', 'speaker', 'vegas', 'shane', 'scenes', 'francisco', 'photo', 'connor', 'keyboard', 'robots', 'scoring', 'pledge', 'terrorists', 'disabled', 'addresses', 'anfield', 'dial', 'xp', 'silicon', 'firefox', 'operates', 'chamber', 'regulations', 'corp', 'labels', 'airport', 'hide', 'mayor', 'studies', 'apology', 'internal', 'assess', 'shoppers', 'ill', 'shell', 'shop', 'jet', 'governing', 'attract', '9bn', 'perfectly', 'subsidiary', 'involving', 'strategic', 'reflect', 'adopted', 'amazing', 'formal', 'departure', 'attracted', 'draft', 'battery', 'widespread', 'adverts', 'prior', 'boston', 'expert', 'flights', 'deeply', 'section', 'spoken', 'prospect', 'bnp', 'teenage', 'behalf', 'contained', 'types', 'absence', 'spokesperson', 'suspension', 'rome', 'heads', 'butler', 'netherlands', 'racing', 'unique', 'harder', 'forthcoming', 'elderly', 'adult', 'bomb', 'gig', 'triumph', 'passion', 'johnny', 'craig', 'imelda', 'discovered', 'dogs', 'dec', 'pilot', 'subscription', 'teachers', 'neil', 'revolution', 'jonny', 'mcconnell', 'falconer', 'bolton', 'cueto', 'mcilroy', 'francis', 'jupiter', 'toshiba', 'hdtv', 'screensaver', 'lycos', 'equity', '700', 'tourism', 'ongoing', 'army', 'rarely', '35bn', 'brussels', 'acquisition', 'partners', '62', 'regulators', 'reconstruction', 'town', 'representing', 'ford', 'motivated', 'factors', 'managers', 'compiled', 'heavily', 'highlight', 'rely', 'challenging', '46', 'holder', 'chapter', 'protest', 'conduct', 'nicolas', 'consumption', 'roll', 'provider', 'accident', 'priority', 'fail', 'stands', 'upbeat', 'dubai', 'suggestions', 'covered', 'fundamental', 'launching', 'globally', '87', 'motorcycle', 'bruce', 'smoking', 'harm', 'departments', 'combat', 'barclays', 'spider', 'timing', 'dealt', 'feet', 'familiar', 'messaging', 'worlds', 'mcdonald', 'featured', 'advanced', 'boxes', 'earth', 'possibly', 'kids', 'melbourne', 'hilary', 'lessons', 'upset', 'stages', 'wearing', 'formats', 'oaten', 'guantanamo', 'header', 'villa', 'laporte', 'fitness', 'ankle', 'simonetti', 'facilities', 'bosses', 'carrying', 'turkish', 'percentage', 'bernard', 'repeatedly', 'ending', 'presence', 'dream', 'household', 'wave', 'eastern', 'festive', 'shopping', 'aviation', 'g7', 'optimism', 'recession', 'initiatives', 'sustained', 'concluded', 'allies', 'stuart', 'decent', 'spin', 'succession', 'offences', 'introduction', 'dent', 'visiting', 'maria', 'string', 'headquarters', 'assault', 'hybrid', 'workforce', 'equivalent', 'moody', 'amazon', 'warnings', 'audit', 'resignation', 'fought', 'tactics', 'connected', 'grant', 'handling', 'representatives', 'stick', 'malcolm', 'swap', 'negative', 'recall', 'islamic', 'window', 'jeremy', 'serving', 'wto', 'exhibition', 'featuring', 'glad', 'wages', 'replacing', 'regulation', 'prefer', 'entering', 'tags', 'remarks', 'qualifying', 'somebody', 'spirit', 'divide', 'grammy', 'epic', 'starred', 'shooting', 'clint', 'talented', 'brit', 'disc', 'screenplay', 'scots', 'nielsen', 'callaghan', 'chat', 'eighth', 'nets', 'privacy', 'detention', 'tottenham', 'winger', 'hamstring', 'charlton', 'bloggers', 'saudi', 'simpson', 'luxury', '41', 'stood', 'palestinian', '54', 'mutual', 'profitable', 'fashion', 'chain', 'founded', 'denies', '49', 'stocks', 'background', 'filing', 'attended', 'request', 'freeze', 'doors', 'coverage', 'convinced', 'cultural', 'opponents', 'hardly', 'motors', 'headlines', 'improvements', 'distribute', 'affair', 'encouraged', 'delivery', 'note', 'snow', '95', 'surge', 'al', 'troubled', 'drives', 'suspected', 'findings', 'prospects', 'allegedly', 'experienced', 'aston', 'competitors', 'doctors', 'ignored', 'delays', 'peers', 'labs', 'values', 'appointment', 'booked', 'joe', 'thirds', 'route', 'principle', 'embargo', 'egypt', 'warner', 'check', 'refuse', 'adam', 'personally', 'realised', 'contains', 'husband', 'dangerous', 'intention', 'livingstone', 'applied', 'samsung', 'counter', 'terry', 'historical', 'nervous', 'proof', 'hague', 'hearts', 'joins', 'servants', 'europeans', 'withdraw', 'anybody', 'ericsson', 'inspired', 'dj', 'tommy', 'bennett', 'brits', 'johansson', 'sounds', 'napster', 'trophy', 'margaret', 'joy', 'innocent', 'robin', 'midfield', 'gareth', 'peston', 'animals', 'nhs', 'middlesbrough', 'gambling', 'serena', 'sprinters', 'robben', 'giggs', 'skipper', 'gallas', 'commodore', 'uwb', 'phishing', 'worm', 'imposed', 'manage', 'sectors', 'resort', 'unlike', 'airways', 'bet', 'observers', 'consortium', 'specialist', 'positions', 'hole', 'formed', 'insist', 'intervention', 'telecommunications', 'mercedes', 'equally', 'reduction', 'booming', 'restructuring', 'ranging', 'magic', 'picking', 'asset', 'explain', 'polls', 'damaged', 'reaction', 'seeks', 'peak', 'mikhail', 'saving', 'upper', 'clients', 'properties', 'deficits', 'amounts', 'giants', 'blame', '99', 'legally', 'gear', 'planes', 'pledges', 'detail', 'presidential', 'boosting', 'revised', 'units', 'fined', 'concept', 'article', 'cairn', 'sacked', 'marks', 'impression', 'fbi', 'praise', 'lucrative', 'anger', 'utd', 'client', 'connect', 'reasonable', 'maximum', 'chose', 'portsmouth', 'defeated', 'wealth', 'broadcaster', 'czech', 'lopez', 'determination', 'hall', 'stewart', 'discussion', 'ups', 'puts', 'jay', 'surface', 'dinner', 'functions', 'wood', 'brilliant', 'dan', 'listeners', 'jimmy', 'bollywood', 'lane', 'screened', 'deserved', 'sitting', 'comic', 'hosts', 'awareness', 'ignore', 'trick', 'sorts', 'stored', 'a', 'andre', 'shoot', 'solutions', 'hurdles', 'connell', 'duff', 'replay', 'investor', 'significantly', 'update', 'singapore', 'expand', 'grounds', 'lie', 'pence', 'frankfurt', '1960s', '1985', 'rebuild', 'iraqi', 'shortly', 'oxford', 'cooper', 'typically', 'disasters', 'ends', 'consecutive', 'rbs', 'millennium', '57', '51', 'fierce', 'putin', 'topping', 'typical', 'cancelled', 'anticipated', 'reliance', '1995', 'korean', 'reporting', 'israeli', 'colin', 'eurozone', 'chase', 'regions', 'eddie', 'incomes', 'barrel', 'nissan', 'efficiency', 'telecom', 'accessible', 'raw', 'affordable', 'alcohol', 'soap', 'deny', 'impose', 'rally', 'suspicion', 'errors', 'doubled', 'stayed', 'policing', 'steal', 'persuade', 'greece', 'collect', 'cuba', 'guardian', 'absolute', 'respectively', 'guarantee', 'informed', 'aspects', 'deserve', 'slipped', 'metal', 'shocked', 'tiny', 'singing', 'fortune', 'click', 'ham', 'die', 'blocking', 'explains', 'bandwidth', 'sentences', 'doherty', 'broadcasts', 'bowl', 'palace', 'hunts', 'fame', 'forgotten', 'stamp', 'surgery', 'olds', 'rafael', 'troops', 'leap', 'unacceptable', 'libraries', 'coaches', 'lleyton', 'spaniard', 'munster', 'corry', 'goalkeeper', 'msn', 'iptv', 'hp', 'causes', 'apparent', 'tourist', 'dip', '110', 'momentum', 'aggressive', 'burden', 'expecting', 'afternoon', 'licence', 'partnership', 'pressures', 'adventure', 'consultation', 'heading', 'agriculture', 'practices', 'dealing', 'mitsubishi', 'strengthen', 'beer', 'signal', 'underground', 'attempting', 'delivering', 'reject', 'promoting', 'cook', 'philip', 'andreas', 'rating', 'washington', 'travelling', 'cautious', 'successive', 'doubts', 'mexico', 'keeps', 'similarly', 'studying', 'drivers', 'passing', 'sue', 'severe', 'guard', 'guidelines', '74', 'shift', 'extent', 'brothers', 'teacher', 'carroll', 'mistakes', 'extraordinary', 'releases', 'democratic', 'fairly', 'guidance', 'retire', 'searching', 'fiction', 'ranked', 'recommended', 'truly', 'commissioned', 'schedule', 'aren', 'gather', 'depth', 'sessions', 'feud', 'controlling', 'coalition', 'reviews', 'muslims', 'stance', '20th', 'trio', 'unfortunately', 'liberty', 'guitarist', 'adaptation', 'animated', 'passport', 'takings', 'thriller', 'itv1', 'usher', 'runner', 'shortlist', 'sprinter', 'library', 'saints', 'glory', 'blogger', 'lifestyle', 'breakfast', 'catch', 'rebate', 'alastair', 'stevens', 'installed', 'juninho', 'easterby', 'lansdowne', 'kuznetsova', 'encounter', 'tindall', 'rfid', 'quarterly', 'extending', 'dominate', 'arrival', 'protests', 'eve', 'rebuilding', 'clothing', '1987', 'developments', 'conspiracy', 'replied', 'advised', 'qantas', 'ocean', 'carrier', 'exchanges', 'successfully', 'generated', 'tremendous', 'marked', 'unity', 'invited', 'sharply', 'buildings', 'qualified', 'politically', 'arguments', 'emerging', 'rob', 'apparently', 'avoided', 'fill', 'citigroup', 'copper', 'fuelled', 'retain', 'collected', 'merge', 'midlands', 'slide', 'assessment', 'activists', 'nigel', 'accurate', 'transactions', 'revival', 'el', '77', 'siemens', 'yuan', 'plane', 'jp', 'arguing', 'iron', 'exposure', 'venezuela', 'maintained', 'launches', 'verizon', 'flexibility', 'suicide', 'innovative', 'hasn', 'morris', 'intentions', 'secondary', 'bail', 'breach', 'influential', 'investigate', 'killing', 'active', 'notice', 'capability', 'consistently', 'chambers', 'sea', 'ellis', 'strikes', 'throw', 'lay', 'attempted', 'displays', 'noon', 'celebrities', 'enjoying', 'supreme', 'abused', 'occasion', 'threatening', 'comfortable', 'roy', 'deciding', 'metres', 'rift', 'shall', 'quotas', 'settled', 'mood', 'brain', 'tale', 'shouldn', 'bristol', 'orchestra', 'ryan', 'fockers', 'sisters', 'neverland', 'horror', 'drew', 'girl', 'productions', 'sundance', 'catholic', 'diaries', 'meaning', 'honoured', 'cinemas', 'farrell', 'itv', 'married', 'generate', 'idol', 'museum', 'byrne', 'adoption', 'briton', 'sit', 'junior', 'mcletchie', 'voter', 'lindsay', 'paterson', 'drogba', 'carling', 'martyn', 'chepkemei', 'interact', 'interface', 'maps', 'skype', 'tate', 'publication', 'historic', 'noted', 'coast', 'slight', 'florida', 'religious', 'nasdaq', 'exist', 'slowing', '10bn', '1992', 'tragedy', 'norway', 'trafford', 'richest', 'offensive', 'exercise', 'predictions', 'spurs', 'interviews', 'wasted', 'warn', 'afghanistan', '1970s', 'offset', 'unusual', 'institutions', 'halt', 'victor', 'dam', 'surprising', 'solve', '68', 'resolve', 'weaker', 'spell', 'renewed', 'knock', 'modest', 'adviser', 'balls', 'mpc', 'confirm', 'publicly', 'mentioned', 'constantly', '72', 'patrick', 'flow', 'compulsory', 'vowed', 'appeals', 'anthony', 'casinos', 'pact', 'correct', 'identify', 'barry', 'complained', 'conceded', 'careful', 'oppose', 'rubbish', 'pakistan', 'wells', 'leaves', 'reporter', 'damien', 'evolution', 'horse', 'loose', 'ashley', 'manuel', 'rid', 'choices', 'attachment', 'memories', 'remarkable', 'belgian', 'directing', 'exploit', 'warm', 'premiere', 'daniel', 'hanks', 'winslet', 'wayne', 'morrison', 'sam', 'olivier', 'screening', 'osbourne', 'discover', 'guide', 'beautiful', 'venue', 'clothes', 'recalled', 'moral', 'releasing', 'hosting', 'csi', 'beckham', 'mates', 'communication', 'maternity', 'surely', 'dragons', 'blackpool', 'minorities', 'fulham', 'habits', 'replacements', 'mep', 'keynote', 'doom', 'greg', 'hotspots', 'disciplinary', 'volley', 'medallist', 'marigny', 'biarritz', 'vickery', 'redknapp', 'explorer', 'ie', 'domains', 'cabir', 'blogging', 'drm', 'insurers', 'malaysia', 'count', 'admits', 'responded', 'corruption', 'valued', 'bidding', 'cents', 'lawsuits', 'visited', 'nationwide', 'jobless', 'taxpayers', 'highs', 'consistent', '2009', 'opted', 'probe', 'carmaker', 'fortunes', 'regulatory', 'traditionally', 'barrels', 'reflected', 'disappointment', 'restrictions', 'external', 'ambitious', 'weight', 'canadian', 'salary', 'worker', 'demanded', 'farmers', 'proportion', 'enterprise', 'stern', 'alert', 'ice', 'pounds', 'unveil', 'employee', 'recovered', 'landmark', 'ad', 'attractive', 'announcing', 'harris', 'tonnes', 'zone', 'staged', 'sufficient', 'honest', 'wmc', '233', 'afraid', 'headline', 'cyprus', 'walked', 'crystal', 'drafted', 'weekly', 'contacted', 'discrimination', 'empire', 'eric', 'entries', 'brings', 'fish', 'imagine', 'holland', 'interviewed', 'rare', 'southcorp', 'sustainable', 'manner', 'forest', '1983', 'tel', 'engage', 'slot', 'supposed', 'hopeful', 'footage', 'publicity', 'kill', 'comedian', 'integrity', 'dame', 'appearances', 'mcfadden', 'blanchett', 'shaun', 'wedding', 'perspective', 'khan', 'vinci', 'boxing', 'episodes', 'satisfied', 'arnold', 'cambridge', 'fuller', 'sums', 'alive', 'chasing', 'sorry', 'recorders', 'mubanga', 'tps', 'conversion', 'delegates', 'binge', 'regiments', 'humphreys', 'laboratory', 'ospreys', 'medals', 'kaplan', 'sprint', 'hickie', 'keegan', 'mate', 'lampard', 'recorder', 'aragones', 'bates', 'mutu', 'inventions', 'hackers', 'pew', 'cyber', 'mda', 'millan', 'exeem', 'hsdpa', 'river', 'jacques', 'yushchenko', 'newly', 'munich', 'dropping', 'scrapped', 'appearing', 'questioning', 'apologised', 'waves', 'budgets', 'collapsed', 'separately', 'implications', 'agricultural', 'busy', 'reacted', 'strategist', 'costly', 'surplus', 'musician', 'traders', 'authors', 'tougher', 'margin', 'consolidation', 'wembley', 'temporary', 'eating', 'almunia', 'halifax', 'wong', 'intends', 'odd', 'primary', 'motor', 'petrol', 'sluggish', 'stuck', 'finds', 'dating', 'wholesale', 'uncertainty', 'fannie', 'principles', 'greenspan', 'drinks', 'schroeder', 'retailer', 'differences', 'commitments', 'threw', 'atlantic', 'taxation', 'approached', 'qwest', 'ec', 'pieces', 'carriers', 'emerge', 'battled', 'clock', 'method', 'occasions', 'enhancing', 'deliberately', 'dates', 'trends', '83', 'sunderland', '1984', 'withdrew', 'mention', 'rail', 'bus', 'challenged', 'lawrence', 'tvs', 'creates', 'deadline', 'context', 'postal', 'pain', 'birth', 'curry', 'qualify', 'resolved', 'experiences', 'lloyd', 'islands', 'televised', 'denial', 'blockbuster', 'element', 'ideal', 'scientists', 'eminem', 'abc', 'niro', 'creator', 'ring', 'nominee', 'biopic', 'tomorrow', 'extras', 'jerry', 'billed', 'jowell', 'landed', 'reference', 'carpet', 'lucky', 'gervais', 'enthusiasm', 'languages', 'possession', 'viewing', 'nanny', 'bening', 'lovers', 'opinions', 'nationals', 'avoiding', 'qc', 'pm', 'seekers', 'grid', 'clay', 'hantuchova', 'stringer', 'orquera', 'neville', 'kerr', 'dyer', 'grewcock', 'leinster', 'arsene', 'toulousain', 'argonaut', 'bot', 'withdrawn', 'withdrawal', 'ft', 'refugees', 'mix', 'veto', 'owed', 'sentenced', 'witness', 'responding', 'exit', '05', 'rescue', 'stress', 'enron', 'laid', 'vivendi', 'adjusted', 'overwhelming', 'soaring', 'consensus', 'center', 'tokyo', 'components', 'upward', 'steady', 'poorer', 'accusing', 'daimlerchrysler', 'listings', 'requirements', 'jailed', 'checks', 'chair', 'chartered', '67', 'submit', 'moscow', '76', 'brief', 'volume', 'surveys', 'necessarily', 'opec', 'attitude', 'violent', 'heat', 'formally', 'delay', 'representative', 'introducing', 'knight', 'identified', 'caribbean', 'mae', 'participation', 'tricks', 'killer', 'campaigns', '1991', 'outdoor', 'switched', 'arbitration', 'marion', 'reynolds', 'slowly', 'enforcement', 'cbi', 'abandoned', 'cafes', 'territory', 'fails', 'consultant', 'youth', '102', 'destroyed', 'prepare', 'continental', 'maintaining', 'expanding', 'closure', 'fault', 'basically', 'ages', 'soft', 'emotional', 'girls', 'rolling', 'treaty', '1996', 'exposed', 'involve', 'gaining', 'listening', 'establish', 'finishing', '1989', 'updated', 'protecting', 'donate', 'capabilities', 'requires', 'practical', 'blood', 'bans', 'neck', 'floor', 'sharon', 'aviv', 'hemisphere', 'crack', 'prix', 'bear', 'subsequent', 'escape', 'universities', 'village', 'methods', 'baghdad', 'dies', 'landscape', 'fantasy', 'suspect', 'copying', 'luck', 'gangs', 'patches', 'countryside', 'leonardo', 'scissor', 'depp', 'teenager', 'pirates', 'soldiers', 'reeves', 'cate', 'contenders', 'kings', 'bpi', 'bookmakers', 'barrier', 'prisoner', 'marvel', 'classroom', 'dancing', 'programming', 'doctor', 'prints', 'birthday', 'anderson', 'learned', 'bluetooth', 'straightforward', 'talked', 'scores', 'mock', 'communicate', 'elite', 'races', 'existence', 'mental', 'kinnock', 'burnley', 'electorate', 'tuition', 'hockney', 'liberties', 'quangos', 'roma', 'seeded', 'luscombe', 'bortolami', 'awesome', 'sharks', 'horgan', 'wolves', 'mcclaren', 'gudjohnsen', 'harriers', 'server', 'podcasting', 'mms', 'clips', 'telewest', 'gameboy', 'holdings', 'factories', 'sustain', 'margins', 'themes', '66', 'utility', 'sum', 'spitzer', 'ranking', 'zero', 'stated', 'converted', 'lying', '11bn', '63', 'predicting', 'stanley', 'implemented', 'collaboration', 'consultancy', 'robust', 'pursue', 'tune', 'fishing', 'install', 'employs', 'levy', 'achievements', 'voiced', 'nbc', 'demonstrated', 'mining', 'radical', 'healthy', 'presidency', 'disappear', 'matched', 'distributed', 'unknown', 'punishment', 'intent', 'compliance', 'estate', 'prompting', 'menatep', 'electricity', 'difficulties', 'indication', 'enhance', 'border', 'hang', 'hinted', 'ed', 'pundits', 'bonds', 'investigations', 'custody', 'intense', 'turnover', 'mission', 'divided', 'registration', 'technically', 'cancel', 'sweet', 'employed', 'bez', 'unclear', 'ongc', 'contain', 'battles', 'passenger', 'processors', 'slowed', 'circuit', 'virginia', '86', 'calculations', 'defined', 'jurisdiction', 'threshold', 'tycoon', 'intend', 'suitable', 'causing', 'stable', 'percent', 'tourists', 'length', 'teenagers', 'mandelson', '59', 'lifts', 'pause', '71', 'pointing', 'preliminary', 'covering', 'contributions', 'georgia', 'publishing', 'journey', 'automatic', 'surveyed', 'opponent', 'striking', 'resign', 'gene', 'hugh', 'shame', 'targeting', 'adapted', 'scams', 'hendrix', 'iranian', 'frustrated', 'permission', 'citizenship', '21st', 'judged', 'tapes', 'knowing', 'trevor', '73', 'protocol', 'reddy', 'prosperity', 'metropolitan', 'tape', 'locked', 'beats', 'ship', 'pole', 'prestigious', 'master', 'remake', 'brando', 'animation', 'filmed', 'abortion', 'acclaimed', 'diversity', 'hart', 'costume', 'billboard', 'relevant', 'russell', 'rain', 'politician', 'dirty', 'excited', 'cohen', 'editing', 'god', 'knife', 'eastenders', 'pops', 'freeview', 'y', 'articles', 'rankings', 'josh', 'etc', 'casino', 'conventional', 'indoors', 'brighton', 'fictional', 'quinn', 'genuinely', 'csa', 'kenya', 'tomlinson', 'ira', 'ancram', 'queries', 'woolf', 'baa', 'prof', 'yachvili', 'hayes', 'clijsters', 'umaga', 'yelling', 'bronze', 'kostas', 'nitoglia', 'arcy', 'bergamasco', 'greene', 'sotherton', 'murrayfield', 'sevens', 'edu', 'browsers', 'developer', 'ipods', 'cea', 'frozen', 'reward', 'uncertain', 'focusing', 'discovery', 'patterns', 'licensed', 'expanded', 'firmly', 'kent', 'excess', 'walker', 'slump', 'priced', 'marc', 'posed', 'jazz', 'submitted', 'affects', 'permanent', 'credits', 'evasion', 'gift', 'bars', 'restore', 'preparation', 'arrangements', 'negotiate', 'strict', 'vladimir', 'sarah', 'coal', 'supplier', 'climbed', 'periods', 'earmarked', 'ivan', 'blocked', 'ninth', 'yorkshire', 'institution', 'airports', 'examine', 'diverse', 'steam', '98', 'holders', 'agreements', 'techniques', 'icon', 'tense', 'dual', 'relating', 'journal', 'fields', 'extension', 'buyer', 'suppliers', 'district', 'cycle', 'valuable', 'strange', 'substantially', 'expression', 'fifa', 'phenomenon', 'breaches', 'catalogue', 'compromise', 'requests', 'combine', 'principal', 'relatives', 'lifetime', 'duties', 'bets', 'enables', 'endured', 'desperately', 'publisher', 'unhappy', 'drawing', 'constant', 'unveils', 'citizen', 'kerry', 'email', 'colleague', 'qatar', 'ba', '125', 'den', 'advocates', 'sooner', 'condition', 'heathrow', 'responses', 'poland', 'celebrate', 'blake', 'suspend', 'taxpayer', 'grace', 'reveals', 'meps', 'newcomer', 'function', 'philippe', 'victories', 'inappropriate', 'insisting', 'frontline', 'supports', 'weren', 'emphasis', 'carolina', 'deaths', 'hell', 'describe', 'dunne', 'educational', 'prisoners', '1970', 'premises', 'santa', 'poorly', 'fat', 'chiefs', 'routine', 'scam', 'instructions', 'ads', 'cult', 'gibson', 'cbs', 'postponed', 'concerts', 'titled', 'cannes', 'loved', 'nazi', 'poppins', 'tautou', 'z', '10th', 'adams', 'diary', 'jamelia', 'immigrants', 'viotti', 'rivalry', 'paramount', 'terrestrial', 'technological', 'explosion', 'gateshead', 'sadly', 'degree', 'dressing', 'marriage', 'visits', 'robertson', 'galloway', 'yard', 'essex', 'animal', 'prominent', 'safer', 'incidents', 'thatcher', 'pigs', 'flynn', 'tb', 'beattie', 'derby', 'elena', 'neath', 'michalak', 'northampton', 'leary', 'katerina', 'tzekos', 'bekele', 'connors', 'ljubicic', 'cm', 'morientes', 'gunners', 'surfers', 'prototype', 'org', 'sophos', 'bloglines', 'voip', 'suprnova', 'printer', 'persistent', 'davos', 'counterparts', 'lufthansa', '69', 'purchased', 'houses', 'exact', 'reid', 'suggestion', 'command', 'geoff', '27bn', 'stepping', 'tigers', '140', 'jon', 'governor', 'rapidly', 'competitiveness', '104', 'contribute', 'farm', 'expenses', 'islam', 'fsa', 'investing', '350', '900', 'toll', 'landing', '50th', '58', 'depend', 'rick', 'influenced', 'weakness', 'speeches', 'perry', 'fits', 'monopoly', 'port', 'covers', 'battling', 'greeted', 'burst', 'spark', 'miles', 'dominance', 'clearing', 'processes', 'approve', 'toyota', 'snapped', '84', 'strongest', 'feared', 'financing', 'outbreak', 'consideration', 'internationally', 'promotion', 'proceedings', 'reluctant', 'exploration', 'acquire', 'anil', 'presents', 'crowds', 'columbia', 'antonio', 'opposite', '20bn', 'chunk', 'complain', 'walter', 'concentrate', 'videos', 'broad', 'plastic', 'codes', 'edged', 'voluntary', 'consequences', '19th', 'underlying', 'depending', 'youngsters', 'scared', 'eternal', 'richards', 'numerous', 'determine', '1973', 'merrill', 'adopt', 'dramatically', 'suing', 'minor', 'origin', 'acceptable', 'drag', 'portal', 'u', 'ii', 'flash', 'anymore', '1981', 'scope', 'discs', 'rio', 'tasks', 'repeated', 'outrage', 'distributing', 'tank', 'rent', 'clearance', 'scan', 'kay', 'inclusion', 'ranks', 'everyday', 'narrow', 'stopping', 'sellers', 'realistic', 'shaw', 'upcoming', 'macintosh', 'regarded', 'occurred', 'publishers', 'gifts', 'charging', 'perception', 'liked', 'performers', 'incredibly', 'resulted', 'smoke', 'specifically', 'intelligent', 'garcia', 'janet', 'competitions', 'finnish', 'rwanda', 'evil', 'natalie', 'austria', 'nicholas', 'devon', 'stunning', 'sunshine', 'jointly', 'native', 'sad', 'spears', 'incredibles', 'castle', 'bjorn', 'fightstar', 'jamieson', 'lucas', 'martinez', 'succeeded', 'swapping', 'plot', 'dave', 'printed', 'susan', 'fletcher', 'forensic', 'coaching', 'viewer', 'activist', 'spectrum', 'noise', 'deserves', 'carpenter', 'racial', 'longest', 'charities', 'representation', 'baroness', 'unison', 'cells', 'hogg', 'turnout', 'drunk', 'melzer', 'dementieva', 'shanklin', 'dempsey', 'slams', 'cech', 'atp', 'ferrero', 'reds', 'pompey', 'opener', 'anelka', 'mathew', 'vieira', 'exploited', 'netcraft', 'gameplay', 'megabits', 'specifications', 'megapixel', 'circulating', 'fogg', 'sms', 'gprs', 'hotels', 'cited', 'viktor', 'zurich', 'reflecting', 'bulk', 'hardest', 'shed', 'wear', 'justified', 'relation', 'unaware', 'frequently', 'bankrupt', 'poised', 'amsterdam', 'merged', 'seal', 'plants', '92', 'excluding', 'default', 'expense', 'driver', '180', 'rovers', 'freely', 'highlights', 'tens', 'spreading', 'undermine', 'boateng', 'governance', '2012', 'insurer', 'announcements', 'sized', 'commodity', 'disappeared', 'accompanied', 'quiet', 'priorities', 'shortages', 'prosecuted', 'attributed', 'briefly', 'drove', 'bonus', 'brent', 'mountain', 'commentators', 'kingdom', 'thierry', 'investigated', 'pacific', 'arabia', 'tiger', 'strengthened', 'lure', 'involves', 'rubber', 'threaten', 'critic', 'dot', 'fix', 'exclusive', 'outlined', 'scrap', 'trigger', 'slip', 'enabled', 'promotional', 'clinton', 'unified', 'extensive', 'forcing', 'rushed', 'motivation', 'referring', 'sbc', '61', 'stem', 'identification', 'soviet', 'legacy', 'le', 'employer', 'produces', 'handful', 'chavez', 'tci', 'destroy', 'admit', 'christopher', 'extreme', 'regain', 'punished', 'gradually', 'amnesty', 'frustration', 'barred', 'cautioned', 'wind', 'max', 'shoulder', 'plasma', 'licensing', 'intellectual', 'incentives', 'stripped', 'posts', 'explore', 'bp', 'ethiopia', 'survival', 'marshall', 'transmission', '82', 'concentrating', 'preferred', 'patient', 'kinds', 'survived', 'opt', 'pride', 'childcare', 'personality', 'skin', 'chairs', 'firewall', '1979', 'midnight', 'denmark', 'handing', 'crowned', 'virtually', 'bound', 'turner', 'sight', 'sean', 'instant', 'flaws', 'distributor', 'trojan', 'voices', 'condemned', 'keith', 'edition', 'proves', 'respondents', 'polling', 'filled', 'equality', 'crimes', 'recruit', 'reception', 'appealed', 'unfortunate', 'grabbed', 'julia', 'hailed', 'forever', 'patrol', 'loopholes', 'rooms', '1982', 'composer', 'arena', 'solo', 'romantic', 'spotless', 'gogh', 'simultaneously', 'lyrics', 'prosecutions', 'vocal', 'anonymous', 'weapon', 'beach', 'cry', 'victoria', 'clever', 'busted', 'terrible', 'globes', 'shrek', 'neill', 'superior', 'gallery', 'mario', 'tap', 'aspect', 'viacom', 'nottingham', 'guess', 'finest', 'tolerance', 'kapranos', 'walking', 'outkast', 'thoughts', 'integral', 'colours', 'adapt', 'somewhat', 'ronan', 'racism', 'shooter', 'recycling', 'stream', 'scholes', 'remark', 'rogue', 'substitute', 'cunningham', 'whistle', 'compatriot', 'convincing', 'myskina', 'unbeaten', 'harinordoquy', 'saracens', 'irb', 'forwards', 'raced', 'claxton', 'gregory', 'denis', 'fixture', 'boro', 'graeme', 'fernando', 'reyes', '4x100', 'kirwan', 'robson', 'nistelrooy', 'brentford', 'lehmann', 'usage', 'patenting', 'ntl', 'passwords', 'ps2', 'savvy', 'snaps', 'blinkx', 'clicking', 'telephony', '3gsm', 'valve', 'mpaa', 'icann', 'cebit', 'seafarers', 'ties', 'billionaire', '750', 'seasons', 'artificial', 'unilever', 'contributed', 'attendance', 'industrialised', 'frontman', 'earthquake', 'thai', 'benchmark', 'designer', 'turkcell', 'bust', 'supplied', 'jurors', 'abn', 'amro', 'pipeline', 'dennis', 'squabbling', 'repayments', 'implementation', 'spare', 'cancer', 'phoenix', 'impress', 'benefiting', 'barely', 'balanced', 'failures', 'bombay', 'scare', 'embrace', 'petroleum', 'enforce', 'healthcare', 'coffee', 'dividend', 'procedures', 'irresponsible', 'brewer', 'boards', 'lows', 'gorges', 'altogether', 'generating', 'agrees', 'examining', 'engaging', 'recovering', 'credibility', 'eased', 'verge', 'triggered', 'snap', 'unchanged', 'meets', 'roads', 'overturned', 'centred', 'referred', 'detain', 'achieving', 'admission', 'classes', 'hub', 'twin', 'notes', 'swiftly', 'reverse', '1980', 'inter', 'freddie', 'province', 'consulting', 'combines', 'leaked', 'tag', 'dozen', 'parks', 'collecting', 'residents', 'borrow', 'roughly', 'newton', 'demonstrate', 'examples', 'tunnel', 'rethink', 'blocks', 'persuaded', 'gill', 'mcmanus', 'magnier', 'rank', 'measured', 'situations', 'chaos', 'sick', 'boyd', 'grows', 'privatisation', 'alfa', 'subsequently', 'outright', 'spotlight', 'ghosn', 'renault', 'react', 'fate', 'resume', 'venezuelan', 'seize', 'framework', 'actual', 'advert', 'beauty', 'rewarded', 'genius', '79', 'allied', 'assistance', 'counterfeit', 'stiff', 'violations', 'xstrata', 'sceptical', 'pakistani', 'repeat', 'survive', 'disclosure', 'toughest', 'dick', 'stops', 'injunction', 'sends', 'banning', 'celebrated', 'branding', 'prevented', '1990', '1974', 'inbev', 'belgium', 'flawed', 'load', 'taste', 'bed', 'engagement', 'throwing', 'echoed', 'justin', 'romania', 'borussia', 'substance', 'calm', 'holidays', 'pressing', '91', 'stroke', 'franchise', 'defensive', 'convert', 'lira', 'confusion', 'niche', 'feta', 'trained', 'donated', 'revenge', 'classics', 'eligible', 'powered', 'joseph', 'successes', 'refusing', 'mexican', 'breached', 'respected', 'grip', 'rewards', 'urge', 'surveillance', 'purposes', 'infection', '1969', 'anne', 'bureaucracy', 'preventing', 'guitar', 'christ', 'barbara', 'fcc', 'artistic', 'duet', 'keanu', 'hopefuls', 'biography', 'carter', 'michelle', 'physically', 'julie', 'invention', 'contemporary', 'fathers', 'trophies', 'gray', 'phonographic', 'ceremonies', 'conversation', 'guild', 'legendary', 'payne', 'reggae', 'gay', 'marry', 'webster', 'hey', 'fortnight', 'stan', 'holes', 'diana', 'bobby', 'elton', 'thoroughly', 'singers', 'buzz', 'strictly', 'contestants', 'tired', 'leslie', 'housewives', 'comparison', 'passage', 'careers', 'neeson', 'loyalty', 'warren', 'eviction', 'hitler', 'djs', 'kasabian', 'fuss', 'sheer', 'browse', 'specially', 'immense', 'spotted', 'literally', 'chest', 'sweeney', 'skill', 'halfway', 'capped', 'entertaining', 'operated', 'tyranny', 'committing', 'loyal', 'plaid', 'archbishop', 'freed', 'knapman', 'guaranteed', 'summary', 'newsnight', 'defeats', 'belmarsh', 'migration', 'sack', 'casual', 'kenyan', 'csos', 'nec', 'exeter', 'stamford', 'juan', 'seville', 'saves', 'pelous', 'delaigue', 'sidoli', 'yapp', 'wta', 'henin', 'hardenne', 'dechy', 'samoa', 'decider', 'internationals', 'saulnier', 'frustrating', 'idowu', 'shearer', 'baros', 'captaincy', 'worsley', 'batteries', 'jol', 'lab', 'sims', 'fixes', 'navigate', 'upload', 'cables', 'journals', 'ringtones', 'tivo', 'immersive', 'trackers', 'donofrio', 'espn', 'macrovision', 'ripguard', '1986', 'combining', 'chirac', 'bono', 'indonesian', 'hans', 'axa', 'joshua', 'turnaround', 'lied', 'rejects', 'prosecutor', 'bernie', 'routes', 'transaction', '130', 'offshore', 'portfolio', 'tariffs', 'trail', 'preparations', 'mad', 'licences', 'criteria', 'hike', 'pierre', 'tear', 'axed', 'tackled', 'contrary', 'employ', 'caps', 'marketed', 'accepting', 'unnamed', 'ge', 'psychological', 'treat', 'buys', 'unpaid', 'generous', 'dipped', 'profitability', 'surround', 'calculated', 'transformed', 'reassure', 'branch', 'yesterday', 'agents', 'lenders', 'moderate', 'homeland', 'theory', 'inevitable', 'halted', 'cement', 'reaches', 'lender', 'brokers', 'approvals', 'viewed', 'maldives', 'sells', 'bubble', 'dog', 'advisory', 'concentration', 'transparent', 'closest', 'sidelined', 'tip', 'manufacturer', 'declining', 'saab', 'unauthorised', 'requirement', 'owning', '94', 'deccan', 'ryanair', 'dominant', 'telekom', 'transition', 'ore', 'pose', 'warns', 'barriers', 'continent', '93', 'respects', 'purchases', 'instruments', 'tricky', 'arthur', 'gerhard', 'setback', 'assume', 'suits', 'ahold', 'addiction', 'illness', 'doubling', 'violated', 'county', 'raids', 'trains', 'acquired', 'merits', 'ppi', 'injection', 'crew', 'pile', 'versus', 'romeo', 'resisted', 'movements', 'promotions', 'printing', 'frederick', 'swapped', 'facility', 'touched', 'pattern', 'albeit', 'pentagon', 'trilogy', 'ear', 'honorary', 'tips', 'lynch', 'insider', 'remembered', 'narrowly', 'phase', 'scrapping', 'compression', 'allen', 'legs', 'thin', 'wallace', 'responsibilities', 'technique', 'define', 'ufj', 'financially', 'angola', 'honda', 'incorporated', 'error', 'reviewed', 'mandatory', 'menu', 'consult', 'dortmund', 'unnecessary', 'lasting', 'fraser', 'excitement', 'mann', 'tuc', 'ensures', 'bat', 'assured', 'grab', 'teaching', 'adrian', 'laura', 'shelves', 'indefinitely', 'sole', 'fortunate', 'urgent', 'mercury', 'lengthy', 'sponsorship', 'customs', 'explaining', 'youngest', 'sake', 'engaged', 'capture', 'slice', 'cartoon', 'billy', 'ok', 'carnival', 'dell', 'obsessed', 'nestle', 'brave', 'mouth', 'rem', 'hype', 'performer', 'pete', 'catherine', 'array', 'filming', 'thunderbirds', 'luis', '1948', 'wooden', 'jailhouse', 'realising', 'rodgers', 'newport', 'curtis', 'deprived', 'broadway', 'lady', 'kanye', 'enemy', 'bow', 'tradition', 'monster', 'painkiller', 'commercially', 'portrayal', 'humour', 'script', 'comics', 'contender', 'surpassed', 'secrets', 'reunited', 'pioneers', 'fenice', 'interval', 'nerve', 'aired', 'julian', 'simpsons', 'abbott', 'duran', 'contestant', 'hailey', 'sleep', 'celebration', 'jungle', 'requested', 'teach', 'trek', 'hottest', 'sciences', 'andrea', 'uniform', 'ozzy', 'browsing', 'planet', 'cicero', 'ossie', 'nostalgia', 'qualifications', 'fiji', 'lo', 'map', 'angle', 'shots', 'dundee', 'godzilla', 'joke', 'cymru', 'judicial', 'duncan', 'ministerial', 'unsolicited', 'doug', 'dossier', 'slogan', 'marr', 'amicus', 'sights', 'migrants', 'hansard', 'compatible', 'foxes', 'danny', 'tactic', 'runway', 'hutt', 'mobility', 'isinbayeva', 'svetlana', 'venus', 'yannick', 'dominici', 'arnesen', 'touchline', 'offside', 'sebastien', 'fowler', 'steroid', 'qualifier', 'sheridan', 'hansen', 'hazell', 'mauresmo', 'maggs', 'kezman', 'bogdanovic', 'bernabeu', 'ruud', 'santini', 'healey', 'pool', 'desailly', 'hoddle', 'faroe', 'usb', 'sharers', 'walkman', 'gamer', 'paniccia', 'offline', 'variants', 'skulls', 'physics', 'playback', 'graphical', 'convergence', 'latinohiphopradio', 'podcasts', 'pvr', 'cluley', 'jaynes', 'gta', 'warcraft', 'sloncek', 'eff', 'asimo', 'seller', 'ftse', 'abbas', 'demonstration', 'quake', 'currencies', 'mounted', 'louis', 'austrian', 'administrators', 'reviewing', 'pan', 'futures', 'auditors', 'forecasting', 'silva', 'downturn', 'survivors', 'phenomenal', 'arab', 'visible', 'tariff', 'commonwealth', 'brad', 'mg', 'shortage', 'exceed', 'educated', 'agreeing', 'electric', 'jeff', 'embarrassing', 'locally', 'traded', 'commonly', 'tends', 'experiencing', 'assist', 'overhaul', 'reductions', 'accusations', 'steer', 'divisions', 'jurgen', 'disclose', 'preference', 'del', 'path', 'removal', 'crackdown', 'dams', '550', 'totalling', 'unexpected', 'circulation', 'awaited', '170', 'towns', 'bidder', 'tumbled', 'spree', 'attraction', 'soar', 'transferred', 'milk', 'existed', 'harrison', 'adriano', 'travellers', 'symbol', 'excessive', 'transparency', 'import', 'highbury', 'comply', 'inadequate', 'poured', 'obligations', 'spends', 'answers', 'confronted', 'location', 'foods', 'dozens', 'peoplesoft', 'database', 'exists', 'ventures', 'mills', 'harmful', 'shifting', 'garden', 'predecessor', 'dividends', 'obliged', 'clause', 'structures', 'joel', '16bn', 'reservations', 'labor', 'impetus', 'secretly', 'exceeded', 'norman', 'disruption', 'expenditure', 'ward', 'deaf', 'cuban', 'backwards', 'supporter', 'provision', 'mirror', 'pays', 'egyptian', 'helen', 'minds', 'aceh', 'bulgaria', 'integration', 'idle', 'ranch', 'tension', 'handled', 'chidambaram', 'pockets', 'samuel', 'concentrated', 'slim', 'contested', 'demanding', 'ism', 'iconic', 'organise', 'independently', 'promptly', 'adequately', 'justify', 'permitted', 'patricia', 'ally', 'arrests', 'equipped', 'attitudes', 'convenient', 'component', 'attending', 'quicker', 'pin', 'demonstrates', 'sealed', 'serge', 'jan', 'ambani', 'ali', 'collections', 'guns', 'lined', 'mumbai', 'integrated', 'coloured', 'dry', '11th', 'thanked', 'palmer', 'tower', 'verdict', 'unveiling', 'disadvantaged', 'linking', 'gathering', 'walsh', 'textile', 'sexual', 'promoted', 'urging', 'maurice', 'wishes', 'allowance', 'deeper', 'asks', 'debates', 'ageing', 'archer', 'pr', 'cruise', 'lenovo', 'controller', 'loop', 'comprehensive', 'myers', 'hal', 'bizarre', 'settings', 'lacking', 'processed', 'beatles', 'tree', 'drummer', 'jr', 'professionals', 'fahrenheit', 'mel', 'hoffman', 'imagination', 'guest', 'jude', 'lottery', 'enduring', 'jane', 'prominence', 'redford', 'sci', '15th', 'scooped', 'nair', 'horses', 'andrews', 'pires', 'sections', 'perceived', 'blew', 'triumphed', 'clarkson', 'jam', 'ladbrokes', 'lennon', 'madonna', 'gigs', 'umbrella', 'microphone', 'bombarded', 'universe', 'diane', 'herald', 'likened', 'abba', 'spacey', 'lover', 'lasted', 'crashed', 'lush', 'funeral', 'freeman', 'clinched', 'pub', 'translated', 'beverly', 'copied', 'dancers', 'sitcom', 'holocaust', 'analogue', 'celebrating', 'religion', 'tuned', 'stormed', 'preview', 'indecency', 'nights', 'belfast', 'emotions', 'nathalie', 'ridiculous', 'willis', 'showcasing', 'baftas', 'labelled', 'dying', 'nelly', 'monitors', 'norfolk', 'roundabout', 'eyed', 'photographs', 'offenders', 'faking', 'blasts', 'nonsense', 'searches', 'photographers', 'semitic', 'speakers', 'scot', 'decides', 'animosity', 'cardinal', 'griffin', 'menzies', 'chronicle', 'fagin', 'individually', 'carers', 'solicitor', 'tracking', 'constituencies', 'backbenchers', 'ordinate', 'marginal', 'whitehall', 'begg', 'rightly', 'detentions', 'incompatible', 'bournemouth', 'powys', 'borthwick', 'sidelines', 'nuisance', 'brien', 'ruth', 'log', 'confusing', 'vastly', 'micro', 'rowntree', 'inch', 'mile', 'invisible', 'swede', 'kluft', 'polish', 'slovakia', 'rougerie', 'betsen', 'bourgoin', 'springboks', 'mido', 'scarlets', 'masi', 'maso', 'foley', 'horan', 'lta', 'haas', 'mentally', 'millwall', 'dutchman', 'olly', 'marat', 'rafa', 'referees', 'darren', 'guerrouj', 'boot', 'os', 'llewellyn', 'thumb', 'vogts', 'gigabytes', 'rss', 'gigabyte', 'symbian', 'seagrave', 'modem', 'morquendi', 'downloadable', 'betamax', 'architecture', 'login', 'ip', 'copyrighted', 'mozilla', 'gizmondo', 'streaming', 'updates', 'everquest', 'dtt', 'deemed', 'restaurant', 'absent', 'bcc', 'porto', 'speculated', 'dragged', 'relies', 'weighed', 'obtained', 'advisors', 'phytopharm', 'pharmaceutical', 'appetite', 'bright', 'scandals', 'advisor', 'brink', 'flagship', 'revive', 'tensions', 'climb', 'pressed', 'totalled', 'thousand', '2015', 'coupled', 'compares', 'digit', 'shocks', 'primarily', 'shortfall', 'broker', 'payout', 'slid', 'negotiated', 'observer', 'irregularities', 'nigerian', 'illegitimate', 'imposing', 'upheld', 'yangtze', 'tended', 'gerard', 'generic', 'cooperation', 'wrongdoing', 'resulting', 'closures', 'arranged', 'mess', 'surged', 'equities', 'acknowledge', 'calendar', '97', 'attracting', 'travels', 'commenting', 'objectives', 'inner', 'acceptance', 'clamp', 'entrepreneur', 'letters', 'exceptional', 'sub', 'hamper', 'hiring', 'relationships', 'chile', 'restate', 'aguas', 'buenos', 'meantime', 'solely', 'gamble', 'facts', 'accuse', 'showcase', 'oracle', 'sues', 'plunged', 'dangers', 'painful', 'shipped', 'temperatures', '89', 'affecting', 'swedish', 'paolo', 'disguise', 'glass', 'rough', 'faults', 'blur', 'raymond', 'judiciary', 'acquisitions', 'protections', 'grey', 'advise', 'cml', 'considerably', 'tone', 'visitor', 'indicate', 'hiding', 'sanctions', 'valley', 'fare', 'kurt', 'distributors', 'chemical', 'wheel', 'rein', 'ears', 'bdo', 'obligation', 'harsh', 'successor', 'pearson', 'tabloid', 'italians', 'overtaken', '06', 'compact', 'buck', 'weakening', 'emergence', 'steadily', 'farms', 'valid', 'legality', 'examined', 'bros', 'alerts', 'experiment', 'emi', 'coldplay', 'thrilled', 'regained', 'plea', 'bskyb', 'monsanto', 'chemicals', 'topic', 'saga', 'rod', 'sticking', 'controversially', 'senator', 'painting', 'patch', 'newest', 'vary', 'macklin', 'binding', 'danish', 'hitachi', 'quitting', 'coastal', '81', 'hunters', 'jamaican', 'nortel', 'emissions', 'essentially', 'lobby', 'relative', 'alarm', 'safeguards', 'cheese', 'destiny', 'oecd', 'vincent', 'gen', 'eager', 'marine', 'complicated', 'escaped', 'fosters', 'merely', 'regard', 'submission', 'bayern', 'mittal', 'absa', 'swing', 'workplace', 'rees', 'kok', 'compelling', 'cox', 'vioxx', 'blown', 'ride', 'funny', 'competitor', 'describes', 'establishing', 'shore', 'defences', 'regulate', 'cocoa', '96', 'partnerships', 'filling', 'bones', 'toy', 'worthwhile', 'maintenance', 'describing', 'prospective', 'choosing', '1950s', 'louise', 'precious', '90s', 'sample', '101', 'oldest', 'neat', '78', 'restricted', 'kit', 'firing', 'stays', 'packard', 'clearer', 'relied', 'elgindy', 'fulfil', 'accessed', 'applying', 'undisclosed', 'sits', 'holy', 'groundbreaking', '1978', 'height', 'bundled', 'tops', 'cosby', 'quirky', 'nightmare', 'isle', 'mcallister', 'genocide', 'spurlock', 'merit', 'venice', 'critically', 'sandra', 'acclaim', 'recordings', 'stevie', 'ashamed', 'smash', 'constable', '25th', 'wings', 'girlfriend', 'beastie', 'lisa', 'fry', 'kodak', 'phrase', 'gibbons', 'overlooked', 'searchers', 'criticise', 'sophie', 'prejudice', 'miami', 'euthanasia', 'protesters', 'touring', 'grammys', 'presenters', 'infamous', 'serial', 'flair', 'azkaban', 'radically', 'designs', 'jennifer', 'gere', 'ron', 'ancient', 'creativity', 'shortlisted', 'prodigy', 'dee', 'factual', 'bangkok', 'toured', 'kenny', 'dominic', 'detect', 'bravery', 'sing', 'leaflet', 'sharapova', 'mccartney', 'cowell', 'translates', 'spector', 'criminally', 'travelled', 'plain', 'displayed', 'packet', 'jackie', 'mccririck', 'dallas', 'lucy', 'ordinator', 'wasp', 'portman', 'tarantino', 'sorted', 'crossed', 'swept', 'worms', 'witnesses', 'monitored', 'smashed', 'slug', 'replaces', 'oh', 'vaughan', 'peas', 'enemies', 'deleted', 'fashioned', 'muse', 'appreciate', 'clashed', 'preston', 'bruno', 'conti', 'wham', 'compare', 'bombs', 'shortlists', 'addressing', 'tied', 'cleaner', 'manoeuvring', 'amendment', 'procedure', 'sturgeon', 'jumper', 'beliefs', 'heath', 'archives', 'courses', 'confess', 'greenwood', 'sands', 'opposing', 'disputes', 'precisely', 'tagging', 'ironic', 'decisive', 'backgrounds', 'hain', 'portugal', 'defra', 'useless', 'undergo', 'wise', 'ioc', 'flaw', 'llanelli', 'touted', 'rochus', 'frenchman', 'wrist', 'tiebreak', 'molik', 'daniela', 'julien', 'traille', 'jenkins', 'cockbain', 'substances', 'hopman', 'burger', 'cusiter', 'ioannidis', 'heptathlon', 'troncon', 'dal', 'leamy', 'sheahan', 'mcleish', 'helsinki', 'magpies', 'nalbandian', 'kicker', 'hrbaty', 'scorer', 'toulouse', 'ruck', 'eriksson', 'dudek', 'clocked', 'cudicini', 'bowyer', 'bailey', 'toure', 'ak', 'hooker', 'tevez', 'mccall', 'usada', 'sinclair', 'beta', 'negroponte', 'mb', 'macworld', 'lanzone', 'logs', 'handhelds', 'eduvision', 'slates', 'milanesi', 'disks', 'multiplayer', 'navigation', 'pixels', 'sigarchi', 'fiorina', 'humans', 'biometric', 'kazaa', 'supercomputer', 'cartridges', 'rsa', 'hogan', '1988', 'bankers', 'stakes', 'resorts', 'helm', 'relentless', 'goodwill', 'wef', 'globalisation', 'weakened', 'devastating', 'declines', 'dow', 'feed', 'attached', 'lighter', 'conversations', 'dixon', 'eat', 'ubs', 'seifert', 'anglo', 'hunger', 'parma', 'sudden', 'fraudulent', 'innocence', 'ilo', 'acted', 'curb', 'wipe', '1971', 'dressed', 'masses', 'projected', 'guided', 'splits', 'circle', 'matrix', 'tears', 'bearing', 'jakarta', 'academic', 'beneficial', 'seamless', 'accelerating', 'proposes', 'branches', 'opel', 'kremlin', 'gallagher', 'rigging', 'elliot', 'manages', 'deposit', 'crowded', 'societies', '190', 'resource', '75bn', 'declare', 'temporarily', 'heritage', 'shipping', 'squeezed', 'rhythm', 'repay', 'sumitomo', 'daiwa', 'touching', 'severely', 'magnitude', '160', 'payouts', 'ceo', 'rebound', 'spots', 'clara', 'furse', 'constructive', 'dealings', 'bounced', 'knocking', 'annually', 'allegation', 'soared', 'shoes', 'favourable', '1945', 'limiting', 'disappearance', 'strengthening', 'ecb', 'flexible', 'stefan', 'actively', 'occasionally', 'argentinas', 'casting', 'aires', 'complaining', 'andersen', 'humanitarian', 'criticising', 'clarity', 'exercising', 'marie', 'rajasthan', 'relaxed', 'inflated', 'allowances', 'vendors', 'supermarket', 'denying', 'modified', 'dependent', 'citing', 'possibilities', 'checking', 'pursuing', 'suspicious', 'abiding', 'destined', 'ports', 'auctioned', 'protested', 'obliges', 'digby', 'cadbury', 'wary', 'leisure', 'overseeing', 'buoyant', 'scary', 'confidentiality', 'concessions', 'aftermath', 'deliberate', 'embarrassed', 'storm', 'jumping', 'discounts', 'khatami', 'productive', 'africans', 'ferrari', 'founding', 'prosper', 'reap', 'gesture', 'medicine', 'axe', 'publications', 'alike', 'albania', 'pat', 'stupid', 'druyun', 'favoured', 'sentencing', 'cracking', 'greatly', 'consulted', 'inform', 'seemingly', 'removing', 'topics', 'guests', 'frame', 'fitting', 'unprecedented', 'bureau', 'pernod', 'diageo', 'widen', 'imported', 'enabling', 'odpm', 'musharraf', 'gulf', 'nationally', 'meaningless', 'liquid', '2011', 'awaiting', 'tightening', 'solving', 'harvey', 'manufactured', 'textiles', 'ssl', 'scholl', 'aggressively', 'accountability', 'heralded', 'dominates', 'bitter', 'mature', 'lcd', 'trademark', 'infringement', 'infringed', 'crawford', 'satisfy', 'sina', 'filter', 'seasonally', 'assurances', 'yuganskneftegaz', 'pilots', 'intensive', 'statutory', 'employing', 'till', 'associate', 'childhood', 'skilled', 'browne', 'crop', 'considerable', 'hawkins', 'judy', 'incentive', 'privately', 'degrees', 'wares', 'opting', 'catching', 'frederic', 'passes', 'bloc', 'hungary', 'dimension', 'salaries', 'foreigners', 'glenn', 'regret', 'skinner', 'investigators', 'fold', 'hamm', 'mukesh', 'donor', 'coordinator', 'clutch', 'downside', 'backers', 'laboratories', 'counterpart', 'photograph', 'roof', 'walls', 'checked', 'engineer', 'accessing', 'grasp', 'underlined', 'nasty', 'naming', 'requiring', 'distances', 'macdonald', 'heels', 'aer', 'lingus', 'presentation', 'villalba', 'lacked', 'arriving', 'q', 'grants', 'noel', '7e7', 'surprisingly', 'reliable', 'misery', 'permanently', 'cameroon', 'hammer', 'disillusioned', 'lesotho', 'propaganda', 'couples', 'conductor', 'insight', 'limped', 'princess', 'hewlett', 'finland', 'crazy', 'godfather', 'conviction', 'contempt', 'dress', 'disputed', 'formula', 'rip', 'generations', 'feedback', 'brixton', 'libertines', 'pitt', 'vanity', 'marlon', 'albert', 'soldier', 'gilbert', 'pig', 'westlife', 'goodrem', 'fond', '1965', 'gospel', 'griffiths', 'shakespeare', '1976', 'cesar', 'chorus', 'dreams', 'killers', 'def', 'credible', 'mgm', 'warrior', 'sensational', 'sizzla', 'tunes', 'aguilera', 'diamond', 'gate', 'goodbye', 'ant', 'nirvana', 'songwriter', 'britney', 'tessa', 'hair', 'th', 'howl', 'horrible', 'cds', 'quartet', 'trapped', 'memorial', 'deacon', 'certificate', '1977', 'booker', 'literary', 'mould', 'organiser', 'notices', 'norwegian', 'kite', 'pornography', 'exploring', 'harold', 'mondays', 'forrester', 'debuts', 'nao', 'saint', 'carr', 'showcased', 'poetry', 'greer', 'hungry', 'stallone', 'cameron', 'gritty', 'suffers', 'reader', 'pornographic', 'slater', 'hat', 'rhys', 'refuses', 'hopkins', 'bone', 'packs', 'undoubtedly', 'catholics', 'pundit', 'evicted', 'stunt', 'whatsoever', 'fancy', 'comfortably', 'burglar', 'ladder', 'bach', 'inaccurate', 'witnessed', 'foul', 'understands', 'cruel', 'carson', 'finalist', 'advances', 'authentic', 'squeeze', 'item', 'hints', 'allan', 'misunderstood', 'cyril', '80s', 'chester', 'contributors', 'halliwell', 'sat', 'zimbabwe', 'speculate', 'researcher', 'weird', 'bits', 'paralysed', 'christophe', 'bryan', 'collective', 'pending', 'backbencher', 'inadvertently', 'shocking', 'answered', 'zambia', 'nationality', 'thorpe', 'debated', 'mansfield', 'commonplace', 'eurosceptic', 'courage', 'crosby', 'precise', 'tods', 'msps', 'prevention', 'plug', 'inheritance', 'looming', 'abolish', 'curfews', 'qualities', 'searched', 'bowles', 'tiananmen', 'turf', 'convictions', 'embracing', 'precedent', 'cord', 'delete', 'sayeed', 'provisional', 'stansted', 'householders', 'fortunately', 'silly', '512', 'literacy', 'outset', 'courtesy', 'shipments', 'qualification', 'obsession', 'scarman', 'footed', 'jauzion', 'fabien', 'grandclaude', 'mcbryde', 'wru', 'coached', 'parisse', 'pavey', 'christos', 'arjen', 'valencia', 'lad', 'castrogiovanni', 'persico', 'corrigan', 'sociedad', 'toshack', 'brom', 'heinze', 'lads', 'nou', 'realistically', 'goode', 'guillermo', 'coria', 'thg', 'spaces', 'locks', 'lamont', 'carragher', 'grady', 'mcguire', 'paulo', 'climax', 'houllier', 'ljungberg', 'montgomery', 'spoon', 'juventus', 'lomu', 'prutton', 'sculthorpe', 'castaignede', 'remotely', 'bug', 'persie', 'mikoliunas', 'novo', 'campese', 'sella', 'manually', 'symantec', 'umd', 'innovations', 'pulses', 'em', 'ddos', 'ringtone', 'programmers', 'personalisation', 'smartphones', 'podcast', 'wearable', 'digitally', 'cartridge', 'texting', 'edonkey', 'bofra', 'printers', 'calculator', 'houlihan', 'raskin', 'purushotma', 'invested', 'ronald', 'picks', 'nearby', 'outsourcing', 'concrete', 'flotation', 'tata', 'lvmh', 'ranges', '850', 'slashed', 'tender', 'undervalued', 'der', 'containing', 'paypal', 'administrator', 'supposedly', 'demise', 'deloitte', 'faltering', 'lula', 'darling', 'livelihoods', 'jordan', 'flagged', 'inflationary', 'scepticism', 'massively', 'automotive', 'benz', 'tabled', 'enjoys', 'floating', 'dig', 'overtook', 'respectable', 'portrait', 'unemployed', 'sentiment', 'wealthy', 'corners', 'inevitably', 'lacklustre', 'downward', 'considers', 'outline', 'halve', 'metlife', 'furniture', 'restaurants', 'uncovered', 'reforming', 'nigeria', 'di', 'exporters', 'owes', 'lawful', 'lake', 'exclude', 'explanation', 'surprises', 'seized', 'provinces', '25bn', 'smooth', '105', 'rallied', 'confirmation', '30bn', 'briefing', 'santander', 'heating', 'restored', 'hurricanes', 'mounting', 'rumoured', 'clearstream', 'carmakers', 'aides', 'subscriptions', 'subscriber', 'yili', 'wrongly', 'bombardier', '133', 'rallying', 'applicants', 'collateral', 'partisan', 'o2', 'ballots', 'addressed', 'willingness', '230', 'purchasing', 'tier', 'kirchner', 'utilities', 'earns', 'spirits', 'advisers', 'rotterdam', 'objective', 'geneva', 'warwick', 'fda', 'dome', 'bangladesh', 'ap', 'discount', 'volumes', 'sterling', 'peaked', 'unavailable', 'sheet', 'pasquale', 'overturn', '12bn', 'implement', 'uniquely', 'disrupted', 'notion', 'unpredictable', 'enforced', 'preserve', 'protects', 'cheaply', 'accuracy', '300p', 'vhs', 'mortgages', 'historically', 'observed', 'frequency', 'peugeot', 'participate', 'breakdown', 'chilean', 'pit', 'reactions', 'berlusconi', 'mixture', 'steering', 'rental', 'recruited', 'fragile', 'pegged', 'peg', 'ripe', 'securing', 'credited', 'pioneer', 'teeth', 'advertisers', 'diesel', 'apacs', 'bulgarian', 'hugo', 'conflicts', 'carl', 'carries', 'notably', 'assigned', 'loaded', 'reiterated', 'claude', 'hails', 'lecture', 'revolutionary', 'trim', 'presenting', 'stimulate', 'lifting', 'assumptions', 'furious', 'imminent', 'importantly', 'exploiting', 'confirming', 'celebrations', 'cigarette', 'mervyn', 'declaring', 'tube', 'installation', 'commuters', 'oversee', 'fargo', 'deadly', 'pubs', 'televisions', 'informal', 'reminded', 'slipping', 'lishman', 'mount', 'bite', 'taiwan', 'mogul', 'cantona', 'expectancy', 'recommend', 'henri', 'flag', 'stoke', 'jamaica', 'tempted', 'credentials', 'cat', 'eads', 'aerospace', 'brady', 'counting', 'suspicions', 'mill', 'corporations', 'destination', 'reflection', 'query', 'kraft', 'dancer', 'supportive', 'appoint', 'renew', 'rand', 'seychelles', 'rehabilitation', 'burns', 'kfb', 'unaffected', 'petition', 'locations', 'receives', 'merchant', 'consume', 'pricing', 'issuing', 'spike', 'motivate', 'environments', 'electrical', 'lighting', 'layout', 'fischer', 'rupert', 'fitted', 'boots', 'strains', 'sa', 'restricting', 'provoked', 'difficulty', 'gender', 'li', 'personnel', 'ratified', 'expertise', 'roche', 'hamilton', 'mere', 'vying', 'invitation', 'pursued', 'lomax', 'nelson', 'reformed', 'pitches', 'pervasive', 'adopting', 'retiring', 'frantic', 'elizabeth', 'penny', 'unbundling', 'filters', 'graduate', 'judging', 'stretches', 'kronor', 'accountable', 'hearings', 'abuses', 'amounted', 'scientist', 'embassy', 'atomic', 'invented', 'mick', 'carrey', 'uncle', 'elliott', 'inspiring', 'misses', 'stiller', 'dustin', 'fever', 'eponymous', 'writes', 'indie', 'joked', 'vienna', 'cheating', 'genres', 'sang', 'superhero', 'audrey', 'jeunet', 'tenfold', 'stabbed', 'finale', 'hackford', 'bookmaker', 'hepburn', 'ensured', 'stephens', 'verbal', 'promoters', 'bottle', 'belonging', 'loves', 'yeah', 'classical', 'contentious', 'differently', 'captured', 'documentaries', 'timely', 'stocking', 'footsteps', 'mailed', '18th', 'tally', 'samples', 'jewellery', '12th', 'travis', 'oasis', 'famed', 'contention', 'windsor', 'streak', 'sebastian', 'bassist', 'pulling', 'walliams', 'echo', 'unusually', 'deport', 'hills', '1956', 'masters', 'breast', 'hadn', 'logged', 'testament', 'soccer', 'mode', 'ai', 'explanations', 'proceeds', 'kinsey', 'titanic', 'sweep', 'weblog', 'subjects', 'housemates', 'anna', 'zhang', '1964', 'richie', 'ashcroft', 'bears', 'buhecha', 'goodman', 'unreleased', 'whitbread', 'promotes', 'osbournes', '70s', 'recipients', 'thrill', 'throne', 'resident', 'bird', 'berry', 'heaped', 'jacket', 'recycled', 'grave', 'savage', 'thomson', 'hate', 'focuses', 'subjected', 'outing', 'guarantees', 'divorce', 'delight', 'transmitted', 'anastasia', 'completing', 'magazines', 'honesty', 'christie', 'portuguese', 'amelie', 'confused', 'newer', 'budd', 'sheriff', 'cape', 'spectators', 'supremo', 'con', 'hounds', 'roman', 'melcher', 'dialogue', 'thrive', 'bridges', 'outrageous', 'youngster', 'eton', 'indefinite', 'msp', 'qaeda', 'torture', 'fairer', 'extremists', 'spectator', 'behaving', 'behave', 'insane', 'boothroyd', 'holyrood', 'distracted', 'refugee', 'propose', 'mediation', 'parenting', 'donation', 'abbasi', 'romanian', 'kemp', 'diplomatic', 'whip', 'obtain', 'judgment', 'compromised', 'sainsbury', 'prisons', 'hartlepool', 'concerning', 'mallon', 'naive', 'councillors', 'dodgy', 'smarter', 'vaccine', 'hereford', 'reoffending', 'finger', 'solved', 'gatwick', 'rifle', 'murderers', 'egg', 'rack', 'welshman', 'ict', 'tgwu', 'flood', 'cheats', 'switching', 'adelaide', 'vault', 'arash', 'clinch', 'nyanga', 'laharrague', 'lamboley', 'serbia', 'ethiopian', 'outfit', 'fixtures', 'cragg', 'ceplak', 'luciano', 'trailing', 'roland', 'griffen', 'capriati', 'uncapped', 'hartson', 'petrov', 'ferreira', 'xv', 'bosvelt', 'leverkusen', 'pen', 'equaliser', 'charvis', 'jelena', 'magnificent', 'petrie', 'londoners', 'imanol', 'dimitri', 'yann', 'slotted', 'angled', 'federations', 'finnan', 'gatlin', 'fabregas', 'tri', 'ajax', 'moyes', 'camara', 'helens', 'jens', 'cas', 'francais', 'varga', 'burke', 'ashdown', 'burner', 'ultra', 'messenger', 'vulnerabilities', 'gracenote', 'idn', 'robotic', 'mmorpgs', 'weblogs', 'textbooks', 'imaging', 'bagle', 'webpage', 'lasers', 'blogosphere', 'interaction', 'platforms', 'energis', 'zombies', 'herren', 'wgbh', 'battlefront', 'joystick', 'functionality', 'moderators', 'harbouring', 'ripping', 'piero', 'celltick', 'cursor', 'notebook', 'yoran', 'netratings', 'connectivity', 'hosford', 'dod', 'chronometer', 'usability', 'zafi', 'demos', 'tremor', 'adapter', 'downlink', 'gameboyzz', 'libya', 'bin', 'sugar', 'sweeteners', 'reinforce', 'inability', 'warming', 'campaigner', 'baht', 'rupiah', 'reinsurance', 'lacroix', 'plead', 'pleas', 'defraud', 'dairy', '14bn', 'deputies', 'indicted', 'improper', '180bn', 'administrative', 'arrive', 'lankan', 'broader', 'enormously', 'experimental', 'clinical', 'vw', 'confirms', 'shanghai', 'discussing', 'economically', 'charm', 'govern', 'convince', 'cake', 'trader', 'accounted', 'beef', 'admitting', 'merging', 'subsidised', 'seasonal', 'des', 'tremors', 'woes', 'feelings', 'contraction', 'debating', 'litigation', 'jain', 'obscured', 'productivity', 'sheets', 'favours', 'wang', '106', 'kingfisher', 'inquiries', 'exception', 'osborne', 'mystery', 'excluded', 'petrochemicals', 'southwest', 'bribe', 'powell', 'undergoing', 'registering', 'defy', 'exceeds', 'botin', 'testimony', 'offerings', 'redundancies', 'algeria', 'riots', 'agence', 'packed', 'weaken', 'negotiating', 'suvs', 'stockpiles', 'detroit', 'indicators', 'restructure', 'clues', 'laundering', 'buyout', '135', 'canal', 'excuse', 'dc', 'swell', 'farmer', 'fleet', 'defiant', 'objections', 'fao', 'recommends', 'rice', 'partially', 'thorough', 'hsbc', 'watchdogs', 'serves', '01', 'alleging', 'occur', 'uncomfortable', 'simpler', 'hammered', 'cream', 'famously', 'fights', 'faulty', 'drilling', 'gammell', 'expectation', 'commissions', '280bn', 'altria', 'racketeering', '04', 'haul', 'outgoing', 'benefited', 'maximise', 'upsurge', 'unsure', 'maintains', 'novartis', 'identical', 'expires', 'sarbanes', 'oxley', 'disagree', 'unwilling', '404', 'pitched', 'cubic', 'wpp', 'expose', 'bases', 'waning', 'atr', 'transportation', 'commented', 'waited', 'alter', 'thirty', 'marchionne', 'integrate', 'maserati', 'floated', 'profound', 'breakneck', 'laying', 'strain', 'torn', 'sacking', 'twins', 'suited', 'du', 'minded', 'creditor', 'moratorium', 'volatility', 'communist', 'theirs', 'procurement', 'rocket', 'timewarner', 'charter', 'tackles', 'shaped', 'krivorizhstal', 'pioneering', 'territories', 'hostile', 'challenger', 'artificially', 'incumbent', 'rossignol', 'kse', 'vietnam', 'sudan', 'clampdown', '178', 'pump', 'staggering', 'republican', 'rampant', 'flourish', 'backbone', 'unsuccessful', 'hostility', 'karl', 'woo', 'inc', 'abandoning', 'drops', 'watts', 'surpass', 'troubles', 'satisfying', 'confuse', 'sim', 'nicknamed', 'relax', 'niesr', 'cloud', 'contributing', 'bass', 'jarvis', 'staying', 'wished', 'eventual', 'recipient', 'todd', 'halls', 'levelled', 'ditch', 'bsa', 'fruit', 'pregnant', 'portray', 'panke', 'monica', 'viable', 'conducting', 'insulting', 'bilateral', 'uphill', 'enlarged', 'patience', 'satisfaction', 'polled', 'courting', 'signature', 'arrangement', 'notch', 'grade', 'interrupted', 'availability', 'hunter', 'pinochet', 'ambassador', 'earliest', 'bullish', 'adb', 'diseases', 'michel', 'sandy', 'placing', 'evolved', 'winn', 'dixie', 'upgrading', 'stalking', 'forums', 'loses', 'indians', 'protein', 'blaming', 'arise', '88', 'painted', 'lights', 'maguire', 'speaks', 'heights', 'turkmenistan', 'overnight', 'civilian', 'merck', 'stir', 'hardie', 'lung', 'advertise', 'inches', 'sexism', 'dismissal', 'bullying', 'participants', 'carbon', 'revaluation', 'umbro', 'shirt', 'declaration', 'maturity', 'revamped', 'gerry', 'undertaking', 'holcim', 'confrontation', 'diagnosed', 'humble', 'depends', 'oxfam', 'mechanism', 'fibre', 'consultants', 'fairness', 'proven', 'labelling', 'selecting', 'valentine', 'mauritius', 'endless', 'caution', 'daughters', 'aurora', 'scares', 'ships', 'refund', 'definitive', 'organic', 'armed', 'manipulate', 'alitalia', 'cannabis', 'gw', 'complacency', 'harvard', 'socially', 'epidemic', 'unsuccessfully', 'hadi', 'aberdeen', 'iraqis', 'nots', 'engineers', 'stones', 'dismantle', 'sentiments', 'garage', 'kicks', 'snicket', 'clooney', 'treasure', 'polar', 'rat', 'refusal', 'magistrates', 'mitchell', 'maroon', 'burton', 'cage', 'sylvia', 'hazel', 'tonight', 'siege', 'vince', 'chaired', 'jk', 'rowling', 'memorable', 'ladies', 'bump', 'jumps', 'von', 'wartime', 'stature', 'protege', 'shook', 'topper', 'notorious', 'nathan', 'grammar', 'amanda', 'warehouse', 'clare', 'airplay', 'ifpi', 'pierce', 'brosnan', 'servant', 'jackman', 'mcgregor', 'breath', 'p.m.', 'venues', 'forgot', 'invasion', 'capra', 'maloney', 'caroline', 'jo', 'competed', 'moreno', 'scrubs', 'boyfriend', 'cocaine', 'nightclub', 'collector', 'confessions', 'jesus', 'nemo', 'corbett', 'spawned', 'brains', 'counted', 'embedded', 'advocate', 'manic', 'mixing', 'demons', 'fatal', 'inspire', 'fractured', 'humorous', 'foo', 'fighters', 'coincided', 'piano', 'darin', 'ovation', 'beast', 'lovely', 'pearce', 'grandmother', 'wes', 'portishead', 'violation', 'fuels', 'geldof', 'premature', 'quentin', 'glastonbury', 'gabriel', 'criticisms', 'practise', 'rca', 'banter', 'nogar', 'porn', 'luton', 'diagnosis', 'sequels', 'pure', 'lancashire', 'auschwitz', 'bbc1', 'portion', 'showcases', 'raises', 'nowadays', 'column', 'refers', 'decorated', 'tracey', 'rory', 'playground', 'kenzie', 'bold', 'quest', 'mothers', 'spoof', 'penalised', 'colourful', 'lining', 'okonedo', 'accolade', 'devoted', 'corpus', 'unremittingly', 'flew', 'bunch', 'dunbar', 'bugs', 'shark', 'teething', 'bend', 'maiden', 'lifestyles', 'bullock', 'shine', 'cheadle', 'thrust', 'overwhelmed', 'soil', 'tanks', 'bishop', 'stole', 'privilege', 'banner', 'honouring', 'derek', 'stefani', 'enters', 'calder', 'accomplished', 'bradshaw', 'remind', 'retro', 'creatures', 'inspiration', 'worthy', 'spy', 'schwartz', 'criticises', 'aloud', 'furore', 'basketball', 'slick', 'headset', 'davey', 'stretching', 'assembled', 'embraced', 'firstly', 'korn', 'hardcore', 'exclusion', 'exploded', 'brilliantly', 'carmen', 'discontent', 'mentality', 'privileges', 'resistance', 'mackie', 'kidman', 'wheelchair', 'presumably', 'backbench', 'unlawful', 'deported', 'distinct', 'snp', 'sergeant', 'mi6', 'insistence', 'finegold', 'opposes', 'outdated', 'scanned', 'telephoning', 'karen', 'stealth', 'drafting', 'tactical', 'cleverly', 'intervened', 'gossip', 'intercept', 'persecution', 'anxious', 'lifelong', 'dubious', 'moazzam', 'blears', 'hutton', 'disorder', 'croatia', 'regiment', 'pensioner', 'kid', 'hanging', 'maths', 'beith', 'regardless', 'rattled', 'shifts', 'electioneering', 'needing', 'dca', 'oldham', 'surrey', 'tanzania', 'gps', 'ibrox', 'unlimited', 'ingram', 'napier', 'raf', 'sanders', 'inspection', 'rebellion', 'pedigree', 'okay', 'unwanted', 'deer', 'positives', 'addictive', 'disruptive', 'snooker', 'battlefield', 'cps', 'trialling', 'regards', 'baume', 'duchy', 'essentials', 'joachim', 'thrilling', 'ace', 'unseeded', 'aurelien', 'marconnet', 'mas', 'pountney', 'duffy', 'groin', 'gregan', 'wallabies', 'hayley', 'sania', 'suspensions', 'instantly', 'gough', 'geordan', 'ongaro', 'dellape', 'perugini', 'intoppa', 'fava', 'tournaments', 'defenders', 'scrappy', 'cristiano', 'steroids', 'lazio', 'didier', 'robredo', 'bayer', 'petr', 'ancic', 'managerial', 'kiely', 'wow', 'sonny', 'gaudio', 'dominik', 'southwell', 'grimes', 'sven', 'goran', 'valbon', 'mauro', 'notify', 'kewell', 'abeyie', 'flamini', 'dug', 'segas', 'bowe', 'gatland', 'titterrell', 'qualifiers', 'stam', 'corinthians', 'barbarians', 'masai', 'kluivert', 'madden', 'breed', 'gravesen', 'weir', 'snake', 'hingis', 'newry', 'adsl', 'hubs', 'scammers', 'wippit', 'playable', 'speegle', 'technorati', 'infect', 'mit', 'megapixels', 'packages', 'portals', 'capacities', 'hacker', 'philips', 'portability', 'frontier', 'hotspot', 'trotter', 'compressed', 'dvb', 'commentator', 'pvrs', 'vcr', 'icstis', 'infested', 'spybot', 'cab', 'telcos', 'supercomputers', 'wimax', 'telco', 'designers', 'autolink', 'qrio', 'archos', '2d', 'optinrealbig', 'spamhaus', 'sega', 'wanadoo', 'sonaptic', 'savoy', 'thames', 'bags', 'businessman', 'fred', 'sufficiently', 'slack', '440', 'helicopter', 'ivory', 'mahmoud', '07', '03', 'rupee', 'partial', 'ing', 'falic', 'mclennan', 'revealing', 'lawmakers', 'bondi', 'dotcom', 'devastated', 'capitalisation', 'liffe', 'werner', 'diet', 'desert', '103', 'misleading', 'varig', 'windfall', 'indictment', 'conglomerate', 'blessed', '1900', 'invite', 'fax', 'upwards', 'fuelling', 'obesity', 'relying', 'depression', 'cheapest', 'minis', 'paint', 'longbridge', 'saic', 'circles', 'eighteen', 'misled', 'valuation', 'iv', 'flooding', 'inclined', 'neutral', 'assumed', 'panic', 'contracted', 'cutbacks', 'farming', 'sunset', 'vauxhall', 'indebted', 'merchandise', '360', 'chrysler', 'cooled', '45bn', 'repaid', 'enterprises', 'inefficient', 'breweries', 'sponsored', 'plausible', 'associates', 'permits', 'mw', 'parallel', 'amr', '13bn', 'detected', '220', 'bolster', 'bribery', 'shirts', 'appropriately', 'corrupt', 'contractor', 'shaken', 'goldman', 'palestinians', 'donors', 'blames', 'unanimous', 'registry', '920', 'angel', 'instrumental', 'hire', 'unfavourable', 'overly', 'mild', 'hung', 'adequate', 'flared', 'presse', 'tightly', 'derivatives', 'worsened', 'clement', 'shrinking', 'reluctance', 'volkswagen', 'walt', 'intact', 'giveaway', 'bafin', 'wondered', 'strategies', 'cadillac', 'midst', 'contributor', 'apiece', 'endorsed', 'slavery', 'tragic', 'expands', 'branson', '60bn', 'roaming', 'resist', 'assessing', 'conclude', 'cotton', 'reasonably', 'deterioration', 'sustaining', 'indicating', 'unleashed', 'dein', 'streams', 'colombia', 'statistical', 'bulletin', 'diving', 'suez', 'pesos', 'converting', 'disagreements', 'sinking', 'inflate', 'stressing', 'alternatives', 'screaming', 'operational', 'porsche', 'vantage', 'prozac', 'needlessly', 'parking', 'liable', 'overshadowed', 'completion', 'sap', 'memorabilia', 'investec', 'suisse', 'kenneth', 'fool', 'contend', 'transformation', 'cancellations', 'entourage', 'campaigned', 'inherited', 'accurately', 'disproportionate', 'affiliate', 'donaldson', 'exemptions', 'outweigh', 'applies', 'delegation', 'sons', 'wimpey', 'fundamentals', 'michigan', 'erase', 'lag', 'concludes', 'herve', 'gaymard', 'baggage', 'flu', 'schedules', 'worsen', 'slash', 'wore', 'varied', 'cheer', 'correction', 'privatisations', 'meaningful', 'washed', 'hayward', 'remittances', 'inherit', 'crunch', 'accompanying', 'brc', 'gloomy', 'albanian', 'crossing', '162', 'reversed', 'prediction', 'underpin', 'forster', 'retained', 'insee', 'ferry', 'recruiting', 'prohibited', 'seattle', 'boundaries', 'atticus', 'nerves', 'ukrainian', 'accession', 'pragmatic', 'renowned', 'philosophy', 'johnston', '1200', 'accelerated', 'homeless', 'flooded', 'exporting', 'golf', 'madagascar', 'colonial', '168', 'defendants', 'uranium', 'miner', 'surging', 'westwood', 'gazpromneft', 'disposal', 'bonuses', 'peaks', 'tracked', 'ids', 'cheney', 'fiercely', 'rodrigo', 'takenaka', 'rachel', 'grips', 'queues', 'blatant', '157', 'payroll', 'kimberly', 'carlsberg', '163', 'precursor', 'isolation', 'directions', 'depressed', 'brewing', 'interbrew', 'competent', 'incoming', 'bba', 'excludes', 'britannia', 'seeds', 'struggles', 'crossover', 'fade', 'tempt', 'federated', 'yearly', 'ipo', 'toronto', 'dunn', 'monumental', 'soros', 'osi', 'prepares', 'onslaught', 'watchers', 'intercepted', 'fares', 'booking', 'achilles', 'blast', '270', 'lecturer', 'fraudsters', 'conjunction', 'sponsor', 'timberlake', 'nonetheless', 'tysabri', 'evaluate', 'auditor', 'profoundly', 'winemaker', 'monsoon', 'comfort', 'gibraltar', 'defer', 'alleges', 'luxembourg', 'krispy', 'kreme', 'spat', 'isolated', 'forming', 'mains', 'toilet', 'circuits', 'highlighting', 'habit', 'emulate', 'barroso', 'recommendations', 'stomach', 'recalls', 'leak', 'dire', '200lr', 'slimmer', 'rolled', 'goat', '115', 'paved', 'sung', 'heats', 'heirs', 'spilled', 'asbestos', 'quits', 'snub', 'bumper', 'hijack', 'exported', 'bureaucratic', 'watkins', 'withdrawing', 'pessimistic', 'chernin', 'cube', 'shorter', 'tracker', 'rolls', 'mines', 'leicestershire', 'executed', 'camus', 'secures', 'californian', 'guinness', 'demographic', 'bartlett', 'obscene', 'wreck', 'missions', 'veterans', 'lion', 'sovereign', 'wipro', 'watson', 'bryson', 'understandably', 'scenario', 'hmv', 'kyoto', '65s', 'brightest', 'talents', 'classed', 'dragging', 'treating', 'assuming', 'certainty', 'dynamic', 'quietly', 'hook', 'portrayed', 'charismatic', 'abilities', 'closes', 'remainder', 'feeding', 'pharma', 'geoffrey', 'bloom', 'hacking', 'richer', 'plight', 'grail', 'distinctive', 'formidable', 'spiritual', 'sealing', 'wildly', 'pleasure', 'lemony', 'novels', 'afi', 'draws', 'wardrobe', 'dergarabedian', 'newcomers', 'outlaw', 'literature', 'punk', 'morrissey', 'irons', 'playwright', '70th', 'debuted', 'waits', 'devil', 'snoop', 'meadows', 'zombie', 'becky', 'outsider', 'styles', 'interpretations', 'foray', 'quincy', 'choir', 'cheque', 'attentions', 'hilton', 'vic', 'bourne', 'seamlessly', 'jugnot', 'incorporates', 'boulevard', 'clyde', 'rubin', 'aspiring', 'murdered', 'saddam', 'rowan', 'farewell', 'frenzy', 'katherine', 'en', '1957', '1968', 'glittering', 'nudity', 'kisna', 'marking', 'accommodate', 'henderson', 'berlinale', 'boxer', 'praises', 'giamatti', 'zach', 'braff', 'immensely', 'probation', 'forged', 'random', 'archive', 'cafe', 'brookside', 'teen', 'nicole', 'appreciated', 'admissions', 'aka', 'miyazaki', 'monsters', 'ronnies', 'mighty', 'armes', 'ted', 'offending', 'preachers', 'nicky', 'wire', 'specials', 'centuries', 'biz', 'superstar', 'attractions', 'massenet', 'strauss', 'clapton', 'rowlands', 'naturally', 'kosslick', 'dre', 'amazed', 'brush', 'belong', 'kitchen', 'springer', 'thoday', 'lobbying', 'scripts', 'ricky', 'nighty', 'clocking', 'cure', 'grass', 'footballer', 'scoggins', 'frankly', 'imprisonment', 'airing', 'sexually', 'explicit', 'wisdom', 'natasha', 'workings', 'arguably', 'darker', 'ugly', 'heather', 'murders', 'storyline', 'gaps', 'chronicles', 'cuaron', 'embark', 'donating', 'finalists', 'taught', 'boogeyman', 'cliff', '17th', 'recognises', 'surf', 'angolan', 'ampas', 'postcards', 'a.m.', 'blend', 'kumar', 'rwandan', 'abortionist', 'phantom', 'annette', 'queens', 'uganda', 'organising', 'kruger', 'sabbath', 'suppose', 'listened', 'exploits', 'congratulated', 'gearing', 'logo', 'progressed', 'disciplined', 'elaborate', 'nod', 'coup', 'gant', 'overwhelmingly', 'adapting', 'references', 'bedroom', 'markova', 'beatle', 'worn', 'gwen', 'riverside', 'rediscovered', 'huw', 'lunchtime', 'congratulations', 'rated', 'paintings', 'meyer', 'caring', 'unrealistic', 'bedingfield', 'pollard', 'continually', 'irrelevant', 'goldeneye', 'coveted', 'stat', 'swift', 'refer', 'thieves', 'peru', 'demo', 'retains', 'betty', 'icons', '13th', 'ash', 'halloween', 'fisher', '00', 'paparazzi', 'wrongful', 'irishman', 'continuous', 'entertain', 'crass', 'gym', 'wound', 'burn', 'immigrant', 'bombings', 'rocked', 'lazy', 'offended', 'weston', 'priest', 'folding', 'holiff', 'personalised', 'pbs', 'weitz', 'experiments', 'sin', 'sage', 'thigh', 'leaflets', 'slots', 'beatty', 'mars', 'commander', 'blighted', 'lectures', 'ploughed', 'kilgore', 'touches', 'pathetic', 'weddings', 'bombing', 'canterbury', 'inspectors', 'hatred', 'companion', 'resigning', 'locking', 'assure', 'attacker', 'nicola', 'kilbride', 'routinely', 'strathclyde', 'constituents', 'bethnal', 'reads', 'yeo', 'undecided', 'glorious', 'unfounded', 'pivotal', 'resolutions', 'cherie', 'conflicting', 'effectiveness', 'theresa', 'shrugged', 'ironically', 'happier', 'edging', 'abolishing', 'redwood', 'expire', 'fleeing', 'bent', 'brushed', 'enforcing', 'serwotka', 'presumption', 'commentary', 'blitz', 'hoon', 'backdoor', 'communicator', 'civic', 'strategists', 'cornwall', 'authorised', 'internment', 'burma', 'definite', 'quota', 'committees', 'schoolboys', 'holme', 'comparing', 'betrayed', 'baker', 'deployment', 'semitism', 'misuse', 'yellow', 'leaking', 'mongrel', 'slough', 'punters', 'conscience', 'foolish', 'contractors', 'mozambique', 'timetable', 'stephenson', 'pledging', 'manhunt', 'curriculum', 'harmony', 'truancy', 'diploma', 'modify', 'disgraceful', 'tbwa', 'provisionally', 'cleaning', 'swindon', 'lively', 'aggravating', 'defendant', 'provisions', 'trauma', 'insult', 'signalled', 'shepherd', 'truants', 'hertfordshire', 'hassan', 'outings', 'highlands', 'mosque', 'whim', '167', 'makarov', 'potato', 'parkinson', 'blasted', 'kiefer', 'croatian', 'muscle', 'gwent', 'debutant', 'thion', 'bonnaire', 'servat', 'milloud', 'mignoni', 'perpignan', 'wada', 'gebrselassie', 'disgrace', 'bulloch', 'ollie', 'conchita', 'brizzel', 'physio', 'marco', 'dibaba', 'kenenisa', 'midway', 'hooked', 'mcmanaman', 'sylvain', 'ref', 'detector', 'maduaka', 'lambert', 'disallowed', 'liga', 'knockout', 'backhand', 'erfurt', 'makelele', 'mladenovic', 'relegation', 'fearsome', 'gasp', 'hasselbaink', 'strachan', 'eerdekens', 'sonia', 'friendlies', 'hicham', 'hreidarsson', 'clermont', 'ginepri', 'alessandro', 'tapped', 'birchfield', 'relieved', 'jerzy', 'webb', 'bramble', 'candela', 'gethin', 'upright', 'strikers', 'bergkamp', 'pascal', 'dowd', 'kickers', 'conceding', 'voyce', 'cj', 'michels', 'bruising', 'ranieri', 'turnbull', 'flowing', 'remembering', 'contepomi', 'butragueno', 'purely', 'engineered', 'calvisano', 'sfa', 'vignal', 'waterreus', 'meldrum', 'belgrave', 'crosses', 'devine', 'berger', 'explode', 'landline', 'cellnet', 'florin', 'ps3', 'unprotected', 'makower', 'pdas', 'diallers', 'surfing', 'marketplace', 'simulator', 'clearswift', 'attachments', 'firewalls', 'installing', 'uptake', 'removable', 'megabytes', 'amplify', 'optic', 'electrons', 'danton', 'expo', 'postings', 'scrolling', 'visually', '149', 'capella', 'hijacked', 'journalism', 'epa', 'pal', 'marlin', 'akin', 'doctorow', 'wap', 'onboard', 'aliens', 'dab', 'broadreach', 'bud', 'jacobsen', 'disable', 'smartphone', 'incorporate', 'buttons', 'caballeros', 'emcees', 'podcasters', 'isps', 'nem', 'prototypes', 'surreptitious', 'dvr', 'allard', 'gdc', 'mojtaba', 'underwood', 'psps', 'electrodes', 'invasive', 'trainor', '3ami', 'grokster', 'illiterate', 'longhorn', 'supercomputing', 'teraflops', 'pouwelse', 'info', 'jeremiah', 'termination', 'inkjet', 'zen', 'webpages', 'gigabit', 'ev', 'lucent', 'bsl', 'bruvik', 'compensate', 'quinlan', 'amounting', 'chairmanship', 'muted', 'destinations', 'sliding', 'liabilities', 'adjustments', 'nippon', 'nikkei', 'ntpc', '54bn', 'shedding', 'champagne', 'eliot', 'positively', 'weingarten', 'falsifying', 'allege', '191', '530', 'trades', 'rejection', 'cactus', 'slimming', 'royalties', 'pfizer', 'restoring', 'tanzi', 'backlash', 'gathers', 'freezing', 'obscurity', 'coincide', 'lieutenant', 'appealing', 'peaceful', 'hampered', 'macfarlane', 'unreasonable', 'treasurer', 'costello', 'treatments', 'convertible', 'fetch', 'boe', 'gruelling', 'drum', 'digits', '2020', 'traditions', '23bn', 'arisen', '1947', 'cow', 'spectacular', 'germans', '1930s', 'adverse', 'classified', '227', 'halved', 'losers', 'indicates', 'rendered', 'translate', 'eef', 'unanimously', 'congressional', 'republicans', '96bn', 'revelation', 'cnpc', 'embattled', 'downfall', 'thirst', 'guaranteeing', '375', 'cherkasky', 'teens', 'marques', 'tighten', 'modernise', 'mallya', 'receipts', 'declarations', 'repeating', 'bidders', 'assessments', 'sepa', 'extensions', 'plagued', 'jets', 'fragmented', 'benin', 'titan', 'mathieu', 'carol', 'multiplex', 'finalised', 'easing', 'gloom', 'banker', 'spite', 'millionaires', 'slumping', 'uncertainties', 'koreans', 'hurricane', 'villages', 'kilometres', 'storms', 'reinforces', 'disquiet', 'hyundai', 'conscious', 'tightened', 'ifo', 'retreat', 'eurodisney', 'fated', 'oust', 'iceberg', 'tellier', 'ncci', 'nike', 'athletic', 'slaves', 'scholarship', 'seals', 'railway', 'magnate', 'widened', 'revamp', 'liberian', 'liberalisation', 'outweighed', 'freeing', 'cooling', 'maruti', '136', 'emirates', 'formation', 'ignite', 'horizon', 'tweaked', 'donald', 'hedge', 'potent', 'nose', 'cancelling', 'concession', 'alerted', 'wet', 'simplify', 'adjust', 'lilly', 'perceptions', 'larry', 'discriminates', 'probes', 'amf', 'marvin', 'flowers', '19bn', 'unidentified', 'approximately', 'skies', 'shelf', 'accepts', 'subdued', 'deflation', 'eliminate', 'electrolux', 'appliances', 'durham', 'lawn', 'speeding', 'sibneft', 'sweeping', 'wonders', 'erratic', 'letitia', 'discriminatory', 'pursuit', 'francs', 'overtake', 'objected', 'remedy', 'delaying', 'tampa', 'buccaneers', 'odeon', '325', '5p', 'volatile', 'swung', '499', 'systematically', 'truce', 'lease', 'indicator', 'splitting', 'comair', 'regrets', 'sink', 'barnard', 'governmental', 'automated', 'offs', 'dependence', 'ousted', 'sergio', 'herbert', 'underway', 'reorganisation', 'marque', 'giuseppe', 'agnelli', 'clamping', 'exclusively', 'overheads', 'grossly', 'redundancy', 'midday', 'publishes', '365', 'outstripping', 'xiluodu', 'cylinder', 'smallest', 'deteriorate', 'bakrie', 'exxon', 'agroflora', 'segment', 'sears', 'recruitment', 'buoyed', '173', 'deter', 'datamonitor', 'contradictory', 'conclusion', 'completes', 'kuchma', 'fearing', 'bible', 'alain', 'litres', 'tripled', 'domecq', 'chains', 'button', 'widening', 'softer', 'boosts', 'quote', 'restrictive', 'fc', 'sovereignty', '155', 'upgraded', 'kashmir', 'neighbours', 'smiles', 'delhi', 'twist', 'blip', 'wrangling', 'mafia', 'viability', 'belt', 'wiped', 'conclusions', 'exchequer', 'jeffrey', 'saakashvili', 'honestly', 'unece', 'crossrail', 'allocated', 'conciliation', 'derail', 'noting', 'sustainability', 'mccarthy', 'rosy', 'settling', 'hariri', 'beirut', 'solidere', 'structural', 'suv', 'utilise', 'matsushita', 'panasonic', 'fujitsu', 'easymobile', 'shanda', 'analysed', 'refining', 'voluntarily', 'unjustified', 'logic', 'pbgc', 'ambev', 'lifeline', 'elevated', 'arbitrary', 'pave', 'generates', 'lull', 'tsutsumi', 'railways', 'noises', 'solskjaer', 'hitch', 'manual', '339', 'belle', 'prolonged', 'counts', 'kahn', 'lundgren', 'mechanics', 'quickest', 'financed', 'kazakhstan', 'protestors', 'displaying', 'milder', 'militant', 'minus', 'proportionate', 'lille', 'callers', 'diemont', 'induction', 'highland', 'ringing', 'bells', 'understandable', 'verify', 'prettejohn', 'loving', 'advertisements', 'seventies', 'elan', 'biogen', 'sclerosis', 'alzheimer', 'iceland', 'catastrophe', 'graduated', 'tea', 'neighbour', 'crippled', 'firearms', '420', 'singh', 'urges', 'barber', 'colombian', '152', 'threatens', 'smokers', 'cheers', '137', 'resurrected', 'ideally', 'insulation', 'mentions', 'eyeing', 'upturn', 'quo', 'rhetoric', 'notified', 'hired', 'rung', 'braking', 'exel', 'parcel', 'burren', 'exempt', 'purse', 'sheep', 'ipcl', 'reconsider', 'wolf', 'outcry', 'volvo', 'zones', 'pumps', 'dealers', 'enhanced', 'redundant', 'transatlantic', 'wholly', 'preventable', 'arrange', 'networking', 'feasible', 'stockholm', 'chennai', 'kits', 'brutal', 'paperwork', 'learnt', 'utterly', 'proceed', 'hefty', 'bosch', 'stall', 'arcade', 'divides', 'prompt', 'mohammed', 'mustafa', 'carlo', 'pulls', 'contrack', 'dumb', 'forgeard', 'breeding', 'residency', 'garment', 'seismic', 'governed', 'ante', 'amendments', 'wisely', 'description', 'assisting', 'punishments', 'ministries', 'hindi', 'reilly', 'shaping', 'linda', 'clashes', 'abandonment', 'motives', 'surrounded', 'blunt', 'toshitsune', 'longevity', 'grandchildren', 'glen', 'hassle', 'regulated', 'negotiation', 'submissions', 'laden', 'hail', 'scrushy', 'alice', 'examination', 'bondholders', 'fighter', 'spurred', 'climbing', 'sativex', 'angrily', 'stating', 'reacting', 'refinery', 'mechanical', 'comprised', 'realisation', 'gsm', 'manifestos', 'irrigation', 'haves', 'observes', 'warmly', 'succeeding', 'visas', 'vertigo', 'bandmates', 'robbery', 'curfew', 'accidentally', 'meryl', 'streep', 'rounding', 'acknowledges', 'personalities', 'malfunction', 'censor', 'islington', 'barbra', 'streisand', 'exhibitor', 'hyde', 'razorlight', 'hanson', 'blades', 'explored', 'tulip', 'occupying', 'lil', 'utah', 'dogg', 'imaginary', 'paver', 'actresses', 'void', 'paddy', 'folk', 'baron', 'belonged', 'norah', 'harlem', 'ja', 'brooks', 'webber', 'doc', 'reel', 'omission', 'nods', 'festivals', 'et', 'translation', 'roc', 'fella', 'ludacris', 'beyonce', 'witch', 'theo', 'hussein', '007', 'envelope', 'theatres', 'nickname', 'cedric', 'plaster', 'gong', 'bernath', '1975', 'springsteen', 'soundtrack', 'kristin', 'haden', 'mobo', 'pink', 'wash', 'fronted', 'cobain', 'heaven', 'toxic', 'sting', 'bullet', 'blockbusters', 'grudge', 'ignoring', 'pirate', 'sounded', 'unforced', 'dizzee', 'rascal', 'crying', 'barker', 'swearing', 'revolutionised', 'hack', 'ushered', 'hulk', 'daredevil', 'humanity', 'creations', 'swear', 'rebel', 'mythology', 'mia', 'benny', 'glimpse', 'blueprint', 'collaborated', 'sincerely', 'reopening', 'ellen', 'catchy', 'plots', 'rave', 'zeppelin', 'obe', 'bull', 'contents', 'confessed', 'awful', 'shameless', 'killings', 'emily', 'eavis', 'doris', 'nationalities', 'jessica', 'lester', 'ann', 'smear', 'shield', 'libel', 'screenwriter', 'famine', 'airplane', '1967', 'burt', 'sheila', 'accolades', 'detective', 'cameo', 'imagery', 'millionaire', 'rewrite', 'mama', 'interpretation', '70p', 'educating', 'emma', 'schrader', 'louvre', 'mendes', '144', 'spells', 'antenna', 'texts', 'brigitte', 'demonstrating', 'modelled', 'donnelly', 'daggers', 'queue', 'proposing', 'whipped', 'emotionally', 'alda', 'katharine', 'faked', 'respective', 'popping', 'likeable', 'liberation', 'outraged', 'backstreet', 'guiding', 'dummy', 'fundraising', 'menace', 'casey', 'correctly', 'mask', 'originality', 'resurrection', 'flop', 'spelling', 'rad', 'metre', 'couch', 'welch', 'jill', 'encountered', 'loud', 'limelight', 'anthem', 'rows', 'les', 'laughable', 'origins', 'inspector', 'trailed', 'dignity', 'interpreter', 'flashes', 'sophistication', 'unite', 'marvellous', 'hodge', 'diy', 'dad', 'versace', 'dissatisfied', 'jolin', 'transformers', 'kylie', 'minogue', 'cgi', 'lewd', 'remakes', 'sampling', 'benn', 'rainbow', 'trap', 'affection', 'hutch', 'royale', 'arrives', 'grabbing', 'underneath', 'zoe', 'rinaldi', 'fm', 'buddy', 'lit', 'license', 'incarnation', 'dictate', 'clue', 'betts', 'poking', 'unhealthy', 'buckingham', 'plate', 'relayed', 'anticipation', 'pixies', 'manson', 'endlessly', 'secondly', 'preferring', 'explosions', 'lemar', 'cares', 'crap', 'dilemma', 'envelopes', 'raft', 'coincidence', 'merry', 'somerset', 'fortuyn', 'moroccan', 'heated', 'silence', 'photographer', 'pullman', 'dour', 'meighan', 'enlisted', 'spotting', 'roses', 'lightbody', 'mackay', 'jealous', 'confront', 'larkin', 'peppered', 'amateur', 'recognising', 'quantities', 'smernicki', 'feat', 'waverley', 'pollution', 'alright', 'bland', 'irritating', 'payers', 'mph', 'nurse', 'bitterly', 'countered', 'squabbles', 'detaining', 'fundamentally', 'specialised', 'recommendation', 'fading', 'pretending', 'undermining', 'edits', 'wasteful', 'ubiquitous', 'logical', 'camps', 'defection', 'croucher', 'dedication', 'outlines', 'earners', 'designated', 'eds', 'purport', 'overruling', 'admiration', 'icm', 'shout', 'overshadow', 'frontbencher', 'miscarriages', 'luke', 'generosity', 'disagreed', 'complacent', 'persuading', 'advantages', 'blackberry', 'pager', 'rennard', 'conferences', 'greenfield', 'ignorance', 'tagged', 'cynical', 'cracks', 'dubs', 'mackenzie', 'transplant', 'grieve', 'prerogative', 'dividing', 'goodness', 'await', 'costed', 'sham', 'marriages', 'wishing', 'costing', 'civilians', 'llwyd', 'professionalism', 'imply', 'thwarted', 'shambles', 'traveller', 'accommodation', 'disastrous', 'misrepresentation', 'leaks', 'heal', 'disadvantage', 'discriminated', 'israelis', 'endeavour', 'proliferation', 'nairobi', 'wyatt', 'bored', 'safeguard', 'outbreaks', 'aspiration', 'dorset', 'eradicate', 'chairing', 'boring', 'architect', '36th', 'volunteers', 'diverted', 'conlon', 'ofsted', 'believer', 'stretch', 'tactically', 'magical', 'slopping', 'subscribe', 'shrewsbury', 'woodhill', 'constables', 'fingerprints', 'freedoms', 'buried', 'gurkhas', 'gcses', 'avoids', 'massachusetts', 'miliband', 'nicholls', 'abusive', 'sinister', 'distinguish', 'alistair', 'raynsford', 'phoney', 'stark', 'sgc', 'jibe', 'jews', 'instances', 'esteem', 'sexist', 'supplement', 'disrepute', 'skip', 'immunisation', 'ins', 'tunisia', 'scent', 'enthusiasts', 'hurts', 'brennan', 'bypassed', 'fingerprinting', 'sprinting', 'blurred', 'learners', 'worcester', '18s', 'tote', 'belongs', 'guru', 'tissue', 'shouting', 'alien', 'fairford', 'kidney', 'coped', 'alerting', 'hardcourt', 'ignacio', 'chela', 'masks', 'itf', 'lodge', 'mardy', 'forehand', 'composure', 'flank', 'stuttering', 'ivanovic', 'tendon', 'lander', 'riley', 'philippoussis', 'justine', 'schalk', 'smit', 'dwayne', 'ceri', 'latham', 'livid', 'hassell', 'mcgeady', 'hyderabad', 'aaron', 'arrese', 'mcenroe', 'mefin', 'lap', 'pozzebon', 'parmar', 'santoro', 'consistency', 'deflection', 'defamation', 'inspirational', 'jade', 'shevchenko', 'fouls', 'consolation', 'overcame', 'soderling', 'robbed', 'montenegro', 'igor', 'barca', 'inexperienced', 'stats', 'outplayed', 'thankfully', 'kathy', 'rib', 'mandaric', 'dwain', 'jerome', 'vaulter', 'tore', 'relishing', 'navratilova', 'kooyong', 'gaston', 'srichaphan', 'farina', 'elia', 'unlucky', 'dive', 'hines', 'hinshelwood', 'atletico', 'scalp', 'joice', 'secs', 'babayaro', 'sprinted', 'giannakopoulos', 'curled', 'marlu', 'ludovic', 'icing', 'mirco', 'dimensions', 'riise', 'nunez', 'hamann', 'defar', 'captained', 'calibre', 'sol', 'harley', 'lauren', 'lupoli', 'owusu', 'unmarked', 'wayward', 'equalised', 'stoica', 'hodges', 'leagues', 'brive', 'ewood', 'goodison', 'marca', 'cram', 'explosive', 'domination', 'recovers', 'falcons', 'cruyff', 'scans', 'semis', 'wigan', 'warriors', 'costacurta', 'surfaces', 'maori', 'deans', 'ripped', 'caretaker', 'dani', 'gomarsall', 'surroundings', 'stretched', 'quashie', 'larsson', 'rosenborg', 'rfu', 'assistants', 'numerical', 'tykes', 'prso', 'ram', 'treviso', 'sutton', 'whereabouts', 'wardle', 'zeeuw', 'hislop', 'walder', 'goldfine', 'streamed', 'programmed', 'asymmetric', 'molyneux', 'akamai', 'tailored', 'interfaces', 'trowbridge', 'chicoine', 'capgemini', 'motorsport', 'tansley', 'springing', 'interoperability', 'graphically', 'commands', 'souped', 'beam', 'entropia', 'bloggies', 'dictionary', 'syndication', 'uploaded', 'contacts', 'infects', 'modes', 'livermore', 'suite', 'altering', 'programmer', 'indexing', 'cpl', 'cripple', 'ransom', 'perceive', 'nachison', 'stylus', 'digitised', 'gupta', 'logging', 'landlines', 'pandas', 'panda', 'notebooks', 'codenamed', 'mdr', 'devised', 'futurelab', 'errera', 'qwerty', 'rampersad', 'iaea', 'consuming', 'projectors', 'academics', 'toolbar', 'rewind', 'tetris', 'poses', 'cellery', 'locate', 'dialler', 'keystroke', 'earthlink', 'webroot', 'playlist', 'democratisation', 'interactivity', 'catalogues', 'e3', 'pollmann', 'compatibility', 'spammer', 'overwhelm', 'gamecube', 'messagelabs', 'disk', 'graphic', 'mmorpg', 'ietf', 'ipv6', 'specified', 'huaral', 'saldarriaga', 'password', 'streamcast', 'tnt', 'mapping', 'babinet', 'powerpage', 'visuals', 'spore', 'powerbook', 'textures', 'humanoid', '7610', 'merriam', 'wsis', 'ippr', 'santy', 'weiner', 'shadowcrew', 'kujda', 'tfc', 'disclosed', 'iain', 'forbes', 'leapt', '1935', '196', 'alegre', 'pricewaterhousecoopers', 'reinsurers', 'slumped', 'bouncing', 'unspecified', 'cosmetics', 'rigged', 'justification', 'hardline', 'enrico', 'orchestrating', 'accountants', '458', 'bookings', 'curbs', 'nursery', '37bn', 'manipulation', 'lend', 'imbalances', 'embarked', 'luiz', 'inacio', 'intensified', 'petered', 'shamed', 'strained', 'flock', 'penetration', 'telecommunication', 'timed', 'glaxosmithkline', 'generics', 'machinery', '189', '280', 'se', 'mull', 'underline', 'turbulent', 'phenomenally', '2014', 'turks', 'wallets', 'amplified', '134', 'borrowed', 'instincts', 'overseen', 'ombudsman', 'guilt', 'mm', 'renaissance', 'unpopular', 'hartz', 'sufferers', 'broadly', 'delaware', 'rounds', 'curve', 'fraction', 'tightest', 'restraint', '200bn', 'swelling', '630', 'deliveries', 'brokerage', 'vouchers', 'mmc', '337', 'halving', 'trident', 'dealer', 'embezzlement', 'persist', 'lager', 'consolidate', 'rightmove', '260', 'roubles', 'refuge', 'russians', 'outs', 'sand', '22bn', 'relocated', 'glut', 'guidant', '117', 'cao', 'smfg', '717', 'deregulation', 'kerekou', 'prosecuting', 'sachs', 'occupation', '950', 'joaquin', '187', 'slowest', '185', 'inched', 'phuket', 'peril', 'ahmed', 'shaheed', 'emilio', 'misusing', 'restriction', 'reeling', 'spill', 'nano', 'inventories', 'cartel', 'afp', 'morocco', 'suitor', 'stumbling', 'truck', 'chevrolet', 'accelerate', 'rescued', 'speedy', 'elusive', 'attracts', 'aide', 'remit', 'flout', 'slew', 'laurent', 'boardroom', 'tenure', 'riyadh', 'footwear', 'approves', 'identifies', 'districts', '100bn', 'greenback', 'projections', 'abusing', 'reply', 'liberia', '158', 'impending', 'mandate', 'dented', 'metals', 'input', 'vans', 'downgrade', 'sponsors', 'uruguay', 'profited', 'oversight', 'ofheo', 'smoothly', 'measuring', 'devaluation', 'nestor', '225', 'jeopardise', 'balances', 'cynthia', 'dipping', 'sars', 'allay', 'drinkers', 'barley', 'discounted', 'slimfast', 'sharper', 'dismantled', 'arjan', 'eli', 'burdens', 'sidney', 'privileged', 'motorists', 'rage', 'piled', 'shrine', 'conducive', 'spencer', 'repayment', 'thornton', 'brett', 'daly', 'nicotine', 'rj', 'williamson', 'conspired', '1953', 'sparking', 'stagnated', 'armstrong', 'lamberty', 'grim', 'disapproval', 'blessing', 'entrepreneurs', 'subsidiaries', 'eurotunnel', 'sandoz', 'soften', 'confederation', 'schweppes', 'wooing', 'sorrell', '1940s', 'stifle', 'gauge', 'liquidation', '960', 'stabilise', 'breaching', 'ceiling', 'evaluation', 'overdue', 'redemption', 'attendants', 'discourage', 'inconvenience', 'ohio', 'gasoline', 'vendor', 'claire', 'intervene', 'silvio', 'loosen', 'suitors', 'smuggling', 'pills', 'packaging', 'medicines', 'diverting', 'dissolve', 'stoy', 'conversions', 'tighter', 'displaced', 'permit', 'shiga', 'depriving', 'renamed', 'dear', 'observe', 'murdoch', 'iea', 'advises', 'generator', 'debit', 'tesco', 'occasional', 'positioned', 'dismal', 'mccafferty', 'unexpectedly', 'matching', 'andhra', 'pradesh', 'caspian', 'conceived', 'distract', 'estates', 'lands', 'inequality', 'cattle', 'vestey', 'marquez', 'stranglehold', '151', 'inviting', 'awarding', 'ethical', 'lockheed', 'complied', 'acre', 'traced', 'meat', 'preceding', 'concluding', 'overbooking', 'boarding', 'adhere', 'reckon', 'journeys', 'routines', 'leonid', 'tymoshenko', '14th', 'kirkcaldy', 'celebrates', 'intellect', 'fellowship', 'presidents', '138', 'illva', 'changyu', 'yantai', 'tipping', 'resurgence', 'whisky', 'malibu', 'ag', '320', 'ravaged', 'testify', 'relegated', 'expired', 'quiksilver', 'marginally', 'hint', 'franc', 'symbolic', 'bribes', 'nickel', 'karachi', '112', 'danced', 'lakhani', 'heightened', 'irrespective', 'raha', 'aiyar', 'bpd', 'sakhalin', 'knees', 'lng', 'dresdner', 'kleinwort', 'wasserstein', 'surrender', '17bn', 'policyholders', 'risky', 'entrants', 'scaled', 'rato', '113', 'heizo', 'shevardnadze', 'destroying', 'surviving', 'slovenia', 'souza', 'overcrowding', 'manufacture', 'dismiss', 'moran', 'specialists', 'porter', 'tucker', 'oversaw', 'lebanon', 'assassination', 'kroner', '146', 'payrolls', 'transferring', 'rented', 'pinned', 'stakeholders', 'favourably', 'timescale', 'underestimate', 'accountancy', 'ernst', 'hinting', 'urgently', 'composition', 'smiling', 'battered', 'boyle', 'gref', 'exporter', 'unrest', 'bottlenecks', 'fer', 'icbc', 'lebedev', 'absurd', 'embarrassment', 'oligarchs', 'mellon', 'understated', '370', 'blb', 'consists', 'guts', 'liar', 'helmut', 'bargain', 'kuwait', 'sahara', 'handlers', 'regaining', 'catalyst', 'owens', 'fooled', 'burning', 'rulings', 'preferable', 'trialled', '264', 'coffers', 'relaxation', 'crane', 'estimating', 'attends', 'absorbing', 'considerations', 'continents', 'quotes', 'patchy', 'furthermore', 'rig', '305', 'idec', 'multilateral', 'surrounds', 'clarify', 'hanover', 'casualties', 'tidal', 'minimal', 'mitch', 'fishermen', 'wording', 'underestimating', 'rosemount', 'hardy', 'fabrics', 'nath', 'shareholding', 'infancy', 'breathing', 'mehta', 'benign', 'miracle', 'racked', 'indigenous', 'sentimental', 'transform', 'paulsmeier', 'pwc', 'empowerment', 'fashionable', 'marred', 'forefront', 'hammering', 'barn', 'freelance', 'multitude', 'rigid', 'interior', 'undertaken', 'oak', 'facilitate', 'balancing', 'participated', 'turkmen', 'stagnation', 'mohd', 'saaid', 'tan', 'interim', 'leapfrog', 'urgency', 'associations', 'sailing', 'waters', 'senate', 'lightly', 'painkillers', 'inhibitors', 'hood', 'fluid', 'brake', 'knocks', 'relaunch', 'powering', 'taxi', 'coin', 'vicious', 'imprisoned', 'cosmetic', 'synergies', 'narrowing', 'defining', 'connecting', '2200', 'variant', 'learmount', 'boat', 'workable', 'coogan', 'willie', 'cullen', 'revitalise', '153', 'graduates', 'professionally', 'warmth', 'crept', 'spying', 'assessed', 'unfairly', 'pointedly', 'boil', 'gaillard', '128', 'compromising', 'patterson', 'anson', 'tankan', 'lowered', 'ivo', 'invaders', 'donkey', 'passive', 'royce', 'settlements', 'stamping', 'acc', 'reopen', 'mutually', 'beginnings', 'infighting', 'rainer', 'a350', 'averaged', 'improves', 'fog', 'ardent', 'battleground', 'openness', 'iff', 'legislative', 'complexity', 'aiding', 'emphasised', 'ticking', 'standpoint', 'allegiance', 'vintners', 'trump', 'editions', 'culminated', 'garments', 'mountainous', 'lim', 'changeover', 'comparable', 'easter', 'marrying', 'harbour', 'doomed', 'drain', 'hampering', 'stems', 'helena', 'motive', 'dock', 'cruises', 'splash', 'anders', 'healthsouth', 'raided', 'pe', 'disagreement', 'dampened', 'chocolate', 'instability', 'royer', 'guise', 'spiralling', 'symptoms', '184', 'prevalence', 'retroviral', 'spun', 'stellar', 'obtaining', 'auctions', 'downs', 'accustomed', 'entertainers', 'mullen', 'damn', 'bloody', 'atmospheric', 'tours', 'babyshambles', 'separated', 'wass', 'surreal', 'quaid', 'blade', 'sinatra', 'soderbergh', 'damon', 'zeta', 'influences', 'disturbing', 'assaulted', 'disco', 'bowie', 'jm', '1963', 'cop', 'fairy', 'judi', 'dench', 'juliette', 'vivid', 'charlotte', '1952', 'bridget', 'meltdown', 'robocop', 'reissues', 'liberace', 'pianist', 'raped', 'untrue', 'lukewarm', 'scarlett', 'stripes', 'precinct', 'thackeray', 'witherspoon', 'pregnancy', 'theatrical', 'posthumous', 'greats', 'ballad', '1972', 'heroes', 'proposition', 'choreography', 'upstairs', 'higgins', 'sensation', 'fantastically', 'gigantic', 'alfred', 'tongue', 'technicians', 'reissued', 'simmons', 'napoleon', 'dynamite', 'kudrow', 'persuasion', 'publicise', 'richardson', 'ewan', '1942', 'controversies', 'shortened', 'composed', 'cinematic', 'graceland', 'candid', 'madsen', 'sandino', 'metallica', 'beenie', 'christina', 'deeley', 'disorderly', 'jimi', 'fender', 'stratocaster', 'walks', 'dropout', 'arrogant', 'hayao', 'spirited', 'laughing', 'fools', 'differ', 'readership', 'supernatural', 'constantine', 'rude', 'parental', 'bmg', 'tolerate', 'tunisian', 'suburbs', 'langdon', 'mixes', 'renner', 'hobby', 'jaw', 'incorporating', 'balado', 'traviata', 'sadness', 'mantle', 'themed', 'orlando', 'mcgraw', 'christine', 'pour', 'teamed', 'capitalised', 'craze', 'efficiently', 'commissioning', 'convenience', 'festivities', 'concedes', 'reign', 'toting', 'secc', 'idlewild', 'gang', 'shakur', 'dogged', 'rockers', '1946', 'doren', 'repertoire', 'galaxy', 'discovering', 'takeaway', 'fielding', 'groening', 'twentieth', 'coronation', 'atlas', 'electro', 'kano', 'connolly', 'strokes', 'nme', 'kaiser', 'britpop', 'mcfly', 'inaugural', 'saul', 'paired', 'enjoyment', 'meals', 'honor', 'penned', 'musicology', 'grossed', 'strip', 'hbo', 'leblanc', 'joey', 'wheels', 'timeless', 'widow', 'anton', 'supervolcano', 'uncover', 'stalin', 'pet', 'appleton', 'bushtucker', 'bbc2', 'alfonso', 'dido', 'g4', 'terrific', 'songwriters', 'educate', 'trace', 'pedro', 'reaped', 'eyeballs', 'ghost', 'accuses', 'accidental', 'limitations', 'grief', 'pax', 'emin', 'eyre', 'taunting', 'agendas', 'indicative', 'blazin', 'predictable', 'ziyi', 'colleges', 'mackintosh', 'impresario', 'lionel', 'transmit', 'violate', 'loser', 'karger', 'goodridge', 'casualty', 'mckendry', 'ashvin', 'pipped', 'cinematography', 'hilarious', 'humane', 'intrigued', 'symmons', 'poems', 'mccaughrean', 'vagina', 'explores', 'hypocrisy', 'glamour', 'charlize', 'theron', 'spinal', 'philadelphia', 'avenue', 'portrays', 'previews', 'stereotypes', 'lyric', 'ballymena', 'eurovision', 'originals', 'daddy', 'commercialised', '340', 'chaplin', 'renee', 'zellweger', 'twisted', 'sail', 'keaveney', 'cheshire', 'copycat', 'drowned', 'vh1', 'musically', 'auditions', 'evolving', 'countless', 'helpful', 'rappers', 'shining', 'angie', 'errigo', 'wendy', 'interfering', 'darfur', 'haunted', 'carib', 'austin', 'aitken', 'caprice', 'privy', 'scientific', 'diaghilev', '1950', 'guides', 'intruder', 'intruders', 'bike', 'rehearsal', 'residue', 'leant', 'grateful', 'ruby', 'belafonte', 'eulogy', 'simulating', 'ptc', 'diego', 'outlets', 'ras', 'kwame', 'homegrown', '1xtra', 'milton', 'exotic', 'showbusiness', 'crave', 'seriousness', 'connick', 'debra', 'berman', 'impeccable', 'blume', 'censorship', 'excellence', 'neighbourhood', 'houck', 'advancement', 'apprentice', 'stunts', 'speakerbo', 'zealander', 'tolkien', 'wellington', 'puppet', 'fleming', 'denise', 'paradise', 'hostage', 'rocks', 'wowed', 'rousing', 'temptation', 'webcam', 'churchill', 'avril', 'lavigne', 'outspoken', 'menus', 'ya', 'anastacia', 'distanced', 'freddy', 'jersey', 'dissent', 'predominantly', 'heartening', 'aaliyah', 'kg', 'spinning', 'bewildering', 'gutsy', 'farce', 'prohibits', 'marley', '60th', 'partridge', 'pointless', 'congratulate', 'rendering', 'dreadful', 'amy', 'refreshing', 'arkansas', 'staffordshire', 'versa', 'disappoint', 'modelling', 'bee', 'disliked', 'notoriously', 'gangsters', 'gangster', 'rear', 'entrance', 'pie', 'liberating', 'lunch', 'fused', 'coincidentally', 'bullets', 'massacre', 'roxy', 'wight', 'rotate', 'rotated', 'wasting', 'plague', 'applause', 'adolf', 'handles', 'canny', 'sour', 'gillian', 'deliberations', 'rescheduled', 'percy', 'shadows', 'ligaments', 'creature', 'woken', 'chum', 'unstoppable', 'grandson', 'ordinating', 'byrds', 'viewpoint', 'fearful', 'addicted', 'bothered', 'distraction', 'tastes', 'standby', 'contingency', 'commissioners', 'riding', 'bannatyne', 'disunity', 'prentis', 'cruelty', 'sloppy', 'emotive', 'edges', 'barrister', 'carstairs', 'brankin', 'lanarkshire', 'tattoo', 'congestion', 'edited', 'urine', 'tide', 'liberals', 'lyons', 'inland', 'boris', 'oxfordshire', 'insensitive', 'darlington', 'prolonging', 'deployed', 'chooses', 'legalisation', 'rang', 'preferences', 'fostering', 'emerges', 'initiated', 'failings', 'functional', 'invading', 'sanctioning', 'vociferously', 'libertarian', 'pretend', 'leoncia', 'casalme', 'mab', 'tamimi', 'mod', 'bourn', 'clerk', 'practising', 'squandered', 'cynicism', 'worthless', 'replies', 'riot', 'benches', 'expressing', 'pupil', 'ideological', 'capitalise', 'gloucestershire', 'sympathy', 'blackberries', 'allegiances', 'walkouts', 'balloted', 'walkout', 'briefings', 'watershed', 'scripted', 'vat', 'repair', 'ealing', 'coded', 'electronically', 'parton', 'reassurance', 'quango', 'yorker', 'guessed', 'chancellors', 'passports', 'feroz', 'belmar', 'implementing', 'temple', 'consulates', 'ashfield', 'petrina', 'holdsworth', 'hinckley', 'vied', 'awol', 'broaden', 'essence', 'demonising', 'asians', '55s', 'defected', 'stalemate', 'ferocity', 'misgivings', 'registrars', 'rimmer', 'draconian', 'arson', 'glyndwr', 'wigley', 'fires', 'clawed', 'transforming', 'gershon', 'delivers', 'thresholds', 'rallies', 'plotting', 'prematurely', 'needless', 'migrant', 'villagers', 'herron', 'fury', 'flurry', 'solana', 'notts', 'stringent', 'sukul', 'counsel', 'scattered', 'leaned', 'abolished', 'slaughter', 'hinge', 'snatched', 'unsustainable', 'briefed', 'embassies', 'risked', 'imaginative', 'canvassers', 'bounce', 'pugh', 'interference', 'flows', 'acpo', 'phased', 'carlisle', 'betrayal', 'arrogance', 'wrexham', 'nurses', 'guildford', 'ordeal', 'elspa', 'rockstar', 'singled', 'cultures', 'czechs', 'bingham', 'approaching', 'welcoming', 'environmentally', 'scar', 'hayman', 'basingstoke', 'appointing', 'tutu', 'shami', 'chakrabarti', 'preaches', 'mori', 'battalion', 'divert', 'pitfalls', 'senses', '659', 'slurry', 'toe', 'lammy', 'syria', 'ordinated', 'defends', 'justifying', 'birkenhead', 'gunning', 'concentrates', 'engages', 'illiteracy', 'flushing', 'hobday', 'rhodri', 'plymouth', 'wondering', 'backside', 'shifted', 'editors', 'reshuffle', 'pretended', 'sleeping', 'differentiate', 'burglars', 'frightened', 'biased', 'posing', 'balfour', 'cracked', 'stride', 'backfired', 'discomfort', '132', 'telephones', 'azmat', 'resigns', 'suffolk', 'altered', 'provocation', 'macdonell', 'authoritarian', 'upgrades', 'mainland', 'lowering', 'prosecute', 'hangs', 'static', 'serialised', 'outdo', 'despatch', 'numeracy', 'trails', '575', 'adamant', 'slammed', 'hare', 'aynsley', 'responsive', 'frequent', 'warfare', 'whelan', 'indulging', 'responds', 'lid', 'cricket', 'identities', 'alarmed', 'netted', 'rejoin', 'happily', 'seas', '16th', 'pity', 'etzioni', 'dawn', 'sceptic', 'supremacy', 'unaccompanied', 'sanction', 'prefers', 'villain', 'readily', 'wholeheartedly', 'doubtful', 'rounded', 'forsythe', 'chased', 'chanting', 'enqvist', 'yelena', 'judo', 'koubek', 'breezes', 'crosscourt', 'clinching', 'umpire', 'likhovtseva', 'equalled', 'nadia', 'thrashed', 'sowden', 'hungarian', 'bedford', 'hickey', 'visagie', 'matfield', 'fourie', 'macqueen', 'villiers', 'ibanez', 'mehrtens', 'fuming', 'replays', 'pattaya', 'bondarenko', 'levelling', 'larne', 'stuttgart', 'unsubstantiated', 'hellenic', 'metatarsal', 'zidane', 'charly', 'jordi', 'provincial', 'ludovico', 'rumbled', 'manga', 'arvind', 'feliciano', 'davydenko', 'fabrice', 'miserable', 'costa', 'heroics', 'marcel', 'sublime', 'shea', 'weaver', 'irina', 'showdown', 'throws', 'livingston', 'lyon', 'puzzle', 'pleasing', 'racket', 'cartilage', 'reigning', 'leipzig', 'tiago', 'versatile', 'crushing', 'sportsweek', 'meersseman', 'sportsman', 'rarity', 'olympiakos', 'mccormick', 'benita', 'refereed', 'floyd', 'fratton', 'ephedrine', 'hurdler', 'devonish', 'kelli', 'riggott', 'addicks', 'contemplating', 'upping', 'sampras', 'youzhny', 'massu', 'paradorn', 'zvonareva', 'patty', 'schnyder', 'jankovic', 'dulko', 'monfils', 'intensity', 'resumption', 'thumped', 'danielli', 'captains', 'aussie', 'archibald', 'esson', 'refereeing', 'bests', 'allahgreen', 'yusuf', 'jarosik', 'superbly', 'allardyce', 'scoreline', 'ameobi', 'gardner', 'fore', 'clumsy', 'elhorga', 'kp', 'silverware', 'traore', 'hyypia', 'ricardo', 'lagat', 'chin', 'raul', 'qpr', 'ipswich', 'bwalya', 'tonge', 'underdogs', 'partnered', 'warnock', 'aliadiere', 'senderos', 'clichy', 'narbonne', 'digging', 'touchdown', 'announces', 'stradey', 'colchester', 'recharge', 'gisbergen', 'greening', 'chuter', 'radius', 'forearm', 'infringements', 'girvan', 'johan', 'expansive', 'calleri', 'toughness', 'taipei', 'minar', 'vacant', 'marathons', 'niggling', 'berti', 'wiley', 'aru', 'woeful', 'kiwis', 'kiplagat', 'edith', 'yeading', 'curbishley', 'abramovich', 'josep', 'centrally', 'steinmetz', 'klinsmann', 'linford', 'alonso', 'sherwood', 'bovina', 'rijkaard', 'hammers', 'lured', 'invariably', 'wrongs', 'sturrock', 'cotonsport', 'crisp', 'bafana', 'mccormack', 'heymans', 'castres', 'marcus', 'ricksen', 'lita', 'hockey', 'mapletoft', 'sakhnin', 'easton', 'livi', 'dair', 'dokic', 'wrap', 'woodford', 'aac', 'intentional', 'marker', 'sevastis', 'grabs', 'geared', 'mellor', 'eighty', 'whingeing', 'mcintyre', 'tulu', 'racer', 'valente', 'modafinil', 'keska', 'muscles', 'weaknesses', 'caudwell', 'unpatched', 'sybari', 'caf', 'limbo', 'morpheme', 'populous', 'atari', 'demographics', 'scansoft', '512kbps', 'dwindling', 'llu', 'shrunk', 'internationalised', 'ukif', 'alphabet', 'vetham', 'franchises', 'descend', 'subtlety', 'detection', 'refined', 'sensing', 'cisco', 'sensors', 'nt', '399', 'crystalline', 'frequencies', 'inaccessible', 'attendant', 'shuffle', 'clan', 'patentability', 'pipex', 'camcorders', 'adaptors', 'bundle', 'receiver', 'develops', 'localised', 'conform', 'keypad', 'palm', 'scenarios', 'terminals', 'fest', 'nm2', 'algorithms', 'edit', 'wolong', 'infant', 'mblox', 'encryption', 'yang', 'bungie', 'reliability', 'senanayake', 'toolkit', 'compress', 'tuffy', 'yoda', 'netscape', 'websidestory', '2mbps', 'insecure', 'blinx', 'puzzles', 'delft', 'networked', 'leaf', 'shiny', 'dialling', 'exhibitors', 'sd', 'cabs', 'revolutionise', 'imp', 'xenon', 'playlists', 'peddle', 'filtering', 'converged', 'juri', 'seagate', 'thwart', 'interoperable', 'utilising', 'radicati', 'obermann', 'forehead', 'kyrgyz', 'mydoom', 'folders', 'x1', 'gov', 'downloaders', 'bombard', 'digest', 'obsessive', 'sabotage', 'bridgehead', 'nhtcu', 'materialists', 'shutting', 'cepes', 'pctvt', 'heralds', 'geeks', 'unlocked', 'nasa', 'complement', 'mathematical', 'cray', 'ecosystem', '2025', 'refuseniks', 'immediacy', 'authentication', 'batter', 'swappers', 'novastream', 'warez', 'arbor', 'jukebox', 'asteroid', 'opsahl', 'bowden', 'frasca', 'lightweight', 'sextant', 'casio', 'startac', 'transistor', 'minidisc', 'tandy', 'wristwatch', 'psion', 'optical', 'cardwell', 'graczyk', 'emiew', 'magnetic', 'refine', 'suffix', 'richter', 'workstations', 'weiss', 'morgenstern', 'broes', 'seafarer', 'authenti', 'musselman', 'dmb', 'analysys', '4mbps', 'antennae', 'persia', 'hasson', 'syncing', 'redder', 'atms', 'thiemann', 'rnid', 'whalley', 'omar', 'regan', 'talal', 'fairmont', 'lyle', 'venerable', 'hiatus', 'thabo', 'mbeki', 'angelina', 'jolie', 'tsunamis', 'allianz', 'exacerbated', '817', 'repairs', 'privatise', 'oversubscribed', 'haute', 'couture', 'stemming', 'felony', 'scheming', 'istanbul', '34bn', 'pleads', 'bert', 'lessening', '720', 'assurance', 'snacks', 'hoodia', 'sans', 'nomura', '205', '648', 'collaborate', 'reconstruct', 'markedly', 'reais', 'ruben', 'sizeable', 'slows', 'kumaratunga', 'erik', 'tamil', 'regent', 'busiest', 'likelihood', 'glaxo', 'drugmaker', 'absorbed', 'fork', '690', 'burdensome', '15bn', 'literate', 'palatable', 'documented', 'roadmap', 'bse', '194', 'colluded', 'taped', 'psychologically', 'heseltine', 'trimming', 'rational', 'complexes', 'borne', 'hazards', 'colorado', 'indirect', 'floods', 'overrule', 'radley', '427bn', '230bn', '419', '80bn', 'stockpile', 'drill', 'leases', 'surpluses', 'barney', 'wagoner', 'lent', 'renationalise', 'sergei', 'appliance', '374', 'sal', 'oppenheim', 'dodge', 'defects', 'burdened', 'questionable', 'vijay', 'a320', 'occurring', 'vow', '412bn', 'fetches', 'restraining', 'siberia', 'brunswick', 'overcapacity', 'jinshajiang', '206', 'postponing', 'calyon', 'mergers', 'irregular', 'barings', 'mitsui', 'sk', 'violating', 'quadruple', 'restrict', 'jpmorgan', 'sarkozy', '182', 'bury', '660', 'mainstay', 'sputtering', 'stagnant', 'loading', '4cast', 'hovering', 'bio', 'dived', 'mueller', 'tempered', 'jitters', 'disruptions', 'scaling', 'demonstrators', 'cooking', 'resentment', 'stormy', 'populations', 'eclipsed', 'francois', 'theodore', 'trucks', 'boast', 'suzuki', 'gainer', 'issuers', 'slides', 'upswing', 'indications', 'ailing', '175', 'insolvency', 'reorganised', 'equant', 'zheng', 'resignations', 'stemmed', 'execute', 'grappling', 'diversified', 'cooperative', 'woods', 'execution', 'undermined', 'beige', 'residential', 'gopinath', 'cbo', 'orderly', 'inauguration', 'liberalise', '300bn', 'saharan', 'upsetting', 'confounded', 'reliant', 'depress', 'dependant', 'cips', 'deterred', 'fitch', 'ashburton', 'grove', 'overheating', 'unsettled', 'accountant', 'methodology', 'julio', 'vido', 'subsidy', 'g20', 'owe', 'ordering', 'teetering', 'applaud', 'brewers', 'taxed', 'drown', 'asahi', 'disguises', '291', 'derived', 'brewery', 'stagnate', 'stubbornly', '1930', '650', 'presently', 'overcoming', 'petrel', '1700', '258', 'prospectus', 'rene', 'adjusting', 'hourly', 'offload', 'mangala', 'retaining', 'ellison', 'correspondents', 'edgy', 'fervour', 'seizure', 'participant', 'plummet', 'steep', 'fraudulently', 'rogers', 'manipulating', 'lorillard', 'liggett', 'conspiring', '206bn', 'intensely', 'proceeding', 'evaporated', 'faltered', 'doldrums', 'shivering', 'unseasonably', 'controllers', 'relocate', '265', 'sao', 'redistribution', 'ought', 'rigorous', 'reasoning', 'regimes', 'compensated', 'unofficial', 'unthinkable', 'revolt', 'theede', '65bn', 'pharmaceuticals', 'delisting', 'weighing', 'approaches', 'avi', 'tycoons', 'advising', '546', 'nop', 'deluxe', 'roadside', 'bingo', 'rejecting', 'reckons', 'trailblazer', '450', 'outstrip', 'sparks', 'gradual', 'interpret', 'alarming', 'glance', '480', 'delist', 'filippo', 'bursting', 'delisted', 'stranded', 'scheduling', '119', 'crews', 'mutiny', 'llc', 'furnishings', 'materialised', 'forecaster', 'cochilco', 'cartagena', 'bread', 'manoeuvre', 'manipulated', 'demel', 'exits', 'morchio', 'implying', 'continuously', '108', 'jolt', 'reacts', 'winds', 'castro', 'smacks', 'trimmed', 'strides', 'appointments', 'editorial', 'trinity', 'revision', '0900', 'gianni', 'arese', 'vincenzo', 'shouted', 'insults', '156', 'alexandria', 'banque', 'obstacles', 'toppled', '1966', 'liquidity', '1830', 'corrective', 'juggle', 'memorandum', 'macedonia', 'peninsula', 'unused', 'ignores', 'cautiously', 'badge', 'saabs', 'deploy', 'bodes', 'paribas', 'tainted', 'arising', 'ethics', 'espionage', 'possess', 'consequence', '1920', 'exceeding', 'eraa', '775', 'supervisory', 'rolf', 'bourse', 'nato', 'yulia', 'pinchuk', '424', 'oleg', 'fife', 'preach', 'predecessors', 'joyce', 'gorillaz', '259', 'specifics', 'seagram', 'propelled', 'rum', 'creek', 'robbins', 'wsj', 'onside', 'prudence', 'pencilled', 'thayer', 'empt', '364', '48bn', 'disgruntled', 'mendis', 'reckoning', 'stearns', 'renewal', 'solicit', 'unsettling', 'ski', '226', 'lagging', '139', 'ariary', 'skilling', 'misconduct', '145', 'authorise', 'crops', 'informing', 'zinc', 'rests', 'foundations', 'administered', 'temperature', '474', 'exxonmobil', 'onwards', 'surcharge', 'beds', 'accumulated', 'seminal', 'outperformed', 'irritated', 'annoyed', 'curbing', 'mccain', 'revaluing', 'tenth', 'communiqu', 'adjustment', 'indonesians', 'projection', 'hid', 'legalise', 'trafficking', 'bundesbank', 'dampening', 'canary', 'wharf', 'obligatory', 'hostages', 'revisions', 'awaits', 'condom', 'diligence', '293', 'francesco', 'adjusts', 'indirectly', 'lebanese', 'fizz', '798', '456', 'discoveries', 'mayland', 'clearview', 'panels', 'easygroup', 'rentals', 'cheung', 'weise', 'refineries', 'exceptionally', 'renationalisation', 'andrei', 'ineffective', 'diversify', 'lessen', 'eco', 'stella', 'americas', 'raked', 'quieter', 'cumbersome', 'ageism', 'pumped', '24bn', 'pepper', '1300', 'comparisons', 'spanning', 'murky', 'roots', 'concealing', 'continuation', 'footballers', 'ole', 'unskilled', '89bn', 'eligibility', 'ethiopians', 'batch', 'concepts', 'clearest', 'macy', '198', 'overtaking', '560', '234', '425', 'pelted', 'cease', 'presses', 'boynton', 'candy', 'prominently', 'punish', 'varying', 'bae', 'recourse', 'a380', 'freight', 'hurting', '599', 'eliminating', 'heel', 'retraining', 'baoshan', 'revisit', 'lnm', 'impressively', 'victorian', 'beck', 'lashed', 'abandon', 'relocating', 'questionnaires', 'interfax', 'motto', 'contingent', 'mcdonalds', 'hooking', 'legged', 'bb', 'salvador', 'distant', 'avonex', 'narrowed', 'riggs', 'concealed', 'dislike', 'motions', 'automobile', 'naamsa', 'fathom', 'coordination', 'possessions', 'sanitation', 'boats', 'devastation', 'malaria', 'oatley', 'calmer', 'acquiring', 'fulfilled', 'conservatively', '118', 'queried', 'ammunition', 'persons', 'gus', 'wolfson', 'openings', 'woolworths', 'jacksonville', 'abide', 'misamore', 'unfriendly', 'maran', 'brendan', 'vampire', 'agm', 'alvarez', 'directives', 'mineral', 'shove', 'outperforming', 'dti', '25p', '75p', 'bannister', 'valuing', 'ipc', 'reignite', 'cigarettes', 'barring', 'aefa', 'minneapolis', 'occupy', 'solaris', 'scroll', 'boundary', 'imperative', 'eases', 'calculate', 'planks', 'desk', 'mechanisms', 'tablet', 'ariel', 'huckabees', 'schumacher', 'deposits', 'relieve', 'nears', 'calculating', 'parting', 'rebecca', '1955', 'lags', 'haunt', 'watches', 'alexandra', 'leahy', 'mtfg', 'formality', 'recalling', 'sierra', 'sedans', 'dreamed', 'decrease', 'pleasant', 'tussle', 'dreamliner', 'variation', 'eva', 'designation', 'relate', 'geographical', 'ingredient', 'posting', 'catering', 'momentous', 'ahern', 'segregated', 'cairo', 'sensitivity', 'exchanged', 'spur', 'nevzlin', '349', 'sucked', 'chagrin', 'speculating', '28bn', 'ratification', 'founders', 'ghana', 'empower', 'neighbouring', 'builders', 'brick', 'replica', 'iressa', 'prolong', 'cholesterol', 'applauded', 'gentle', 'stoppage', 'restart', 'grandchild', 'walden', 'establishment', 'staple', 'shaking', 'transitional', 'fleetboston', 'boa', 'cam', 'cfd', 'hensel', 'ltd', 'aggregate', 'inconsistent', 'lt', 'fullest', 'drowning', 'tables', 'chalone', 'chateau', 'geography', 'ibge', 'promoter', 'hurdle', 'dispensed', 'gleneagles', '50bn', 'ni', 'obey', 'accordance', 'mfa', 'cambodia', 'upped', 'therapy', 'gratuitous', 'creep', 'rash', 'eroded', 'unrelated', 'recognisable', '737', 'graft', 'jagran', 'settles', 'shines', 'baez', 'varley', 'organization', 'pipa', 'maryland', 'jessops', 'tuberculosis', 'thirties', '2050', 'nursing', 'devise', 'downgraded', 'comparatively', 'il', 'contradict', 'stabilising', 'flattering', 'blizzard', 'chopped', 'fiasco', 'pioneered', 'mis', 'wires', 'isp', 'reminder', 'devils', 'nail', 'alabama', 'implicated', 'exaggerated', 'sorting', 'dai', 'perrier', 'communicating', 'dissipated', 'aero', 'mukherjee', 'softbank', 'newsletter', 'charade', '275', 'trickery', 'db', 'disposable', 'franklin', 'raines', 'fluctuations', 'falcon', 'stimulating', 'counselling', 'progressing', 'culprit', 'vaile', 'tempting', 'proxy', 'upside', 'comprising', 'irancell', 'deadlock', 'blackwatch', 'jordanian', '680', 'mccune', 'impractical', 'vocals', 'waving', 'pinnacle', 'extravagant', 'blackmail', 'acrimonious', 'guards', 'resumed', 'kranks', 'reunites', 'gould', 'trivial', 'chapters', 'unedited', 'supermodel', 'apollo', 'barrie', 'undercover', 'plaudits', 'hollow', 'binoche', 'vanessa', 'paradis', 'dahl', 'sketch', 'intriguing', 'cave', 'salute', 'nancy', 'reunion', 'herlihy', 'adventures', 'lonesome', 'ti', 'gilmore', 'par', 'benjamin', 'naomi', 'primer', 'extracting', 'widower', 'bestseller', 'filmmaking', 'considine', 'pearl', 'seasoned', 'reese', 'masterpiece', 'perez', 'jarring', 'musicals', 'trapp', '1938', 'irritation', 'stalwarts', 'otis', 'carnegie', 'hank', '1962', 'stranger', 'nas', 'scoops', 'drury', 'lyttelton', 'trafalgar', 'diva', 'audition', 'kirsten', 'commentaries', 'grit', 'arnaud', 'kechiche', 'esquive', 'podium', 'maggie', 'compile', 'compiling', 'roster', 'bonnie', 'divorced', 'keaton', 'reservoir', 'monty', 'autobiographical', 'blackadder', 'hayden', '77th', 'silent', 'auditorium', '1954', 'mc', '1934', 'distinction', 'dudley', 'nichols', 'butt', 'gaffe', 'poet', 'chaotic', 'adarsh', 'crucible', 'catalina', 'marston', 'sofia', 'coppola', 'homophobic', 'dancehall', 'inciting', 'civilised', 'picket', 'incite', 'bashing', 'bratman', 'prophet', 'genie', 'missy', 'courtney', 'spared', '535', 'overdose', 'guitars', 'guitarists', 'rendition', 'songbook', 'astounded', 'victors', 'souls', 'philharmonic', 'autobiography', 'defunct', 'intending', 'asante', 'embroiled', 'sutherland', 'scathing', 'dracula', 'novelist', 'songwriting', 'estelle', '1958', 'sonybmg', '310', 'ronnie', 'reunite', 'quiz', 'mindful', 'natured', 'consisting', 'superman', '857', 'mom', 'bricks', 'skeens', 'objectionable', 'manics', 'leonard', 'depicts', 'unruly', 'gentleman', 'symbols', 'indiana', 'mamma', 'faltskog', 'camped', 'translating', 'irreversible', 'recordable', 'zombic', 'advent', 'kinross', 'coma', 'jules', 'studied', 'turin', 'auf', 'lahore', 'madame', 'superintendent', 'bosworth', 'darkness', 'mack', 'staples', 'undertake', 'prater', 'respectful', 'fallout', 'hectic', 'dieter', 'consciousness', 'tyler', 'playwrights', 'parole', 'tupac', 'ashes', 'chemistry', 'jacqueline', 'illustrated', 'mum', 'tartan', 'raging', 'censors', 'unsuitable', 'cates', 'tendency', 'hitchhiker', 'filthy', 'impartial', 'interpol', 'unconditional', 'jackass', 'spiky', 'howe', 'fearne', 'deportation', 'mcewan', 'atwood', 'tomas', 'abraham', 'hillbillies', 'texan', 'birthdays', 'vinyl', 'bashir', 'portions', 'autographs', 'carey', 'blackman', 'anita', 'earner', 'embarking', 'charting', 'rats', 'crawling', 'bestselling', 'bedfordshire', 'glossy', 'lancaster', 'fledgling', 'bahamas', 'overload', 'jarre', 'copenhagen', 'hometown', 'gala', 'cathy', 'lousy', 'vicar', 'evictions', 'cosgrave', 'torrid', 'publicised', 'blazing', 'slender', 'dispel', 'tu', 'claudia', 'composers', 'exorcist', 'prequel', 'skarsgard', 'harlin', 'vatican', 'eyebrows', 'condon', 'gondry', 'pawlikowski', 'staring', 'lana', 'restrained', 'statute', 'interfere', 'nipple', 'wikid', 'fracas', 'salam', 'shorts', 'rasheed', 'sculptor', 'wentworth', 'bulbs', 'artworks', 'mutants', 'leroi', 'beautifully', 'iris', 'extraordinarily', 'germaine', 'naked', 'baywatch', 'assignment', 'icrc', 'dotted', 'tracing', 'persistently', 'dragon', 'lavish', 'norton', 'travers', 'tina', 'brass', 'stereotypical', 'coined', 'upton', 'fatigue', 'doubted', 'dashed', 'motormouth', 'beers', 'ecstatic', 'lyricist', 'lonely', 'mathieson', 'gladiator', 'trailer', 'bailed', 'remade', 'primetime', 'coltrane', 'trumpet', 'histories', 'tudor', 'anglia', 'dust', 'monologues', 'ugandan', 'homosexuality', 'sexuality', 'biological', 'apparatus', 'gael', 'bernal', 'craney', 'barrow', 'coral', 'scant', 'sleeper', 'festen', 'theatregoers', 'cuckoo', 'nest', 'purporting', 'bucks', 'ebu', 'minnows', 'unmissable', 'wraz', 'tasting', 'pulp', 'mendelsohn', 'babysitter', 'ny', 'praising', 'jenny', 'brigade', 'lurking', 'amplifier', 'improvise', 'breathe', 'artwork', 'gorgeous', 'object', 'exams', 'unicef', 'admired', 'liner', 'francesca', 'ciara', 'harding', 'vabres', 'distinguished', 'occupies', 'paused', 'chiffon', 'troy', 'barton', 'wracking', 'hermione', '40s', 'ide', 'gaydos', 'flattered', 'pg', 'skywalker', 'sylvester', 'horrified', 'cannibals', 'dominica', 'cannibalism', 'caribs', 'ancestors', 'savages', 'dolin', 'giselle', 'rt', 'rev', 'cottage', 'liu', 'halle', 'barrymore', 'guarded', 'intimidating', 'tall', 'trainers', 'perpetrators', '0800', 'gunshot', 'dowell', 'applegate', 'hotly', 'ditto', 'someday', 'rifkin', 'listener', 'riders', 'exposing', 'aggravated', 'vociferous', 'brawl', '2300', 'upn', '98th', 'townsend', 'kalman', 'significance', 'statuette', 'bevan', 'nebraska', 'navy', 'deco', 'messing', 'zola', 'lichtenstein', 'nude', 'cfca', 'paraguay', 'tuck', 'nan', 'distorted', 'ingenious', 'backlog', 'withheld', 'craymer', 'beckhams', 'slap', 'cheering', 'polished', 'sly', 'soup', 'thundercats', 'bod', 'woefully', 'stairs', 'scratch', 'scandinavian', 'spongebob', 'squarepants', 'witty', 'chorlton', 'wheelies', 'eagerly', 'recreate', 'pray', 'niven', 'wade', 'instalment', 'outsold', 'religions', 'dysfunctional', 'hogwarts', 'tinker', 'grantham', 'cullum', 'confession', 'publicist', 'inducted', 'vacation', 'fireworks', 'unsigned', 'championing', 'harper', 'avenues', 'shallow', 'whittled', '1941', 'fabulous', 'peters', 'keating', 'boi', 'd12', 'buffy', 'heroine', 'necessity', 'tabloids', 'terrorised', 'carve', 'towers', 'puerto', 'cursing', 'moon', 'descended', 'encompass', 'retrospective', 'compassion', 'raphael', 'saumarez', 'stubbs', 'alva', 'rocky', 'props', 'smell', 'panorama', 'southan', 'anselmo', 'feleppa', 'pepsi', 'appreciation', 'resisting', 'isles', 'vibe', 'gladly', 'disrespect', 'gruesome', 'wounded', 'courier', 'bang', 'originated', 'dare', 'swinging', 'soulful', 'winehouse', 'kombou', 'toppers', 'everett', 'jonesboro', 'reverend', 'headliners', 'gees', 'eagles', 'kerrang', 'xhosa', 'fatboy', 'intrusion', 'coping', 'pap', 'recipe', '1960', 'javier', 'ana', 'drastically', 'fintian', 'unintentional', 'unfolds', 'uncut', 'subtle', 'fundamentalist', 'butcher', 'sneak', 'daldry', 'shannon', 'bagged', 'tricked', 'pj', 'rusesabagina', 'fled', 'hutu', 'yimou', 'despair', 'plugged', 'severn', 'spice', 'flick', 'adolescent', 'shailendra', 'raining', 'overlap', 'hurry', 'flamboyant', 'gatekeeper', 'pande', 'christians', 'occ', 'apprehended', 'handedly', 'mantooth', '28th', 'beloved', 'simulate', 'melancholy', 'wandering', 'charitable', 'misjudgement', 'fawcett', 'intimidated', 'feted', 'subsidising', 'thumbs', 'organizations', 'depardieu', 'figaro', '1949', 'inept', 'bohemian', 'rhapsody', 'travesty', 'depressing', 'smile', 'madness', 'cheesy', 'emotion', 'dull', 'regressive', 'sigh', 'thankful', 'overplayed', 'injuring', 'crafted', 'rundown', 'demonstrations', 'rebels', 'rebanding', 'assumption', 'accidents', 'dunwoody', 'suspiciously', 'mystified', 'speeded', 'bedwellty', 'oppression', 'valleys', 'corrosive', 'petty', 'striving', 'injustice', 'anglers', 'amend', 'recreational', 'inflict', 'schizophrenic', 'unguarded', 'authorisation', 'tattoos', 'ballard', 'interrogated', 'confined', 'ducking', 'wishful', 'pictured', 'shylock', 'dickens', 'stooge', 'directorate', 'plough', 'enthusiastic', 'stereotype', 'drunken', 'hillsborough', 'rectify', 'bickering', 'protagonists', 'obscure', 'sliced', 'asserts', 'organs', 'dismisses', 'vague', 'exchanging', 'glowing', 'telephoned', '1230', 'hereditary', 'unfairness', 'advertised', 'disenchanted', 'lynton', 'harriet', 'harman', 'curtice', 'rochdale', 'tendencies', 'advocacy', 'scorching', 'advancing', 'reassuring', 'tedious', 'wrecked', 'stead', 'dismissive', 'hardening', 'centrepiece', 'amending', 'princes', 'jockey', 'yougov', 'weighted', 'afforded', 'rebuke', 'avert', 'averting', 'balloting', 'terrified', 'tenants', 'mimicked', 'sailor', 'defied', 'compulsion', 'males', 'governs', 'monarchy', 'joynt', 'assemblies', 'surgeries', 'bureaucrats', 'landslide', 'crooks', 'evangelical', 'soundbite', 'inherently', 'inherent', 'grandfather', 'detainee', 'tortured', 'parody', 'euroscepticism', '028', 'incapacity', 'hardened', 'gilligan', 'camilla', 'duke', 'eroding', 'inflicted', 'tapping', 'extremist', 'pandering', 'mousa', 'basra', 'redress', 'seminar', 'eoc', 'meibion', 'nationalist', 'conwy', 'reopened', 'bryn', 'conclusive', 'giveaways', 'salmond', 'gp', 'plp', 'elude', 'dunfermline', 'sedgefield', 'meal', 'treadmill', 'hacks', 'springboard', 'boils', 'mayors', 'doncaster', 'tyneside', 'whistleblowers', 'workplaces', 'tribunals', 'gypsy', 'encampments', 'identifying', 'gypsies', 'wiltshire', 'prey', 'deletion', 'retention', 'mennear', 'misplaced', 'offender', 'dimbleby', 'jails', 'intercepts', 'qualms', 'opportunism', 'disturbances', 'assaults', 'renewable', 'eminent', 'mawrey', 'ravi', 'forging', 'vigorously', 'limb', 'faithful', 'hutchings', 'morale', 'overturning', 'contrasted', 'illnesses', 'swaziland', 'misdirected', 'residence', 'gibraltarians', 'greaves', 'gimmicks', 'vocational', 'alun', 'encounters', 'sussex', 'vaccines', 'tanguay', 'ineligible', 'signatures', 'prudent', 'toilets', 'legislate', 'tweedbank', 'prosperous', 'reinstated', 'stain', 'endorse', 'bangor', 'jobcentres', 'proportionately', 'sensibly', 'regenerate', 'wounds', 'shoulders', 'vibrant', 'classification', 'cohesion', 'prague', 'intrusive', 'walkington', 'ousting', 'emphasise', 'greener', 'inmates', 'degrading', 'ironed', 'enjoyable', 'touchy', 'feely', 'torbay', 'distressing', 'sizes', 'exercises', '2nd', 'logistical', 'ridiculed', 'populist', 'ratcheting', 'instinctively', 'dearly', 'au', 'clarifying', 'hacan', 'blight', 'fanfare', 'convey', 'unbiased', 'reckless', 'hepatitis', 'medically', 'infectious', 'malik', 'reflective', 'fingers', 'protester', 'fluids', 'legitimacy', 'anathema', 'emmerson', 'outburst', 'polite', 'opik', 'mammals', 'decency', 'humiliation', 'heap', 'elites', 'bother', 'lacks', 'backbenches', 'countryfile', 'undermines', 'retract', 'horrific', 'ah', 'lite', 'kensington', 'disability', 'breasts', 'lovenduski', 'qca', 'mercer', 'commemoration', 'stubborn', 'sweeps', 'seizing', 'mud', 'humiliating', 'hatfield', 'manslaughter', 'headingley', 'auckland', 'mugging', 'rifled', 'gavi', 'rigorously', 'flak', 'sailed', 'undoubted', 'contrived', 'combatants', 'rspca', 'webcast', 'sectarianism', 'candidacy', 'simplest', 'cleaned', 'floors', 'testimonies', 'researching', 'addison', 'warrant', 'dumpsite', 'radioactive', 'intimidation', 'poaching', 'lodged', 'idealistic', 'sympathetically', 'mistrust', 'embarrass', 'disrupt', 'museums', 'braille', 'factions', 'opus', 'dei', 'teachings', 'secretive', 'contraception', 'solidarity', 'inpatient', 'activated', 'pent', 'apathetic', 'smallpox', 'knowingly', 'newham', 'councillor', 'epitomised', 'suppress', 'incapacitated', 'withholding', 'assisted', 'preserving', 'cmf', 'updating', 'mencap', 'neurone', 'keynes', 'misjudged', 'shredding', 'shameful', 'participating', 'peacefully', 'prevail', 'mccabe', 'cosla', 'monteith', 'knox', 'nattrass', 'farage', 'fascist', 'angered', 'kgb', 'doha', 'mscps', 'hypnotism', 'outmoded', 'intelligently', 'mattered', 'cloning', 'winston', 'fracturing', 'charming', 'armour', 'affluent', 'persecuted', 'peterborough', 'feeds', 'rot', 'erewash', 'asbos', 'curtain', 'fundamentalism', 'totalitarianism', 'surreptitiously', 'hobbes', 'squads', 'deserving', 'incidentally', 'tracts', 'feofanova', 'concede', 'agonisingly', 'sprem', 'petrova', 'haile', 'arch', 'lombard', 'sanderson', 'chabal', 'karol', 'bye', 'lima', 'nz', 'aus', 'tonga', 'sititi', 'rauluni', 'spurned', 'spitting', 'tighthead', 'veracruz', 'sanchez', 'hauled', 'gears', 'nolan', 'cairns', 'coleraine', 'panagopoulos', 'shalaby', 'unassailable', 'dreaming', 'tirunesh', 'laps', 'hapless', 'ma', 'nikolay', 'gabbidon', 'distin', 'musampa', 'sibierski', 'og', 'steadfastly', 'diligent', 'psv', 'cruised', 'thie', 'pentathlon', 'disqualified', 'olympian', 'clitheroe', 'burying', 'partizan', 'dane', 'carlsen', 'taik', 'carvalho', 'arteta', 'primera', 'kenyon', 'dominating', '1400', 'rubbers', 'feyenoord', 'unsung', 'annadale', 'harrier', 'eidur', 'marseille', 'jaime', 'velimir', 'zajec', 'coventry', 'stimulant', 'bupa', 'presentations', 'amends', 'backley', 'decathlete', 'queudrue', 'zenden', 'remiss', 'indecision', 'worded', 'construed', 'martina', 'samantha', 'stosur', 'spadea', 'schuettler', 'robby', 'streaking', 'wildcard', 'emphatic', 'powerfully', 'onrushing', 'despairing', 'blanchard', 'competes', 'gronkjaer', 'ronaldinho', 'fumbled', 'tynecastle', 'encouragement', 'selectors', 'jeanette', 'findlay', 'jiri', 'customary', 'frenetic', 'lone', 'stopper', 'kieron', 'resultant', 'jaaskelainen', 'hierro', 'faye', 'jenas', 'scrummaging', 'wavelength', 'supplements', 'binned', 'retaliation', 'pepito', 'fielded', 'lobbing', 'deflected', 'bravely', 'biscan', 'samaria', 'tripped', 'markos', 'geneti', 'stumbled', 'garland', 'monaco', 'cisse', 'pairing', 'holloway', 'lusaka', 'obikwelu', 'jagielka', 'blazed', 'cesc', 'cygan', 'kolo', 'unheralded', 'evident', 'azzurri', 'pounced', 'pedrazzi', 'gallacher', 'tokumasu', 'alberto', 'stint', 'carrow', 'worthington', 'acquitted', 'collision', 'probed', 'harbours', 'ravenhill', 'anomalies', 'foes', 'suck', 'ligament', 'fullarton', 'admirable', 'birkett', 'hoadley', 'barnes', 'honiss', 'nailed', 'deft', 'claudio', 'elimination', 'bucharest', 'adidas', 'moorcroft', 'fluffed', 'jansen', 'bowen', 'graz', 'mariano', 'felix', 'novak', 'montanes', 'greeting', 'bewildered', 'testimonial', 'jonah', 'pickering', 'departed', 'attackers', 'maldini', 'kitts', 'nevis', 'medallists', 'sanctioned', 'boca', 'juniors', 'brazilians', 'sprawling', 'olsson', 'linesman', 'powergen', 'kudos', 'doyle', 'harlequins', 'immersed', 'switches', 'haka', 'triumphing', 'kiwi', 'ferocious', 'embu', 'isaiah', 'goalless', 'watford', 'yeovil', 'crushed', 'cctv', 'serie', 'balshaw', 'vyvyan', 'gleeson', 'edelman', 'deceptive', 'goldstein', 'fray', 'jake', 'mcgee', 'baas', 'rankin', 'inferior', 'xabi', 'footballing', 'pumas', 'clinic', 'na', 'pits', 'contests', 'missile', 'jez', 'costin', 'sfar', 'ernest', 'mcindoe', 'rigoglioso', 'mulligan', 'namibia', 'incensed', 'connacht', 'viadana', 'positional', 'schubert', 'alli', 'brownsword', 'mcnamara', 'henchoz', 'ancelotti', 'hitzlsperger', 'makofo', 'kamara', 'transmits', 'impressions', 'jesse', 'murambadoro', 'bnei', 'bahoken', 'vincze', 'horvath', 'mcpake', '87th', 'mcnamee', 'surpassing', 'stuffed', 'apprehension', '84th', 'shaftesbury', 'barnet', 'headbutt', 'jeannin', 'bore', 'primus', 'yakubu', 'cue', 'starace', 'staked', 'meticulous', 'cubs', 'krasner', 'acrobatic', 'textbook', 'ruined', 'greet', 'remy', 'trainer', '23rd', 'narraway', 'kiole', 'mayerhofler', 'blending', 'luckily', 'enigmatic', 'realism', 'mccreadie', 'contra', 'polygons', 'bolz', 'edgware', 'lionhead', 'geek', 'vandals', 'georgewbush', 'chronology', 'amiga', 'goosens', 'pompeii', 'augmented', 'misconception', 'spec', 'wirelessly', 'cec', 'renton', 'deathifier', 'theoretically', 'malware', 'sensor', 'zoom', 'smiley', 'mikko', 'hypponen', 'amd', 'specify', 'outpouring', 'tiscali', 'astonishing', 'intentionally', 'peripherals', 'sleek', 'connectors', 'eeoc', 'archived', 'zip', 'pinpoint', 'drawings', 'bouts', 'bysshe', 'inventors', 'anomaly', 'bots', 'indispensable', 'adaptor', 'pros', 'textual', 'digitise', 'kotamaraja', 'heretic', 'aesthetics', 'w800', 'incompatibilities', 'cory', 'gage', 'immeasurably', 'mcrae', 'futuristic', 'enhancements', 'conferencing', 'megastores', 'wyver', 'floppy', 'cranfield', 'openzone', 'usernames', 'nobles', 'glean', 'brunini', 'plethora', 'cataloguing', 'pitylak', 'leadplex', 'receivers', 'sonyericsson', 'chatrooms', 'sucking', 'retrieval', 'cache', 'cyberspace', 'thx', 'squashed', 'hdtvs', '625', 'vj', 'transmitter', 'exponentially', 'coders', 'ipodder', 'vulnerability', 'creators', 'safari', 'tveter', 'installs', 'gigapixel', 'panoramic', 'tno', 'lens', 'alcatel', 'unplayable', 'gillingwater', 'exoskeletons', 'revolutionising', 'reconditioned', 'mp3s', 'profiting', 'sp2', 'thinner', 'blank', 'buoy', 'oudendijk', 'analytics', 'spamming', 'blacklists', 'curt', 'blogsphere', 'messy', 'customised', 'partnering', 'computational', 'futurologist', 'hanlon', 'species', 'wildlife', 'patented', 'render', 'yarnton', 'stereo', 'frames', 'dinkier', 'npd', 'shy', 'redirected', 'clamshell', 'nomad', 'securely', 'schwarzenegger', 'wrists', 'objects', 'coatings', 'uv', 'ultraviolet', 'likewise', 'xboxes', 'copernic', 'enfish', 'validated', 'retrieve', 'envisional', 'zelda', 'ultima', 'eq', 'quests', 'jedi', 'lithium', 'ion', 'stealing', 'hacked', 'isbn', 'gillmor', 'lokitorrent', 'torrent', 'advertiser', 'plunders', 'gateway', 'premise', 'usable', 'tpm', 'toys', 'smartcard', 'unwelcome', 'engerwitzdorf', 'buntes', 'fernsehen', 'gerolami', 'doe', 'linpack', 'simulation', 'megabyte', 'enterprising', 'aadc', 'megabit', 'stening', 'mobi', 'obese', 'mailing', 'idc', 'reichhold', 'authenticate', 'smartcards', 'razor', 'sankus', 'curiously', 'ntt', 'hailstorm', 'gizmos', 'yepp', 'capturing', 'kleinberg', 'anonymity', 'unusable', 'sridharan', 'slimline', 'sandvine', 'handy', 'wadis', 'oddities', 'pda', 'tin', 'onestat', 'immersion', 'buena', 'vista', 'blasting', 'honeynet', 'relays', 'vocabulary', 'robotics', 'gait', 'buzzwords', 'niscc', 'cores', 'bioware', 'knights', 'breadth', 'glitches', 'computerandvideogames', 'si', 'eidos', 'fm2005', 'netsurity', 'token', 'activcard', 'passcode', 'noisy', 'templeton', 'liking', 'connects', 'snappy', 'phpbb', 'codemasters', 'intervoice', 'robotiquette', 'dautenhahn', 'conmen', 'jarek', 'netsky', 'artgarden', 'keywords', 'ico', 'currie', 'aggregators', 'workshare', 'elevators', 'xxfake', 'xxfake', 'xxfake', 'xxfake', 'xxfake']\n",
            "14600\n"
          ]
        }
      ]
    },
    {
      "cell_type": "markdown",
      "source": [
        "#### **Problem #1.2.3: Print the labels**\n",
        "\n",
        "\n",
        "Use the second element of the `vocab` attribute to print the labels."
      ],
      "metadata": {
        "id": "PSVTgBD67QFQ"
      }
    },
    {
      "cell_type": "code",
      "source": [
        "print(dls.vocab[1])"
      ],
      "metadata": {
        "id": "mxfzW9c484nz",
        "colab": {
          "base_uri": "https://localhost:8080/"
        },
        "outputId": "e0c24aa1-0ca5-4de9-8be1-8d033cf3721a"
      },
      "execution_count": 10,
      "outputs": [
        {
          "output_type": "stream",
          "name": "stdout",
          "text": [
            "['business', 'entertainment', 'politics', 'sport', 'tech']\n"
          ]
        }
      ]
    },
    {
      "cell_type": "markdown",
      "source": [
        "#### **Problem #1.2.4: View vectorized data**\n",
        "---\n",
        "\n",
        "TextDataLoaders assigns a unique integer ID to each token in the vocabulary, while preserving the order of the tokens.\n",
        "\n",
        "Use `dls.one_batch()` to pull one batch of the data and view the first instance."
      ],
      "metadata": {
        "id": "K7jj8YPZ7hFR"
      }
    },
    {
      "cell_type": "code",
      "source": [
        "#xb, yb = dls.one_batch() # FILL IN CODE HERE\n",
        "#print(xb[0])\n",
        "xb, yb = dls.one_batch()\n",
        "print(xb[0])"
      ],
      "metadata": {
        "id": "11eK9s-y86TR",
        "colab": {
          "base_uri": "https://localhost:8080/"
        },
        "outputId": "a6c68970-8cf5-466b-f57e-4120e12c3a78"
      },
      "execution_count": 11,
      "outputs": [
        {
          "output_type": "stream",
          "name": "stdout",
          "text": [
            "TensorText([   2, 1246,   92,  ..., 2583,  927,    0], device='cuda:0')\n"
          ]
        }
      ]
    },
    {
      "cell_type": "markdown",
      "source": [
        "#### **Problem #1.2.5: Decode vectorized data**\n",
        "---\n",
        "\n",
        "Use `dls.show()` to decode the numeric data.\n",
        "\n",
        "*Hint: Pass a tuple to the function.*"
      ],
      "metadata": {
        "id": "BqZeCFZsrwq3"
      }
    },
    {
      "cell_type": "code",
      "source": [
        "dls.show((xb[0], yb[0]))"
      ],
      "metadata": {
        "id": "n93S7X6N8kzm",
        "colab": {
          "base_uri": "https://localhost:8080/"
        },
        "outputId": "6693c2d4-159b-4e31-9e75-f6433e3517d6"
      },
      "execution_count": 12,
      "outputs": [
        {
          "output_type": "stream",
          "name": "stdout",
          "text": [
            "xxbos losing online gaming online role playing games time consuming xxunk flights reality people fantasy lives seriously video game world warcraft shops week fans wrote website express delight warning addiction game like far costly time substance xxunk track time wrote travis anderson texas comments humorous game good m going way limit hours d spend playing wrote xxunk struck worrying tone massively multiplayer online role playing game mmorpg need motto mmorpg shame getting know problem going xxunk wrote stuart xxunk davies xxunk scare xxunk articles addictive video games existed days game xxunk stopped atari offices gaming like xxunk quickly unhealthy obsession spending time gym television reading poetry unfortunately gaming addiction far easy stories gamers spending 10 15 hours day video games frequent impact having families distressing massively multiplayer online role playing games mmorpgs allow thousands gamers common experience sharing fantasy science fiction worlds scope games like warcraft everquest ultima epic exploration adventure xxunk problem xxunk gamers perform long xxunk xxunk tasks levels gain adventure xxunk brings desire playing reason everquest eq nicknamed xxunk e xxunk writing culture xxunk print culture play online role playing game everquest lot lot probably 15 20 hours week t work 30 40 hours says world online gaming behaviour wasn t unusual lots people knew game played eq lie don t work stuff home cancel refuse xxunk dinner spend time watching tv good thing presumably wrote explaining everquest time quit game says realised life fun everquest clear obsession rare huge growth online gaming growth numbers people passion hobby far 400 people bought copy world warcraft days month fraction descend xxunk thoughts families friends gamers affected everquest found blog everquest daily xxunk jane runs website xxunk chronicle heart xxunk stories actually convinced point people spend times xxunk reality unnamed correspondent anonymous wrote rare nights husband bed time find sleeping sleep body laying t talk playing absolutely point doesn t hear distracted u xxrep 3 m ya ask question gaming xxunk xxunk term women shut male gamers funny correspondent wrote believe addicted online gaming cause depression xxunk xxunk today son days sad truth husband 11 hours today playing warcraft game interact sweet tiny baby quests waiting online video game fans complain hobby misunderstood xxunk gaming mainstream games immersive hiding social problems wish 30 40 hours week unusual think probably isn t 11 hour stretch isn t surprising ve people play 15 hours stretch know people spending week holiday work playing warcraft know people play crack shifts xxunk a.m. friends resume waiting item appear understand sign addiction alter life fit life standards xxunk solution stop playing need real life interesting sadly talk people obsessed gaming find xxunk time join long term relationship years began games complex find time play marriage work drag time think line playing game lot gaming addiction distinct play games lot xxunk 20 hours week don t missing work commitments play games ago deleted game computer xxunk worst real world xxunk worries xxunk magic staff mighty xxunk unlike books tv gain absolutely stop playing point started achievements 10 hour session xxunk locked game ve gained real world pile achievement fake having monetary rewards encouragement offered mmorpgs hook games hours daily learn xxunk simply human need easily xxunk progress recognition xxunk obsessed simply need recognition achievements reality advice gaming xxunk t em join em try playing play xxunk relationship play guilt xxunk long played sitting morning till early hours day xxunk singing xxunk bath room xxunk xxunk pain hardly eat xxunk smoke endlessly drink thankfully xxunk worn girlfriend job online gaming xxunk xxunk achievement end sight going xxunk ultimate obsessive behaviour cause concern xxunk articles gaming talk terms reality obviously somebody spends thirty hours week playing everquest problem problem dysfunctional sense reality obsessive eq consider game real example obsessive automotive xxunk considers car human mmorpgs unique danger terms encouraging obsessive behaviour absorbing virtual world easily accessed 24 7 problem lie nature gaming nature modern 24 hour culture problem mmorpgs complete quest friends 10 hours sleep championship manager xxunk life years particular session started 2 p.m. paused brief sleep 5 a.m. visit university classes xxunk midday 10 hour session people tend xxunk problems hardcore gaming rarely allowed immersed game expect perspective everquest xxunk college came point gaming world felt real real xxunk courses able barely graduate lucky came senses fortunate dropped college holding job avoid online xxunk like plague redundant partner job whilst day played everquest 7 xxunk till 5 pm came home pretended got justifying playing evening quit playing mmorpg good job got point eating dinner pc realised things getting silly m trying spend time easy ve got real addiction going problem love complete goal completed finished time obsessed complete goal standpoint addiction game complete ultimate goal like falling black pit easier escape controlled fantasy world reality times words goal offered pc game easier fun real world pretty scary implications think t world warcraft destroy xxunk know played wars xxunk xxunk xxunk games engineered way early game progress quickly progress exponentially slower requiring time reach m sad peak addiction spending entire xxunk monitor slowly building character stopping food toilet breaks thankfully clean actually managed sell jedi account 800 xxunk check completely xxunk time xxunk years ago began playing ultima online game dominated 2 years life 2 wonderful years vivid memories experiences friends online gaming world xxunk fear thoughts achieved day day normal life whilst warn people giving life games believe way spend time watching tv gaming addictive recognised addiction play xxunk hours night work night building stats completing xxunk quests battling xxunk found time met got married life changed hell cast spells battle till early hours morning fun online gaming enjoyed enjoy watching television going cinema pub mates people recreational drugs occasional basis able xxunk lives families relationships good careers minority allow drugs destroy lives addicted article true mmorpgs message clear legalise drugs outlaw online gaming sounds like sad stories believe play xxunk warcraft know addictive xxunk life certainly gets way think people simply know draw line lack xxunk stop stepping think m obsessed gaming spend far time playing games like everquest 2 manager going xxunk real people try m thinking mind d computer cambridge obsessed online role playing games quests xxunk real life situation goals achieve etc spend hours day online playing rarely hours sleep getting work morning players spend time mmorpgs tv fail affect players social lives xxunk furthermore types games contain huge social aspect games xxunk couch potato players indulging xxunk nature games like things bad thing long walk computer things great fun living korea moment lots pc xxunk cafes nearly koreans addicted online games korean died lack food water playing online games play xbox day find self lying xxunk gaming fix longest played 24 hour straight session know play long obsession t xxunk xxunk wind m increasingly concerned mate play online hour day aware time disappear sitting tv trying xxunk individual getting balance getting home xxunk stress day hour gaming enjoying real life bought version world warcraft came longest played 23 xxunk straight game month addictive subsequently bought version couldn t m going regulate time far strictly great game having played mmorpg games years agree type games life sucking concern younger generation gamers play hours end adult xxunk mmorpg games need credit card play think parents know letting xxunk medical proof staring computer screens hours time damage person 191 expect decline worse people pathetic need machines notice world swiftly overcome troubles xxunk worries online universe absolutely meaningless xxunk kid school term ultima online game a xxrep 4 h days xxunk\n",
            "tech\n"
          ]
        }
      ]
    },
    {
      "cell_type": "markdown",
      "source": [
        "---\n",
        "\n",
        "<center>\n",
        "\n",
        "#### **Back to lecture**\n",
        "\n",
        "---"
      ],
      "metadata": {
        "id": "cPPib_SElbqQ"
      }
    },
    {
      "cell_type": "markdown",
      "source": [
        "<a name=\"p2\"></a>\n",
        "\n",
        "---\n",
        "## **Part 2: Embeddings**\n",
        "---"
      ],
      "metadata": {
        "id": "wY5xiH-hwBef"
      }
    },
    {
      "cell_type": "markdown",
      "source": [
        "#### **Problem #2.1: Create an embedding layer in PyTorch**\n",
        "\n",
        "\n",
        "We can use PyTorch to create embeddings. Create an embedding layer. The first input will be the vocab size, and the second input is the embedding dimension. Set the embedding dimension to 50."
      ],
      "metadata": {
        "id": "f3h5sb5sxQmI"
      }
    },
    {
      "cell_type": "code",
      "source": [
        "# Create an embedding layer with 50 dimensions\n",
        "#vocab_size = len(dls.vocab# FILL IN CODE HERE\n",
        "#embedding = nn.Embedding(vocab_size, # FILL IN CODE HERE)\n",
        "vocab_size = len(dls.vocab[0])\n",
        "embedding_dim = 50\n",
        "embedding = nn.Embedding(vocab_size, embedding_dim).to(device)"
      ],
      "metadata": {
        "id": "96lSDBvmxth7"
      },
      "execution_count": 13,
      "outputs": []
    },
    {
      "cell_type": "markdown",
      "source": [
        "#### **Problem #2.2: Apply the embedding**\n",
        "\n",
        "\n",
        "Earlier, we pulled one batch of the data and saved the data `xb` and labels `yb`. Apply the embedding to the batch of data `xb`. Compare this numerical representation to the representation in Problem #4."
      ],
      "metadata": {
        "id": "4tPOqgYlyH1z"
      }
    },
    {
      "cell_type": "code",
      "source": [
        "# Apply the embedding layer\n",
        "embedded = embedding(xb)\n",
        "\n",
        "# Print the first embedded instance of the data\n",
        "print(embedded[0])\n",
        "embedded[0].size()"
      ],
      "metadata": {
        "id": "wWptl2WpyYba",
        "colab": {
          "base_uri": "https://localhost:8080/"
        },
        "outputId": "a809ed01-d4e4-4f26-85d8-1988bd0e219c"
      },
      "execution_count": 14,
      "outputs": [
        {
          "output_type": "stream",
          "name": "stdout",
          "text": [
            "TensorText([[-1.1890,  1.5346, -0.3551,  ..., -1.6393, -2.5368, -1.4364],\n",
            "            [-0.5957,  0.8081,  1.1955,  ..., -1.5520, -0.5316, -0.6303],\n",
            "            [ 1.0140,  0.1753, -0.3008,  ...,  1.6766,  0.2298,  0.7366],\n",
            "            ...,\n",
            "            [-0.0542,  0.4725,  1.2037,  ..., -1.4270, -0.7556, -0.7625],\n",
            "            [ 0.1009, -1.3908, -0.3509,  ..., -0.5594,  0.8494,  0.5889],\n",
            "            [-0.0538, -1.3501, -0.8661,  ...,  0.3099, -0.3944, -0.4032]],\n",
            "           device='cuda:0', grad_fn=<AliasBackward0>)\n"
          ]
        },
        {
          "output_type": "execute_result",
          "data": {
            "text/plain": [
              "torch.Size([1246, 50])"
            ]
          },
          "metadata": {},
          "execution_count": 14
        }
      ]
    },
    {
      "cell_type": "markdown",
      "source": [
        "#### **Run the code below to visualize the embedding.**\n",
        "\n",
        "You can change the first and second dimension for plotting."
      ],
      "metadata": {
        "id": "PUdBt4bIzr-P"
      }
    },
    {
      "cell_type": "code",
      "source": [
        "first_dimension = 0\n",
        "second_dimension = 1\n",
        "\n",
        "# Detach the tensor from the computational graph (preparing for plotting)\n",
        "embedded = embedded.detach()\n",
        "\n",
        "# Plot the embeddings\n",
        "plt.figure(figsize=(10, 10))\n",
        "plt.scatter(\n",
        "    embedded[:, :, first_dimension].numpy().flatten(),\n",
        "    embedded[:, :, second_dimension].numpy().flatten(),\n",
        "    s=10)\n",
        "plt.title('Embedding Visualization')\n",
        "plt.xlabel('Dimension 1')\n",
        "plt.ylabel('Dimension 2')\n",
        "plt.show()"
      ],
      "metadata": {
        "id": "ULSUaj1fwqET",
        "colab": {
          "base_uri": "https://localhost:8080/",
          "height": 389
        },
        "outputId": "4062b077-456d-4049-a7b1-77d755668bb9"
      },
      "execution_count": 16,
      "outputs": [
        {
          "output_type": "error",
          "ename": "TypeError",
          "evalue": "can't convert cuda:0 device type tensor to numpy. Use Tensor.cpu() to copy the tensor to host memory first.",
          "traceback": [
            "\u001b[0;31m---------------------------------------------------------------------------\u001b[0m",
            "\u001b[0;31mTypeError\u001b[0m                                 Traceback (most recent call last)",
            "\u001b[0;32m<ipython-input-16-cd9e8cffaaf7>\u001b[0m in \u001b[0;36m<cell line: 9>\u001b[0;34m()\u001b[0m\n\u001b[1;32m      8\u001b[0m \u001b[0mplt\u001b[0m\u001b[0;34m.\u001b[0m\u001b[0mfigure\u001b[0m\u001b[0;34m(\u001b[0m\u001b[0mfigsize\u001b[0m\u001b[0;34m=\u001b[0m\u001b[0;34m(\u001b[0m\u001b[0;36m10\u001b[0m\u001b[0;34m,\u001b[0m \u001b[0;36m10\u001b[0m\u001b[0;34m)\u001b[0m\u001b[0;34m)\u001b[0m\u001b[0;34m\u001b[0m\u001b[0;34m\u001b[0m\u001b[0m\n\u001b[1;32m      9\u001b[0m plt.scatter(\n\u001b[0;32m---> 10\u001b[0;31m     \u001b[0membedded\u001b[0m\u001b[0;34m[\u001b[0m\u001b[0;34m:\u001b[0m\u001b[0;34m,\u001b[0m \u001b[0;34m:\u001b[0m\u001b[0;34m,\u001b[0m \u001b[0mfirst_dimension\u001b[0m\u001b[0;34m]\u001b[0m\u001b[0;34m.\u001b[0m\u001b[0mnumpy\u001b[0m\u001b[0;34m(\u001b[0m\u001b[0;34m)\u001b[0m\u001b[0;34m.\u001b[0m\u001b[0mflatten\u001b[0m\u001b[0;34m(\u001b[0m\u001b[0;34m)\u001b[0m\u001b[0;34m,\u001b[0m\u001b[0;34m\u001b[0m\u001b[0;34m\u001b[0m\u001b[0m\n\u001b[0m\u001b[1;32m     11\u001b[0m     \u001b[0membedded\u001b[0m\u001b[0;34m[\u001b[0m\u001b[0;34m:\u001b[0m\u001b[0;34m,\u001b[0m \u001b[0;34m:\u001b[0m\u001b[0;34m,\u001b[0m \u001b[0msecond_dimension\u001b[0m\u001b[0;34m]\u001b[0m\u001b[0;34m.\u001b[0m\u001b[0mnumpy\u001b[0m\u001b[0;34m(\u001b[0m\u001b[0;34m)\u001b[0m\u001b[0;34m.\u001b[0m\u001b[0mflatten\u001b[0m\u001b[0;34m(\u001b[0m\u001b[0;34m)\u001b[0m\u001b[0;34m,\u001b[0m\u001b[0;34m\u001b[0m\u001b[0;34m\u001b[0m\u001b[0m\n\u001b[1;32m     12\u001b[0m     s=10)\n",
            "\u001b[0;32m/usr/local/lib/python3.10/dist-packages/fastai/torch_core.py\u001b[0m in \u001b[0;36m__torch_function__\u001b[0;34m(cls, func, types, args, kwargs)\u001b[0m\n\u001b[1;32m    382\u001b[0m         \u001b[0;32mif\u001b[0m \u001b[0mcls\u001b[0m\u001b[0;34m.\u001b[0m\u001b[0mdebug\u001b[0m \u001b[0;32mand\u001b[0m \u001b[0mfunc\u001b[0m\u001b[0;34m.\u001b[0m\u001b[0m__name__\u001b[0m \u001b[0;32mnot\u001b[0m \u001b[0;32min\u001b[0m \u001b[0;34m(\u001b[0m\u001b[0;34m'__str__'\u001b[0m\u001b[0;34m,\u001b[0m\u001b[0;34m'__repr__'\u001b[0m\u001b[0;34m)\u001b[0m\u001b[0;34m:\u001b[0m \u001b[0mprint\u001b[0m\u001b[0;34m(\u001b[0m\u001b[0mfunc\u001b[0m\u001b[0;34m,\u001b[0m \u001b[0mtypes\u001b[0m\u001b[0;34m,\u001b[0m \u001b[0margs\u001b[0m\u001b[0;34m,\u001b[0m \u001b[0mkwargs\u001b[0m\u001b[0;34m)\u001b[0m\u001b[0;34m\u001b[0m\u001b[0;34m\u001b[0m\u001b[0m\n\u001b[1;32m    383\u001b[0m         \u001b[0;32mif\u001b[0m \u001b[0m_torch_handled\u001b[0m\u001b[0;34m(\u001b[0m\u001b[0margs\u001b[0m\u001b[0;34m,\u001b[0m \u001b[0mcls\u001b[0m\u001b[0;34m.\u001b[0m\u001b[0m_opt\u001b[0m\u001b[0;34m,\u001b[0m \u001b[0mfunc\u001b[0m\u001b[0;34m)\u001b[0m\u001b[0;34m:\u001b[0m \u001b[0mtypes\u001b[0m \u001b[0;34m=\u001b[0m \u001b[0;34m(\u001b[0m\u001b[0mtorch\u001b[0m\u001b[0;34m.\u001b[0m\u001b[0mTensor\u001b[0m\u001b[0;34m,\u001b[0m\u001b[0;34m)\u001b[0m\u001b[0;34m\u001b[0m\u001b[0;34m\u001b[0m\u001b[0m\n\u001b[0;32m--> 384\u001b[0;31m         \u001b[0mres\u001b[0m \u001b[0;34m=\u001b[0m \u001b[0msuper\u001b[0m\u001b[0;34m(\u001b[0m\u001b[0;34m)\u001b[0m\u001b[0;34m.\u001b[0m\u001b[0m__torch_function__\u001b[0m\u001b[0;34m(\u001b[0m\u001b[0mfunc\u001b[0m\u001b[0;34m,\u001b[0m \u001b[0mtypes\u001b[0m\u001b[0;34m,\u001b[0m \u001b[0margs\u001b[0m\u001b[0;34m,\u001b[0m \u001b[0mifnone\u001b[0m\u001b[0;34m(\u001b[0m\u001b[0mkwargs\u001b[0m\u001b[0;34m,\u001b[0m \u001b[0;34m{\u001b[0m\u001b[0;34m}\u001b[0m\u001b[0;34m)\u001b[0m\u001b[0;34m)\u001b[0m\u001b[0;34m\u001b[0m\u001b[0;34m\u001b[0m\u001b[0m\n\u001b[0m\u001b[1;32m    385\u001b[0m         \u001b[0mdict_objs\u001b[0m \u001b[0;34m=\u001b[0m \u001b[0m_find_args\u001b[0m\u001b[0;34m(\u001b[0m\u001b[0margs\u001b[0m\u001b[0;34m)\u001b[0m \u001b[0;32mif\u001b[0m \u001b[0margs\u001b[0m \u001b[0;32melse\u001b[0m \u001b[0m_find_args\u001b[0m\u001b[0;34m(\u001b[0m\u001b[0mlist\u001b[0m\u001b[0;34m(\u001b[0m\u001b[0mkwargs\u001b[0m\u001b[0;34m.\u001b[0m\u001b[0mvalues\u001b[0m\u001b[0;34m(\u001b[0m\u001b[0;34m)\u001b[0m\u001b[0;34m)\u001b[0m\u001b[0;34m)\u001b[0m\u001b[0;34m\u001b[0m\u001b[0;34m\u001b[0m\u001b[0m\n\u001b[1;32m    386\u001b[0m         \u001b[0;32mif\u001b[0m \u001b[0missubclass\u001b[0m\u001b[0;34m(\u001b[0m\u001b[0mtype\u001b[0m\u001b[0;34m(\u001b[0m\u001b[0mres\u001b[0m\u001b[0;34m)\u001b[0m\u001b[0;34m,\u001b[0m\u001b[0mTensorBase\u001b[0m\u001b[0;34m)\u001b[0m \u001b[0;32mand\u001b[0m \u001b[0mdict_objs\u001b[0m\u001b[0;34m:\u001b[0m \u001b[0mres\u001b[0m\u001b[0;34m.\u001b[0m\u001b[0mset_meta\u001b[0m\u001b[0;34m(\u001b[0m\u001b[0mdict_objs\u001b[0m\u001b[0;34m[\u001b[0m\u001b[0;36m0\u001b[0m\u001b[0;34m]\u001b[0m\u001b[0;34m,\u001b[0m\u001b[0mas_copy\u001b[0m\u001b[0;34m=\u001b[0m\u001b[0;32mTrue\u001b[0m\u001b[0;34m)\u001b[0m\u001b[0;34m\u001b[0m\u001b[0;34m\u001b[0m\u001b[0m\n",
            "\u001b[0;32m/usr/local/lib/python3.10/dist-packages/torch/_tensor.py\u001b[0m in \u001b[0;36m__torch_function__\u001b[0;34m(cls, func, types, args, kwargs)\u001b[0m\n\u001b[1;32m   1435\u001b[0m \u001b[0;34m\u001b[0m\u001b[0m\n\u001b[1;32m   1436\u001b[0m         \u001b[0;32mwith\u001b[0m \u001b[0m_C\u001b[0m\u001b[0;34m.\u001b[0m\u001b[0mDisableTorchFunctionSubclass\u001b[0m\u001b[0;34m(\u001b[0m\u001b[0;34m)\u001b[0m\u001b[0;34m:\u001b[0m\u001b[0;34m\u001b[0m\u001b[0;34m\u001b[0m\u001b[0m\n\u001b[0;32m-> 1437\u001b[0;31m             \u001b[0mret\u001b[0m \u001b[0;34m=\u001b[0m \u001b[0mfunc\u001b[0m\u001b[0;34m(\u001b[0m\u001b[0;34m*\u001b[0m\u001b[0margs\u001b[0m\u001b[0;34m,\u001b[0m \u001b[0;34m**\u001b[0m\u001b[0mkwargs\u001b[0m\u001b[0;34m)\u001b[0m\u001b[0;34m\u001b[0m\u001b[0;34m\u001b[0m\u001b[0m\n\u001b[0m\u001b[1;32m   1438\u001b[0m             \u001b[0;32mif\u001b[0m \u001b[0mfunc\u001b[0m \u001b[0;32min\u001b[0m \u001b[0mget_default_nowrap_functions\u001b[0m\u001b[0;34m(\u001b[0m\u001b[0;34m)\u001b[0m\u001b[0;34m:\u001b[0m\u001b[0;34m\u001b[0m\u001b[0;34m\u001b[0m\u001b[0m\n\u001b[1;32m   1439\u001b[0m                 \u001b[0;32mreturn\u001b[0m \u001b[0mret\u001b[0m\u001b[0;34m\u001b[0m\u001b[0;34m\u001b[0m\u001b[0m\n",
            "\u001b[0;31mTypeError\u001b[0m: can't convert cuda:0 device type tensor to numpy. Use Tensor.cpu() to copy the tensor to host memory first."
          ]
        },
        {
          "output_type": "display_data",
          "data": {
            "text/plain": [
              "<Figure size 1000x1000 with 0 Axes>"
            ]
          },
          "metadata": {}
        }
      ]
    },
    {
      "cell_type": "markdown",
      "source": [
        "---\n",
        "\n",
        "<center>\n",
        "\n",
        "#### **Back to lecture**\n",
        "\n",
        "---"
      ],
      "metadata": {
        "id": "H1s-_tRTz90o"
      }
    },
    {
      "cell_type": "markdown",
      "source": [
        "<a name=\"p3\"></a>\n",
        "\n",
        "---\n",
        "## **Part 3: News Classification with a Simple Neural Net with Embedding**\n",
        "---"
      ],
      "metadata": {
        "id": "kV7du9rJBYuz"
      }
    },
    {
      "cell_type": "markdown",
      "source": [
        "#### **Problem #3.1**\n",
        "\n",
        "\n",
        "\n",
        "Fill in the code below for a fully connected network of your own design. Ensure you have the correct number of inputs and outputs.\n",
        "\n",
        "Set the embedding dimension to 200."
      ],
      "metadata": {
        "id": "ZbhgBwEPCm8P"
      }
    },
    {
      "cell_type": "code",
      "source": [
        "embed_size = 200 # FILL IN CODE HERE\n",
        "\n",
        "model = nn.Sequential(\n",
        "     # FILL IN CODE HERE\n",
        "    nn.Embedding(vocab_size, embed_size),\n",
        "    nn.AdaptiveAvgPool2d((1, embed_size)),\n",
        "    nn.Flatten(),\n",
        "    nn.Linear(embed_size, 100), # FILL IN CODE HERE\n",
        "     nn.ReLU(),\n",
        "     nn.Linear(100, 5), # FILL IN CODE HERE\n",
        "    # ADD THE REST OF YOUR LAYERS\n",
        ")"
      ],
      "metadata": {
        "id": "qrIklOq1CmS0"
      },
      "execution_count": 17,
      "outputs": []
    },
    {
      "cell_type": "markdown",
      "source": [
        "#### **Problem #3.2**\n",
        "\n",
        "Create a Learner object and fit the model. Since this is a multiclass classification problem, you will use `nn.CrossEntropyLoss()` and accuracy as the metric. Choose your own hyperparameters (5 epochs and a learning rate of 0.001 is a good start.)"
      ],
      "metadata": {
        "id": "fuGPjq1bLSNA"
      }
    },
    {
      "cell_type": "code",
      "source": [
        "# Create a Learner and train the model\n",
        "learn = Learner(\n",
        "    dls,\n",
        "    model,\n",
        "    loss_func=nn.CrossEntropyLoss(),\n",
        "    metrics=accuracy)\n",
        "learn.fit(10, lr=0.001)"
      ],
      "metadata": {
        "id": "rjiBv6JzLk4C",
        "colab": {
          "base_uri": "https://localhost:8080/",
          "height": 363
        },
        "outputId": "87be8e7e-c2ec-4a10-96f6-03f3c5ab5086"
      },
      "execution_count": 18,
      "outputs": [
        {
          "output_type": "display_data",
          "data": {
            "text/plain": [
              "<IPython.core.display.HTML object>"
            ],
            "text/html": [
              "\n",
              "<style>\n",
              "    /* Turns off some styling */\n",
              "    progress {\n",
              "        /* gets rid of default border in Firefox and Opera. */\n",
              "        border: none;\n",
              "        /* Needs to be in here for Safari polyfill so background images work as expected. */\n",
              "        background-size: auto;\n",
              "    }\n",
              "    progress:not([value]), progress:not([value])::-webkit-progress-bar {\n",
              "        background: repeating-linear-gradient(45deg, #7e7e7e, #7e7e7e 10px, #5c5c5c 10px, #5c5c5c 20px);\n",
              "    }\n",
              "    .progress-bar-interrupted, .progress-bar-interrupted::-webkit-progress-bar {\n",
              "        background: #F44336;\n",
              "    }\n",
              "</style>\n"
            ]
          },
          "metadata": {}
        },
        {
          "output_type": "display_data",
          "data": {
            "text/plain": [
              "<IPython.core.display.HTML object>"
            ],
            "text/html": [
              "<table border=\"1\" class=\"dataframe\">\n",
              "  <thead>\n",
              "    <tr style=\"text-align: left;\">\n",
              "      <th>epoch</th>\n",
              "      <th>train_loss</th>\n",
              "      <th>valid_loss</th>\n",
              "      <th>accuracy</th>\n",
              "      <th>time</th>\n",
              "    </tr>\n",
              "  </thead>\n",
              "  <tbody>\n",
              "    <tr>\n",
              "      <td>0</td>\n",
              "      <td>1.583630</td>\n",
              "      <td>1.548966</td>\n",
              "      <td>0.382022</td>\n",
              "      <td>00:02</td>\n",
              "    </tr>\n",
              "    <tr>\n",
              "      <td>1</td>\n",
              "      <td>1.509750</td>\n",
              "      <td>1.452570</td>\n",
              "      <td>0.521348</td>\n",
              "      <td>00:02</td>\n",
              "    </tr>\n",
              "    <tr>\n",
              "      <td>2</td>\n",
              "      <td>1.390702</td>\n",
              "      <td>1.277549</td>\n",
              "      <td>0.662921</td>\n",
              "      <td>00:02</td>\n",
              "    </tr>\n",
              "    <tr>\n",
              "      <td>3</td>\n",
              "      <td>1.203030</td>\n",
              "      <td>1.073765</td>\n",
              "      <td>0.712360</td>\n",
              "      <td>00:02</td>\n",
              "    </tr>\n",
              "    <tr>\n",
              "      <td>4</td>\n",
              "      <td>0.991467</td>\n",
              "      <td>1.081549</td>\n",
              "      <td>0.741573</td>\n",
              "      <td>00:03</td>\n",
              "    </tr>\n",
              "    <tr>\n",
              "      <td>5</td>\n",
              "      <td>0.798627</td>\n",
              "      <td>0.696727</td>\n",
              "      <td>0.815730</td>\n",
              "      <td>00:02</td>\n",
              "    </tr>\n",
              "    <tr>\n",
              "      <td>6</td>\n",
              "      <td>0.620797</td>\n",
              "      <td>0.817688</td>\n",
              "      <td>0.820225</td>\n",
              "      <td>00:02</td>\n",
              "    </tr>\n",
              "    <tr>\n",
              "      <td>7</td>\n",
              "      <td>0.482495</td>\n",
              "      <td>0.725640</td>\n",
              "      <td>0.813483</td>\n",
              "      <td>00:02</td>\n",
              "    </tr>\n",
              "    <tr>\n",
              "      <td>8</td>\n",
              "      <td>0.379995</td>\n",
              "      <td>0.704447</td>\n",
              "      <td>0.822472</td>\n",
              "      <td>00:02</td>\n",
              "    </tr>\n",
              "    <tr>\n",
              "      <td>9</td>\n",
              "      <td>0.303797</td>\n",
              "      <td>0.467668</td>\n",
              "      <td>0.840449</td>\n",
              "      <td>00:03</td>\n",
              "    </tr>\n",
              "  </tbody>\n",
              "</table>"
            ]
          },
          "metadata": {}
        }
      ]
    },
    {
      "cell_type": "markdown",
      "source": [
        "#### **Problem #3.3**\n",
        "\n",
        "Now, evaluate the model for both the training and validation sets.\n"
      ],
      "metadata": {
        "id": "JSOOynZqL0xo"
      }
    },
    {
      "cell_type": "code",
      "source": [
        "# Evaluate the training set\n",
        "train_loss, train_accuracy = learn.validate(dl=dls.train)\n",
        "print(f\"Training accuracy: {train_accuracy}\")\n",
        "\n",
        "# Evaluate the test set\n",
        "valid_loss, validate_accuracy = learn.validate(dl=dls.valid)\n",
        "print(\"Validation accuracy: \", validate_accuracy)\n"
      ],
      "metadata": {
        "id": "HqPSJlsSL7_E",
        "colab": {
          "base_uri": "https://localhost:8080/",
          "height": 53
        },
        "outputId": "eed73253-5f1a-43f7-8c07-c81d5340056c"
      },
      "execution_count": 19,
      "outputs": [
        {
          "output_type": "display_data",
          "data": {
            "text/plain": [
              "<IPython.core.display.HTML object>"
            ],
            "text/html": [
              "\n",
              "<style>\n",
              "    /* Turns off some styling */\n",
              "    progress {\n",
              "        /* gets rid of default border in Firefox and Opera. */\n",
              "        border: none;\n",
              "        /* Needs to be in here for Safari polyfill so background images work as expected. */\n",
              "        background-size: auto;\n",
              "    }\n",
              "    progress:not([value]), progress:not([value])::-webkit-progress-bar {\n",
              "        background: repeating-linear-gradient(45deg, #7e7e7e, #7e7e7e 10px, #5c5c5c 10px, #5c5c5c 20px);\n",
              "    }\n",
              "    .progress-bar-interrupted, .progress-bar-interrupted::-webkit-progress-bar {\n",
              "        background: #F44336;\n",
              "    }\n",
              "</style>\n"
            ]
          },
          "metadata": {}
        },
        {
          "output_type": "display_data",
          "data": {
            "text/plain": [
              "<IPython.core.display.HTML object>"
            ],
            "text/html": []
          },
          "metadata": {}
        },
        {
          "output_type": "stream",
          "name": "stdout",
          "text": [
            "Training accuracy: 0.9670138955116272\n"
          ]
        },
        {
          "output_type": "display_data",
          "data": {
            "text/plain": [
              "<IPython.core.display.HTML object>"
            ],
            "text/html": [
              "\n",
              "<style>\n",
              "    /* Turns off some styling */\n",
              "    progress {\n",
              "        /* gets rid of default border in Firefox and Opera. */\n",
              "        border: none;\n",
              "        /* Needs to be in here for Safari polyfill so background images work as expected. */\n",
              "        background-size: auto;\n",
              "    }\n",
              "    progress:not([value]), progress:not([value])::-webkit-progress-bar {\n",
              "        background: repeating-linear-gradient(45deg, #7e7e7e, #7e7e7e 10px, #5c5c5c 10px, #5c5c5c 20px);\n",
              "    }\n",
              "    .progress-bar-interrupted, .progress-bar-interrupted::-webkit-progress-bar {\n",
              "        background: #F44336;\n",
              "    }\n",
              "</style>\n"
            ]
          },
          "metadata": {}
        },
        {
          "output_type": "display_data",
          "data": {
            "text/plain": [
              "<IPython.core.display.HTML object>"
            ],
            "text/html": []
          },
          "metadata": {}
        },
        {
          "output_type": "stream",
          "name": "stdout",
          "text": [
            "Validation accuracy:  0.8404494524002075\n"
          ]
        }
      ]
    },
    {
      "cell_type": "markdown",
      "source": [
        "#### **How did your model perform? Try to improve your result with hyperparameter tuning.**\n",
        "\n",
        "\n"
      ],
      "metadata": {
        "id": "zkn0RBS0DHPo"
      }
    },
    {
      "cell_type": "markdown",
      "source": [
        "---\n",
        "\n",
        "<center>\n",
        "\n",
        "#### **Back to lecture**\n",
        "\n",
        "---"
      ],
      "metadata": {
        "id": "9l2YAKbUv7JW"
      }
    },
    {
      "cell_type": "markdown",
      "source": [
        "<a name=\"p4\"></a>\n",
        "\n",
        "---\n",
        "## **Part 4: News Classification with a CNN with Embedding**\n",
        "---\n",
        "\n"
      ],
      "metadata": {
        "id": "r4_U4kWylKLw"
      }
    },
    {
      "cell_type": "markdown",
      "source": [
        "#### **Problem #4.1**\n",
        "\n",
        "\n",
        "Let's build a CNN model with an embedding layer. In order for the output of the embedding layer to be the right dimensions for the convolutional layer, we've provided a custom module that transposes the last two dimensions.\n",
        "\n",
        "Remember, we've introduced a new version of the max pooling layer. The previous one specifies the pool size, and requires us to keep track of the output sizes:\n",
        "* `nn.MaxPool1d(2)`\n",
        "\n",
        "For the new one, we just specify what size *output* we would like:\n",
        "* `nn.AdaptiveMaxPool1d(10)`\n",
        "\n",
        "<br>\n",
        "\n",
        "Define a CNN with the following layers:\n",
        "\n",
        "Block 1:\n",
        "* A convolutional layer with 300 outputs, kernel size of 11, `padding='same'`, and ReLU activation.\n",
        "* A adaptive max pooling layer with an output size of 10\n",
        "\n",
        "Block 2\n",
        "* A convolutional layer with 150 outputs, kernel size of 11, `padding='same'`, and ReLU activation.\n",
        "* A adaptive max pooling layer with an output size of 1\n",
        "\n",
        "Finally, add:\n",
        "* A Flatten layer\n",
        "* A linear layer with 20 outputs and ReLU activation\n",
        "* The output layer"
      ],
      "metadata": {
        "id": "1AAVJHkuE3nM"
      }
    },
    {
      "cell_type": "code",
      "source": [
        "# To prepare the embedding layer for the convolutional layer, we need\n",
        "# to define a custom module to transpose the last two dimensions.\n",
        "class Transpose(nn.Module):\n",
        "    def forward(self, x):\n",
        "        return x.transpose(1, 2)\n",
        "\n",
        "model = nn.Sequential(\n",
        "    nn.Embedding(vocab_size, embed_size),\n",
        "    Transpose(),\n",
        "    #block 1\n",
        "    nn.Conv1d(embed_size, 300, kernel_size = 11, padding = 'same'), # FILL IN CODE HERE\n",
        "    nn.ReLU(),\n",
        "    nn.AdaptiveMaxPool1d(10), # FILL IN CODE HERE\n",
        "    #block 2\n",
        "    nn.Conv1d(300, 150,kernel_size = 11, padding = 'same'), # FILL IN CODE HERE\n",
        "    nn.ReLU(),\n",
        "    nn.AdaptiveMaxPool1d(1),\n",
        "    nn.Flatten(), # ADD THE REST OF THE LAYERS\n",
        "    nn.Linear(150, 20),\n",
        "    nn.ReLU(),\n",
        "    nn.Linear(20, 5)\n",
        "    # ADD THE REST OF THE LAYERS\n",
        ")\n"
      ],
      "metadata": {
        "id": "YVE6HlQ4E3nc"
      },
      "execution_count": 20,
      "outputs": []
    },
    {
      "cell_type": "markdown",
      "source": [
        "#### **Problem #4.2**\n",
        "\n",
        "\n",
        "Create a Learner object and fit the model. Since this is a multiclass classification problem, you will use `nn.CrossEntropyLoss()`"
      ],
      "metadata": {
        "id": "M__-6lOuE3nc"
      }
    },
    {
      "cell_type": "code",
      "source": [
        "# Create a Learner and train the model\n",
        "learn = Learner(\n",
        "    dls,\n",
        "    model,\n",
        "    loss_func=nn.CrossEntropyLoss(),\n",
        "    metrics=accuracy,\n",
        "    opt_func=Adam\n",
        ")\n",
        "learn.fit(10, lr=0.001)\n",
        "\n",
        "learn.recorder.plot_loss()"
      ],
      "metadata": {
        "id": "OaB29Xv2E3nd",
        "colab": {
          "base_uri": "https://localhost:8080/",
          "height": 836
        },
        "outputId": "13890738-101a-418a-f68f-1f7154739b44"
      },
      "execution_count": 21,
      "outputs": [
        {
          "output_type": "display_data",
          "data": {
            "text/plain": [
              "<IPython.core.display.HTML object>"
            ],
            "text/html": [
              "\n",
              "<style>\n",
              "    /* Turns off some styling */\n",
              "    progress {\n",
              "        /* gets rid of default border in Firefox and Opera. */\n",
              "        border: none;\n",
              "        /* Needs to be in here for Safari polyfill so background images work as expected. */\n",
              "        background-size: auto;\n",
              "    }\n",
              "    progress:not([value]), progress:not([value])::-webkit-progress-bar {\n",
              "        background: repeating-linear-gradient(45deg, #7e7e7e, #7e7e7e 10px, #5c5c5c 10px, #5c5c5c 20px);\n",
              "    }\n",
              "    .progress-bar-interrupted, .progress-bar-interrupted::-webkit-progress-bar {\n",
              "        background: #F44336;\n",
              "    }\n",
              "</style>\n"
            ]
          },
          "metadata": {}
        },
        {
          "output_type": "display_data",
          "data": {
            "text/plain": [
              "<IPython.core.display.HTML object>"
            ],
            "text/html": [
              "<table border=\"1\" class=\"dataframe\">\n",
              "  <thead>\n",
              "    <tr style=\"text-align: left;\">\n",
              "      <th>epoch</th>\n",
              "      <th>train_loss</th>\n",
              "      <th>valid_loss</th>\n",
              "      <th>accuracy</th>\n",
              "      <th>time</th>\n",
              "    </tr>\n",
              "  </thead>\n",
              "  <tbody>\n",
              "    <tr>\n",
              "      <td>0</td>\n",
              "      <td>1.653063</td>\n",
              "      <td>1.597301</td>\n",
              "      <td>0.289888</td>\n",
              "      <td>00:04</td>\n",
              "    </tr>\n",
              "    <tr>\n",
              "      <td>1</td>\n",
              "      <td>1.458260</td>\n",
              "      <td>1.484750</td>\n",
              "      <td>0.404494</td>\n",
              "      <td>00:02</td>\n",
              "    </tr>\n",
              "    <tr>\n",
              "      <td>2</td>\n",
              "      <td>1.100314</td>\n",
              "      <td>0.898996</td>\n",
              "      <td>0.640449</td>\n",
              "      <td>00:02</td>\n",
              "    </tr>\n",
              "    <tr>\n",
              "      <td>3</td>\n",
              "      <td>0.698032</td>\n",
              "      <td>0.662336</td>\n",
              "      <td>0.797753</td>\n",
              "      <td>00:02</td>\n",
              "    </tr>\n",
              "    <tr>\n",
              "      <td>4</td>\n",
              "      <td>0.429373</td>\n",
              "      <td>0.990854</td>\n",
              "      <td>0.739326</td>\n",
              "      <td>00:02</td>\n",
              "    </tr>\n",
              "    <tr>\n",
              "      <td>5</td>\n",
              "      <td>0.285973</td>\n",
              "      <td>0.611115</td>\n",
              "      <td>0.811236</td>\n",
              "      <td>00:03</td>\n",
              "    </tr>\n",
              "    <tr>\n",
              "      <td>6</td>\n",
              "      <td>0.176799</td>\n",
              "      <td>0.434064</td>\n",
              "      <td>0.869663</td>\n",
              "      <td>00:02</td>\n",
              "    </tr>\n",
              "    <tr>\n",
              "      <td>7</td>\n",
              "      <td>0.104195</td>\n",
              "      <td>0.412510</td>\n",
              "      <td>0.885393</td>\n",
              "      <td>00:03</td>\n",
              "    </tr>\n",
              "    <tr>\n",
              "      <td>8</td>\n",
              "      <td>0.061011</td>\n",
              "      <td>0.412071</td>\n",
              "      <td>0.887640</td>\n",
              "      <td>00:02</td>\n",
              "    </tr>\n",
              "    <tr>\n",
              "      <td>9</td>\n",
              "      <td>0.035919</td>\n",
              "      <td>0.404911</td>\n",
              "      <td>0.889888</td>\n",
              "      <td>00:03</td>\n",
              "    </tr>\n",
              "  </tbody>\n",
              "</table>"
            ]
          },
          "metadata": {}
        },
        {
          "output_type": "execute_result",
          "data": {
            "text/plain": [
              "<Axes: title={'center': 'learning curve'}, xlabel='steps', ylabel='loss'>"
            ]
          },
          "metadata": {},
          "execution_count": 21
        },
        {
          "output_type": "display_data",
          "data": {
            "text/plain": [
              "<Figure size 640x480 with 1 Axes>"
            ],
            "image/png": "[encoded data removed]"
          },
          "metadata": {}
        }
      ]
    },
    {
      "cell_type": "markdown",
      "source": [
        "#### **Problem #4.3**\n",
        "\n",
        "\n",
        "Now, evaluate the model for both the training and validation sets.\n"
      ],
      "metadata": {
        "id": "r5KifHJwE3ne"
      }
    },
    {
      "cell_type": "code",
      "source": [
        "# Evaluate the training set\n",
        "train_loss, train_accuracy = learn.validate(dl=dls.train)\n",
        "print(f\"Training accuracy: {train_accuracy}\")\n",
        "\n",
        "# Evaluate the test set\n",
        "valid_loss, validate_accuracy = learn.validate(dl=dls.valid)\n",
        "print(\"Validation accuracy: \", validate_accuracy)\n"
      ],
      "metadata": {
        "id": "k_8YoV92E3ne",
        "colab": {
          "base_uri": "https://localhost:8080/",
          "height": 53
        },
        "outputId": "c1563a10-f118-4e7c-c702-37afa299ecc9"
      },
      "execution_count": 22,
      "outputs": [
        {
          "output_type": "display_data",
          "data": {
            "text/plain": [
              "<IPython.core.display.HTML object>"
            ],
            "text/html": [
              "\n",
              "<style>\n",
              "    /* Turns off some styling */\n",
              "    progress {\n",
              "        /* gets rid of default border in Firefox and Opera. */\n",
              "        border: none;\n",
              "        /* Needs to be in here for Safari polyfill so background images work as expected. */\n",
              "        background-size: auto;\n",
              "    }\n",
              "    progress:not([value]), progress:not([value])::-webkit-progress-bar {\n",
              "        background: repeating-linear-gradient(45deg, #7e7e7e, #7e7e7e 10px, #5c5c5c 10px, #5c5c5c 20px);\n",
              "    }\n",
              "    .progress-bar-interrupted, .progress-bar-interrupted::-webkit-progress-bar {\n",
              "        background: #F44336;\n",
              "    }\n",
              "</style>\n"
            ]
          },
          "metadata": {}
        },
        {
          "output_type": "display_data",
          "data": {
            "text/plain": [
              "<IPython.core.display.HTML object>"
            ],
            "text/html": []
          },
          "metadata": {}
        },
        {
          "output_type": "stream",
          "name": "stdout",
          "text": [
            "Training accuracy: 1.0\n"
          ]
        },
        {
          "output_type": "display_data",
          "data": {
            "text/plain": [
              "<IPython.core.display.HTML object>"
            ],
            "text/html": [
              "\n",
              "<style>\n",
              "    /* Turns off some styling */\n",
              "    progress {\n",
              "        /* gets rid of default border in Firefox and Opera. */\n",
              "        border: none;\n",
              "        /* Needs to be in here for Safari polyfill so background images work as expected. */\n",
              "        background-size: auto;\n",
              "    }\n",
              "    progress:not([value]), progress:not([value])::-webkit-progress-bar {\n",
              "        background: repeating-linear-gradient(45deg, #7e7e7e, #7e7e7e 10px, #5c5c5c 10px, #5c5c5c 20px);\n",
              "    }\n",
              "    .progress-bar-interrupted, .progress-bar-interrupted::-webkit-progress-bar {\n",
              "        background: #F44336;\n",
              "    }\n",
              "</style>\n"
            ]
          },
          "metadata": {}
        },
        {
          "output_type": "display_data",
          "data": {
            "text/plain": [
              "<IPython.core.display.HTML object>"
            ],
            "text/html": []
          },
          "metadata": {}
        },
        {
          "output_type": "stream",
          "name": "stdout",
          "text": [
            "Validation accuracy:  0.8898876309394836\n"
          ]
        }
      ]
    },
    {
      "cell_type": "markdown",
      "source": [
        "#### **How did your model perform? Try to improve your result with hyperparameter tuning.**"
      ],
      "metadata": {
        "id": "Ek_0isWo2evq"
      }
    },
    {
      "cell_type": "markdown",
      "source": [
        "<a name=\"p5\"></a>\n",
        "\n",
        "---\n",
        "## **[ADDITIONAL PRACTICE] Part 5: Sentiment Analysis with IMDB Movie Reviews**\n",
        "---\n",
        "\n",
        "In this part, we will create a CNN using the IMDB Movie Reviews dataset, which includes movie reviews along with their corresponding sentiment (positive, neutral, negative)."
      ],
      "metadata": {
        "id": "nKibmfTE2_ti"
      }
    },
    {
      "cell_type": "markdown",
      "source": [
        "####**Problem #5.1**\n",
        "\n",
        "**Run the code below to load the IMDB Movie Reviews data into a pandas DataFrame.**\n",
        "\n",
        "View the DataFrame before beginning.\n"
      ],
      "metadata": {
        "id": "uCm0qKFK1vik"
      }
    },
    {
      "cell_type": "code",
      "source": [
        "dataset = pd.read_csv('https://raw.githubusercontent.com/the-codingschool/TRAIN-datasets/main/imdb_reviews/IMDB_Dataset.csv')\n",
        "\n",
        "dataset.head()"
      ],
      "metadata": {
        "id": "rNj2Ldgj1vim",
        "colab": {
          "base_uri": "https://localhost:8080/",
          "height": 379
        },
        "outputId": "da27d6a7-02e2-4f23-f268-3046336b2d45"
      },
      "execution_count": 23,
      "outputs": [
        {
          "output_type": "execute_result",
          "data": {
            "text/plain": [
              "                                                                                                                                                                                                                                                                                                                                                                                                                                                                                                                                                                                                                    review  \\\n",
              "0  One of the other reviewers has mentioned that after watching just 1 Oz episode you'll be hooked. They are right, as this is exactly what happened with me.<br /><br />The first thing that struck me about Oz was its brutality and unflinching scenes of violence, which set in right from the word GO. Trust me, this is not a show for the faint hearted or timid. This show pulls no punches with regards to drugs, sex or violence. Its is hardcore, in the classic use of the word.<br /><br />It is called OZ as that is the nickname given to the Oswald Maximum Security State Penitentary. It focuses main...   \n",
              "1  A wonderful little production. <br /><br />The filming technique is very unassuming- very old-time-BBC fashion and gives a comforting, and sometimes discomforting, sense of realism to the entire piece. <br /><br />The actors are extremely well chosen- Michael Sheen not only \"has got all the polari\" but he has all the voices down pat too! You can truly see the seamless editing guided by the references to Williams' diary entries, not only is it well worth the watching but it is a terrificly written and performed piece. A masterful production about one of the great master's of comedy and his ...   \n",
              "2  I thought this was a wonderful way to spend time on a too hot summer weekend, sitting in the air conditioned theater and watching a light-hearted comedy. The plot is simplistic, but the dialogue is witty and the characters are likable (even the well bread suspected serial killer). While some may be disappointed when they realize this is not Match Point 2: Risk Addiction, I thought it was proof that Woody Allen is still fully in control of the style many of us have grown to love.<br /><br />This was the most I'd laughed at one of Woody's comedies in years (dare I say a decade?). While I've ...   \n",
              "3  Basically there's a family where a little boy (Jake) thinks there's a zombie in his closet & his parents are fighting all the time.<br /><br />This movie is slower than a soap opera... and suddenly, Jake decides to become Rambo and kill the zombie.<br /><br />OK, first of all when you're going to make a film you must Decide if its a thriller or a drama! As a drama the movie is watchable. Parents are divorcing & arguing like in real life. And then we have Jake with his closet which totally ruins all the film! I expected to see a BOOGEYMAN similar movie, and instead i watched a drama with so...   \n",
              "4  Petter Mattei's \"Love in the Time of Money\" is a visually stunning film to watch. Mr. Mattei offers us a vivid portrait about human relations. This is a movie that seems to be telling us what money, power and success do to people in the different situations we encounter. <br /><br />This being a variation on the Arthur Schnitzler's play about the same theme, the director transfers the action to the present time New York where all these different characters meet and connect. Each one is connected in one way, or another to the next person, but no one seems to know the previous point of conta...   \n",
              "\n",
              "  sentiment  \n",
              "0  positive  \n",
              "1  positive  \n",
              "2  positive  \n",
              "3  negative  \n",
              "4  positive  "
            ],
            "text/html": [
              "\n",
              "  <div id=\"df-0508abcc-6177-42c8-8db6-938f5e0f30b4\" class=\"colab-df-container\">\n",
              "    <div>\n",
              "<style scoped>\n",
              "    .dataframe tbody tr th:only-of-type {\n",
              "        vertical-align: middle;\n",
              "    }\n",
              "\n",
              "    .dataframe tbody tr th {\n",
              "        vertical-align: top;\n",
              "    }\n",
              "\n",
              "    .dataframe thead th {\n",
              "        text-align: right;\n",
              "    }\n",
              "</style>\n",
              "<table border=\"1\" class=\"dataframe\">\n",
              "  <thead>\n",
              "    <tr style=\"text-align: right;\">\n",
              "      <th></th>\n",
              "      <th>review</th>\n",
              "      <th>sentiment</th>\n",
              "    </tr>\n",
              "  </thead>\n",
              "  <tbody>\n",
              "    <tr>\n",
              "      <th>0</th>\n",
              "      <td>One of the other reviewers has mentioned that after watching just 1 Oz episode you'll be hooked. They are right, as this is exactly what happened with me.&lt;br /&gt;&lt;br /&gt;The first thing that struck me about Oz was its brutality and unflinching scenes of violence, which set in right from the word GO. Trust me, this is not a show for the faint hearted or timid. This show pulls no punches with regards to drugs, sex or violence. Its is hardcore, in the classic use of the word.&lt;br /&gt;&lt;br /&gt;It is called OZ as that is the nickname given to the Oswald Maximum Security State Penitentary. It focuses main...</td>\n",
              "      <td>positive</td>\n",
              "    </tr>\n",
              "    <tr>\n",
              "      <th>1</th>\n",
              "      <td>A wonderful little production. &lt;br /&gt;&lt;br /&gt;The filming technique is very unassuming- very old-time-BBC fashion and gives a comforting, and sometimes discomforting, sense of realism to the entire piece. &lt;br /&gt;&lt;br /&gt;The actors are extremely well chosen- Michael Sheen not only \"has got all the polari\" but he has all the voices down pat too! You can truly see the seamless editing guided by the references to Williams' diary entries, not only is it well worth the watching but it is a terrificly written and performed piece. A masterful production about one of the great master's of comedy and his ...</td>\n",
              "      <td>positive</td>\n",
              "    </tr>\n",
              "    <tr>\n",
              "      <th>2</th>\n",
              "      <td>I thought this was a wonderful way to spend time on a too hot summer weekend, sitting in the air conditioned theater and watching a light-hearted comedy. The plot is simplistic, but the dialogue is witty and the characters are likable (even the well bread suspected serial killer). While some may be disappointed when they realize this is not Match Point 2: Risk Addiction, I thought it was proof that Woody Allen is still fully in control of the style many of us have grown to love.&lt;br /&gt;&lt;br /&gt;This was the most I'd laughed at one of Woody's comedies in years (dare I say a decade?). While I've ...</td>\n",
              "      <td>positive</td>\n",
              "    </tr>\n",
              "    <tr>\n",
              "      <th>3</th>\n",
              "      <td>Basically there's a family where a little boy (Jake) thinks there's a zombie in his closet &amp; his parents are fighting all the time.&lt;br /&gt;&lt;br /&gt;This movie is slower than a soap opera... and suddenly, Jake decides to become Rambo and kill the zombie.&lt;br /&gt;&lt;br /&gt;OK, first of all when you're going to make a film you must Decide if its a thriller or a drama! As a drama the movie is watchable. Parents are divorcing &amp; arguing like in real life. And then we have Jake with his closet which totally ruins all the film! I expected to see a BOOGEYMAN similar movie, and instead i watched a drama with so...</td>\n",
              "      <td>negative</td>\n",
              "    </tr>\n",
              "    <tr>\n",
              "      <th>4</th>\n",
              "      <td>Petter Mattei's \"Love in the Time of Money\" is a visually stunning film to watch. Mr. Mattei offers us a vivid portrait about human relations. This is a movie that seems to be telling us what money, power and success do to people in the different situations we encounter. &lt;br /&gt;&lt;br /&gt;This being a variation on the Arthur Schnitzler's play about the same theme, the director transfers the action to the present time New York where all these different characters meet and connect. Each one is connected in one way, or another to the next person, but no one seems to know the previous point of conta...</td>\n",
              "      <td>positive</td>\n",
              "    </tr>\n",
              "  </tbody>\n",
              "</table>\n",
              "</div>\n",
              "    <div class=\"colab-df-buttons\">\n",
              "\n",
              "  <div class=\"colab-df-container\">\n",
              "    <button class=\"colab-df-convert\" onclick=\"convertToInteractive('df-0508abcc-6177-42c8-8db6-938f5e0f30b4')\"\n",
              "            title=\"Convert this dataframe to an interactive table.\"\n",
              "            style=\"display:none;\">\n",
              "\n",
              "  <svg xmlns=\"http://www.w3.org/2000/svg\" height=\"24px\" viewBox=\"0 -960 960 960\">\n",
              "    <path d=\"M120-120v-720h720v720H120Zm60-500h600v-160H180v160Zm220 220h160v-160H400v160Zm0 220h160v-160H400v160ZM180-400h160v-160H180v160Zm440 0h160v-160H620v160ZM180-180h160v-160H180v160Zm440 0h160v-160H620v160Z\"/>\n",
              "  </svg>\n",
              "    </button>\n",
              "\n",
              "  <style>\n",
              "    .colab-df-container {\n",
              "      display:flex;\n",
              "      gap: 12px;\n",
              "    }\n",
              "\n",
              "    .colab-df-convert {\n",
              "      background-color: #E8F0FE;\n",
              "      border: none;\n",
              "      border-radius: 50%;\n",
              "      cursor: pointer;\n",
              "      display: none;\n",
              "      fill: #1967D2;\n",
              "      height: 32px;\n",
              "      padding: 0 0 0 0;\n",
              "      width: 32px;\n",
              "    }\n",
              "\n",
              "    .colab-df-convert:hover {\n",
              "      background-color: #E2EBFA;\n",
              "      box-shadow: 0px 1px 2px rgba(60, 64, 67, 0.3), 0px 1px 3px 1px rgba(60, 64, 67, 0.15);\n",
              "      fill: #174EA6;\n",
              "    }\n",
              "\n",
              "    .colab-df-buttons div {\n",
              "      margin-bottom: 4px;\n",
              "    }\n",
              "\n",
              "    [theme=dark] .colab-df-convert {\n",
              "      background-color: #3B4455;\n",
              "      fill: #D2E3FC;\n",
              "    }\n",
              "\n",
              "    [theme=dark] .colab-df-convert:hover {\n",
              "      background-color: #434B5C;\n",
              "      box-shadow: 0px 1px 3px 1px rgba(0, 0, 0, 0.15);\n",
              "      filter: drop-shadow(0px 1px 2px rgba(0, 0, 0, 0.3));\n",
              "      fill: #FFFFFF;\n",
              "    }\n",
              "  </style>\n",
              "\n",
              "    <script>\n",
              "      const buttonEl =\n",
              "        document.querySelector('#df-0508abcc-6177-42c8-8db6-938f5e0f30b4 button.colab-df-convert');\n",
              "      buttonEl.style.display =\n",
              "        google.colab.kernel.accessAllowed ? 'block' : 'none';\n",
              "\n",
              "      async function convertToInteractive(key) {\n",
              "        const element = document.querySelector('#df-0508abcc-6177-42c8-8db6-938f5e0f30b4');\n",
              "        const dataTable =\n",
              "          await google.colab.kernel.invokeFunction('convertToInteractive',\n",
              "                                                    [key], {});\n",
              "        if (!dataTable) return;\n",
              "\n",
              "        const docLinkHtml = 'Like what you see? Visit the ' +\n",
              "          '<a target=\"_blank\" href=https://colab.research.google.com/notebooks/data_table.ipynb>data table notebook</a>'\n",
              "          + ' to learn more about interactive tables.';\n",
              "        element.innerHTML = '';\n",
              "        dataTable['output_type'] = 'display_data';\n",
              "        await google.colab.output.renderOutput(dataTable, element);\n",
              "        const docLink = document.createElement('div');\n",
              "        docLink.innerHTML = docLinkHtml;\n",
              "        element.appendChild(docLink);\n",
              "      }\n",
              "    </script>\n",
              "  </div>\n",
              "\n",
              "\n",
              "<div id=\"df-44fb0b6a-76c8-46a2-bbca-317679018f99\">\n",
              "  <button class=\"colab-df-quickchart\" onclick=\"quickchart('df-44fb0b6a-76c8-46a2-bbca-317679018f99')\"\n",
              "            title=\"Suggest charts\"\n",
              "            style=\"display:none;\">\n",
              "\n",
              "<svg xmlns=\"http://www.w3.org/2000/svg\" height=\"24px\"viewBox=\"0 0 24 24\"\n",
              "     width=\"24px\">\n",
              "    <g>\n",
              "        <path d=\"M19 3H5c-1.1 0-2 .9-2 2v14c0 1.1.9 2 2 2h14c1.1 0 2-.9 2-2V5c0-1.1-.9-2-2-2zM9 17H7v-7h2v7zm4 0h-2V7h2v10zm4 0h-2v-4h2v4z\"/>\n",
              "    </g>\n",
              "</svg>\n",
              "  </button>\n",
              "\n",
              "<style>\n",
              "  .colab-df-quickchart {\n",
              "      --bg-color: #E8F0FE;\n",
              "      --fill-color: #1967D2;\n",
              "      --hover-bg-color: #E2EBFA;\n",
              "      --hover-fill-color: #174EA6;\n",
              "      --disabled-fill-color: #AAA;\n",
              "      --disabled-bg-color: #DDD;\n",
              "  }\n",
              "\n",
              "  [theme=dark] .colab-df-quickchart {\n",
              "      --bg-color: #3B4455;\n",
              "      --fill-color: #D2E3FC;\n",
              "      --hover-bg-color: #434B5C;\n",
              "      --hover-fill-color: #FFFFFF;\n",
              "      --disabled-bg-color: #3B4455;\n",
              "      --disabled-fill-color: #666;\n",
              "  }\n",
              "\n",
              "  .colab-df-quickchart {\n",
              "    background-color: var(--bg-color);\n",
              "    border: none;\n",
              "    border-radius: 50%;\n",
              "    cursor: pointer;\n",
              "    display: none;\n",
              "    fill: var(--fill-color);\n",
              "    height: 32px;\n",
              "    padding: 0;\n",
              "    width: 32px;\n",
              "  }\n",
              "\n",
              "  .colab-df-quickchart:hover {\n",
              "    background-color: var(--hover-bg-color);\n",
              "    box-shadow: 0 1px 2px rgba(60, 64, 67, 0.3), 0 1px 3px 1px rgba(60, 64, 67, 0.15);\n",
              "    fill: var(--button-hover-fill-color);\n",
              "  }\n",
              "\n",
              "  .colab-df-quickchart-complete:disabled,\n",
              "  .colab-df-quickchart-complete:disabled:hover {\n",
              "    background-color: var(--disabled-bg-color);\n",
              "    fill: var(--disabled-fill-color);\n",
              "    box-shadow: none;\n",
              "  }\n",
              "\n",
              "  .colab-df-spinner {\n",
              "    border: 2px solid var(--fill-color);\n",
              "    border-color: transparent;\n",
              "    border-bottom-color: var(--fill-color);\n",
              "    animation:\n",
              "      spin 1s steps(1) infinite;\n",
              "  }\n",
              "\n",
              "  @keyframes spin {\n",
              "    0% {\n",
              "      border-color: transparent;\n",
              "      border-bottom-color: var(--fill-color);\n",
              "      border-left-color: var(--fill-color);\n",
              "    }\n",
              "    20% {\n",
              "      border-color: transparent;\n",
              "      border-left-color: var(--fill-color);\n",
              "      border-top-color: var(--fill-color);\n",
              "    }\n",
              "    30% {\n",
              "      border-color: transparent;\n",
              "      border-left-color: var(--fill-color);\n",
              "      border-top-color: var(--fill-color);\n",
              "      border-right-color: var(--fill-color);\n",
              "    }\n",
              "    40% {\n",
              "      border-color: transparent;\n",
              "      border-right-color: var(--fill-color);\n",
              "      border-top-color: var(--fill-color);\n",
              "    }\n",
              "    60% {\n",
              "      border-color: transparent;\n",
              "      border-right-color: var(--fill-color);\n",
              "    }\n",
              "    80% {\n",
              "      border-color: transparent;\n",
              "      border-right-color: var(--fill-color);\n",
              "      border-bottom-color: var(--fill-color);\n",
              "    }\n",
              "    90% {\n",
              "      border-color: transparent;\n",
              "      border-bottom-color: var(--fill-color);\n",
              "    }\n",
              "  }\n",
              "</style>\n",
              "\n",
              "  <script>\n",
              "    async function quickchart(key) {\n",
              "      const quickchartButtonEl =\n",
              "        document.querySelector('#' + key + ' button');\n",
              "      quickchartButtonEl.disabled = true;  // To prevent multiple clicks.\n",
              "      quickchartButtonEl.classList.add('colab-df-spinner');\n",
              "      try {\n",
              "        const charts = await google.colab.kernel.invokeFunction(\n",
              "            'suggestCharts', [key], {});\n",
              "      } catch (error) {\n",
              "        console.error('Error during call to suggestCharts:', error);\n",
              "      }\n",
              "      quickchartButtonEl.classList.remove('colab-df-spinner');\n",
              "      quickchartButtonEl.classList.add('colab-df-quickchart-complete');\n",
              "    }\n",
              "    (() => {\n",
              "      let quickchartButtonEl =\n",
              "        document.querySelector('#df-44fb0b6a-76c8-46a2-bbca-317679018f99 button');\n",
              "      quickchartButtonEl.style.display =\n",
              "        google.colab.kernel.accessAllowed ? 'block' : 'none';\n",
              "    })();\n",
              "  </script>\n",
              "</div>\n",
              "\n",
              "    </div>\n",
              "  </div>\n"
            ],
            "application/vnd.google.colaboratory.intrinsic+json": {
              "type": "dataframe",
              "variable_name": "dataset",
              "summary": "{\n  \"name\": \"dataset\",\n  \"rows\": 50000,\n  \"fields\": [\n    {\n      \"column\": \"review\",\n      \"properties\": {\n        \"dtype\": \"string\",\n        \"num_unique_values\": 49582,\n        \"samples\": [\n          \"\\\"Soul Plane\\\" is a horrible attempt at comedy that only should appeal people with thick skulls, bloodshot eyes and furry pawns. <br /><br />The plot is not only incoherent but also non-existent, acting is mostly sub sub-par with a gang of highly moronic and dreadful characters thrown in for bad measure, jokes are often spotted miles ahead and almost never even a bit amusing. This movie lacks any structure and is full of racial stereotypes that must have seemed old even in the fifties, the only thing it really has going for it is some pretty ladies, but really, if you want that you can rent something from the \\\"Adult\\\" section. OK?<br /><br />I can hardly see anything here to recommend since you'll probably have a lot a better and productive time chasing rats with a sledgehammer or inventing waterproof teabags or whatever.<br /><br />2/10\",\n          \"Guest from the Future tells a fascinating story of time travel, friendship, battle of good and evil -- all with a small budget, child actors, and few special effects. Something for Spielberg and Lucas to learn from. ;) A sixth-grader Kolya \\\"Nick\\\" Gerasimov finds a time machine in the basement of a decrepit building and travels 100 years into the future. He discovers a near-perfect, utopian society where robots play guitars and write poetry, everyone is kind to each other and people enjoy everything technology has to offer. Alice is the daughter of a prominent scientist who invented a device called Mielophone that allows to read minds of humans and animals. The device can be put to both good and bad use, depending on whose hands it falls into. When two evil space pirates from Saturn who want to rule the universe attempt to steal Mielophone, it falls into the hands of 20th century school boy Nick. With the pirates hot on his tracks, he travels back to his time, followed by the pirates, and Alice. Chaos, confusion and funny situations follow as the luckless pirates try to blend in with the earthlings. Alice enrolls in the same school Nick goes to and demonstrates superhuman abilities in PE class. The catch is, Alice doesn't know what Nick looks like, while the pirates do. Also, the pirates are able to change their appearance and turn literally into anyone. (Hmm, I wonder if this is where James Cameron got the idea for Terminator...) Who gets to Nick -- and Mielophone -- first? Excellent plot, non-stop adventures, and great soundtrack. I wish Hollywood made kid movies like this one...\",\n          \"\\\"National Treasure\\\" (2004) is a thoroughly misguided hodge-podge of plot entanglements that borrow from nearly every cloak and dagger government conspiracy clich\\u00e9 that has ever been written. The film stars Nicholas Cage as Benjamin Franklin Gates (how precious is that, I ask you?); a seemingly normal fellow who, for no other reason than being of a lineage of like-minded misguided fortune hunters, decides to steal a 'national treasure' that has been hidden by the United States founding fathers. After a bit of subtext and background that plays laughably (unintentionally) like Indiana Jones meets The Patriot, the film degenerates into one misguided whimsy after another \\u0096 attempting to create a 'Stanley Goodspeed' regurgitation of Nicholas Cage and launch the whole convoluted mess forward with a series of high octane, but disconnected misadventures.<br /><br />The relevancy and logic to having George Washington and his motley crew of patriots burying a king's ransom someplace on native soil, and then, going through the meticulous plan of leaving clues scattered throughout U.S. currency art work, is something that director Jon Turteltaub never quite gets around to explaining. Couldn't Washington found better usage for such wealth during the start up of the country? Hence, we are left with a mystery built on top of an enigma that is already on shaky ground by the time Ben appoints himself the new custodian of this untold wealth. Ben's intentions are noble \\u0096 if confusing. He's set on protecting the treasure. For who and when?\\u0085your guess is as good as mine.<br /><br />But there are a few problems with Ben's crusade. First up, his friend, Ian Holmes (Sean Bean) decides that he can't wait for Ben to make up his mind about stealing the Declaration of Independence from the National Archives (oh, yeah \\u0096 brilliant idea!). Presumably, the back of that famous document holds the secret answer to the ultimate fortune. So Ian tries to kill Ben. The assassination attempt is, of course, unsuccessful, if overly melodramatic. It also affords Ben the opportunity to pick up, and pick on, the very sultry curator of the archives, Abigail Chase (Diane Kruger). She thinks Ben is clearly a nut \\u0096 at least at the beginning. But true to action/romance form, Abby's resolve melts quicker than you can say, \\\"is that the Hope Diamond?\\\" The film moves into full X-File-ish mode, as the FBI, mistakenly believing that Ben is behind the theft, retaliate in various benign ways that lead to a multi-layering of action sequences reminiscent of Mission Impossible meets The Fugitive. Honestly, don't those guys ever get 'intelligence' information that is correct? In the final analysis, \\\"National Treasure\\\" isn't great film making, so much as it's a patchwork rehash of tired old bits from other movies, woven together from scraps, the likes of which would make IL' Betsy Ross blush.<br /><br />The Buena Vista DVD delivers a far more generous treatment than this film is deserving of. The anamorphic widescreen picture exhibits a very smooth and finely detailed image with very rich colors, natural flesh tones, solid blacks and clean whites. The stylized image is also free of blemishes and digital enhancements. The audio is 5.1 and delivers a nice sonic boom to your side and rear speakers with intensity and realism. Extras include a host of promotional junket material that is rather deep and over the top in its explanation of how and why this film was made. If only, as an audience, we had had more clarification as to why Ben and co. were chasing after an illusive treasure, this might have been one good flick. Extras conclude with the theatrical trailer, audio commentary and deleted scenes. Not for the faint-hearted \\u0096 just the thick-headed.\"\n        ],\n        \"semantic_type\": \"\",\n        \"description\": \"\"\n      }\n    },\n    {\n      \"column\": \"sentiment\",\n      \"properties\": {\n        \"dtype\": \"category\",\n        \"num_unique_values\": 2,\n        \"samples\": [\n          \"negative\",\n          \"positive\"\n        ],\n        \"semantic_type\": \"\",\n        \"description\": \"\"\n      }\n    }\n  ]\n}"
            }
          },
          "metadata": {},
          "execution_count": 23
        }
      ]
    },
    {
      "cell_type": "markdown",
      "source": [
        "#### **Problem #5.2: Load the data using TextDataLoaders**\n",
        "\n",
        "Use the following parameters:\n",
        "* `dataset`\n",
        "* `text_col='review'`\n",
        "* `label_col='sentiment'`\n",
        "* `valid_pct=0.2`\n",
        "* `bs=64`\n",
        "* `seq_len=100`\n"
      ],
      "metadata": {
        "id": "g_Y4IbyP1vim"
      }
    },
    {
      "cell_type": "code",
      "source": [
        "dls = TextDataLoaders.from_df(\n",
        "    #FILL IN CODE HERE\n",
        ")"
      ],
      "metadata": {
        "id": "THlkpKbF1vim"
      },
      "execution_count": null,
      "outputs": []
    },
    {
      "cell_type": "markdown",
      "source": [
        "#### **Problem #5.3: Print the vocabulary**\n",
        "\n",
        "\n",
        "The `vocab` attribute of the DataLoaders object contains the vocabulary of the data and of the labels.\n",
        "\n",
        "Use the first element of the `vocab` attribute of the DataLoaders object to print the vocabulary of the data."
      ],
      "metadata": {
        "id": "ei8x8EYV1vin"
      }
    },
    {
      "cell_type": "code",
      "source": [],
      "metadata": {
        "id": "rZ1T95r71vin"
      },
      "execution_count": null,
      "outputs": []
    },
    {
      "cell_type": "markdown",
      "source": [
        "#### **Problem #5.4: Print the labels**\n",
        "\n",
        "\n",
        "Use the second element of the `vocab` attribute to print the labels."
      ],
      "metadata": {
        "id": "y4Q4SIgq1vin"
      }
    },
    {
      "cell_type": "code",
      "source": [],
      "metadata": {
        "id": "51mqzF-E1vin"
      },
      "execution_count": null,
      "outputs": []
    },
    {
      "cell_type": "markdown",
      "source": [
        "#### **Problem #5.5: View vectorized data**\n",
        "\n",
        "\n",
        "TextDataLoaders assigns a unique integer ID to each token in the vocabulary, while preserving the order of the tokens.\n",
        "\n",
        "Use `dls.one_batch()` to pull one batch of the data and view the first instance."
      ],
      "metadata": {
        "id": "eQqP0Jvr1vin"
      }
    },
    {
      "cell_type": "code",
      "source": [
        "xb, yb = # FILL IN CODE HERE"
      ],
      "metadata": {
        "id": "Q_tPVtmu1vio"
      },
      "execution_count": null,
      "outputs": []
    },
    {
      "cell_type": "markdown",
      "source": [
        "#### **Problem #5.6: Decode vectorized data**\n",
        "\n",
        "\n",
        "Use `dls.show()` to decode the numeric data.\n",
        "\n",
        "*Hint: Pass a tuple to the function.*"
      ],
      "metadata": {
        "id": "36fCRV0U1vio"
      }
    },
    {
      "cell_type": "code",
      "source": [],
      "metadata": {
        "id": "8uXi76dI1vio"
      },
      "execution_count": null,
      "outputs": []
    },
    {
      "cell_type": "markdown",
      "source": [
        "#### **Problem #5.7: Create an embedding layer in PyTorch**\n",
        "\n",
        "\n",
        "We can use PyTorch to create embeddings. Create an embedding layer. The first input will be the vocab size, and the second input is the embedding dimension. Set the embedding dimension to 50."
      ],
      "metadata": {
        "id": "3QS7xSyS2_tj"
      }
    },
    {
      "cell_type": "code",
      "source": [
        "# Create an embedding layer with 50 dimensions\n",
        "vocab_size = # FILL IN CODE HERE\n",
        "embedding = nn.Embedding(vocab_size, # FILL IN CODE HERE)"
      ],
      "metadata": {
        "id": "SMWdWCmF2_tj"
      },
      "execution_count": null,
      "outputs": []
    },
    {
      "cell_type": "markdown",
      "source": [
        "#### **Problem #5.8: Apply the embedding**\n",
        "\n",
        "\n",
        "Earlier, we pulled one batch of the data and saved the data `xb` and labels `yb`. Apply the embedding to the batch of data `xb`. Compare this numerical representation to the representation in Problem #4."
      ],
      "metadata": {
        "id": "Ax2V2rrz2_tk"
      }
    },
    {
      "cell_type": "code",
      "source": [
        "# Apply the embedding layer\n",
        "embedded = # FILL IN CODE HERE\n",
        "\n",
        "# Print the first embedded instance of the data\n",
        "embedded[0]"
      ],
      "metadata": {
        "id": "UImbxEMc2_tk"
      },
      "execution_count": null,
      "outputs": []
    },
    {
      "cell_type": "markdown",
      "source": [
        "#### **Run the code below to visualize the embedding.**\n",
        "\n",
        "You can change the first and second dimension for plotting."
      ],
      "metadata": {
        "id": "yaua-_Sl2_tk"
      }
    },
    {
      "cell_type": "code",
      "source": [
        "first_dimension = 0\n",
        "second_dimension = 1\n",
        "\n",
        "# Detach the tensor from the computational graph (preparing for plotting)\n",
        "embedded = embedded.detach()\n",
        "\n",
        "# Plot the embeddings\n",
        "plt.figure(figsize=(10, 10))\n",
        "plt.scatter(\n",
        "    embedded[:, :, first_dimension].numpy().flatten(),\n",
        "    embedded[:, :, second_dimension].numpy().flatten(),\n",
        "    s=10)\n",
        "plt.title('Embedding Visualization')\n",
        "plt.xlabel('Dimension 1')\n",
        "plt.ylabel('Dimension 2')\n",
        "plt.show()"
      ],
      "metadata": {
        "id": "r8JoCZBg2_tl"
      },
      "execution_count": null,
      "outputs": []
    },
    {
      "cell_type": "markdown",
      "source": [
        "#### **Problem #5.9**\n",
        "\n",
        "\n",
        "Let's build a CNN model with an embedding layer. In order for the output of the embedding layer to be the right dimensions for the convolutional layer, we've provided a custom module that transposes the last two dimensions.\n",
        "\n",
        "Remember, we've introduced a new version of the max pooling layer. The previous one specifies the pool size, and requires us to keep track of the output sizes:\n",
        "* `nn.MaxPool1d(2)`\n",
        "\n",
        "For the new one, we just specify what size *output* we would like:\n",
        "* `nn.AdaptiveMaxPool1d(10)`\n",
        "\n",
        "<br>\n",
        "\n",
        "Define a CNN with the following layers:\n",
        "\n",
        "Block 1:\n",
        "* A convolutional layer with 300 outputs, kernel size of 11, `padding='same'`, and ReLU activation.\n",
        "* A adaptive max pooling layer with an output size of 10\n",
        "\n",
        "Block 2\n",
        "* A convolutional layer with 150 outputs, kernel size of 11, `padding='same'`, and ReLU activation.\n",
        "* A adaptive max pooling layer with an output size of 1\n",
        "\n",
        "Finally, add:\n",
        "* A Flatten layer\n",
        "* A linear layer with 20 outputs and ReLU activation\n",
        "* The output layer"
      ],
      "metadata": {
        "id": "oTfVQHwp4N58"
      }
    },
    {
      "cell_type": "code",
      "source": [
        "# To prepare the embedding layer for the convolutional layer, we need\n",
        "# to define a custom module to transpose the last two dimensions.\n",
        "class Transpose(nn.Module):\n",
        "    def forward(self, x):\n",
        "        return x.transpose(1, 2)\n",
        "\n",
        "model = nn.Sequential(\n",
        "    nn.Embedding(vocab_size, embed_size),\n",
        "    Transpose(),\n",
        "    nn.Conv1d(embed_size, # FILL IN CODE HERE\n",
        "    # ADD THE REST OF THE LAYERS\n",
        ")\n"
      ],
      "metadata": {
        "id": "NKU9J3pM4N59"
      },
      "execution_count": null,
      "outputs": []
    },
    {
      "cell_type": "markdown",
      "source": [
        "#### **Problem #5.10**\n",
        "\n",
        "\n",
        "Create a Learner object and fit the model. Since this is a multiclass classification problem, you will use `nn.CrossEntropyLoss()`"
      ],
      "metadata": {
        "id": "5oohJDwf4N59"
      }
    },
    {
      "cell_type": "code",
      "source": [
        "# Create a Learner and train the model\n"
      ],
      "metadata": {
        "id": "QwPYnlR24N59"
      },
      "execution_count": null,
      "outputs": []
    },
    {
      "cell_type": "markdown",
      "source": [
        "#### **Problem #5.11**\n",
        "\n",
        "\n",
        "Now, evaluate the model for both the training and validation sets.\n"
      ],
      "metadata": {
        "id": "etltdorz4N59"
      }
    },
    {
      "cell_type": "code",
      "source": [
        "# Evaluate the training set\n",
        "\n",
        "\n",
        "# Evaluate the test set\n"
      ],
      "metadata": {
        "id": "r5K8-pux4N59"
      },
      "execution_count": null,
      "outputs": []
    },
    {
      "cell_type": "markdown",
      "source": [
        "---\n",
        "#End of notebook\n",
        "---\n",
        "© 2024 The Coding School, All rights reserved"
      ],
      "metadata": {
        "id": "7dzC09dLlEhm"
      }
    }
  ]
}